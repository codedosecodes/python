{
  "nbformat": 4,
  "nbformat_minor": 0,
  "metadata": {
    "colab": {
      "provenance": [],
      "authorship_tag": "ABX9TyMdbV3fqaEfmM+ji8IygqTE",
      "include_colab_link": true
    },
    "kernelspec": {
      "name": "python3",
      "display_name": "Python 3"
    },
    "language_info": {
      "name": "python"
    }
  },
  "cells": [
    {
      "cell_type": "markdown",
      "metadata": {
        "id": "view-in-github",
        "colab_type": "text"
      },
      "source": [
        "<a href=\"https://colab.research.google.com/github/codedosecodes/python/blob/main/Python_mod02_oop.ipynb\" target=\"_parent\"><img src=\"https://colab.research.google.com/assets/colab-badge.svg\" alt=\"Open In Colab\"/></a>"
      ]
    },
    {
      "cell_type": "markdown",
      "source": [
        "\n",
        "<img src=\"https://static.wixstatic.com/media/187085_663a141abb41479db38c836ad13ba2b8~mv2.png\" alt=\"\" width=\"200px\" align=\"right\"/>\n",
        "\n",
        "# **Object Oriented Programming OOP Python**\n",
        "\n",
        "# Learn the Basics\n",
        "\n",
        "Authors:\n",
        "[Gabriel Mauricio Cortés](https://github.com/codedosecodes/),"
      ],
      "metadata": {
        "id": "_RYGNKndk6Oq"
      }
    },
    {
      "cell_type": "markdown",
      "source": [
        "<style>\n",
        ".alert2 {\n",
        "  padding: 20px;\n",
        "  background-color: #f44336;\n",
        "  color: white;\n",
        "  margin-bottom: 15px;\n",
        "}\n",
        ".alert {\n",
        "  border-radius: 10px;\n",
        "  background-color: #bbb;\n",
        "  border: 2px solid #999;\n",
        "  margin-top: 20px;\n",
        "  margin-bottom: 20px;\n",
        "  padding-left: 5px;\n",
        "  padding-top: 10px;\n",
        "  padding-bottom: 10px;\n",
        "  font-family: 'Arial', sans-serif;\n",
        "}\n",
        "\n",
        ".alert > h3 {\n",
        "  display: block;\n",
        "  font-size: 30px;\n",
        "  margin-top: 5px;\n",
        "  margin-bottom: 15px;\n",
        "}\n",
        "\n",
        ".alert-info {\n",
        "  background-color: #1af !important;\n",
        "  border: 2px solid #04a !important;\n",
        "}\n",
        "div.warn {    \n",
        "    background-color: #fcf2f2;\n",
        "    border-color: #dFb5b4;\n",
        "    border-left: 5px solid #dfb5b4;\n",
        "    padding: 0.5em;\n",
        "    }\n",
        "</style>\n",
        "\n",
        "\n",
        "<table class=\"table table-bordered\" style=\"border-color:green;\" align=\"left\">\n",
        "  <td>\n",
        "    <a target=\"_blank\" href=\"https://www.codedose.codes/\"><img src=\"https://static.wixstatic.com/media/187085_663a141abb41479db38c836ad13ba2b8~mv2.png\" width=\"32\" height=\"32\" />View Codedose</a>\n",
        "  </td>\n",
        "  <td>\n",
        "    <a target=\"_blank\" href=\"https://colab.research.google.com/drive/1k18o-HKOViymLpRfktmObU_0_DgTnFZ8\"><img src=\"https://static.wixstatic.com/media/187085_adc0ad8b754748b5b46b2ce17d6c48fb~mv2.png\" width=\"32\" height=\"32\" />Run in Google Colab</a>\n",
        "  </td>\n",
        "  <td>\n",
        "    <a target=\"_blank\" href=\"https://github.com/codedosecodes/python\"><img src=\"https://static.wixstatic.com/media/187085_a8a39d79788e40ec8c2a70d4f42ec0ec~mv2.png\" width=\"32\" height=\"32\" />View code in GitHub</a>\n",
        "  </td>\n",
        "  <td>\n",
        "    <a href=\"https://1870859c-e43a-48f9-b690-7af5dd055580.usrfiles.com/ugd/187085_8e8b1301d24f497c9ed6097c2992e128.ipynb\"><img src=\"https://static.wixstatic.com/media/187085_dbe5b3fa6ced40fb83d52e0f38da647e~mv2.png\" width=\"32\" height=\"32\" />Download notebook</a>\n",
        "  </td>\n",
        "        <td>\n",
        "    <a target=\"_blank\" href=\"https://nbviewer.org/github/codedosecodes/python/blob/main/Python_mod02_oop.ipynb\"><img src=\"https://static.wixstatic.com/media/187085_f270d64e2bdf462c9e26477d53a86602~mv2.png\" width=\"32\" height=\"32\" />Jupyter Notebook</a>\n",
        "  </td>\n",
        "    <td>\n",
        "    <a target=\"_blank\" href=\"https://colab.research.google.com/drive/1k18o-HKOViymLpRfktmObU_0_DgTnFZ8\"><img src=\"https://static.wixstatic.com/media/187085_27f04669f65449f39f6b40b6a5945496~mv2.png\" width=\"32\" height=\"32\" />View Video</a>\n",
        "  </td>\n",
        "</table>\n",
        "\n"
      ],
      "metadata": {
        "id": "5VTeKPVtkuhs"
      }
    },
    {
      "cell_type": "markdown",
      "source": [
        "\n",
        "\n",
        "\n"
      ],
      "metadata": {
        "id": "til3m4gdoAEY"
      }
    },
    {
      "cell_type": "markdown",
      "source": [
        "\n",
        "## Objetives\n",
        "### know and drive\n",
        "1. Object Oriented Programming OOP\n",
        "2. Class, Attributes, Methods, Objects and Instances\n",
        "3. Inheritance\n",
        "4. Encapsulation\n",
        "5. Polymorphism\n",
        "6. Abstraction\n"
      ],
      "metadata": {
        "id": "XbU_yOY-hgQN"
      }
    },
    {
      "cell_type": "markdown",
      "source": [
        "\n",
        "\n",
        "<a ><img src=\"https://static.wixstatic.com/media/187085_dfa45f3afe554f22bb3182ca04d50471~mv2.png\" width=\"80%\" height=\"80%\" /></a>\n",
        "\n",
        "\n"
      ],
      "metadata": {
        "id": "G8bTEsdvtCrJ"
      }
    },
    {
      "cell_type": "markdown",
      "source": [
        "\n",
        "#1. Object-Oriented Programming OOP in Python\n",
        "\n",
        "Python is a versatile programming language that supports various programming styles, including object-oriented programming (OOP) through the use of objects and classes.\n",
        "\n",
        "An object is any entity that has attributes and behaviors. For example, a parrot is an object. It has\n",
        "\n",
        "* **attributes** - name, age, color, etc.\n",
        "* **behavior** - dancing, singing, etc.\n",
        "Similarly, a class is a blueprint for that object.\n",
        "\n",
        "Object-oriented programming (or OOP) refers to a programming paradigm that’s based on the concept of, well, objects. In this paradigm, objects can contain both data and code. These objects can also have attributes (properties) and methods (behaviors).\n",
        "\n",
        "So, in short, objects have properties and behaviors. Let’s think of an object representing a person, for example. The person has many different properties, such as a name, age, hair color. They can also do things, such as walk or greet people. Object-oriented programming models real-world entities in the form of organized code that can have properties and can do things.\n",
        "\n",
        "An object-oriented paradigm is to design the program using classes and objects. Python programming language supports different programming approaches like functional programming, modular programming. One of the popular approaches is object-oriented programming (OOP) to solve a programming problem is by creating objects\n",
        "\n",
        "Object-oriented programming is focused on the following concepts:\n",
        "\n",
        "| Object | Description |\n",
        "| :--- | :--- |\n",
        "|**Encapsulation**: |  <right>The idea behind encapsulation is that all properties and methods of an object are kept private and safe from being inherited by another object.  </right>\n",
        "| | This allows you to define both public and private methods and attributes. Public methods can be used by people using your program, while private methods cannot. |\n",
        "|**Abstraction**: | Behind the concept of abstraction is the concept of encapsulation.\n",
        "| | Abstraction allows you to expose only high-level mechanisms for doing certain things while hiding away (or “abstracting”) the complex mechanisms behind it.\n",
        "| |  For example, your car abstracts all the mechanics behind turning your car on by pressing a button or turning a key. |\n",
        "|**Inheritance**: | Inheritance allows you to create similar objects that maintain a base number of properties (attributes) and abilities (methods).\n",
        "| | This allows you to create one type of object that can be used as a base for many other objects without needing to repeat your code.\n",
        "| | For example, the base of a car can be used to create objects such as trucks, SUVs, and camper vans. |\n",
        "|**Polymorphism**:  |The concept of polymorphism builds on the concept of inheritance.\n",
        "| |  While it can be helpful to define child objects, these child objects may operate slightly differently. Polymorphism allows you to define a child object but create and use its own methods. Following,\n",
        "| |  the example of cars and trucks, the method to turn on a truck may be slightly different from turning on a car. |\n",
        "\n",
        "\n",
        "\n",
        "\n",
        "\n",
        "\n",
        "#### Next we will see the characteristics of each one separately.\n"
      ],
      "metadata": {
        "id": "8yVdUDBbkTF-"
      }
    },
    {
      "cell_type": "markdown",
      "source": [
        "<a><img src=\"https://static.wixstatic.com/media/187085_36136bbba8f748f2b7a3be05580f5465~mv2.png\" width=\"80%\" height=\"80%\" /></a>"
      ],
      "metadata": {
        "id": "lf1wIv2n312o"
      }
    },
    {
      "cell_type": "markdown",
      "source": [
        "## 2. Class, Atributes, Methods and Instances\n",
        "\n",
        "### Class\n",
        "A class is considered as a blueprint of objects. We can think of the class as a sketch (prototype) of a house. It contains all the details about the floors, doors, windows, etc. Based on these descriptions we build the house. House is the object.\n",
        "\n",
        "Since many houses can be made from the same description, we can create many objects from a class.\n",
        "\n",
        "This blueprint of the object defines the fields or attributes and methods under which the real functionality lies within. These attributes and methods are called members, and these members can be accessed based on the defined access modifiers during the declaration of members.\n",
        "\n",
        "Classes are used to create user-defined data structures. Classes define functions called methods, which identify the behaviors and actions that an object created from the class can perform with its data.\n",
        "\n",
        "In this tutorial, you’ll create a Vehicle class that stores some information about the characteristics and behaviors that an individual Vehicle can have.\n",
        "\n",
        "\n",
        "\n"
      ],
      "metadata": {
        "id": "3_SqrFcv5-kB"
      }
    },
    {
      "cell_type": "code",
      "source": [
        "class Vehicle:\n",
        "    pass\n",
        "print(Vehicle)"
      ],
      "metadata": {
        "id": "DI80zIsH6gbr",
        "colab": {
          "base_uri": "https://localhost:8080/"
        },
        "outputId": "df461e51-0eb3-4afd-b019-4e002979aa77"
      },
      "execution_count": null,
      "outputs": [
        {
          "output_type": "stream",
          "name": "stdout",
          "text": [
            "<class '__main__.Vehicle'>\n"
          ]
        }
      ]
    },
    {
      "cell_type": "markdown",
      "source": [
        "## Class Naming Convention\n",
        "Naming conventions are essential in any programming language for better readability. If we give a sensible name, it will save our time and energy later. Writing readable code is one of the guiding principles of the Python language.\n",
        "\n",
        "We should follow specific rules while we are deciding a name for the class in Python.\n",
        "\n",
        "* Rule-1: Class names should follow the UpperCaseCamelCase convention\n",
        "* Rule-2: Exception classes should end in “Error“.\n",
        "* Rule-3: If a class is callable (Calling the class from somewhere), in that case, we can give a class name like a function.\n",
        "* Rule-4: Python’s built-in classes are typically lowercase words\n",
        "\n",
        "The body of the Vehicle class consists of a single statement: the pass keyword. pass is often used as a placeholder indicating where code will eventually go. It allows you to run this code without Python throwing an error.\n",
        "\n",
        "**Note**: Python class names are written in CapitalizedWords notation by convention. For example, a class for a specific breed of vehicle like the Gabriel Cortes would be written as GabrielCortes.\n",
        "\n",
        "\n",
        "## Python init: The Constructor Method\n",
        "Right now, our Vehicle class doesn’t contain any information nor does it do anything. Creating this class, as it is right now, doesn’t actually accomplish anything. Let’s see how we can expand on this by setting the initial attributes of a Vehicle.\n",
        "\n",
        "\n",
        "The properties that all Vehicle objects must have are defined in a method called .__init__(). Every time a new Vehicle object is created, .__init__() sets the initial state of the object by assigning the values of the object’s properties. That is, .__init__() initializes each new instance of the class.\n",
        "\n",
        "You can give .__init__() any number of parameters, but the first parameter will always be a variable called self. When a new class instance is created, the instance is automatically passed to the self parameter in .__init__() so that new attributes can be defined on the object.\n",
        "\n",
        "Let’s update the Vrehicle class with an .__init__() method that .make, .model, .year, .colour"
      ],
      "metadata": {
        "id": "fvD2jvDHDIiZ"
      }
    },
    {
      "cell_type": "code",
      "source": [
        "class Vehicle:\n",
        "\n",
        "    def __init__(self, make, model, makeYear,color):\n",
        "        self.make   = make\n",
        "        self.model  = model\n",
        "        self.makeYear   = makeYear\n",
        "        self.color = color\n",
        "        self.speed  =0\n",
        "print(Vehicle)"
      ],
      "metadata": {
        "id": "RUcu295U6iYy",
        "colab": {
          "base_uri": "https://localhost:8080/"
        },
        "outputId": "3f4360d9-21c7-4ba4-b306-20be7e9c995e"
      },
      "execution_count": null,
      "outputs": [
        {
          "output_type": "stream",
          "name": "stdout",
          "text": [
            "<class '__main__.Vehicle'>\n"
          ]
        }
      ]
    },
    {
      "cell_type": "markdown",
      "source": [
        "Notice that the .__init__() method’s signature is indented four spaces. The body of the method is indented by eight spaces. This indentation is vitally important. It tells Python that the .__init__() method belongs to the Vehicle  class.\n",
        "\n",
        "In the body of .__init__(), there are two statements using the self variable:\n",
        "\n",
        "self.model = model creates an attribute called name and assigns to it the value of the model parameter.\n",
        "self.make = make creates an attribute called age and assigns to it the value of the make parameter.\n",
        "self.year = year creates an attribute called age and assigns to it the value of the year parameter.\n",
        "self.color = color creates an attribute called age and assigns to it the value of the colour parameter.\n",
        "\n",
        "Attributes created in .__init__() are called instance attributes. An instance attribute’s value is specific to a particular instance of the class. All Vehicle objects have a make, model, year, color, speed, but the values for the make, model, year, color, speed attributes will vary depending on the Vehicle instance.\n",
        "\n",
        "On the other hand, class attributes are attributes that have the same value for all class instances. You can define a class attribute by assigning a value to a variable name outside of .__init__().\n",
        "\n",
        "For example, the following Vehicle class has a class attribute called wheels with the value 4:"
      ],
      "metadata": {
        "id": "tt7I2AUXFYCI"
      }
    },
    {
      "cell_type": "code",
      "source": [
        "class Vehicle:\n",
        "  # Class attributes\n",
        "    wheels = 4\n",
        "    def __init__(self, make, model, makeYear,color):\n",
        "        self.make   = make\n",
        "        self.model  = model\n",
        "        self.makeYear   = makeYear\n",
        "        self.color = color\n",
        "        self.speed  =0\n",
        "\n",
        "car = Vehicle(\"Car 2023\", 2, 2,5)\n",
        "print(car.make)\n",
        "\n"
      ],
      "metadata": {
        "id": "Oxt-6wX96mmO",
        "colab": {
          "base_uri": "https://localhost:8080/"
        },
        "outputId": "40dbd25d-b522-4641-aba0-b185eb7ac562"
      },
      "execution_count": null,
      "outputs": [
        {
          "output_type": "stream",
          "name": "stdout",
          "text": [
            "Car 2023\n"
          ]
        }
      ]
    },
    {
      "cell_type": "markdown",
      "source": [
        "Class attributes are defined directly beneath the first line of the class name and are indented by four spaces. They must always be assigned an initial value. When an instance of the class is created, class attributes are automatically created and assigned to their initial values.\n",
        "\n",
        "Use class attributes to define properties that should have the same value for every class instance. Use instance attributes for properties that vary from one instance to another.\n",
        "\n",
        "## Understanding self in Python Object-Oriented Programming\n",
        "The ***self*** parameter is used to represent that instance of a class. ***self*** let’s Python know that the attribute or methods should be applied to that object (and only that object). In essence, the ***self*** parameter binds the attributes with the given arguments.\n",
        "\n",
        "When you created the first object above, the variables that were passed in were assigned the ***self*** bindings. So, for example:\n",
        "\n",
        "self.model was assigned the argument of the model parameter\n",
        "self.color was assigned the argument of the color parameter\n",
        "So, ***self*** points to the instance of that class. In Python, ***self*** enables objects to access its attributes and methods and makes these instances unique.\n"
      ],
      "metadata": {
        "id": "ImZDe6o8IPPY"
      }
    },
    {
      "cell_type": "markdown",
      "source": [
        "<a><img src=\"https://static.wixstatic.com/media/187085_c5244dbfed7d407c8b9ccaa66cd4e691~mv2.png\" width=\"80%\" height=\"80%\" /></a>\n"
      ],
      "metadata": {
        "id": "2cgTMafrIoz2"
      }
    },
    {
      "cell_type": "markdown",
      "source": [
        "## Accessing Object Attributes in Python\n",
        "Now that you have an understanding of Python object attributes, let’s see how you can access these attributes. Python object attributes can be accessed using dot notation. This is a familiar way of accessing data in lists or dictionaries and it works just like you’d expect."
      ],
      "metadata": {
        "id": "b1VpAq_OM1lR"
      }
    },
    {
      "cell_type": "code",
      "source": [
        "class Vehicle:\n",
        "  # Class attributes\n",
        "    wheels = 4\n",
        "    def __init__(self, make, model, makeYear,color):\n",
        "        self.make   = make\n",
        "        self.model  = model\n",
        "        self.makeYear   = makeYear\n",
        "        self.color = color\n",
        "        self.speed  =0\n",
        "\n",
        "car = Vehicle(\"Ford\", \"150\", 2023,\"blue\")\n",
        "print(car.make)\n",
        "print(car.model)\n",
        "print(car.makeYear)\n",
        "print(car.color)\n",
        "\n",
        "\n"
      ],
      "metadata": {
        "colab": {
          "base_uri": "https://localhost:8080/"
        },
        "id": "J_Ib5MEW6olK",
        "outputId": "e44f856e-48ae-4056-8ae3-e789e74d6880"
      },
      "execution_count": null,
      "outputs": [
        {
          "output_type": "stream",
          "name": "stdout",
          "text": [
            "Ford\n",
            "150\n",
            "2023\n",
            "blue\n"
          ]
        }
      ]
    },
    {
      "cell_type": "markdown",
      "source": [
        "We can even modify these attributes by simply directly assigning a new value to them. Say I had a birthday and wanted to update my age, I could simply write:"
      ],
      "metadata": {
        "id": "qwsG16rcONP2"
      }
    },
    {
      "cell_type": "code",
      "source": [
        "# Modifying an object's attribute\n",
        "car.model=\"180\"\n",
        "# results\n",
        "print(car.make)\n",
        "print(car.model)\n",
        "print(car.makeYear)\n",
        "print(car.color)\n"
      ],
      "metadata": {
        "colab": {
          "base_uri": "https://localhost:8080/"
        },
        "id": "AATmpFyd6pTO",
        "outputId": "2d7ef47e-cd8a-484d-a270-aa74c3e47a15"
      },
      "execution_count": null,
      "outputs": [
        {
          "output_type": "stream",
          "name": "stdout",
          "text": [
            "Ford\n",
            "180\n",
            "2023\n",
            "blue\n"
          ]
        }
      ]
    },
    {
      "cell_type": "markdown",
      "source": [
        "## Python Functions and Methods\n",
        "\n",
        "Instance methods are functions that are defined inside a class and can only be called from an instance of that class. Just like **.__init__()**, an instance method’s first parameter is always ***self***.\n",
        "\n",
        "So far, the objects you’ve created have contained information, but they don’t actually do anything. In Python, we use functions to create repetitive actions. In object-oriented programming, functions also exist. However, methods refer to functions contained in an object.\n",
        "\n",
        "The takeaway here is: While a function can be called from anywhere, a class method can only be called from an instance of that class. Because of this, every method is a function but not every function is a method.\n",
        "\n",
        "Defining an object method is nearly the same as creating a regular function. There are a number of key differences:\n",
        "\n",
        "1. The function is defined inside the object\n",
        "2. The ***self*** argument is required\n",
        "3. The first argument is required to be ***self***\n",
        "\n",
        "Remember, ***self*** points to that instance of the object. Because of this, the method can access its attributes. However, even if the function doesn’t require any attributes from ***self***, the argument is required."
      ],
      "metadata": {
        "id": "XgLSXsd3O9-Q"
      }
    },
    {
      "cell_type": "code",
      "source": [
        "class Vehicle:\n",
        "  # Class attributes\n",
        "    wheels = 4\n",
        "    def __init__(self, make, model, makeYear,color):\n",
        "        self.make   = make\n",
        "        self.model  = model\n",
        "        self.makeYear   = makeYear\n",
        "        self.color = color\n",
        "        self.speed  =0\n",
        "\n",
        "    def accelerate(self, distance):\n",
        "        return f\"{self.make,self.model} has travelled {distance} Miles.\"\n",
        "\n",
        "    def vehicle_print(self):\n",
        "          print('Vehicle Make: ' + str(self.make))\n",
        "          print('Model       : ' + str(self.model))\n",
        "          print('Color       : ' + str(self.color))\n",
        "          print('Year        : ' + str(self.makeYear))\n",
        "          print('Miles driven: ' + str(self.speed))\n",
        "\n",
        "    def info(self):\n",
        "        return f\"{self.makeYear}{self.color} {self.make} {self.model}\".title()\n",
        "\n",
        "    def get_info(self):\n",
        "        print(f\"{self.vehicle_print()}\")\n",
        "\n",
        "    def get_odometer(self):\n",
        "        print(f\"{self.get_info()} has done {self.speed             } km.\")\n",
        "\n",
        "    def update_odometer(self, km):\n",
        "        \"\"\"Set the odometer reading if km > current reading\"\"\"\n",
        "        if km >= self.odometer:\n",
        "            self.speed\n",
        "        else:\n",
        "            print(\"Km on an odometer can't be lowered.\")\n",
        "\n",
        "    def increment_odometer(self, km):\n",
        "        \"\"\"increase the odometer reading\"\"\"\n",
        "        if km >= 0:\n",
        "            self.speed\n",
        "        else:\n",
        "            print(\"Km on an odometer can't be lowered.\")\n",
        "\n",
        "\n",
        "car = Vehicle(\"Ford\", \"150\", 2023,\"blue\")\n",
        "car.speed=258\n",
        "print(car.make)\n",
        "print(car.model)\n",
        "print(car.makeYear)\n",
        "print(car.color)\n",
        "\n",
        "\n",
        "print(car.accelerate(10))\n",
        "print(\"==============================================\")\n",
        "car.vehicle_print()\n",
        "car.info()\n",
        "car.get_odometer()"
      ],
      "metadata": {
        "colab": {
          "base_uri": "https://localhost:8080/"
        },
        "id": "CUe_FmII6rwE",
        "outputId": "38884c76-a24a-494a-8163-c7fd1957eb85"
      },
      "execution_count": null,
      "outputs": [
        {
          "output_type": "stream",
          "name": "stdout",
          "text": [
            "Ford\n",
            "150\n",
            "2023\n",
            "blue\n",
            "('Ford', '150') has travelled 10 Miles.\n",
            "==============================================\n",
            "Vehicle Make: Ford\n",
            "Model       : 150\n",
            "Color       : blue\n",
            "Year        : 2023\n",
            "Miles driven: 258\n",
            "Vehicle Make: Ford\n",
            "Model       : 150\n",
            "Color       : blue\n",
            "Year        : 2023\n",
            "Miles driven: 258\n",
            "None\n",
            "None has done 258 km.\n"
          ]
        }
      ]
    },
    {
      "cell_type": "markdown",
      "source": [
        "<a><img src=\"https://static.wixstatic.com/media/187085_f85686f9ac184cd7bcf4d1dd5a105f0d~mv2.png\" width=\"80%\" height=\"80%\" /></a>\n",
        "\n"
      ],
      "metadata": {
        "id": "d_23_rEHTcCj"
      }
    },
    {
      "cell_type": "markdown",
      "source": [
        "## Object\n",
        "An object is called an instance of the Class, which can be declared and instantiated by calling the Class’s Constructor. An object will have a state, and the state will contain data that the class’s attributes will hold.\n",
        "A simple example of how to get booleans comes from applying the order\n",
        "\n",
        "You create an object of a class by calling the class name and passing arguments as if it were a function.\n",
        "\n",
        "An object is essential to work with the class attributes. The object is created using the class name. When we create an object of the class, it is called instantiation. The object is also called the instance of a class.\n",
        "\n",
        "## Constructor\n",
        "A **constructor** is a special method used to create and initialize an object of a class. This method is defined in the class.\n",
        "\n",
        "In object-oriented programming, A constructor is a special method used to create and initialize an object of a class. This method is defined in the class.\n",
        "\n",
        "* The constructor is executed automatically at the time of object creation.\n",
        "* The primary use of a constructor is to declare and initialize data member/ instance variables of a class. The constructor contains a collection of statements (i.e., instructions) that executes at the time of object creation to initialize the attributes of an object.\n",
        "\n",
        "In Python, Object creation is divided into two parts in** Object Creatio**n and **Object initialization**\n",
        "\n",
        "* Internally, the __new__ is the method that creates the object\n",
        "* And, using the __init__() method we can implement constructor to initialize the object.\n",
        "\n",
        "**Syntax** of a constructor"
      ],
      "metadata": {
        "id": "sg-ZnDtU7hDP"
      }
    },
    {
      "cell_type": "code",
      "source": [
        "def __init__(self):\n",
        "    # body of the constructor"
      ],
      "metadata": {
        "colab": {
          "base_uri": "https://localhost:8080/"
        },
        "id": "XvuIA-Fa77JN",
        "outputId": "eaa8da64-846d-4dbf-e064-7d26d5d489d7"
      },
      "execution_count": null,
      "outputs": [
        {
          "output_type": "execute_result",
          "data": {
            "text/plain": [
              "set()"
            ]
          },
          "metadata": {},
          "execution_count": 40
        }
      ]
    },
    {
      "cell_type": "markdown",
      "source": [
        "<a><img src=\"https://static.wixstatic.com/media/187085_35e382a0f70949578675dfa041b44b15~mv2.png\" width=\"80%\" height=\"80%\" /></a>"
      ],
      "metadata": {
        "id": "Sg8LGYGheACn"
      }
    },
    {
      "cell_type": "markdown",
      "source": [
        "Where,\n",
        "\n",
        "* def: The keyword is used to define function.\n",
        "* __init__() Method: It is a reserved method. This method gets called as soon as an object of a class is instantiated.\n",
        "* self: The first argument self refers to the current object. It binds the instance to the __init__() method. It’s usually named self to follow the naming convention.\n",
        "\n",
        "**Note**: The __init__() method arguments are optional. We can define a constructor with any number of arguments."
      ],
      "metadata": {
        "id": "g6CPCQCXXNb3"
      }
    },
    {
      "cell_type": "code",
      "source": [
        "class Vehicle:\n",
        "  # Class attributes\n",
        "    wheels = 4\n",
        "\n",
        "    # constructor\n",
        "    # initialize instance variable\n",
        "    def __init__(self, make, model, makeYear,color):\n",
        "        self.make   = make\n",
        "        self.model  = model\n",
        "        self.makeYear   = makeYear\n",
        "        self.color = color\n",
        "        self.speed  =0\n",
        "\n",
        "    # instance Method\n",
        "    def accelerate(self, distance):\n",
        "        return f\"{self.make,self.model} has travelled {distance} Miles.\"\n",
        "\n",
        "    def vehicle_print(self):\n",
        "          print('Vehicle Make: ' + str(self.make))\n",
        "          print('Model       : ' + str(self.model))\n",
        "          print('Color       : ' + str(self.color))\n",
        "          print('Year        : ' + str(self.makeYear))\n",
        "          print('Miles driven: ' + str(self.speed))\n",
        "\n",
        "    def info(self):\n",
        "        return f\"{self.makeYear}{self.color} {self.make} {self.model}\".title()\n",
        "\n",
        "# create object using constructor\n",
        "car1 = Vehicle(\"Ford\", \"150\", 2023,\"blue\")\n",
        "# create other  object using constructor\n",
        "car2 = Vehicle(\"Fiat\", \"50\", 2013,\"red\")\n",
        "# create other  object using constructor\n",
        "car3 = Vehicle(\"Mercedez\", \"450\", 2023,\"green\")\n",
        "car1.vehicle_print()\n",
        "print(\"==============================================\")\n",
        "car2.vehicle_print()\n",
        "print(\"==============================================\")\n",
        "car3.vehicle_print()\n",
        "print(\"==============================================\")\n"
      ],
      "metadata": {
        "id": "PAR37-0W79xj",
        "colab": {
          "base_uri": "https://localhost:8080/"
        },
        "outputId": "79c4fb66-66ee-4457-c92e-7bbf275fa914"
      },
      "execution_count": null,
      "outputs": [
        {
          "output_type": "stream",
          "name": "stdout",
          "text": [
            "Vehicle Make: Ford\n",
            "Model       : 150\n",
            "Color       : blue\n",
            "Year        : 2023\n",
            "Miles driven: 0\n",
            "==============================================\n",
            "Vehicle Make: Fiat\n",
            "Model       : 50\n",
            "Color       : red\n",
            "Year        : 2013\n",
            "Miles driven: 0\n",
            "==============================================\n",
            "Vehicle Make: Mercedez\n",
            "Model       : 450\n",
            "Color       : green\n",
            "Year        : 2023\n",
            "Miles driven: 0\n",
            "==============================================\n"
          ]
        }
      ]
    },
    {
      "cell_type": "markdown",
      "source": [
        "In the above example, an object car1,car2 and car3 are created using the constructor\n",
        "While creating a Vehicle object name is passed as an argument to the __init__() method to initialize the object.\n",
        "\n",
        "Similarly, various objects of the Vehicle  class can be created by passing different names as arguments\n",
        "\n",
        "**Note**:\n",
        "\n",
        "* For every object, the constructor will be executed only once. For example, if we create four objects, the constructor is called four times.\n",
        "* In Python, every class has a constructor, but it’s not required to define it explicitly. Defining constructors in class is optional.\n",
        "* Python will provide a default constructor if no constructor is defined."
      ],
      "metadata": {
        "id": "C7-bzQVreOdQ"
      }
    },
    {
      "cell_type": "markdown",
      "source": [
        "Types of Constructors\n",
        "In Python, we have the following three types of constructors.\n",
        "\n",
        "* Default Constructor\n",
        "* Non-parametrized constructor\n",
        "* Parameterized constructor"
      ],
      "metadata": {
        "id": "PudqnTvFjA3W"
      }
    },
    {
      "cell_type": "markdown",
      "source": [
        "\n",
        "\n",
        "<a><img src=\"https://static.wixstatic.com/media/187085_6dbdb316400141a2b2efdc6575b79e5d~mv2.png\" width=\"80%\" height=\"80%\" /></a>\n",
        "\n"
      ],
      "metadata": {
        "id": "Irnjl7sxjM-d"
      }
    },
    {
      "cell_type": "markdown",
      "source": [
        "### Default Constructor\n",
        "Python will provide a default constructor if no constructor is defined. Python adds a default constructor when we do not include the constructor in the class or forget to declare it. It does not perform any task but initializes the objects. It is an empty constructor without a body.\n",
        "\n",
        "If you do not implement any constructor in your class or forget to declare it, the Python inserts a default constructor into your code on your behalf. This constructor is known as the default constructor.\n",
        "\n",
        "It does not perform any task but initializes the objects. It is an empty constructor without a body.\n",
        "\n",
        "### Note:\n",
        "\n",
        "* The default constructor is not present in the source py file. It is inserted into the code during compilation if not exists. See the below image.\n",
        "* If you implement your constructor, then the default constructor will not be added."
      ],
      "metadata": {
        "id": "HqFS6czejaFD"
      }
    },
    {
      "cell_type": "code",
      "source": [
        "class Vehicle:\n",
        "\n",
        "    def display(self):\n",
        "        print('Vehicle Display')\n",
        "\n",
        "car = Vehicle()\n",
        "car.display()"
      ],
      "metadata": {
        "colab": {
          "base_uri": "https://localhost:8080/"
        },
        "id": "DGxGwant7_xe",
        "outputId": "babc33b1-3bba-44eb-8b3f-9d9a3848ad66"
      },
      "execution_count": null,
      "outputs": [
        {
          "output_type": "stream",
          "name": "stdout",
          "text": [
            "Vehicle Display\n"
          ]
        }
      ]
    },
    {
      "cell_type": "markdown",
      "source": [
        "As you can see in the example, we do not have a constructor, but we can still create an object for the class because Python added the default constructor during a program compilation.\n",
        "\n",
        "### Non-Parametrized Constructor\n",
        "A constructor without any arguments is called a non-parameterized constructor. This type of constructor is used to initialize each object with default values.\n",
        "\n",
        "This constructor doesn’t accept the arguments during object creation. Instead, it initializes every object with the same set of values."
      ],
      "metadata": {
        "id": "o5yGBnSMjyU7"
      }
    },
    {
      "cell_type": "code",
      "source": [
        "class Vehicle:\n",
        "\n",
        "    # no-argument constructor\n",
        "    def __init__(self):\n",
        "        self.make = \"Ford\"\n",
        "        self.model = \"150\"\n",
        "\n",
        "    # a method for printing data members\n",
        "    def show(self):\n",
        "        print('Make :', self.make, 'Model:', self.model)\n",
        "\n",
        "# creating object of the class\n",
        "car = Vehicle()\n",
        "\n",
        "# calling the instance method using the object\n",
        "car.show()\n",
        "\n",
        "\n",
        "\n"
      ],
      "metadata": {
        "id": "pJ_4o-a-8A9f",
        "colab": {
          "base_uri": "https://localhost:8080/"
        },
        "outputId": "719ecc77-cbc1-47ba-865b-2313a45cda43"
      },
      "execution_count": null,
      "outputs": [
        {
          "output_type": "stream",
          "name": "stdout",
          "text": [
            "Make : Ford Model: 150\n"
          ]
        }
      ]
    },
    {
      "cell_type": "markdown",
      "source": [
        "As you can see in the example, we do not send any argument to a constructor while creating an object.\n",
        "\n",
        "### Parameterized Constructor\n",
        "\n",
        "A constructor with defined parameters or arguments is called a parameterized constructor. We can pass different values to each object at the time of creation using a parameterized constructor.\n",
        "\n",
        "The first parameter to constructor is self that is a reference to the being constructed, and the rest of the arguments are provided by the programmer. A parameterized constructor can have any number of arguments."
      ],
      "metadata": {
        "id": "2xmdS0R6kjMs"
      }
    },
    {
      "cell_type": "code",
      "source": [
        "class Vehicle:\n",
        "  # Class attributes\n",
        "    wheels = 4\n",
        "\n",
        "    # constructor\n",
        "    # initialize instance variable\n",
        "    def __init__(self, make, model, makeYear,color):\n",
        "        self.make   = make\n",
        "        self.model  = model\n",
        "        self.makeYear   = makeYear\n",
        "        self.color = color\n",
        "        self.speed  =0\n",
        "\n",
        "    # instance Method\n",
        "    def accelerate(self, distance):\n",
        "        return f\"{self.make,self.model} has travelled {distance} Miles.\"\n",
        "\n",
        "    def vehicle_print(self):\n",
        "          print('Vehicle Make: ' + str(self.make))\n",
        "          print('Model       : ' + str(self.model))\n",
        "          print('Color       : ' + str(self.color))\n",
        "          print('Year        : ' + str(self.makeYear))\n",
        "          print('Miles driven: ' + str(self.speed))\n",
        "\n",
        "    def info(self):\n",
        "        return f\"{self.makeYear}{self.color} {self.make} {self.model}\".title()\n",
        "\n",
        "# create object using constructor\n",
        "car1 = Vehicle(\"Ford\", \"150\", 2023,\"blue\")\n",
        "# create other  object using constructor\n",
        "car2 = Vehicle(\"Fiat\", \"50\", 2013,\"red\")\n",
        "# create other  object using constructor\n",
        "car3 = Vehicle(\"Mercedez\", \"450\", 2023,\"green\")\n",
        "car1.vehicle_print()\n",
        "print(\"==============================================\")\n",
        "car2.vehicle_print()\n",
        "print(\"==============================================\")\n",
        "car3.vehicle_print()\n",
        "print(\"==============================================\")"
      ],
      "metadata": {
        "colab": {
          "base_uri": "https://localhost:8080/"
        },
        "id": "1EuFsTMd8EA3",
        "outputId": "85f4eaf3-f94e-4209-d5b1-82ebb5c48f4a"
      },
      "execution_count": null,
      "outputs": [
        {
          "output_type": "stream",
          "name": "stdout",
          "text": [
            "Vehicle Make: Ford\n",
            "Model       : 150\n",
            "Color       : blue\n",
            "Year        : 2023\n",
            "Miles driven: 0\n",
            "==============================================\n",
            "Vehicle Make: Fiat\n",
            "Model       : 50\n",
            "Color       : red\n",
            "Year        : 2013\n",
            "Miles driven: 0\n",
            "==============================================\n",
            "Vehicle Make: Mercedez\n",
            "Model       : 450\n",
            "Color       : green\n",
            "Year        : 2023\n",
            "Miles driven: 0\n",
            "==============================================\n"
          ]
        }
      ]
    },
    {
      "cell_type": "markdown",
      "source": [
        "### Constructor With Default Values\n",
        "Python allows us to define a constructor with default values. The default value will be used if we do not pass arguments to the constructor at the time of object creation.\n",
        "\n",
        "The following example shows how to use the default values with the constructor."
      ],
      "metadata": {
        "id": "obQ037KilE90"
      }
    },
    {
      "cell_type": "code",
      "source": [
        "class Vehicle:\n",
        "  # Class attributes\n",
        "    wheels = 4\n",
        "\n",
        "    # constructor\n",
        "    # initialize instance variable\n",
        "    # constructor with default values\n",
        "    def __init__(self, make, model=\"150\", makeYear=2023,color=\"blue\"):\n",
        "        self.make   = make\n",
        "        self.model  = model\n",
        "        self.makeYear   = makeYear\n",
        "        self.color = color\n",
        "        self.speed  =0\n",
        "\n",
        "    # instance Method\n",
        "    def accelerate(self, distance):\n",
        "        return f\"{self.make,self.model} has travelled {distance} Miles.\"\n",
        "\n",
        "    def vehicle_print(self):\n",
        "          print('Vehicle Make: ' + str(self.make))\n",
        "          print('Model       : ' + str(self.model))\n",
        "          print('Color       : ' + str(self.color))\n",
        "          print('Year        : ' + str(self.makeYear))\n",
        "          print('Miles driven: ' + str(self.speed))\n",
        "\n",
        "    def info(self):\n",
        "        return f\"{self.makeYear}{self.color} {self.make} {self.model}\".title()\n",
        "\n",
        "# create object using constructor\n",
        "car1 = Vehicle(\"Ford\")\n",
        "\n",
        "# create other  object using constructor\n",
        "car2 = Vehicle(\"Fiat\", \"50\", 2013,\"red\")\n",
        "\n",
        "car1.vehicle_print()\n",
        "print(\"==============================================\")\n",
        "car2.vehicle_print()\n",
        "print(\"==============================================\")"
      ],
      "metadata": {
        "id": "dbJ1MaZ38GlT",
        "colab": {
          "base_uri": "https://localhost:8080/"
        },
        "outputId": "fd2e5163-c629-40ac-cfb5-3b7d931f4f07"
      },
      "execution_count": null,
      "outputs": [
        {
          "output_type": "stream",
          "name": "stdout",
          "text": [
            "Vehicle Make: Ford\n",
            "Model       : 150\n",
            "Color       : blue\n",
            "Year        : 2023\n",
            "Miles driven: 0\n",
            "==============================================\n",
            "Vehicle Make: Fiat\n",
            "Model       : 50\n",
            "Color       : red\n",
            "Year        : 2013\n",
            "Miles driven: 0\n",
            "==============================================\n"
          ]
        }
      ]
    },
    {
      "cell_type": "markdown",
      "source": [
        "## Class Inheritance in Python\n",
        "\n",
        "Inheritance is the process by which one class takes on the attributes and methods of another. Newly formed classes are called child classes, and the classes that child classes are derived from are called parent classes.\n",
        "\n",
        "Like any other OOP languages, Python also supports the concept of class inheritance.\n",
        "\n",
        "Inheritance allows us to create a new class from an existing class.\n",
        "\n",
        "The new class that is created is known as subclass (child or derived class) and the existing class from which the child class is derived is known as superclass (parent or base class).\n",
        "\n",
        "Child classes can override or extend the attributes and methods of parent classes. In other words, child classes inherit all of the parent’s attributes and methods but can also specify attributes and methods that are unique to themselves.\n",
        "\n",
        "Although the analogy isn’t perfect, you can think of object inheritance sort of like genetic inheritance.\n",
        "\n",
        "You may have inherited your hair color from your mother. It’s an attribute you were born with. Let’s say you decide to color your hair purple. Assuming your mother doesn’t have purple hair, you’ve just overridden the hair color attribute that you inherited from your mom.\n",
        "\n",
        "You also inherit, in a sense, your language from your parents. If your parents speak English, then you’ll also speak English. Now imagine you decide to learn a second language, like German. In this case you’ve extended your attributes because you’ve added an attribute that your parents don’t have.\n",
        "\n",
        "n this section, you’ll learn about an important concept related to Python object-oriented programming: inheritance. Inheritance is a process by which a class takes on the attributes and methods of another class. However, the class can also have its own attributes and methods.\n",
        "\n",
        "In the case of inheritance, the original class is referred to as the parent class, while the class that inherits is referred to as the child class.\n",
        "\n",
        "What’s special about child classes in Python is that:\n",
        "\n",
        "* They inherit all attributes and methods from the parent class\n",
        "* They can define their own attributes and methods, and\n",
        "* They can overwrite the attributes and methods of the parent class\n"
      ],
      "metadata": {
        "id": "mCQrgylA-XeB"
      }
    },
    {
      "cell_type": "markdown",
      "source": [
        "\n",
        "\n",
        "\n",
        "\n",
        "<a><img src=\"https://static.wixstatic.com/media/187085_dce4deec2835422a9fbfb602cb5d262e~mv2.png\" width=\"80%\" height=\"80%\" /></a>\n",
        "\n",
        "\n",
        "\n",
        "\n",
        "\n"
      ],
      "metadata": {
        "id": "qs7PMP-xytSQ"
      }
    },
    {
      "cell_type": "markdown",
      "source": [
        "\n",
        "\n",
        "The inheritance is a very useful and powerful concept of object-oriented programming. Using the inheritance concept, we can use the existing features of one class in another class.\n",
        "\n",
        "*The inheritance is the process of acquiring the properties of one class to another class.*\n",
        "\n",
        "In inheritance, we use the terms like parent class, child class, base class, derived class, superclass, and subclass.\n",
        "\n",
        "The ***Parent class*** is the class which provides features to another class. The parent class is also known as **Base class** or **Superclass**.\n",
        "\n",
        "The ***Child class*** the class which receives features from another class. The child class is also known as the **Derived Class** or **Subclass**.\n",
        "\n",
        "*In the inheritance, the child class acquires the features from its parent class. But the parent class never acquires the features from its child class.*\n",
        "\n",
        "\n",
        "There are five types of inheritances, and they are as follows.\n",
        "\n",
        "* Simple Inheritance (or) Single Inheritance\n",
        "* Multiple Inheritance\n",
        "* Multi-Level Inheritance\n",
        "* Hierarchical Inheritance\n",
        "* Hybrid Inheritance\n",
        "\n",
        "The following picture illustrates how various inheritances are implemented.\n"
      ],
      "metadata": {
        "id": "opAw7JE6pZLL"
      }
    },
    {
      "cell_type": "markdown",
      "source": [
        "\n",
        "<a><img src=\"https://static.wixstatic.com/media/187085_a63127ceaee64c97bdfa4127db5f6ee7~mv2.png\" width=\"80%\" height=\"80%\" /></a>\n",
        "\n"
      ],
      "metadata": {
        "id": "HKH6s7TF-c4t"
      }
    },
    {
      "cell_type": "markdown",
      "source": [
        "### Creating a Child Class\n",
        "In Python, we use the following general structure to create a child class from a parent class.\n",
        "\n",
        "class ChildClassName(ParentClassName):\n",
        "\n",
        "    ChildClass implementation"
      ],
      "metadata": {
        "id": "NA32ohjZBoea"
      }
    },
    {
      "cell_type": "markdown",
      "source": [
        "### Single Inheritance\n",
        "Single inheritance is one of the types of inheritance in Python, where there is only one base class and one child class. It is the inheritance type that is most frequently used.\n",
        "\n",
        "In the diagram above, the downward arrow indicates that class B is descended from class ParentClass. This implies that class ChildClass inherits class ParentClass's members and functions designated as public or protected, enabling class ChildClass objects to access class ParentClass's methods and properties.\n",
        "\n",
        "Example of Single Inheritance:"
      ],
      "metadata": {
        "id": "ABnDYWkMqdiv"
      }
    },
    {
      "cell_type": "code",
      "source": [
        "# Python program to demonstrate single inheritance\n",
        "\n",
        "# Base class\n",
        "# ParentClass\n",
        "class Father:\n",
        "\n",
        "    def function_1(self):\n",
        "        print ('I am father.')\n",
        "\n",
        "# Child class\n",
        "class Children(Father):\n",
        "\n",
        "    def function_2(self):\n",
        "        print ('I am son.')\n",
        "\n",
        "object = Children()\n",
        "object.function_1()\n",
        "object.function_2()\n",
        "\n",
        "\n"
      ],
      "metadata": {
        "colab": {
          "base_uri": "https://localhost:8080/"
        },
        "id": "dGTE4ye0C1My",
        "outputId": "abd4ded0-88e0-4cca-f172-c648c7b17000"
      },
      "execution_count": null,
      "outputs": [
        {
          "output_type": "stream",
          "name": "stdout",
          "text": [
            "I am father.\n",
            "I am son.\n"
          ]
        }
      ]
    },
    {
      "cell_type": "markdown",
      "source": [
        "Explanation: In the above example, class children inherit the property and data of the father's class having inheritance relations.\n",
        "\n",
        "Other example:"
      ],
      "metadata": {
        "id": "kZc51SdxD7uF"
      }
    },
    {
      "cell_type": "code",
      "source": [
        "class ParentClass:\n",
        "\n",
        "    def feature_1(self):\n",
        "        print('feature_1 from ParentClass is running...')\n",
        "\n",
        "    def feature_2(self):\n",
        "        print('feature_2 from ParentClass is running...')\n",
        "\n",
        "\n",
        "class ChildClass(ParentClass):\n",
        "\n",
        "    def feature_3(self):\n",
        "        print('feature_3 from ChildClass is running...')\n",
        "\n",
        "obj = ChildClass()\n",
        "obj.feature_1()\n",
        "obj.feature_2()\n",
        "obj.feature_3()"
      ],
      "metadata": {
        "id": "meDE0W8CD8Z0",
        "colab": {
          "base_uri": "https://localhost:8080/"
        },
        "outputId": "34a2eca8-afab-423d-99c4-f4bd43fa0c22"
      },
      "execution_count": null,
      "outputs": [
        {
          "output_type": "stream",
          "name": "stdout",
          "text": [
            "feature_1 from ParentClass is running...\n",
            "feature_2 from ParentClass is running...\n",
            "feature_3 from ChildClass is running...\n"
          ]
        }
      ]
    },
    {
      "cell_type": "markdown",
      "source": [
        "###Multiple Inheritance\n",
        "Multiple inheritances are another types of inheritance in Python, which refer to deriving a class from multiple base classes.\n",
        "\n",
        "In the diagram above, class ChildClass comes from classes ParentClass_1 and ParentClass_2. Classes ParentClass_1 and ParentClass_2's attributes and operations will be present in class ChildClass."
      ],
      "metadata": {
        "id": "NO6nZT85ESNM"
      }
    },
    {
      "cell_type": "code",
      "source": [
        "# Python program to demonstrate multiple inheritances\n",
        "\n",
        "# Base class1\n",
        "class ParentClass_1:\n",
        "\n",
        "    aname = ''\n",
        "\n",
        "    def aclass(self):\n",
        "        print (self.aname)\n",
        "\n",
        "# Base class2\n",
        "\n",
        "class ParentClass_2:\n",
        "\n",
        "    bname = ''\n",
        "\n",
        "    def bclass(self):\n",
        "        print (self.bname)\n",
        "\n",
        "# Child class\n",
        "\n",
        "class C(ParentClass_1, ParentClass_2):\n",
        "\n",
        "    def cname(self):\n",
        "        print ('B :', self.bname)\n",
        "        print ('A :', self.aname)\n",
        "\n",
        "s1 = C()\n",
        "s1.bname = 'ParentClass_B Mother'\n",
        "s1.aname = 'ParentClass_A Father'\n",
        "s1.cname()"
      ],
      "metadata": {
        "id": "uMTCFZ2KETG6",
        "colab": {
          "base_uri": "https://localhost:8080/"
        },
        "outputId": "d7815dde-6964-4dde-d1de-9fb15d94eb64"
      },
      "execution_count": null,
      "outputs": [
        {
          "output_type": "stream",
          "name": "stdout",
          "text": [
            "B : ParentClass_B Mother\n",
            "A : ParentClass_A Father\n"
          ]
        }
      ]
    },
    {
      "cell_type": "markdown",
      "source": [
        "Other example:"
      ],
      "metadata": {
        "id": "8pUxLrQ1EadV"
      }
    },
    {
      "cell_type": "code",
      "source": [
        "class ParentClass_1:\n",
        "\n",
        "    def feature_1(self):\n",
        "        print('feature_1 from ParentClass_1 is running...')\n",
        "\n",
        "class ParentClass_2:\n",
        "\n",
        "    def feature_2(self):\n",
        "        print('feature_2 from ParentClass_2 is running...')\n",
        "\n",
        "\n",
        "class ChildClass(ParentClass_1, ParentClass_2):\n",
        "\n",
        "    def feature_3(self):\n",
        "        print('feature_3 from ChildClass is running...')\n",
        "\n",
        "obj = ChildClass()\n",
        "obj.feature_1()\n",
        "obj.feature_2()\n",
        "obj.feature_3()"
      ],
      "metadata": {
        "colab": {
          "base_uri": "https://localhost:8080/"
        },
        "id": "T_2G6zsQEf9m",
        "outputId": "3f5041c7-e0b1-4bf0-835e-ebfc7bc577de"
      },
      "execution_count": null,
      "outputs": [
        {
          "output_type": "stream",
          "name": "stdout",
          "text": [
            "feature_1 from ParentClass_1 is running...\n",
            "feature_2 from ParentClass_2 is running...\n",
            "feature_3 from ChildClass is running...\n"
          ]
        }
      ]
    },
    {
      "cell_type": "markdown",
      "source": [
        "### Multilevel Inheritance\n",
        "When there are multiple levels of inheritance, the new derived class receives an additional inheritance from both the base class and the derived class. This type of inheritance in Python is referred to as multilevel inheritance.\n",
        "\n"
      ],
      "metadata": {
        "id": "d571l5alErzl"
      }
    },
    {
      "cell_type": "code",
      "source": [
        "# Python program to demonstrate multilevel inheritance\n",
        "\n",
        "class A:\n",
        "\n",
        "    def __init__(self, aname):\n",
        "        self.aname = aname\n",
        "\n",
        "# Intermediate class\n",
        "\n",
        "class B(A):\n",
        "\n",
        "    def __init__(self, bname, aname):\n",
        "        self.bname = bname\n",
        "\n",
        "        # invoking constructor of Grandfather class\n",
        "\n",
        "        A.__init__(self, aname)\n",
        "\n",
        "# Derived class\n",
        "\n",
        "class C(B):\n",
        "\n",
        "    def __init__(\n",
        "        self,\n",
        "        cname,\n",
        "        bname,\n",
        "        aname,\n",
        "        ):\n",
        "        self.cname = cname\n",
        "\n",
        "        # Invoking constructor of Father class\n",
        "\n",
        "        B.__init__(self, bname, aname)\n",
        "\n",
        "    def display(self):\n",
        "        print ('A name :', self.aname)\n",
        "        print ('B name :', self.bname)\n",
        "        print ('C name :', self.cname)\n",
        "\n",
        "# Driver code\n",
        "\n",
        "s1 = C('Rohit', 'Mohit', 'Lalit')\n",
        "print (s1.aname)\n",
        "s1.display()"
      ],
      "metadata": {
        "colab": {
          "base_uri": "https://localhost:8080/"
        },
        "id": "08jA1a5uErfC",
        "outputId": "124b02a8-8c50-482f-8072-4f078f15c60d"
      },
      "execution_count": null,
      "outputs": [
        {
          "output_type": "stream",
          "name": "stdout",
          "text": [
            "This is string wonderful ***************\n"
          ]
        }
      ]
    },
    {
      "cell_type": "markdown",
      "source": [
        "In the example, class C is descended from class B, which is from class A (ParentClass).\n",
        "\n",
        "In this type of inheritance, the child class derives from a class which already derived from another class. Look at the following example codeI"
      ],
      "metadata": {
        "id": "V62MUe15tWaq"
      }
    },
    {
      "cell_type": "code",
      "source": [
        "class ParentClass:\n",
        "\n",
        "    def feature_1(self):\n",
        "        print('feature_1 from ParentClass is running...')\n",
        "\n",
        "class ChildClass_1(ParentClass):\n",
        "\n",
        "    def feature_2(self):\n",
        "        print('feature_2 from ChildClass_1 is running...')\n",
        "\n",
        "\n",
        "class ChildClass_2(ChildClass_1):\n",
        "\n",
        "    def feature_3(self):\n",
        "        print('feature_3 from ChildClass_2 is running...')\n",
        "\n",
        "obj = ChildClass_2()\n",
        "obj.feature_1()\n",
        "obj.feature_2()\n",
        "obj.feature_3()"
      ],
      "metadata": {
        "colab": {
          "base_uri": "https://localhost:8080/"
        },
        "id": "j8p10w5sHfba",
        "outputId": "ec30d44b-a318-450d-a305-e20d9a68ba39"
      },
      "execution_count": null,
      "outputs": [
        {
          "output_type": "stream",
          "name": "stdout",
          "text": [
            "feature_1 from ParentClass is running...\n",
            "feature_2 from ChildClass_1 is running...\n",
            "feature_3 from ChildClass_2 is running...\n"
          ]
        }
      ]
    },
    {
      "cell_type": "markdown",
      "source": [
        "### Hierarchical Inheritance\n",
        "Hierarchical inheritance is the term used to describe situations with multiple derived classes from a single base class."
      ],
      "metadata": {
        "id": "E67_povlFSoN"
      }
    },
    {
      "cell_type": "code",
      "source": [
        "# Python program to demonstrate Hierarchical inheritance\n",
        "\n",
        "# Base class\n",
        "\n",
        "class A:\n",
        "\n",
        "    def function_1(self):\n",
        "        print ('Parent of B and C')\n",
        "\n",
        "# Derived class1\n",
        "\n",
        "class B(A):\n",
        "\n",
        "    def function_2(self):\n",
        "        print ('Child class of A')\n",
        "\n",
        "# Derivied class2\n",
        "\n",
        "class C(A):\n",
        "\n",
        "    def function_3(self):\n",
        "        print ('Child class of A')\n",
        "\n",
        "object1 = C()\n",
        "object2 = B()\n",
        "object1.function_1()\n",
        "object1.function_3()\n",
        "object2.function_1()\n",
        "object2.function_2()"
      ],
      "metadata": {
        "colab": {
          "base_uri": "https://localhost:8080/"
        },
        "id": "pSatEfTuE9fC",
        "outputId": "093b029d-721a-4395-ca07-4d0d337f5a5a"
      },
      "execution_count": null,
      "outputs": [
        {
          "output_type": "stream",
          "name": "stdout",
          "text": [
            "Parent of B and C\n",
            "Child class of A\n",
            "Parent of B and C\n",
            "Child class of A\n"
          ]
        }
      ]
    },
    {
      "cell_type": "markdown",
      "source": [
        "Here in the example, class A and B inherit the property of class C, which shows hierarchical inheritance."
      ],
      "metadata": {
        "id": "OhSzbNQhuISB"
      }
    },
    {
      "cell_type": "code",
      "source": [
        "class ParentClass_1:\n",
        "\n",
        "    def feature_1(self):\n",
        "        print('feature_1 from ParentClass_1 is running...')\n",
        "\n",
        "class ParentClass_2:\n",
        "\n",
        "    def feature_2(self):\n",
        "        print('feature_2 from ParentClass_2 is running...')\n",
        "\n",
        "\n",
        "class ChildClass(ParentClass_1, ParentClass_2):\n",
        "\n",
        "    def feature_3(self):\n",
        "        print('feature_3 from ChildClass is running...')\n",
        "\n",
        "obj = ChildClass()\n",
        "obj.feature_1()\n",
        "obj.feature_2()\n",
        "obj.feature_3()"
      ],
      "metadata": {
        "colab": {
          "base_uri": "https://localhost:8080/"
        },
        "id": "sgKokkLJFYL_",
        "outputId": "131117ea-3335-4760-92ce-140e8dc2d757"
      },
      "execution_count": null,
      "outputs": [
        {
          "output_type": "stream",
          "name": "stdout",
          "text": [
            "feature_1 from ParentClass_1 is running...\n",
            "feature_2 from ParentClass_2 is running...\n",
            "feature_3 from ChildClass is running...\n"
          ]
        }
      ]
    },
    {
      "cell_type": "markdown",
      "source": [
        "### Hybrid Inheritance\n",
        "The hybrid inheritance is the combination of more than one type of inheritance. We may use any combination as a single with multiple inheritances, multi-level with multiple inheritances, etc.\n",
        "\n",
        "It combines multiple inheritances with multilevel inheritance. A class can have two or more parent classes, but only one of them can have derived classes."
      ],
      "metadata": {
        "id": "cOwr2-bxFUO4"
      }
    },
    {
      "cell_type": "code",
      "source": [
        "# Python program to demonstrate hybrid inheritance\n",
        "\n",
        "class Office:\n",
        "\n",
        "    def func1(self):\n",
        "        print ('This function is in Office.')\n",
        "\n",
        "class Emp1(Office):\n",
        "\n",
        "    def func2(self):\n",
        "        print ('This function is in Employee 1.')\n",
        "\n",
        "class Emp2:\n",
        "\n",
        "    def func3(self):\n",
        "        print ('This function is in Employee 2.')\n",
        "\n",
        "class Emp3(Emp1, Emp2):\n",
        "\n",
        "    def func4(self):\n",
        "        print ('This function is in Employee 3.')\n",
        "\n",
        "# Driver's code\n",
        "\n",
        "object = Emp3()\n",
        "object.func1()\n",
        "object.func2()"
      ],
      "metadata": {
        "colab": {
          "base_uri": "https://localhost:8080/"
        },
        "id": "b1Dk7ZPpF5Aw",
        "outputId": "cd7a722d-220b-45c8-ec17-1c5f2d9ae59e"
      },
      "execution_count": null,
      "outputs": [
        {
          "output_type": "stream",
          "name": "stdout",
          "text": [
            "This function is in Office.\n",
            "This function is in Employee 1.\n"
          ]
        }
      ]
    },
    {
      "cell_type": "markdown",
      "source": [
        "In the above example, class B is inheriting the property of class A, and class D inherits the property of class B and class C."
      ],
      "metadata": {
        "id": "6NVvkwi8GEMH"
      }
    },
    {
      "cell_type": "markdown",
      "source": [
        "We can also count how many times a character or substring is found within a string with the *`count`* command. And in the same way as before, the posting can be done in a defined section of the text."
      ],
      "metadata": {
        "id": "E8KHJWUdGSkT"
      }
    },
    {
      "cell_type": "markdown",
      "source": [
        "# Encapsulation\n",
        "\n"
      ],
      "metadata": {
        "id": "7xm8k6Yqzcok"
      }
    },
    {
      "cell_type": "markdown",
      "source": [
        "\n",
        "\n",
        "<a><img src=\"https://static.wixstatic.com/media/187085_3f811928c5c94f6ab206b472df2e4a71~mv2.png\" width=\"80%\" height=\"80%\" /></a>\n",
        "\n",
        "\n",
        "\n"
      ],
      "metadata": {
        "id": "lBcQL5i0ydZF"
      }
    },
    {
      "cell_type": "markdown",
      "source": [
        "Encapsulation is one of the key features of object-oriented programming. Encapsulation refers to the bundling of attributes and methods inside a single class.\n",
        "\n",
        "Encapsulation is one of the cornerstone concepts of OOP. The basic idea of Encapsulation is to wrap up both data and methods into one single unit. The way that data and methods are organized does not matter to the end-user. The user is only concerned about the right way to provide input and expects a correct output on the basis of the inputs provided.\n",
        "\n",
        "\n",
        "It prevents outer classes from accessing and changing attributes and methods of a class. This also helps to achieve data hiding.\n",
        "\n",
        "In Python, we denote private attributes using underscore as the prefix i.e single _ or double __. For example,"
      ],
      "metadata": {
        "id": "xzlzgKvR08Fm"
      }
    },
    {
      "cell_type": "code",
      "source": [
        "class Computer:\n",
        "\n",
        "    def __init__(self):\n",
        "        self.__maxprice = 900\n",
        "\n",
        "    def sell(self):\n",
        "        print(\"Selling Price: {}\".format(self.__maxprice))\n",
        "\n",
        "    def setMaxPrice(self, price):\n",
        "        self.__maxprice = price\n",
        "\n",
        "c = Computer()\n",
        "c.sell()\n",
        "\n",
        "# change the price\n",
        "c.__maxprice = 1000\n",
        "c.sell()\n",
        "\n",
        "# using setter function\n",
        "c.setMaxPrice(1000)\n",
        "c.sell()"
      ],
      "metadata": {
        "id": "ziWr1MZczmdr",
        "colab": {
          "base_uri": "https://localhost:8080/"
        },
        "outputId": "b2412af0-0068-4208-e227-c2c5d8232b5a"
      },
      "execution_count": null,
      "outputs": [
        {
          "output_type": "stream",
          "name": "stdout",
          "text": [
            "Selling Price: 900\n",
            "Selling Price: 900\n",
            "Selling Price: 1000\n"
          ]
        }
      ]
    },
    {
      "cell_type": "markdown",
      "source": [
        "In the above program, we defined a Computer class.\n",
        "\n",
        "We used __init__() method to store the maximum selling price of Computer. Here, notice the code\n",
        "\n",
        "c.__maxprice = 1000\n",
        "Here, we have tried to modify the value of __maxprice outside of the class. However, since __maxprice is a private variable, this modification is not seen on the output.\n",
        "\n",
        "As shown, to change the value, we have to use a setter function i.e setMaxPrice() which takes price as a parameter."
      ],
      "metadata": {
        "id": "vxTm-tWD1N3X"
      }
    },
    {
      "cell_type": "markdown",
      "source": [
        "Encapsulation in Python describes the concept of bundling data and methods within a single unit. So, for example, when you create a class, it means you are implementing encapsulation. A class is an example of encapsulation as it binds all the data members (instance variables) and methods into a single unit.\n",
        "\n",
        "In this example, we create an Employee class by defining employee attributes such as name and salary as an instance variable and implementing behavior using work() and show() instance methods.\n"
      ],
      "metadata": {
        "id": "8zBQQkma1cdn"
      }
    },
    {
      "cell_type": "markdown",
      "source": [
        "Why do we need Encapsulation in Python?\n",
        "The advantages of Encapsulation in Python can be summed up as follows –\n",
        "\n",
        "1. Encapsulation provides well-defined, readable code\n",
        "The primary advantage of using Encapsulation in Python is that as a user, we do not need to know the architecture of the methods and the data and can just focus on making use of these functional, encapsulated units for our applications. This results in a more organized and clean code. The user experience also improves greatly and makes it easier to understand applications as a whole.\n",
        "\n",
        "2. Prevents Accidental Modification or Deletion\n",
        "Another advantage of encapsulation is that it prevents the accidental modification of the data and methods. Let’s consider the example of NumPy again, if I had access to edit the library, then I might make a mistake in the implementation of the mean function and then because of that mistake, thousands of projects using NumPy would become inaccurate.\n",
        "\n",
        "3. Encapsulation provides security\n",
        "Encapsulation in Python is achieved through the access modifiers. These access modifiers ensure that access conditions are not breached and thus provide a great user experience in terms of security.\n",
        "\n",
        "Access Modifiers in Python encapsulation\n",
        "Sometimes there might be a need to restrict or limit access to certain variables or functions while programming. That is where access modifiers come into the picture.\n",
        "\n",
        "Now when we are talking about access, 3 kinds of access specifiers can be used while performing Encapsulation in Python. They are as follows :\n",
        "\n",
        "Public Members\n",
        "Private Members\n",
        "Protected Members"
      ],
      "metadata": {
        "id": "Ra_Yb3B831fz"
      }
    },
    {
      "cell_type": "code",
      "source": [
        "class Employee:\n",
        "    # constructor\n",
        "    def __init__(self, name, salary, project):\n",
        "        # data members\n",
        "        self.name = name\n",
        "        self.salary = salary\n",
        "        self.project = project\n",
        "\n",
        "    # method\n",
        "    # to display employee's details\n",
        "    def show(self):\n",
        "        # accessing public data member\n",
        "        print(\"Name: \", self.name, 'Salary:', self.salary)\n",
        "\n",
        "    # method\n",
        "    def work(self):\n",
        "        print(self.name, 'is working on', self.project)\n",
        "\n",
        "# creating object of a class\n",
        "emp = Employee('Jessa', 8000, 'NLP')\n",
        "\n",
        "# calling public method of the class\n",
        "emp.show()\n",
        "emp.work()"
      ],
      "metadata": {
        "id": "fBnLerHUzzsF",
        "colab": {
          "base_uri": "https://localhost:8080/"
        },
        "outputId": "56bdb1b1-907a-4aca-8f3a-31045111047c"
      },
      "execution_count": null,
      "outputs": [
        {
          "output_type": "stream",
          "name": "stdout",
          "text": [
            "Name:  Jessa Salary: 8000\n",
            "Jessa is working on NLP\n"
          ]
        }
      ]
    },
    {
      "cell_type": "markdown",
      "source": [
        "Using encapsulation, we can hide an object’s internal representation from the outside. This is called information hiding.\n",
        "\n",
        "Also, encapsulation allows us to restrict accessing variables and methods directly and prevent accidental data modification by creating private data members and methods within a class.\n",
        "\n",
        "Encapsulation is a way to can restrict access to methods and variables from outside of class. Whenever we are working with the class and dealing with sensitive data, providing access to all variables used within the class is not a good choice.\n",
        "\n",
        "For example, Suppose you have an attribute that is not visible from the outside of an object and bundle it with methods that provide read or write access. In that case, you can hide specific information and control access to the object’s internal state. Encapsulation offers a way for us to access the required variable without providing the program full-fledged access to all variables of a class. This mechanism is used to protect the data of an object from other objects."
      ],
      "metadata": {
        "id": "ygfKePVe12i5"
      }
    },
    {
      "cell_type": "markdown",
      "source": [
        "Advantages of Encapsulation\n",
        "Code reusability: Encapsulation in Python allows developers to create reusable code by hiding the implementation details of an object or class and only exposing a public interface for interacting with it.\n",
        "\n",
        "Data hiding: Encapsulation helps to protect the internal state of an object or class from being accessed or modified by external code, which improves the security of the application.\n",
        "\n",
        "Improved maintainability: By encapsulating the implementation details of an object or class, developers can make changes to the internal state or behavior of the object without affecting external code that uses it.\n",
        "\n",
        "Easier to understand: Encapsulation makes the code more organized and easier to understand by clearly separating the public interface from the implementation details.\n",
        "\n",
        "Better control over class properties: Encapsulation allows developers to have better control over the properties and methods of a class, by making some properties private or protected and only allowing them to be accessed by specific methods.\n",
        "\n",
        "Better class design: Encapsulation encourages developers to design classes that are cohesive and have a single responsibility, which makes the code more modular and easier to maintain."
      ],
      "metadata": {
        "id": "hJFfOAQt4CMT"
      }
    },
    {
      "cell_type": "markdown",
      "source": [
        "\n",
        "\n",
        "\n",
        "<a><img src=\"https://static.wixstatic.com/media/187085_fe50743aedaf4123be7af564ad51ce27~mv2.png\" width=\"80%\" height=\"80%\" /></a>\n",
        "\n",
        "\n",
        "\n"
      ],
      "metadata": {
        "id": "xjngK1U5z9Am"
      }
    },
    {
      "cell_type": "markdown",
      "source": [
        "Polymorphism is another important concept of object-oriented programming. It simply means more than one form.\n",
        "\n",
        "That is, the same entity (method or operator or object) can perform different operations in different scenarios.\n",
        "\n",
        "Polymorphism refers to a function having the same name but being used in different ways and different scenarios. This makes programming easier and more intuitive."
      ],
      "metadata": {
        "id": "Rx4mkPT92Bot"
      }
    },
    {
      "cell_type": "code",
      "source": [
        "class Polygon:\n",
        "    # method to render a shape\n",
        "    def render(self):\n",
        "        print(\"Rendering Polygon...\")\n",
        "\n",
        "class Square(Polygon):\n",
        "    # renders Square\n",
        "    def render(self):\n",
        "        print(\"Rendering Square...\")\n",
        "\n",
        "class Circle(Polygon):\n",
        "    # renders circle\n",
        "    def render(self):\n",
        "        print(\"Rendering Circle...\")\n",
        "\n",
        "# create an object of Square\n",
        "s1 = Square()\n",
        "s1.render()\n",
        "\n",
        "# create an object of Circle\n",
        "c1 = Circle()\n",
        "c1.render()"
      ],
      "metadata": {
        "colab": {
          "base_uri": "https://localhost:8080/"
        },
        "id": "olOAuw6Sz4Tm",
        "outputId": "a708d85c-c9f2-4faa-ac20-783bd4b58533"
      },
      "execution_count": null,
      "outputs": [
        {
          "output_type": "stream",
          "name": "stdout",
          "text": [
            "11.11111111111111\n"
          ]
        }
      ]
    },
    {
      "cell_type": "markdown",
      "source": [
        "In the above example, we have created a superclass: Polygon and two subclasses: Square and Circle. Notice the use of the render() method.\n",
        "\n",
        "The main purpose of the render() method is to render the shape. However, the process of rendering a square is different from the process of rendering a circle.\n",
        "\n",
        "Hence, the render() method behaves differently in different classes. Or, we can say render() is polymorphic."
      ],
      "metadata": {
        "id": "wNWzk2Cx2IM0"
      }
    },
    {
      "cell_type": "markdown",
      "source": [
        "Polymorphism in Python is the ability of an object to take many forms. In simple words, polymorphism allows us to perform the same action in many different ways.\n",
        "\n",
        "For example, Jessa acts as an employee when she is at the office. However, when she is at home, she acts like a wife. Also, she represents herself differently in different places. Therefore, the same person takes different forms as per the situation.\n",
        "\n",
        "person takes different forms\n",
        "A person takes different forms\n",
        "In polymorphism, a method can process objects differently depending on the class type or data type. Let’s see simple examples to understand it better."
      ],
      "metadata": {
        "id": "F2_Xci9v2K4W"
      }
    },
    {
      "cell_type": "markdown",
      "source": [
        "\n",
        "\n",
        "\n",
        "\n",
        "<a><img src=\"https://static.wixstatic.com/media/187085_688b340816ae4225b7e9b3d93b7a56ec~mv2.png\" width=\"80%\" height=\"80%\" /></a>\n",
        "\n",
        "\n",
        "\n"
      ],
      "metadata": {
        "id": "VUq2_oFe0Mfb"
      }
    },
    {
      "cell_type": "code",
      "source": [
        "class Geeks1:\n",
        "  def code (self, ide):\n",
        "    ide.execute()\n",
        "\n",
        "class Geeks2:\n",
        "  def execute (self):\n",
        "    print(\"GeeksForGeeks is the best Platform for learning\")\n",
        "\n",
        "# create object of Geeks2\n",
        "ide = Geeks2()\n",
        "\n",
        "# create object of class Geeks1\n",
        "G1 = Geeks1()\n",
        "\n",
        "# calling the function by giving ide as the argument.\n",
        "G1.code(ide)"
      ],
      "metadata": {
        "colab": {
          "base_uri": "https://localhost:8080/"
        },
        "id": "IS1yY4wQ0QmA",
        "outputId": "15e90c0f-1ef8-4f2a-bec5-1685083e056e"
      },
      "execution_count": null,
      "outputs": [
        {
          "output_type": "stream",
          "name": "stdout",
          "text": [
            "GeeksForGeeks is the best Platform for learning\n"
          ]
        }
      ]
    },
    {
      "cell_type": "code",
      "source": [
        "class GFG:\n",
        "    def sum(self, a = None, b = None, c = None):\n",
        "        s = 0\n",
        "        if a != None and b != None and c != None:\n",
        "            s = a + b + c\n",
        "        elif a != None and b != None:\n",
        "            s = a + b\n",
        "        else:\n",
        "            s = a\n",
        "        return s\n",
        "\n",
        "s = GFG()\n",
        "\n",
        "# sum of 1 integer\n",
        "print(s.sum(1))\n",
        "\n",
        "# sum of 2 integers\n",
        "print(s.sum(3, 5))\n",
        "\n",
        "# sum of 3 integers\n",
        "print(s.sum(1, 2, 3))"
      ],
      "metadata": {
        "colab": {
          "base_uri": "https://localhost:8080/"
        },
        "id": "oanS8Yfp0XF8",
        "outputId": "40fa332f-67fb-4c2f-845c-0b1f67d1f337"
      },
      "execution_count": 2,
      "outputs": [
        {
          "output_type": "stream",
          "name": "stdout",
          "text": [
            "1\n",
            "8\n",
            "6\n"
          ]
        }
      ]
    },
    {
      "cell_type": "code",
      "source": [
        "\n",
        "class Student:\n",
        "\n",
        "    # defining init method for class\n",
        "    def __init__(self, m1, m2):\n",
        "        self.m1 = m1\n",
        "        self.m2 = m2\n",
        "\n",
        "    # overloading the + operator\n",
        "    def __add__(self, other):\n",
        "        m1 = self.m1 + other.m1\n",
        "        m2 = self.m2 + other.m2\n",
        "        s3 = Student(m1, m2)\n",
        "        return s3\n",
        "\n",
        "s1 = Student(58, 59)\n",
        "s2 = Student(60, 65)\n",
        "s3 = s1 + s2\n",
        "print(s3.m1)"
      ],
      "metadata": {
        "colab": {
          "base_uri": "https://localhost:8080/"
        },
        "id": "0holg8_U7vZ9",
        "outputId": "40ca989c-23bf-4298-ba60-5cff594c8e42"
      },
      "execution_count": null,
      "outputs": [
        {
          "output_type": "stream",
          "name": "stdout",
          "text": [
            "118\n"
          ]
        }
      ]
    },
    {
      "cell_type": "code",
      "source": [
        "# parent class\n",
        "class Programming:\n",
        "\n",
        "    # properties\n",
        "    DataStructures = True\n",
        "    Algorithms = True\n",
        "\n",
        "    # function practice\n",
        "    def practice(self):\n",
        "        print(\"Practice makes a man perfect\")\n",
        "\n",
        "    # function consistency\n",
        "    def consistency(self):\n",
        "        print(\"Hard work along with consistency can defeat Talent\")\n",
        "\n",
        "# child class\n",
        "class Python(Programming):\n",
        "\n",
        "    # function\n",
        "    def consistency(self):\n",
        "        print(\"Hard work along with consistency can defeat Talent.\")\n",
        "\n",
        "Py = Python()\n",
        "Py.consistency()\n",
        "Py.practice()"
      ],
      "metadata": {
        "colab": {
          "base_uri": "https://localhost:8080/"
        },
        "id": "RzBhtAli7zEY",
        "outputId": "b6ae63e7-a8d9-427e-8451-85a5cb47e780"
      },
      "execution_count": null,
      "outputs": [
        {
          "output_type": "stream",
          "name": "stdout",
          "text": [
            "Hard work along with consistency can defeat Talent.\n",
            "Practice makes a man perfect\n"
          ]
        }
      ]
    },
    {
      "cell_type": "markdown",
      "source": [
        "\n",
        "\n",
        "\n",
        "\n",
        "<a><img src=\"https://static.wixstatic.com/media/187085_b7da340e48664cf18578086e42540e95~mv2.png\" width=\"80%\" height=\"80%\" /></a>\n",
        "\n",
        "\n",
        "\n"
      ],
      "metadata": {
        "id": "oee4RkJ-0cBh"
      }
    },
    {
      "cell_type": "markdown",
      "source": [
        "Abstraction is really powerful for making complex tasks and codes simpler when used in Object-Oriented Programming. It reduces the complexity for the user by making the relevant part accessible and usable leaving the unnecessary code hidden. Also, there are times when we do not want to give out sensitive parts of our code implementation and this is where data abstraction can also prove to be very functional.\n",
        "\n",
        "From a programmer’s perspective, if we think about data abstraction, there is more to it than just hiding unnecessary information. One other way to think of abstraction is as synonymous with generalization. If, for instance, you wanted to create a program to multiply eight times seven, you wouldn't build an application to only multiply those two numbers.\n",
        "\n",
        "Abstract Class: The classes that cannot be instantiated. This means that we cannot create objects of an abstract class and these are only meant to be inherited. Then an object of the derived class is used to access the features of the base class. These are specifically defined to lay a foundation of other classes that exhibit common behavior or characteristics.\n",
        "\n",
        "The abstract class is an interface. Interfaces in OOP enable a class to inherit data and functions from a base class by extending it. In Python, we use the NotImplementedError to restrict the instantiation of a class. Any class having this error inside method definitions cannot be instantiated.\n",
        "\n",
        "We can understand that an abstract class just serves as a template for other classes by defining a list of methods that the classes must implement. To use such a class, we must derive them keeping in mind that we would either be using or overriding the features specified in that class."
      ],
      "metadata": {
        "id": "OuGPxbF_4gwo"
      }
    },
    {
      "cell_type": "markdown",
      "source": [
        "Abstraction is the process of hiding the internal details of an application from the outer world. Abstraction is used to describe things in simple terms. It’s used to create a boundary between the application and the client programs.\n",
        "\n",
        "Abstraction is similar to data encapsulation and very important in OOP. It shows only the necessary information and hides the other irrelevant information. Abstraction is implemented using Abstraction classes and interfaces . The problems in Abstraction are solved at design or interface level.\n",
        "\n",
        "Objects are the building blocks of Object-Oriented Programming. An object contains some properties and methods. We can hide them from the outer world through access modifiers. We can provide access only for required functions and properties to the other programs. This is the general procedure to implement abstraction in OOPS."
      ],
      "metadata": {
        "id": "NwtvT4BR5Xgv"
      }
    },
    {
      "cell_type": "markdown",
      "source": [
        "Data abstraction\n",
        "When the object data is not visible to the outer world, it creates data abstraction. If needed, access to the Objects’ data is provided through some methods.\n",
        "\n",
        "\n",
        "###Data abstraction\n",
        "is a technique for creating complicated data types and exposing only the actions that are necessary to interact with the data type, while keeping the implementation details hidden from outside activities.\n",
        "\n",
        "The benefit of this approach involves capability of improving the implementation over time e.g. solving performance issues is any. The idea is that such changes are not supposed to have any impact on client code since they involve no difference in the abstract behavior.\n",
        "\n",
        "###Process Abstraction\n",
        "We don't have to offer information about all of an object's functions. Process abstraction is achieved by hiding the internal implementation of the many functions involved in a user operation.\n",
        "\n",
        "\n",
        "A piece of software is essentially a set of statements written in any programming language. The majority of the time, statements are similar and are repeated in several locations.\n",
        "\n",
        "\n",
        "\n",
        "\n",
        "The process of finding all such assertions and exposing them as a unit of work is known as process abstraction. When we build a function to execute any task, we usually use this feature."
      ],
      "metadata": {
        "id": "xDmLLhPg5fha"
      }
    },
    {
      "cell_type": "code",
      "source": [
        "print('{0:<8} | {1:^8} | {2:>8}'.format('Left','Center','Right'))\n",
        "print('{0:<8} | {1:^8} | {2:>8}'.format(11,22,33))"
      ],
      "metadata": {
        "colab": {
          "base_uri": "https://localhost:8080/"
        },
        "id": "UGclkQRH0e9B",
        "outputId": "c1bae443-bb32-4e98-fa0f-f7304102f211"
      },
      "execution_count": null,
      "outputs": [
        {
          "output_type": "stream",
          "name": "stdout",
          "text": [
            "Left     |  Center  |    Right\n",
            "11       |    22    |       33\n"
          ]
        }
      ]
    },
    {
      "cell_type": "code",
      "source": [
        "print('{0:=<8} | {1:-^8} | {2:.>8}'.format('Left','Center','Right'))\n",
        "print('{0:=<8} | {1:-^8} | {2:.>8}'.format(11,22,33))"
      ],
      "metadata": {
        "colab": {
          "base_uri": "https://localhost:8080/"
        },
        "id": "pmtOrReU0iqm",
        "outputId": "f5125621-bc21-48c9-8bc3-be55a1909512"
      },
      "execution_count": null,
      "outputs": [
        {
          "output_type": "stream",
          "name": "stdout",
          "text": [
            "Left==== | -Center- | ...Right\n",
            "11====== | ---22--- | ......33\n"
          ]
        }
      ]
    },
    {
      "cell_type": "markdown",
      "source": [
        "### Logical Operators\n",
        "Logical operators are used to join two or more conditions.\n",
        "\n",
        "Python Logical operators\n",
        "\n",
        "| Oerator | Meaning | Example | Equivatent to |\n",
        "| :--- | :---: | :--- | :--- |\n",
        "|and\t|Returns True if both statements are true|\tx > 0 and y < 0\n",
        "|or\t|Returns True if one of the statements is true|\tx > 0 or y < 0\n",
        "|not|\tReverse the result, returns False if the result is true|\tnot(x > 0 and y < 0)\n"
      ],
      "metadata": {
        "id": "770Y3PTNsJ4s"
      }
    },
    {
      "cell_type": "markdown",
      "source": [
        "Continue in while Loop\n",
        "The continue statement skips the current iteration of a loop and continues with the next iteration."
      ],
      "metadata": {
        "id": "H3DoFVkJL2Ny"
      }
    },
    {
      "cell_type": "markdown",
      "source": [
        "# ***Note: References***\n",
        "\n",
        "* https://pyformat.info/\n",
        "* https://pynative.com/\n",
        "* https://docs.python.org/3/\n",
        "* https://www.educba.com/\n",
        "* https://www.learnbyexample.org/\n",
        "* https://www.programiz.com/\n",
        "* http://www.btechsmartclass.com/python/Python_Tutorial_Python_Inheritance.html\n",
        "* http://www.btechsmartclass.com/python/Python_Tutorial_Python_Inheritance.html\n",
        "* https://pynative.com/python-inheritance/\n",
        "* https://www.programiz.com/python-programming/object-oriented-programming\n",
        "* https://realpython.com/python3-object-oriented-programming/#class-and-instance-attributes"
      ],
      "metadata": {
        "id": "_I-Zg8ixNOlf"
      }
    }
  ]
}