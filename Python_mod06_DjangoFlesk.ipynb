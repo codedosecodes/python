{
  "cells": [
    {
      "cell_type": "markdown",
      "metadata": {
        "id": "view-in-github",
        "colab_type": "text"
      },
      "source": [
        "<a href=\"https://colab.research.google.com/github/codedosecodes/python/blob/main/Python_mod06_DjangoFlesk.ipynb\" target=\"_parent\"><img src=\"https://colab.research.google.com/assets/colab-badge.svg\" alt=\"Open In Colab\"/></a>"
      ]
    },
    {
      "cell_type": "markdown",
      "metadata": {
        "id": "_RYGNKndk6Oq"
      },
      "source": [
        "\n",
        "<img src=\"https://static.wixstatic.com/media/187085_663a141abb41479db38c836ad13ba2b8~mv2.png\" alt=\"\" width=\"200px\" align=\"right\"/>\n",
        "\n",
        "# **Web Development**\n",
        "\n",
        "# Learn the Basics\n",
        "\n",
        "\n",
        "Authors:\n",
        "[Gabriel Mauricio Cortés](https://github.com/codedosecodes/),"
      ]
    },
    {
      "cell_type": "markdown",
      "metadata": {
        "id": "5VTeKPVtkuhs"
      },
      "source": [
        "<style>\n",
        ".alert2 {\n",
        "  padding: 20px;\n",
        "  background-color: #f44336;\n",
        "  color: white;\n",
        "  margin-bottom: 15px;\n",
        "}\n",
        ".alert {\n",
        "  border-radius: 10px;\n",
        "  background-color: #bbb;\n",
        "  border: 2px solid #999;\n",
        "  margin-top: 20px;\n",
        "  margin-bottom: 20px;\n",
        "  padding-left: 5px;\n",
        "  padding-top: 10px;\n",
        "  padding-bottom: 10px;\n",
        "  font-family: 'Arial', sans-serif;\n",
        "}\n",
        "\n",
        ".alert > h3 {\n",
        "  display: block;\n",
        "  font-size: 30px;\n",
        "  margin-top: 5px;\n",
        "  margin-bottom: 15px;\n",
        "}\n",
        "\n",
        ".alert-info {\n",
        "  background-color: #1af !important;\n",
        "  border: 2px solid #04a !important;\n",
        "}\n",
        "div.warn {    \n",
        "    background-color: #fcf2f2;\n",
        "    border-color: #dFb5b4;\n",
        "    border-left: 5px solid #dfb5b4;\n",
        "    padding: 0.5em;\n",
        "    }\n",
        "</style>\n",
        "\n",
        "\n",
        "<table class=\"table table-bordered\" style=\"border-color:green;\" align=\"left\">\n",
        "  <td>\n",
        "    <a target=\"_blank\" href=\"https://www.codedose.codes/\"><img src=\"https://static.wixstatic.com/media/187085_663a141abb41479db38c836ad13ba2b8~mv2.png\" width=\"32\" height=\"32\" />View Codedose</a>\n",
        "  </td>\n",
        "  <td>\n",
        "    <a target=\"_blank\" href=\"https://colab.research.google.com/drive/1x5b8mS_pGu1mUFFyvstva2UnWoHE7hO-#scrollTo=L9Wx68gsEcNQ\"><img src=\"https://static.wixstatic.com/media/187085_adc0ad8b754748b5b46b2ce17d6c48fb~mv2.png\" width=\"32\" height=\"32\" />Run in Google Colab</a>\n",
        "  </td>\n",
        "  <td>\n",
        "    <a target=\"_blank\" href=\"https://github.com/codedosecodes/python\"><img src=\"https://static.wixstatic.com/media/187085_a8a39d79788e40ec8c2a70d4f42ec0ec~mv2.png\" width=\"32\" height=\"32\" />View code in GitHub</a>\n",
        "  </td>\n",
        "  <td>\n",
        "    <a href=\"https://drive.google.com/file/d/1I4LgcE4WRxhLkU8_jLh7-0QEtm_4yF_D/view?usp=sharing\"><img src=\"https://static.wixstatic.com/media/187085_dbe5b3fa6ced40fb83d52e0f38da647e~mv2.png\" width=\"32\" height=\"32\" />Download notebook</a>\n",
        "  </td>\n",
        "        <td>\n",
        "    <a target=\"_blank\" href=\"https://nbviewer.org/github/codedosecodes/python/blob/main/Python_mod06_DjangoFlesk.ipynb\"><img src=\"https://static.wixstatic.com/media/187085_f270d64e2bdf462c9e26477d53a86602~mv2.png\" width=\"32\" height=\"32\" />Jupyter Notebook</a>\n",
        "  </td>\n",
        "    <td>\n",
        "    <a target=\"_blank\" href=\"https://colab.research.google.com/drive/1x5b8mS_pGu1mUFFyvstva2UnWoHE7hO-#scrollTo=L9Wx68gsEcNQ\"><img src=\"https://static.wixstatic.com/media/187085_27f04669f65449f39f6b40b6a5945496~mv2.png\" width=\"32\" height=\"32\" />View Video</a>\n",
        "  </td>\n",
        "</table>\n",
        "\n"
      ]
    },
    {
      "cell_type": "markdown",
      "metadata": {
        "id": "L9Wx68gsEcNQ"
      },
      "source": [
        "\n",
        "\n",
        "<a ><img src=\"https://static.wixstatic.com/media/187085_cbb7ba6817f24ee5b35bd4b8bac14115~mv2.png\" width=\"100%\" height=\"100%\" /></a>\n",
        "\n",
        "\n"
      ]
    },
    {
      "cell_type": "markdown",
      "metadata": {
        "id": "XbU_yOY-hgQN"
      },
      "source": [
        "Web Development: The basics of web programming with Python, including the use of frameworks such as Flask or Django, are covered.\n",
        "\n",
        "\n",
        "## Objetives\n",
        "### know and drive\n",
        "1. Flask\n",
        "2. Django\n",
        "\n"
      ]
    },
    {
      "cell_type": "markdown",
      "metadata": {
        "id": "8yVdUDBbkTF-"
      },
      "source": [
        "# What is Flask?\n",
        "\n",
        "Flask is a micro web framework written in Python. It's classified as a microframework because it doesn't require specific tools or libraries. Unlike some other frameworks, Flask doesn't have a database abstraction layer, form validation, or other components. Instead, it relies on pre-existing third-party libraries for these functions. However, Flask does support extensions that can add application features as if they were native to Flask. These extensions can provide functionalities like object-relational mapping, form validation, upload handling, various open authentication technologies, and more.\n",
        "\n",
        "Flask is a web framework that allows developers to build lightweight web applications quickly and easily with Flask Libraries. It was developed by Armin Ronacher, leader of the International Group of Python Enthusiasts(POCCO). It is basically based on the WSGI toolkit and Jinja2 templating engine.\n",
        "\n",
        "Flask is a lightweight Python framework for web applications that provides the basics for URL routing and page rendering.\n",
        "\n",
        "Flask is called a \"micro\" framework because it doesn't directly provide features like form validation, database abstraction, authentication, and so on. Such features are instead provided by special Python packages called Flask extensions. The extensions integrate seamlessly with Flask so that they appear as if they were part of Flask itself. For example, Flask doesn't provide a page template engine, but installing Flask includes the Jinja templating engine by default. For convenience, we typically speak of these defaults as part of Flask."
      ]
    },
    {
      "cell_type": "code",
      "source": [
        "!pip install flask\n"
      ],
      "metadata": {
        "colab": {
          "base_uri": "https://localhost:8080/"
        },
        "id": "uI2hOsqw3FXo",
        "outputId": "b70e3c3b-c53f-4f96-c867-970232e3a576"
      },
      "execution_count": 7,
      "outputs": [
        {
          "output_type": "stream",
          "name": "stdout",
          "text": [
            "Requirement already satisfied: flask in ./python3.10/dist-packages (2.2.5)\n",
            "Requirement already satisfied: Werkzeug>=2.2.2 in ./python3.10/dist-packages (from flask) (3.0.1)\n",
            "Requirement already satisfied: Jinja2>=3.0 in ./python3.10/dist-packages (from flask) (3.1.2)\n",
            "Requirement already satisfied: itsdangerous>=2.0 in ./python3.10/dist-packages (from flask) (2.1.2)\n",
            "Requirement already satisfied: click>=8.0 in ./python3.10/dist-packages (from flask) (8.1.7)\n",
            "Requirement already satisfied: MarkupSafe>=2.0 in ./python3.10/dist-packages (from Jinja2>=3.0->flask) (2.1.3)\n"
          ]
        }
      ]
    },
    {
      "cell_type": "markdown",
      "source": [
        "## Here are some key features of Flask:\n",
        "\n",
        "* Simplicity and Flexibility: Flask gives you the tools to build a web application but doesn't impose a specific structure. This means you have the freedom to organize your application however you want, but it also means you have to make more decisions about how to do so.\n",
        "\n",
        "* Instance-based Development: Flask uses an application instance to handle requests and responses.\n",
        "\n",
        "* URL Routing: Flask provides a very easy way to define routes. Routes are associations between URLs and Python functions.\n",
        "\n",
        "* Integration with Jinja2: Flask is integrated with the Jinja2 templating engine, making it easy to create dynamic web pages with Python.\n",
        "\n",
        "* Development and Debugging: Flask provides a development server that auto-reloads and an in-built debugger.\n",
        "\n",
        "* Extensible: While Flask is minimalist by default, it can be extended with \"extensions\" that can add functionalities like database integration, user authentication, and more.\n",
        "\n",
        "* Support for Secure Cookies: Flask can store user information using secure cookies.\n",
        "\n",
        "* Documentation: Flask has extensive documentation and an active community, making it easy to learn and troubleshoot.#"
      ],
      "metadata": {
        "id": "wpY6Dobnydpf"
      }
    },
    {
      "cell_type": "markdown",
      "source": [
        "# ngrok\n",
        "ngrok is a tool that allows you to expose local servers to the public internet through secure tunnels. It's especially useful for developers who want to showcase demos, share in-progress developments, or test functionalities in local environments with external tools and services.\n",
        "\n",
        "## Here are some key features and uses of ngrok:\n",
        "\n",
        "* Secure Tunnels: ngrok creates a secure tunnel from the public internet (ngrok.io) to a local machine. This is useful if you're running a web server, an API, or any other type of service on your local machine and you want it to be publicly accessible.\n",
        "\n",
        "* Development and Testing: If you're developing a web application and need to test integrations with external services (like webhooks), ngrok allows you to do so without deploying your application to a remote server.\n",
        "\n",
        "* Live Demos: If you want to showcase a demo of your in-development application to a client or colleague without deploying it, you can use ngrok to provide a temporary public link.\n",
        "\n",
        "* Integration with Development Tools: ngrok provides an API that allows it to be integrated with development tools and workflows.\n",
        "\n",
        "* Web Interface: Once ngrok is running, you can access a web interface on your local machine that shows traffic details, requests, and responses, which is useful for debugging.\n",
        "\n",
        "* Support for Multiple Protocols: While commonly used for HTTP and HTTPS, ngrok also supports tunnels for other protocols like TCP.\n",
        "\n",
        "To use ngrok, you first need to download and run it on your local machine. Once it's running, it provides a subdomain of ngrok.io that routes traffic to your local machine.\n",
        "\n",
        "It's important to note that while ngrok is free for basic use, it also offers paid plans that provide additional features, such as custom domains, authentication, and more simultaneous connections."
      ],
      "metadata": {
        "id": "tzuB2w7szLgx"
      }
    },
    {
      "cell_type": "code",
      "source": [
        "!pip install flask-ngrok"
      ],
      "metadata": {
        "colab": {
          "base_uri": "https://localhost:8080/"
        },
        "id": "RINsHx6M29Gi",
        "outputId": "74a4fde6-cbbe-4cad-c7bd-56fea9ad5e2e"
      },
      "execution_count": 6,
      "outputs": [
        {
          "output_type": "stream",
          "name": "stdout",
          "text": [
            "Collecting flask-ngrok\n",
            "  Downloading flask_ngrok-0.0.25-py3-none-any.whl (3.1 kB)\n",
            "Requirement already satisfied: Flask>=0.8 in ./python3.10/dist-packages (from flask-ngrok) (2.2.5)\n",
            "Requirement already satisfied: requests in ./python3.10/dist-packages (from flask-ngrok) (2.31.0)\n",
            "Requirement already satisfied: Werkzeug>=2.2.2 in ./python3.10/dist-packages (from Flask>=0.8->flask-ngrok) (3.0.1)\n",
            "Requirement already satisfied: Jinja2>=3.0 in ./python3.10/dist-packages (from Flask>=0.8->flask-ngrok) (3.1.2)\n",
            "Requirement already satisfied: itsdangerous>=2.0 in ./python3.10/dist-packages (from Flask>=0.8->flask-ngrok) (2.1.2)\n",
            "Requirement already satisfied: click>=8.0 in ./python3.10/dist-packages (from Flask>=0.8->flask-ngrok) (8.1.7)\n",
            "Requirement already satisfied: charset-normalizer<4,>=2 in ./python3.10/dist-packages (from requests->flask-ngrok) (3.3.1)\n",
            "Requirement already satisfied: idna<4,>=2.5 in ./python3.10/dist-packages (from requests->flask-ngrok) (3.4)\n",
            "Requirement already satisfied: urllib3<3,>=1.21.1 in ./python3.10/dist-packages (from requests->flask-ngrok) (2.0.7)\n",
            "Requirement already satisfied: certifi>=2017.4.17 in ./python3.10/dist-packages (from requests->flask-ngrok) (2023.7.22)\n",
            "Requirement already satisfied: MarkupSafe>=2.0 in ./python3.10/dist-packages (from Jinja2>=3.0->Flask>=0.8->flask-ngrok) (2.1.3)\n",
            "Installing collected packages: flask-ngrok\n",
            "Successfully installed flask-ngrok-0.0.25\n"
          ]
        }
      ]
    },
    {
      "cell_type": "code",
      "source": [
        "!pip install pyngrok"
      ],
      "metadata": {
        "colab": {
          "base_uri": "https://localhost:8080/"
        },
        "id": "pjHIEPKJ1ypI",
        "outputId": "8fac195d-dd28-4758-b988-97b7ab6b724c"
      },
      "execution_count": 1,
      "outputs": [
        {
          "output_type": "stream",
          "name": "stdout",
          "text": [
            "Collecting pyngrok\n",
            "  Downloading pyngrok-7.0.0.tar.gz (718 kB)\n",
            "\u001b[?25l     \u001b[90m━━━━━━━━━━━━━━━━━━━━━━━━━━━━━━━━━━━━━━━━\u001b[0m \u001b[32m0.0/718.7 kB\u001b[0m \u001b[31m?\u001b[0m eta \u001b[36m-:--:--\u001b[0m\r\u001b[2K     \u001b[91m━━━━━━\u001b[0m\u001b[90m╺\u001b[0m\u001b[90m━━━━━━━━━━━━━━━━━━━━━━━━━━━━━━━━━\u001b[0m \u001b[32m112.6/718.7 kB\u001b[0m \u001b[31m3.1 MB/s\u001b[0m eta \u001b[36m0:00:01\u001b[0m\r\u001b[2K     \u001b[91m━━━━━━━━━━━━━━━━━━━━━━━━━━━━━━━━━━━━━━━\u001b[0m\u001b[91m╸\u001b[0m \u001b[32m716.8/718.7 kB\u001b[0m \u001b[31m10.8 MB/s\u001b[0m eta \u001b[36m0:00:01\u001b[0m\r\u001b[2K     \u001b[90m━━━━━━━━━━━━━━━━━━━━━━━━━━━━━━━━━━━━━━━━\u001b[0m \u001b[32m718.7/718.7 kB\u001b[0m \u001b[31m9.6 MB/s\u001b[0m eta \u001b[36m0:00:00\u001b[0m\n",
            "\u001b[?25h  Preparing metadata (setup.py) ... \u001b[?25l\u001b[?25hdone\n",
            "Requirement already satisfied: PyYAML in /usr/local/lib/python3.10/dist-packages (from pyngrok) (6.0.1)\n",
            "Building wheels for collected packages: pyngrok\n",
            "  Building wheel for pyngrok (setup.py) ... \u001b[?25l\u001b[?25hdone\n",
            "  Created wheel for pyngrok: filename=pyngrok-7.0.0-py3-none-any.whl size=21129 sha256=4cab5c50a956d7565d4cf029b317d1f7e75bfdf4dec82654b3fa01fac9845756\n",
            "  Stored in directory: /root/.cache/pip/wheels/60/29/7b/f64332aa7e5e88fbd56d4002185ae22dcdc83b35b3d1c2cbf5\n",
            "Successfully built pyngrok\n",
            "Installing collected packages: pyngrok\n",
            "Successfully installed pyngrok-7.0.0\n"
          ]
        }
      ]
    },
    {
      "cell_type": "code",
      "source": [
        "# !pwd\n",
        "# !cd ..\n",
        "# !ls\n",
        "import os\n",
        "os.chdir('/usr/local/lib')\n",
        "!ngrok authtoken  2X8FqlyzQVhtGr5SKuG3P6IyVIZ_7dDCoGtWfCNyU1NH9vDk9\n",
        "# 2XRzz0ZuGbKdChunZSwX2ZtR8nA_3vcSvLpKCGEqoBDYyBW1t\n"
      ],
      "metadata": {
        "colab": {
          "base_uri": "https://localhost:8080/"
        },
        "id": "8niAOXIM4f3x",
        "outputId": "8201af79-0d50-4d21-ee84-7ee857d490f2"
      },
      "execution_count": 2,
      "outputs": [
        {
          "output_type": "stream",
          "name": "stdout",
          "text": [
            "Authtoken saved to configuration file: /root/.ngrok2/ngrok.yml\n"
          ]
        }
      ]
    },
    {
      "cell_type": "markdown",
      "source": [
        "The command !pip install flask-ngrok installs the flask-ngrok package in the current environment.\n",
        "\n",
        "flask-ngrok is an extension for Flask that allows you to easily expose a Flask application running in a local environment through a secure tunnel provided by ngrok. It's especially useful in environments like Google Colab, where it's not straightforward to access the Flask server from the outside due to network restrictions.\n",
        "\n",
        "By using flask-ngrok, you don't need to manually install and set up ngrok. The extension takes care of starting ngrok and exposing your Flask application automatically."
      ],
      "metadata": {
        "id": "tc9CZFiez77z"
      }
    },
    {
      "cell_type": "code",
      "source": [
        "from flask import Flask\n",
        "from flask_ngrok import run_with_ngrok\n",
        "from pyngrok import ngrok\n",
        "\n",
        "\n",
        "app = Flask(__name__)\n",
        "run_with_ngrok(app)  # Initialize ngrok when the app is run\n",
        "\n",
        "@app.route('/')\n",
        "\n",
        "def home():\n",
        "    return \"<h1>This is the HOME platform to learn</h1>\"\n",
        "\n",
        "if __name__ == '__main__':\n",
        "    app.run()\n",
        "\n"
      ],
      "metadata": {
        "colab": {
          "base_uri": "https://localhost:8080/"
        },
        "id": "xGFZZyl20aF9",
        "outputId": "39b56fb5-4659-4b1e-8934-8aa058d49012"
      },
      "execution_count": 15,
      "outputs": [
        {
          "output_type": "stream",
          "name": "stdout",
          "text": [
            " * Serving Flask app '__main__'\n",
            " * Debug mode: off\n"
          ]
        },
        {
          "output_type": "stream",
          "name": "stderr",
          "text": [
            "INFO:werkzeug:\u001b[31m\u001b[1mWARNING: This is a development server. Do not use it in a production deployment. Use a production WSGI server instead.\u001b[0m\n",
            " * Running on http://127.0.0.1:5000\n",
            "INFO:werkzeug:\u001b[33mPress CTRL+C to quit\u001b[0m\n"
          ]
        },
        {
          "output_type": "stream",
          "name": "stdout",
          "text": [
            " * Running on http://4e04-34-106-202-98.ngrok-free.app\n",
            " * Traffic stats available on http://127.0.0.1:4040\n"
          ]
        },
        {
          "output_type": "stream",
          "name": "stderr",
          "text": [
            "INFO:werkzeug:127.0.0.1 - - [29/Oct/2023 23:56:05] \"GET / HTTP/1.1\" 200 -\n",
            "INFO:werkzeug:127.0.0.1 - - [29/Oct/2023 23:56:05] \"\u001b[33mGET /favicon.ico HTTP/1.1\u001b[0m\" 404 -\n",
            "INFO:werkzeug:127.0.0.1 - - [29/Oct/2023 23:56:10] \"GET /hello HTTP/1.1\" 200 -\n"
          ]
        }
      ]
    },
    {
      "cell_type": "markdown",
      "source": [
        "## CREATE ROUTES :\n",
        "\n",
        "In the first line we create the decorator corresponding to the routes to indicate that it is a \"ROUTE\" of the \"app\" object that inherits from FLASK. We do this by adding \"@app.route()\" and providing as an argument the home url that corresponds to a SLASH (\"/\"), to indicate that it is the home page. And by the way, we must always pass it as String, that is, between quotes.\n",
        "Second line.. Within the route (decorator) we create the function that will decorate this route ('/') and it must necessarily have a return !\n",
        "Third line within the function we create the return, that is, what the function will return when executed. And it will be executed when the client loads the url ('/')\n",
        "I hope I have been clear, after this I only have to point out two important things:\n",
        "\n",
        "For each new URL we will have to create a new function, therefore we will have to decorate each function for each URL. So we will have several decorators of the type @app.route('url') with different functions inside for each \"url\" or section of our website or web application."
      ],
      "metadata": {
        "id": "WcGSUB-d31HY"
      }
    },
    {
      "cell_type": "code",
      "source": [
        "from flask import Flask\n",
        "from flask_ngrok import run_with_ngrok\n",
        "from pyngrok import ngrok\n",
        "\n",
        "\n",
        "app = Flask(__name__)\n",
        "run_with_ngrok(app)  # Initialize ngrok when the app is run\n",
        "\n",
        "@app.route('/')\n",
        "\n",
        "def home():\n",
        "    return \"<h1>This is the HOME platform to learn</h1>\"\n",
        "\n",
        "@app.route('/hello')\n",
        "def hello():\n",
        "    return \"Hello, Flask on Google Colab!\"\n",
        "\n",
        "\n",
        "\n",
        "\n",
        "if __name__ == '__main__':\n",
        "    app.run()\n",
        "\n",
        "\n"
      ],
      "metadata": {
        "colab": {
          "base_uri": "https://localhost:8080/"
        },
        "id": "r4pCpFlp0ScH",
        "outputId": "023f3591-8da8-4dd5-e317-df214dd1c70b"
      },
      "execution_count": 11,
      "outputs": [
        {
          "output_type": "stream",
          "name": "stdout",
          "text": [
            " * Serving Flask app '__main__'\n",
            " * Debug mode: off\n"
          ]
        },
        {
          "output_type": "stream",
          "name": "stderr",
          "text": [
            "INFO:werkzeug:\u001b[31m\u001b[1mWARNING: This is a development server. Do not use it in a production deployment. Use a production WSGI server instead.\u001b[0m\n",
            " * Running on http://127.0.0.1:5000\n",
            "INFO:werkzeug:\u001b[33mPress CTRL+C to quit\u001b[0m\n"
          ]
        },
        {
          "output_type": "stream",
          "name": "stdout",
          "text": [
            " * Running on http://a988-34-106-202-98.ngrok-free.app\n",
            " * Traffic stats available on http://127.0.0.1:4040\n"
          ]
        },
        {
          "output_type": "stream",
          "name": "stderr",
          "text": [
            "INFO:werkzeug:127.0.0.1 - - [29/Oct/2023 23:43:27] \"GET / HTTP/1.1\" 200 -\n",
            "INFO:werkzeug:127.0.0.1 - - [29/Oct/2023 23:43:27] \"\u001b[33mGET /favicon.ico HTTP/1.1\u001b[0m\" 404 -\n"
          ]
        }
      ]
    },
    {
      "cell_type": "markdown",
      "source": [],
      "metadata": {
        "id": "IFf7-toTQKj2"
      }
    },
    {
      "cell_type": "markdown",
      "source": [
        "### Run or start our flask application\n",
        "Now we can test our application (if that's what it can be called because it doesn't do anything yet). To test our application we have a server that provides us with Flask suitable for testing, but first we must indicate in the file or in the Flask configuration which one it is. the application that should start, in what MODE and in what direction."
      ],
      "metadata": {
        "id": "1pgOJ7rT38CH"
      }
    },
    {
      "cell_type": "code",
      "source": [
        "from flask import Flask\n",
        "from flask_ngrok import run_with_ngrok\n",
        "from pyngrok import ngrok\n",
        "\n",
        "\n",
        "app = Flask(__name__)\n",
        "run_with_ngrok(app)  # Initialize ngrok when the app is run\n",
        "\n",
        "@app.route('/')\n",
        "\n",
        "def home():\n",
        "    return \"<h1>This is the HOME platform to learn</h1>\"\n",
        "\n",
        "@app.route('/hello')\n",
        "def hello():\n",
        "    return \"Hello, Flask on Google Colab!\"\n",
        "\n",
        "@app.route('/blog/<int:postID>')\n",
        "def show_blog(postID):\n",
        "   return 'Blog Number %d' % postID\n",
        "\n",
        "@app.route('/rev/<float:revNo>')\n",
        "def revision(revNo):\n",
        "   return 'Revision Number %f' % revNo\n",
        "if __name__ == '__main__':\n",
        "    app.run() #Method that starts the app with the address, ports and mode\n",
        "\n"
      ],
      "metadata": {
        "colab": {
          "base_uri": "https://localhost:8080/"
        },
        "id": "KdTn2Tat4A5G",
        "outputId": "5a9e067b-8d20-4037-f4c5-5a2ebfbb58ab"
      },
      "execution_count": 25,
      "outputs": [
        {
          "output_type": "stream",
          "name": "stdout",
          "text": [
            " * Serving Flask app '__main__'\n",
            " * Debug mode: off\n"
          ]
        },
        {
          "output_type": "stream",
          "name": "stderr",
          "text": [
            "INFO:werkzeug:\u001b[31m\u001b[1mWARNING: This is a development server. Do not use it in a production deployment. Use a production WSGI server instead.\u001b[0m\n",
            " * Running on http://127.0.0.1:5000\n",
            "INFO:werkzeug:\u001b[33mPress CTRL+C to quit\u001b[0m\n"
          ]
        },
        {
          "output_type": "stream",
          "name": "stdout",
          "text": [
            " * Running on http://db0d-34-106-202-98.ngrok-free.app\n",
            " * Traffic stats available on http://127.0.0.1:4040\n"
          ]
        },
        {
          "output_type": "stream",
          "name": "stderr",
          "text": [
            "INFO:werkzeug:127.0.0.1 - - [30/Oct/2023 00:25:19] \"GET / HTTP/1.1\" 200 -\n",
            "INFO:werkzeug:127.0.0.1 - - [30/Oct/2023 00:25:19] \"\u001b[33mGET /favicon.ico HTTP/1.1\u001b[0m\" 404 -\n",
            "INFO:werkzeug:127.0.0.1 - - [30/Oct/2023 00:25:27] \"GET /blog/11 HTTP/1.1\" 200 -\n"
          ]
        }
      ]
    },
    {
      "cell_type": "markdown",
      "source": [
        "Run the above code from Python Shell. Visit the URL http://localhost:5000/blog/11 in the browser.\n",
        "\n",
        "The given number is used as argument to the show_blog() function. The browser displays the following output −\n",
        "\n",
        "Blog Number 11\n",
        "Enter this URL in the browser − http://localhost:5000/rev/1.1\n",
        "\n",
        "The revision() function takes up the floating point number as argument. The following result appears in the browser window −\n",
        "\n",
        "Revision Number 1.100000"
      ],
      "metadata": {
        "id": "MuW1qskZ-XCs"
      }
    },
    {
      "cell_type": "code",
      "source": [
        "from google.colab import files\n",
        "uploaded = files.upload()"
      ],
      "metadata": {
        "colab": {
          "base_uri": "https://localhost:8080/",
          "height": 73
        },
        "id": "7k24W-X5IdOy",
        "outputId": "f2db7068-6c65-42a5-bb4c-c2a3d0d09fa3"
      },
      "execution_count": 26,
      "outputs": [
        {
          "output_type": "display_data",
          "data": {
            "text/plain": [
              "<IPython.core.display.HTML object>"
            ],
            "text/html": [
              "\n",
              "     <input type=\"file\" id=\"files-6e18e7b4-5d5d-428a-a582-cdcd4b0b406d\" name=\"files[]\" multiple disabled\n",
              "        style=\"border:none\" />\n",
              "     <output id=\"result-6e18e7b4-5d5d-428a-a582-cdcd4b0b406d\">\n",
              "      Upload widget is only available when the cell has been executed in the\n",
              "      current browser session. Please rerun this cell to enable.\n",
              "      </output>\n",
              "      <script>// Copyright 2017 Google LLC\n",
              "//\n",
              "// Licensed under the Apache License, Version 2.0 (the \"License\");\n",
              "// you may not use this file except in compliance with the License.\n",
              "// You may obtain a copy of the License at\n",
              "//\n",
              "//      http://www.apache.org/licenses/LICENSE-2.0\n",
              "//\n",
              "// Unless required by applicable law or agreed to in writing, software\n",
              "// distributed under the License is distributed on an \"AS IS\" BASIS,\n",
              "// WITHOUT WARRANTIES OR CONDITIONS OF ANY KIND, either express or implied.\n",
              "// See the License for the specific language governing permissions and\n",
              "// limitations under the License.\n",
              "\n",
              "/**\n",
              " * @fileoverview Helpers for google.colab Python module.\n",
              " */\n",
              "(function(scope) {\n",
              "function span(text, styleAttributes = {}) {\n",
              "  const element = document.createElement('span');\n",
              "  element.textContent = text;\n",
              "  for (const key of Object.keys(styleAttributes)) {\n",
              "    element.style[key] = styleAttributes[key];\n",
              "  }\n",
              "  return element;\n",
              "}\n",
              "\n",
              "// Max number of bytes which will be uploaded at a time.\n",
              "const MAX_PAYLOAD_SIZE = 100 * 1024;\n",
              "\n",
              "function _uploadFiles(inputId, outputId) {\n",
              "  const steps = uploadFilesStep(inputId, outputId);\n",
              "  const outputElement = document.getElementById(outputId);\n",
              "  // Cache steps on the outputElement to make it available for the next call\n",
              "  // to uploadFilesContinue from Python.\n",
              "  outputElement.steps = steps;\n",
              "\n",
              "  return _uploadFilesContinue(outputId);\n",
              "}\n",
              "\n",
              "// This is roughly an async generator (not supported in the browser yet),\n",
              "// where there are multiple asynchronous steps and the Python side is going\n",
              "// to poll for completion of each step.\n",
              "// This uses a Promise to block the python side on completion of each step,\n",
              "// then passes the result of the previous step as the input to the next step.\n",
              "function _uploadFilesContinue(outputId) {\n",
              "  const outputElement = document.getElementById(outputId);\n",
              "  const steps = outputElement.steps;\n",
              "\n",
              "  const next = steps.next(outputElement.lastPromiseValue);\n",
              "  return Promise.resolve(next.value.promise).then((value) => {\n",
              "    // Cache the last promise value to make it available to the next\n",
              "    // step of the generator.\n",
              "    outputElement.lastPromiseValue = value;\n",
              "    return next.value.response;\n",
              "  });\n",
              "}\n",
              "\n",
              "/**\n",
              " * Generator function which is called between each async step of the upload\n",
              " * process.\n",
              " * @param {string} inputId Element ID of the input file picker element.\n",
              " * @param {string} outputId Element ID of the output display.\n",
              " * @return {!Iterable<!Object>} Iterable of next steps.\n",
              " */\n",
              "function* uploadFilesStep(inputId, outputId) {\n",
              "  const inputElement = document.getElementById(inputId);\n",
              "  inputElement.disabled = false;\n",
              "\n",
              "  const outputElement = document.getElementById(outputId);\n",
              "  outputElement.innerHTML = '';\n",
              "\n",
              "  const pickedPromise = new Promise((resolve) => {\n",
              "    inputElement.addEventListener('change', (e) => {\n",
              "      resolve(e.target.files);\n",
              "    });\n",
              "  });\n",
              "\n",
              "  const cancel = document.createElement('button');\n",
              "  inputElement.parentElement.appendChild(cancel);\n",
              "  cancel.textContent = 'Cancel upload';\n",
              "  const cancelPromise = new Promise((resolve) => {\n",
              "    cancel.onclick = () => {\n",
              "      resolve(null);\n",
              "    };\n",
              "  });\n",
              "\n",
              "  // Wait for the user to pick the files.\n",
              "  const files = yield {\n",
              "    promise: Promise.race([pickedPromise, cancelPromise]),\n",
              "    response: {\n",
              "      action: 'starting',\n",
              "    }\n",
              "  };\n",
              "\n",
              "  cancel.remove();\n",
              "\n",
              "  // Disable the input element since further picks are not allowed.\n",
              "  inputElement.disabled = true;\n",
              "\n",
              "  if (!files) {\n",
              "    return {\n",
              "      response: {\n",
              "        action: 'complete',\n",
              "      }\n",
              "    };\n",
              "  }\n",
              "\n",
              "  for (const file of files) {\n",
              "    const li = document.createElement('li');\n",
              "    li.append(span(file.name, {fontWeight: 'bold'}));\n",
              "    li.append(span(\n",
              "        `(${file.type || 'n/a'}) - ${file.size} bytes, ` +\n",
              "        `last modified: ${\n",
              "            file.lastModifiedDate ? file.lastModifiedDate.toLocaleDateString() :\n",
              "                                    'n/a'} - `));\n",
              "    const percent = span('0% done');\n",
              "    li.appendChild(percent);\n",
              "\n",
              "    outputElement.appendChild(li);\n",
              "\n",
              "    const fileDataPromise = new Promise((resolve) => {\n",
              "      const reader = new FileReader();\n",
              "      reader.onload = (e) => {\n",
              "        resolve(e.target.result);\n",
              "      };\n",
              "      reader.readAsArrayBuffer(file);\n",
              "    });\n",
              "    // Wait for the data to be ready.\n",
              "    let fileData = yield {\n",
              "      promise: fileDataPromise,\n",
              "      response: {\n",
              "        action: 'continue',\n",
              "      }\n",
              "    };\n",
              "\n",
              "    // Use a chunked sending to avoid message size limits. See b/62115660.\n",
              "    let position = 0;\n",
              "    do {\n",
              "      const length = Math.min(fileData.byteLength - position, MAX_PAYLOAD_SIZE);\n",
              "      const chunk = new Uint8Array(fileData, position, length);\n",
              "      position += length;\n",
              "\n",
              "      const base64 = btoa(String.fromCharCode.apply(null, chunk));\n",
              "      yield {\n",
              "        response: {\n",
              "          action: 'append',\n",
              "          file: file.name,\n",
              "          data: base64,\n",
              "        },\n",
              "      };\n",
              "\n",
              "      let percentDone = fileData.byteLength === 0 ?\n",
              "          100 :\n",
              "          Math.round((position / fileData.byteLength) * 100);\n",
              "      percent.textContent = `${percentDone}% done`;\n",
              "\n",
              "    } while (position < fileData.byteLength);\n",
              "  }\n",
              "\n",
              "  // All done.\n",
              "  yield {\n",
              "    response: {\n",
              "      action: 'complete',\n",
              "    }\n",
              "  };\n",
              "}\n",
              "\n",
              "scope.google = scope.google || {};\n",
              "scope.google.colab = scope.google.colab || {};\n",
              "scope.google.colab._files = {\n",
              "  _uploadFiles,\n",
              "  _uploadFilesContinue,\n",
              "};\n",
              "})(self);\n",
              "</script> "
            ]
          },
          "metadata": {}
        },
        {
          "output_type": "stream",
          "name": "stdout",
          "text": [
            "Saving algebra.pdf to algebra.pdf\n"
          ]
        }
      ]
    },
    {
      "cell_type": "markdown",
      "source": [
        "\n",
        "# Django\n",
        "\n",
        "\n",
        "Django is a high-level web development framework written in Python that encourages rapid development and clean, pragmatic design. It was designed to make it easier to build complex web applications, reducing the amount of repetitive code and speeding up the development process.\n",
        "\n",
        "Here are some key features and concepts of Django:\n",
        "\n",
        "* MTV (Model, Template, View): Django follows the MTV design pattern, which is a variant of the MVC (Model-View-Controller) pattern. In Django:\n",
        "\n",
        "> *Model: Defines the database structure, including tables, relationships, and fields.\n",
        "> * Template: Handles presentation and how information is displayed to the user.\n",
        "> * View: Controls what is shown to the user, making decisions based on user input or a request.\n",
        "* ORM (Object-Relational Mapping): Django comes with a built-in ORM that allows developers to interact with the database as if they were pure Python objects, without the need to write SQL queries.\n",
        "\n",
        "* Automatic Admin Interface: Django includes an automatic admin interface, which is a web-based administration tool auto-generated based on the model definitions.\n",
        "\n",
        "* Security: Django provides protection against many common web application security issues, such as cross-site scripting (XSS), cross-site request forgery (CSRF), and SQL injection.\n",
        "\n",
        "* Friendly URLs: Django promotes the use of friendly and readable URLs, which is beneficial for both usability and SEO.\n",
        "\n",
        "* Extensibility: Django is highly extensible, with an \"apps\" architecture that allows developers to break a project into multiple reusable applications.\n",
        "\n",
        "* Active Community: Django has an active and vibrant community that contributes packages, tools, and documentation. This means there are plenty of resources available for learning and troubleshooting.\n",
        "\n",
        "* Documentation: One of Django's strengths is its detailed and high-quality documentation.\n",
        "\n",
        "Django is suitable for developing both small web applications and large, complex ones. It's used by many well-known organizations and websites, including Instagram, Pinterest, and The Washington Post, among others.\n"
      ],
      "metadata": {
        "id": "8k3vfH4uYLo_"
      }
    },
    {
      "cell_type": "code",
      "source": [
        "!pip install Django"
      ],
      "metadata": {
        "colab": {
          "base_uri": "https://localhost:8080/"
        },
        "id": "MeNJ8teHTObu",
        "outputId": "54fbd885-3e23-4a2e-a035-d2a003593d6d"
      },
      "execution_count": 30,
      "outputs": [
        {
          "output_type": "stream",
          "name": "stdout",
          "text": [
            "Collecting Django\n",
            "  Downloading Django-4.2.6-py3-none-any.whl (8.0 MB)\n",
            "\u001b[2K     \u001b[90m━━━━━━━━━━━━━━━━━━━━━━━━━━━━━━━━━━━━━━━━\u001b[0m \u001b[32m8.0/8.0 MB\u001b[0m \u001b[31m41.3 MB/s\u001b[0m eta \u001b[36m0:00:00\u001b[0m\n",
            "\u001b[?25hCollecting asgiref<4,>=3.6.0 (from Django)\n",
            "  Downloading asgiref-3.7.2-py3-none-any.whl (24 kB)\n",
            "Requirement already satisfied: sqlparse>=0.3.1 in ./python3.10/dist-packages (from Django) (0.4.4)\n",
            "Requirement already satisfied: typing-extensions>=4 in ./python3.10/dist-packages (from asgiref<4,>=3.6.0->Django) (4.5.0)\n",
            "Installing collected packages: asgiref, Django\n",
            "Successfully installed Django-4.2.6 asgiref-3.7.2\n"
          ]
        }
      ]
    },
    {
      "cell_type": "markdown",
      "source": [
        "How to check the version of Django"
      ],
      "metadata": {
        "id": "7zxvD4b4TNri"
      }
    },
    {
      "cell_type": "code",
      "source": [
        "!pip show Django"
      ],
      "metadata": {
        "colab": {
          "base_uri": "https://localhost:8080/"
        },
        "id": "j3Sm8AkFTPcb",
        "outputId": "ca0b369b-c224-4725-9db5-cc311f2f7e36"
      },
      "execution_count": 31,
      "outputs": [
        {
          "output_type": "stream",
          "name": "stdout",
          "text": [
            "Name: Django\n",
            "Version: 4.2.6\n",
            "Summary: A high-level Python web framework that encourages rapid development and clean, pragmatic design.\n",
            "Home-page: https://www.djangoproject.com/\n",
            "Author: Django Software Foundation\n",
            "Author-email: foundation@djangoproject.com\n",
            "License: BSD-3-Clause\n",
            "Location: /usr/local/lib/python3.10/dist-packages\n",
            "Requires: asgiref, sqlparse\n",
            "Required-by: \n"
          ]
        }
      ]
    },
    {
      "cell_type": "code",
      "source": [
        "!cd portfolio/"
      ],
      "metadata": {
        "id": "dfr5z1IsUWNa"
      },
      "execution_count": 38,
      "outputs": []
    },
    {
      "cell_type": "code",
      "source": [
        "!ls"
      ],
      "metadata": {
        "colab": {
          "base_uri": "https://localhost:8080/"
        },
        "id": "nR0wsIRUUZ0I",
        "outputId": "df0e1307-d747-4b99-f9ce-9aa9c7826c75"
      },
      "execution_count": 39,
      "outputs": [
        {
          "output_type": "stream",
          "name": "stdout",
          "text": [
            "algebra.pdf\t\t\t  libmkl_rt.so.2\t\t    libomptarget.sycl.wrap.so\n",
            "libiomp5_db.so\t\t\t  libmkl_scalapack_ilp64.so.2\t    libtbbbind_2_0.so\n",
            "libiomp5.so\t\t\t  libmkl_scalapack_lp64.so.2\t    libtbbbind_2_0.so.3\n",
            "libiompstubs5.so\t\t  libmkl_sequential.so.2\t    libtbbbind_2_0.so.3.10\n",
            "libmkl_avx2.so.2\t\t  libmkl_tbb_thread.so.2\t    libtbbbind_2_5.so\n",
            "libmkl_avx512.so.2\t\t  libmkl_vml_avx2.so.2\t\t    libtbbbind_2_5.so.3\n",
            "libmkl_avx.so.2\t\t\t  libmkl_vml_avx512.so.2\t    libtbbbind_2_5.so.3.10\n",
            "libmkl_blacs_intelmpi_ilp64.so.2  libmkl_vml_avx.so.2\t\t    libtbbbind.so\n",
            "libmkl_blacs_intelmpi_lp64.so.2   libmkl_vml_cmpt.so.2\t\t    libtbbbind.so.3\n",
            "libmkl_blacs_openmpi_ilp64.so.2   libmkl_vml_def.so.2\t\t    libtbbbind.so.3.10\n",
            "libmkl_blacs_openmpi_lp64.so.2\t  libmkl_vml_mc3.so.2\t\t    libtbbmalloc_proxy.so\n",
            "libmkl_cdft_core.so.2\t\t  libmkl_vml_mc.so.2\t\t    libtbbmalloc_proxy.so.2\n",
            "libmkl_core.so.2\t\t  libomp-device-svml.o\t\t    libtbbmalloc_proxy.so.2.10\n",
            "libmkl_def.so.2\t\t\t  libomp-fallback-cstring.o\t    libtbbmalloc.so\n",
            "libmkl_gf_ilp64.so.2\t\t  libomp-fallback-cstring.spv\t    libtbbmalloc.so.2\n",
            "libmkl_gf_lp64.so.2\t\t  libomp-spirvdevicertl-optional.o  libtbbmalloc.so.2.10\n",
            "libmkl_gnu_thread.so.2\t\t  libomp-spirvdevicertl-required.o  libtbb.so\n",
            "libmkl_intel_ilp64.so.2\t\t  libomptarget-opencl-optional.bc   libtbb.so.12\n",
            "libmkl_intel_lp64.so.2\t\t  libomptarget-opencl-required.bc   libtbb.so.12.10\n",
            "libmkl_intel_thread.so.2\t  libomptarget.rtl.level0.so\t    mkl_msg.cat\n",
            "libmkl_mc3.so.2\t\t\t  libomptarget.rtl.opencl.so\t    portfolio\n",
            "libmkl_mc.so.2\t\t\t  libomptarget.rtl.x86_64.so\t    python3.10\n",
            "libmkl_pgi_thread.so.2\t\t  libomptarget.so\t\t    R\n"
          ]
        }
      ]
    },
    {
      "cell_type": "code",
      "source": [
        "!django-admin startproject portfolio"
      ],
      "metadata": {
        "id": "lYryayCNTzL9"
      },
      "execution_count": 32,
      "outputs": []
    },
    {
      "cell_type": "code",
      "source": [
        "from google.colab.output import eval_js\n",
        "print(eval_js(\"google.colab.kernel.proxyPort(8000)\"))"
      ],
      "metadata": {
        "colab": {
          "base_uri": "https://localhost:8080/",
          "height": 35
        },
        "id": "7R2sc-KDT3VV",
        "outputId": "3ae62b45-19bd-407d-afc1-02b0489bf4e5"
      },
      "execution_count": 40,
      "outputs": [
        {
          "output_type": "stream",
          "name": "stdout",
          "text": [
            "https://ipj0b9qy6zr-496ff2e9c6d22116-8000-colab.googleusercontent.com/\n"
          ]
        }
      ]
    },
    {
      "cell_type": "markdown",
      "metadata": {
        "id": "_I-Zg8ixNOlf"
      },
      "source": [
        "# ***Note: References***\n",
        "\n",
        "* https://pyformat.info/\n",
        "* https://pynative.com/\n",
        "* https://docs.python.org/3/\n",
        "* https://www.educba.com/\n",
        "* https://www.learnbyexample.org/\n",
        "* https://www.programiz.com/\n",
        "* http://www.btechsmartclass.com/python/Python_Tutorial_Python_Inheritance.html\n",
        "* https://pynative.com/python-inheritance/\n",
        "* https://www.programiz.com/python-programming/object-oriented-programming\n",
        "* https://realpython.com/python3-object-oriented-programming/#class-and-instance-attributes\n",
        "* https://ecomputernotes.com/python/file-handling-in-python\n",
        "* https://www.askpython.com/python/python-file-handling\n",
        "* https://automatetheboringstuff.com/chapter8/\n",
        "* https://pynative.com/python-read-file/\n",
        "* https://docs.python.org/3/library/csv.html\n",
        "* https://pbpython.com/dataframe-gui-overview.html\n",
        "* https://realpython.com/pandas-dataframe/\n",
        "* https://data-flair.training/blogs/pandas-tutorial/\n",
        "* https://realpython.com/pandas-read-write-files/\n",
        "* https://www.datacamp.com/tutorial/high-performance-data-manipulation-in-python-pandas2-vs-polars\n",
        "* https://www.datainsightonline.com/post/how-to-manipulate-data-with-pandas\n",
        "* https://medium.com/nerd-for-tech/using-csv-data-using-pandas-part-1-138fd3c66d01\n",
        "* https://www.codecademy.com/learn/data-manipulation-in-python-dvp/modules/pandas-dvp/cheatsheet\n",
        "* https://www.analyticsvidhya.com/blog/2021/06/data-manipulation-using-pandas-essential-functionalities-of-pandas-you-need-to-know/\n",
        "* https://www.geeksforgeeks.org/data-manipulattion-in-python-using-pandas/\n",
        "* https://www.codecademy.com/learn/data-processing-pandas\n",
        "* https://www.superdatascience.com/courses/data-manipulation-in-python\n",
        "* https://www.geeksforgeeks.org/creating-a-pandas-dataframe/\n",
        "* https://pynative.com/python-pandas-dataframe/\n",
        "* https://medium.com/mlpoint/pandas-for-machine-learning-53846bc9a98b\n",
        "* https://www.datacamp.com/tutorial/pandas-tutorial-dataframe-python\n",
        "* https://hossainlab.github.io/pandas/notebooks/01-Getting%20Started.html\n",
        "* https://class.redclara.net/halley/moncora/Jupyter_Notebooks/apiMakeSens.html\n",
        "* https://realpython.com/python-sqlite-sqlalchemy/\n",
        "* https://realpython.com/python-sql-libraries/\n",
        "* https://en.wikiversity.org/wiki/Database_Examples/Northwind/SQLite\n",
        "* https://www.sqlitetutorial.net/sqlite-sample-database/\n",
        "* https://www.kaggle.com/code/alaasedeeq/chinook-sql/notebook\n",
        "* https://www.datacamp.com/tutorial/sqlalchemy-tutorial-examples\n",
        "* https://vegibit.com/interacting-with-a-database-using-sqlalchemy-crud-operations/\n",
        "*\n",
        "\n"
      ]
    },
    {
      "cell_type": "code",
      "source": [],
      "metadata": {
        "id": "5Uo9gTKYRURG"
      },
      "execution_count": null,
      "outputs": []
    }
  ],
  "metadata": {
    "colab": {
      "provenance": [],
      "include_colab_link": true
    },
    "kernelspec": {
      "display_name": "Python 3",
      "name": "python3"
    },
    "language_info": {
      "name": "python"
    }
  },
  "nbformat": 4,
  "nbformat_minor": 0
}