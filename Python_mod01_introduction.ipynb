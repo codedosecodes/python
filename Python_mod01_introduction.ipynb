{
  "nbformat": 4,
  "nbformat_minor": 0,
  "metadata": {
    "colab": {
      "provenance": [],
      "authorship_tag": "ABX9TyMFJK/hiCNRPngidtcat8Vg",
      "include_colab_link": true
    },
    "kernelspec": {
      "name": "python3",
      "display_name": "Python 3"
    },
    "language_info": {
      "name": "python"
    }
  },
  "cells": [
    {
      "cell_type": "markdown",
      "metadata": {
        "id": "view-in-github",
        "colab_type": "text"
      },
      "source": [
        "<a href=\"https://colab.research.google.com/github/codedosecodes/python/blob/main/Python_mod01_introduction.ipynb\" target=\"_parent\"><img src=\"https://colab.research.google.com/assets/colab-badge.svg\" alt=\"Open In Colab\"/></a>"
      ]
    },
    {
      "cell_type": "markdown",
      "source": [
        "\n",
        "<img src=\"https://static.wixstatic.com/media/187085_663a141abb41479db38c836ad13ba2b8~mv2.png\" alt=\"\" width=\"200px\" align=\"right\"/>\n",
        "\n",
        "# **Introduction to Programming with Python**\n",
        "\n",
        "# Learn the Basics\n",
        "\n",
        "Authors:\n",
        "[Gabriel Mauricio Cortés](https://github.com/codedosecodes/),"
      ],
      "metadata": {
        "id": "_RYGNKndk6Oq"
      }
    },
    {
      "cell_type": "markdown",
      "source": [
        "<style>\n",
        ".alert2 {\n",
        "  padding: 20px;\n",
        "  background-color: #f44336;\n",
        "  color: white;\n",
        "  margin-bottom: 15px;\n",
        "}\n",
        ".alert {\n",
        "  border-radius: 10px;\n",
        "  background-color: #bbb;\n",
        "  border: 2px solid #999;\n",
        "  margin-top: 20px;\n",
        "  margin-bottom: 20px;\n",
        "  padding-left: 5px;\n",
        "  padding-top: 10px;\n",
        "  padding-bottom: 10px;\n",
        "  font-family: 'Arial', sans-serif;\n",
        "}\n",
        "\n",
        ".alert > h3 {\n",
        "  display: block;\n",
        "  font-size: 30px;\n",
        "  margin-top: 5px;\n",
        "  margin-bottom: 15px;\n",
        "}\n",
        "\n",
        ".alert-info {\n",
        "  background-color: #1af !important;\n",
        "  border: 2px solid #04a !important;\n",
        "}\n",
        "div.warn {\n",
        "    background-color: #fcf2f2;\n",
        "    border-color: #dFb5b4;\n",
        "    border-left: 5px solid #dfb5b4;\n",
        "    padding: 0.5em;\n",
        "    }\n",
        "</style>\n",
        "\n",
        "\n",
        "<table class=\"table table-bordered\" style=\"border-color:green;\" align=\"left\">\n",
        "  <td>\n",
        "    <a target=\"_blank\" href=\"https://www.codedose.codes/\"><img src=\"https://static.wixstatic.com/media/187085_663a141abb41479db38c836ad13ba2b8~mv2.png\" width=\"32\" height=\"32\" />View Codedose</a>\n",
        "  </td>\n",
        "  <td>\n",
        "    <a target=\"_blank\" href=\"https://colab.research.google.com/drive/1k18o-HKOViymLpRfktmObU_0_DgTnFZ8\"><img src=\"https://static.wixstatic.com/media/187085_adc0ad8b754748b5b46b2ce17d6c48fb~mv2.png\" width=\"32\" height=\"32\" />Run in Google Colab</a>\n",
        "  </td>\n",
        "  <td>\n",
        "    <a target=\"_blank\" href=\"https://github.com/codedosecodes/python\"><img src=\"https://static.wixstatic.com/media/187085_a8a39d79788e40ec8c2a70d4f42ec0ec~mv2.png\" width=\"32\" height=\"32\" />View code in GitHub</a>\n",
        "  </td>\n",
        "  <td>\n",
        "    <a href=\"https://1870859c-e43a-48f9-b690-7af5dd055580.usrfiles.com/ugd/187085_8e8b1301d24f497c9ed6097c2992e128.ipynb\"><img src=\"https://static.wixstatic.com/media/187085_dbe5b3fa6ced40fb83d52e0f38da647e~mv2.png\" width=\"32\" height=\"32\" />Download notebook</a>\n",
        "  </td>\n",
        "    <td>\n",
        "    <a target=\"_blank\" href=\"https://colab.research.google.com/drive/1k18o-HKOViymLpRfktmObU_0_DgTnFZ8\"><img src=\"https://static.wixstatic.com/media/187085_27f04669f65449f39f6b40b6a5945496~mv2.png\" width=\"32\" height=\"32\" />View Video</a>\n",
        "  </td>\n",
        "</table>\n",
        "\n"
      ],
      "metadata": {
        "id": "5VTeKPVtkuhs"
      }
    },
    {
      "cell_type": "markdown",
      "source": [
        "\n",
        "\n",
        "\n"
      ],
      "metadata": {
        "id": "til3m4gdoAEY"
      }
    },
    {
      "cell_type": "markdown",
      "source": [
        "\n",
        "## Objetives\n",
        "### know and drive\n",
        "1. Data types, expressions and statements, strings Lists, dictionaries and tuples\n",
        "2. Variables\n",
        "3. Opeartors\n",
        "4. Control Structures\n",
        "5. Functions and Methods\n"
      ],
      "metadata": {
        "id": "XbU_yOY-hgQN"
      }
    },
    {
      "cell_type": "markdown",
      "source": [
        "\n",
        "\n",
        "<a ><img src=\"https://static.wixstatic.com/media/187085_0d837ba2a4434cc095385943cf879124~mv2.png\" width=\"80%\" height=\"80%\" /></a>\n",
        "\n",
        "\n"
      ],
      "metadata": {
        "id": "G8bTEsdvtCrJ"
      }
    },
    {
      "cell_type": "markdown",
      "source": [
        "\n",
        "#1. Data types in Python\n",
        "A data type is the property of a value that determines: its domain (values it can take), the operations that can be applied to it, and the internal representation used by the computer itself.\n",
        "In python there are essentially:\n",
        "\n",
        "\n",
        "Data Types_: int, float, str\n",
        "_Data Structures_: list, dict, tup, set, bool\n",
        "\n",
        "| Name | Type | Description | Example |\n",
        "| :--- | :---: | :--- | :--- |\n",
        "| Integers | `int` | Numbers: 7, 200, 600 | n = 21|\n",
        "| Real or Floating point | `float` | Number with decimal point: 3.14, 5.8, 120.0 | n = 22.75 |\n",
        "| Text or Strings | `str` | Ordered sequence of characters: 'hello', \"Gabriel\" |name = 'Gabriel' |\n",
        "| Lists | `list` | Ordered sequence of objects: \\[10, 'hello', 200.3] | l = [3, 'a', 2.5] |\n",
        "| Dictionaries | `dict` | Unordered Key:Value pairs: {\"key\":\"value\", ...} | d = {1:'J', 2:'E'} |\n",
        "| Tuples | `tup` | Ordered immutable sequence of objects: (10, 'hello', 200.3) |t =(2, 'b', 6.4)|\n",
        "| Sets | `set` | Unordered collection of unique objects: {\"a\", \"b\"} |s = {1, 3, 5} |\n",
        "| Logical values Booleans | `bool` | Logical value indicating _True_ or _False_ | flag = True|\n",
        "| Complex | `complex` | To store complex numbers (real and imaginary part) | n = 10+20j|\n",
        "| Range | `range` | To generate a sequence of number | numbers = range(10)|\n",
        "\n",
        "\n",
        "\n",
        "\n",
        "#### Next we will see the characteristics of each one separately.\n"
      ],
      "metadata": {
        "id": "8yVdUDBbkTF-"
      }
    },
    {
      "cell_type": "markdown",
      "source": [
        "## 1.1 Numbers\n",
        "\n",
        "As their name says, they are integers to which the known basic operations can be applied: addition (`+`), subtraction (`-`), multiplication (`*`), floating division (`/`), division integer (`//`), modulo (`%`), potentiation (`**`).\n",
        "\n",
        "#### Basics:\n",
        "- Addition: `2 + 2`\n",
        "- Subtraction: `1 - 10`\n",
        "- Multiplication: `3 * 2`\n",
        "- Division: `4 / 5`\n",
        "- Integer Division `6 // 5`\n",
        "\n",
        "#### Other operators:\n",
        "- Modulo or \"Mod\": `4 % 3`\n",
        "- Power: `3 ** 2`\n",
        "- Parentheses: `(2 + 1) * 10`\n",
        "\n"
      ],
      "metadata": {
        "id": "oUlunMJNlQqV"
      }
    },
    {
      "cell_type": "code",
      "execution_count": null,
      "metadata": {
        "id": "yygLUf078wqx"
      },
      "outputs": [],
      "source": [
        "2+2+2"
      ]
    },
    {
      "cell_type": "code",
      "source": [
        "1-10"
      ],
      "metadata": {
        "id": "8m3ZlcH7mFVf"
      },
      "execution_count": null,
      "outputs": []
    },
    {
      "cell_type": "code",
      "source": [
        "3*2"
      ],
      "metadata": {
        "id": "irmbJRXrmIcE"
      },
      "execution_count": null,
      "outputs": []
    },
    {
      "cell_type": "code",
      "source": [
        "4/5"
      ],
      "metadata": {
        "id": "yKJjlNQXmJ62"
      },
      "execution_count": null,
      "outputs": []
    },
    {
      "cell_type": "code",
      "source": [
        "6//5"
      ],
      "metadata": {
        "id": "xGfoM_KUmOSy"
      },
      "execution_count": null,
      "outputs": []
    },
    {
      "cell_type": "code",
      "source": [
        "4%3"
      ],
      "metadata": {
        "id": "lQy2osd6mYpC"
      },
      "execution_count": null,
      "outputs": []
    },
    {
      "cell_type": "code",
      "source": [
        "3**2"
      ],
      "metadata": {
        "id": "mQEM5PKWmZfw"
      },
      "execution_count": null,
      "outputs": []
    },
    {
      "cell_type": "code",
      "source": [
        "(2 + 1) * 10"
      ],
      "metadata": {
        "id": "Fm-xm04Kmb3c"
      },
      "execution_count": null,
      "outputs": []
    },
    {
      "cell_type": "markdown",
      "source": [
        "\n",
        "**Note**: In python 3 \"traditional\" division of integers gives a float. Although this is not conceptually coherent (the operation of 2 types should originate the same type of data), it is in practice what is sought and is \"pragmatically\" more coherent. If you are looking for the entire division, you need to use `//`."
      ],
      "metadata": {
        "id": "O37LuI76l-4n"
      }
    },
    {
      "cell_type": "markdown",
      "source": [
        "### 1.1.1 Integers\n",
        "\n",
        "Python uses the int data type to represent whole integer values. For example, we can use the int data type to store the roll number of a student. The Integer type in Python is represented using a int class.\n",
        "\n",
        "You can store positive and negative integer numbers of any length such as 221, -759, 18689741.\n",
        "\n",
        "We can create an integer variable using the two ways\n",
        "\n",
        "Directly assigning an integer value to a variable\n",
        "Using a int() class."
      ],
      "metadata": {
        "id": "C663h860wxY-"
      }
    },
    {
      "cell_type": "code",
      "source": [
        "# store int value\n",
        "room_no = 33\n",
        "# display room no\n",
        "print(\"room number is:\", room_no)\n",
        "# output 33\n",
        "print(type(room_no))\n",
        "# output class 'int'\n",
        "\n",
        "# store integer using int() class\n",
        "id_room = int(21)\n",
        "print(id_room)  # 21\n",
        "print(type(id_room))  # class 'int'"
      ],
      "metadata": {
        "id": "R7z8BOKVvhoU"
      },
      "execution_count": null,
      "outputs": []
    },
    {
      "cell_type": "markdown",
      "source": [
        "### 1.1.2 Real or floating point numbers.\n",
        "The operation with floating numbers allows us to use the mathematical operations that we know well without problem. To enter a floating point number, you must enter its integer part followed by its decimal part. However, if we want to operate as a floating point number on an integer, a 0 must be added after the point.\n",
        "Let's see what the computer gives us in the case of the previous division with floating point numbers:."
      ],
      "metadata": {
        "id": "PHPEZ8UCnLTN"
      }
    },
    {
      "cell_type": "code",
      "source": [
        "7.0/4.0"
      ],
      "metadata": {
        "id": "tDtaczESnfsl"
      },
      "execution_count": null,
      "outputs": []
    },
    {
      "cell_type": "code",
      "source": [
        "5./6."
      ],
      "metadata": {
        "id": "60IsKX7UnkLP"
      },
      "execution_count": null,
      "outputs": []
    },
    {
      "cell_type": "markdown",
      "source": [
        "Real numbers (or floats) have the same operations as integers.\n",
        "\n",
        "Real numbers cannot be represented with infinite precision in the computer, so it is necessary to consider that there is always a rounding error."
      ],
      "metadata": {
        "id": "b_CIIcM7nuwc"
      }
    },
    {
      "cell_type": "markdown",
      "source": [
        "To represent floating-point values or decimal values, we can use the float data type. For example, if we want to store the salary, we can use the float type.\n",
        "\n",
        "The float type in Python is represented using a float class.\n",
        "\n",
        "We can create a float variable using the two ways\n",
        "\n",
        "Directly assigning a float value to a variable\n",
        "Using a float() class."
      ],
      "metadata": {
        "id": "IXBNSM-Qw9LZ"
      }
    },
    {
      "cell_type": "code",
      "source": [
        "# store a floating-point value\n",
        "taxes = 2700.456\n",
        "print(\"taxes is :\", taxes)  # 2700.456\n",
        "print(type(taxes))  # class 'float'\n",
        "\n",
        "# store a floating-point value using float() class\n",
        "num = float(24.75)\n",
        "print(num)  # 24.75\n",
        "print(type(num))  # class 'float'"
      ],
      "metadata": {
        "id": "p12RPu_bxA4w"
      },
      "execution_count": null,
      "outputs": []
    },
    {
      "cell_type": "markdown",
      "source": [
        "### 1.1.3 Complex numbers\n",
        "Python allows us to operate on complex numbers through the `a+bj` syntax, where `j` denotes the imaginary number in the system. The possible operations on complex numbers are the same as for real numbers. Let's see some examples:"
      ],
      "metadata": {
        "id": "Njdw-xWnyVdj"
      }
    },
    {
      "cell_type": "code",
      "source": [
        "(3 + 2j) + (- 2j) # It remains a complex number even if the imaginary part is canceled"
      ],
      "metadata": {
        "id": "l65H1ovGzJqz"
      },
      "execution_count": null,
      "outputs": []
    },
    {
      "cell_type": "code",
      "source": [
        "(3 + 2j) - (12 + 5j)"
      ],
      "metadata": {
        "id": "i2_BQvT8zOWO"
      },
      "execution_count": null,
      "outputs": []
    },
    {
      "cell_type": "code",
      "source": [
        "(3-2j)*(-2j)"
      ],
      "metadata": {
        "id": "9iXTijMGzQm6"
      },
      "execution_count": null,
      "outputs": []
    },
    {
      "cell_type": "code",
      "source": [
        "(12+5j)/(4-3j)"
      ],
      "metadata": {
        "id": "pkvgZuQYzSzk"
      },
      "execution_count": null,
      "outputs": []
    },
    {
      "cell_type": "markdown",
      "source": [
        "A complex number is a number with a real and an imaginary component represented as a+bj where a and b contain integers or floating-point values.\n",
        "\n",
        "The complex type is generally used in scientific applications and electrical engineering applications. If we want to declare a complex value, then we can use the a+bj form. See the following example."
      ],
      "metadata": {
        "id": "naC9hH37zqpw"
      }
    },
    {
      "cell_type": "code",
      "source": [
        "x = 7 + 5  + 8j  # both value are int type\n",
        "y = 10 + 3.5j  # one int and one float\n",
        "z = 12.2 + 1.2j  # both value are float type\n",
        "print(type(x))  # class 'complex'>\n",
        "\n",
        "print(x)  # (12 +8j)\n",
        "print(y)  # (10+3.5j)\n",
        "print(z)  # (12.2+1.2j)"
      ],
      "metadata": {
        "id": "DfupliDxzk_v"
      },
      "execution_count": null,
      "outputs": []
    },
    {
      "cell_type": "markdown",
      "source": [
        "## 1.2. Dictionary\n",
        "In Python, dictionaries are unordered collections of unique values stored in (Key-Value) pairs. Use a dictionary data type to store data as a key-value pair.\n",
        "\n",
        "The dictionary type is represented using a dict class. For example, If you want to store the name and roll number of all students, then you can use the dict type.\n",
        "\n",
        "In a dictionary, duplicate keys are not allowed, but the value can be duplicated. If we try to insert a value with a duplicate key, the old value will be replaced with the new value.\n",
        "\n",
        "Dictionary has some characteristics which are listed below:\n",
        "\n",
        "* A heterogeneous (i.e., str, list, tuple) elements are allowed for both key and value in a dictionary. But An object can be a key in a dictionary if it is hashable.\n",
        "* The dictionary is mutable which means we can modify its items\n",
        "* Dictionary is unordered so we can’t perform indexing and slicing"
      ],
      "metadata": {
        "id": "71LUDOHc0kte"
      }
    },
    {
      "cell_type": "markdown",
      "source": [
        "<a><img src=\"https://static.wixstatic.com/media/187085_6a43c54e73eb4af88d2af8ae328eb796~mv2.png\" width=\"80%\" height=\"80%\" /></a>"
      ],
      "metadata": {
        "id": "lf1wIv2n312o"
      }
    },
    {
      "cell_type": "code",
      "source": [
        "my_dict = {'key1':'value1','key2':'values2'} # also can mixing values\n",
        "my_dict"
      ],
      "metadata": {
        "id": "bLDdrGxp4F2v"
      },
      "execution_count": null,
      "outputs": []
    },
    {
      "cell_type": "code",
      "source": [
        "my_dict['key2']"
      ],
      "metadata": {
        "id": "WPbnXTRS4QZ2"
      },
      "execution_count": null,
      "outputs": []
    },
    {
      "cell_type": "code",
      "source": [
        "my_dict = {'g1':200, 'g2':400}\n",
        "my_dict"
      ],
      "metadata": {
        "id": "rCkChjwY4TXU"
      },
      "execution_count": null,
      "outputs": []
    },
    {
      "cell_type": "code",
      "source": [
        "my_dict['g3'] =600 # append and change values by 'key'\n",
        "my_dict"
      ],
      "metadata": {
        "id": "KSW7VxVB4ZAQ"
      },
      "execution_count": null,
      "outputs": []
    },
    {
      "cell_type": "markdown",
      "source": [
        "#### Keys"
      ],
      "metadata": {
        "id": "4s7jX3Ie4jSz"
      }
    },
    {
      "cell_type": "code",
      "source": [
        "my_dict.keys() # keys"
      ],
      "metadata": {
        "id": "7vyXxcxv4m9h"
      },
      "execution_count": null,
      "outputs": []
    },
    {
      "cell_type": "markdown",
      "source": [
        "#### Values"
      ],
      "metadata": {
        "id": "OJIXdONu4ooA"
      }
    },
    {
      "cell_type": "code",
      "source": [
        "my_dict.values() # values"
      ],
      "metadata": {
        "id": "5s4oTgBQ4uYg"
      },
      "execution_count": null,
      "outputs": []
    },
    {
      "cell_type": "markdown",
      "source": [
        "#### Tupla pf [air 'key','value'"
      ],
      "metadata": {
        "id": "THHV62A040bc"
      }
    },
    {
      "cell_type": "code",
      "source": [
        "my_dict.items() # tuple of pair 'key', 'value'"
      ],
      "metadata": {
        "id": "SmHJ-8wF47gI"
      },
      "execution_count": null,
      "outputs": []
    },
    {
      "cell_type": "markdown",
      "source": [
        "#### Example dictionary creation and use"
      ],
      "metadata": {
        "id": "mhniPH205qJi"
      }
    },
    {
      "cell_type": "code",
      "source": [
        "# create a dictionary\n",
        "my_dict = {1: \"Juan\", 2: \"Gabriel\", 3: \"Oscar\"}\n",
        "\n",
        "# display dictionary\n",
        "print(my_dict)  # {1: 'Juan', 2: 'Gabriel', 3: 'Oscar'}\n",
        "print(type(my_dict))  # class 'dict'\n",
        "\n",
        "# create a dictionary using a dit class\n",
        "my_dict = dict({1: \"Juan\", 2: \"Gabriel\", 3: \"OScar\"})\n",
        "\n",
        "# display dictionary\n",
        "print(my_dict)  # {1: 'Juan', 2: 'Gabriel', 3: 'Oscar'}\n",
        "print(type(my_dict))  # class 'dict'\n",
        "\n",
        "# access value using a key name\n",
        "print(my_dict[1])  # Juan\n",
        "\n",
        "# change the value of a key\n",
        "my_dict[1] = \"Adriana\"\n",
        "print(my_dict[1])  # Adriana"
      ],
      "metadata": {
        "id": "t1E0mP4Y5Tom"
      },
      "execution_count": null,
      "outputs": []
    },
    {
      "cell_type": "markdown",
      "source": [
        "## 1.3. Boolean\n",
        "\n",
        "Boolean values are those that can only have truth values: true (`True`) or false (`False`). They are mainly used to check the truth state of expressions and to evaluate conditionals or control structures.\n",
        "\n",
        "In Python, to represent boolean values (True and False) we use the bool data type. Boolean values are used to evaluate the value of the expression. For example, when we compare two values, the expression is evaluated, and Python returns the boolean True or False\n",
        "\n",
        "A simple example of how to get booleans comes from applying the order operations on numbers. For example, the equality comparison \"== \", or the inequalities \"<=\", \"<=\", \"<\", \">\".\n",
        "Booleans also have the traditional operations: and (`and`), or (`or`), negation (`not`).\n",
        "\n"
      ],
      "metadata": {
        "id": "3_SqrFcv5-kB"
      }
    },
    {
      "cell_type": "code",
      "source": [
        "3==4"
      ],
      "metadata": {
        "id": "DI80zIsH6gbr"
      },
      "execution_count": null,
      "outputs": []
    },
    {
      "cell_type": "code",
      "source": [
        "200==200"
      ],
      "metadata": {
        "id": "RUcu295U6iYy"
      },
      "execution_count": null,
      "outputs": []
    },
    {
      "cell_type": "code",
      "source": [
        "3.4 <= 5"
      ],
      "metadata": {
        "id": "Oxt-6wX96mmO"
      },
      "execution_count": null,
      "outputs": []
    },
    {
      "cell_type": "code",
      "source": [
        "(not True or True ) and (not False)"
      ],
      "metadata": {
        "id": "J_Ib5MEW6olK"
      },
      "execution_count": null,
      "outputs": []
    },
    {
      "cell_type": "code",
      "source": [
        "True"
      ],
      "metadata": {
        "id": "AATmpFyd6pTO"
      },
      "execution_count": null,
      "outputs": []
    },
    {
      "cell_type": "code",
      "source": [
        "x = 25\n",
        "y = 20\n",
        "\n",
        "z = x > y\n",
        "print(z)  # True\n",
        "print(type(z))  # class 'bool'"
      ],
      "metadata": {
        "id": "CUe_FmII6rwE"
      },
      "execution_count": null,
      "outputs": []
    },
    {
      "cell_type": "markdown",
      "source": [
        "## 1.4. Set\n",
        "\n",
        "In Python, a set is an unordered collection of data items that are unique. In other words, Python Set is a collection of elements (Or objects) that contains no duplicate elements.\n",
        "\n",
        "In Python, the Set data type used to represent a group of unique elements as a single entity. For example, If we want to store student ID numbers, we can use the set data type.\n",
        "\n",
        "The Set data type in Python is represented using a set class.\n",
        "\n",
        "We can create a Set using the two ways\n",
        "\n",
        "* By enclosing values in the curly brackets {}\n",
        "* Using a set() class.\n",
        "The set data type has the following characteristics.\n",
        "\n",
        "* It is mutable which means we can change set items\n",
        "* Duplicate elements are not allowed\n",
        "* Heterogeneous (values of all data types) elements are allowed\n",
        "* Insertion order of elements is not preserved, so we can’t perform indexing on a Set\n",
        "\n",
        "Unorder collections with _unique_ items."
      ],
      "metadata": {
        "id": "sg-ZnDtU7hDP"
      }
    },
    {
      "cell_type": "code",
      "source": [
        "my_set = set()\n",
        "my_set"
      ],
      "metadata": {
        "id": "XvuIA-Fa77JN"
      },
      "execution_count": null,
      "outputs": []
    },
    {
      "cell_type": "code",
      "source": [
        "my_set.add(1)"
      ],
      "metadata": {
        "id": "PAR37-0W79xj"
      },
      "execution_count": null,
      "outputs": []
    },
    {
      "cell_type": "code",
      "source": [
        "my_set"
      ],
      "metadata": {
        "id": "DGxGwant7_xe"
      },
      "execution_count": null,
      "outputs": []
    },
    {
      "cell_type": "code",
      "source": [
        "my_set.add(3) # add in not order items\n",
        "my_set.add(2)"
      ],
      "metadata": {
        "id": "pJ_4o-a-8A9f"
      },
      "execution_count": null,
      "outputs": []
    },
    {
      "cell_type": "code",
      "source": [
        "my_set"
      ],
      "metadata": {
        "id": "1EuFsTMd8EA3"
      },
      "execution_count": null,
      "outputs": []
    },
    {
      "cell_type": "code",
      "source": [
        "my_set.add(1) # add repeated value doesnt work"
      ],
      "metadata": {
        "id": "dbJ1MaZ38GlT"
      },
      "execution_count": null,
      "outputs": []
    },
    {
      "cell_type": "code",
      "source": [
        "my_set"
      ],
      "metadata": {
        "id": "ycJqi_Ep8J5o"
      },
      "execution_count": null,
      "outputs": []
    },
    {
      "cell_type": "code",
      "source": [
        "\n",
        "\n",
        "\n",
        "# create a set using curly brackets{,}\n",
        "my_set = {250, 25.75, \"Gabriel\"}\n",
        "print(my_set)  # {25.75, 250, 'Gabriel'}\n",
        "print(type(my_set))  # class 'set'\n",
        "\n",
        "\n",
        "# create a set using set class\n",
        "my_set = set({200, 25.75, \"Oscar\"})\n",
        "print(my_set)  # {25.75, 200, 'Oscar'}\n",
        "print(type(my_set))  # class 'set'\n",
        "\n",
        "\n",
        "# add element to set\n",
        "my_set.add(300)\n",
        "print(my_set)  # {25.75, 200, 'Gabriel', 300}\n",
        "\n",
        "# remove element from set\n",
        "my_set.remove(200)\n",
        "print(my_set)  # {25.75, 'Gabriel', 300}"
      ],
      "metadata": {
        "id": "WR-S9jGY8f8G"
      },
      "execution_count": null,
      "outputs": []
    },
    {
      "cell_type": "markdown",
      "source": [
        "## 1.5. Sequence Type\n",
        "\n",
        "Sequence types help represent sequential data stored into a single variable. There are three types of sequences used in Python:\n",
        "\n",
        "* String\n",
        "* List\n",
        "* Tuple\n",
        "Individual sequence types differ from one another when it comes to changeability and order."
      ],
      "metadata": {
        "id": "mCQrgylA-XeB"
      }
    },
    {
      "cell_type": "markdown",
      "source": [
        "\n",
        "<a><img src=\"https://static.wixstatic.com/media/187085_601a43ad8c40488db6f158dad19c3091~mv2.png\" width=\"80%\" height=\"80%\" /></a>\n",
        "\n"
      ],
      "metadata": {
        "id": "HKH6s7TF-c4t"
      }
    },
    {
      "cell_type": "markdown",
      "source": [
        "### 1.5.1 Strings or Text\n",
        "\n",
        "The strings are the text strings that allow us, for example, to print information on the screen. They have their own characteristics and operations that greatly facilitate their use. String definitions can be done with single quotes (`'`), double quotes (`\"`), triple single quotes (`'''`), or triple double quotes (`\"\"\"`). The use of strings in python is very important.\n",
        "\n",
        "Strings are _ordered sequences_ which can be indexing and slicing.\n",
        "Also, there is reverse indexing to get the last letter of the string.\n",
        "\n",
        "Slicing, we use `[start:stop:step]`:\n",
        "- `start`: index of slice star\n",
        "- `stop` : is the last index (but not include)\n",
        "- `stop` : \"jump\" size between `start` and `stop`\n",
        "\n",
        "Example: `a[0:3:2]`\n",
        "\n",
        "Also, it is possible use _escape sequence_ (e.g., \\n, \\t, etc.)\n",
        "\n",
        "Sometimes it becomes useful to be able to control the format of a *string* from certain commands, being able to change upper and lower case letters, center or move the variable to one end of the screen and/or give our sequence a specific format.\n",
        "\n",
        "For example, a *string* that we will define as a variable can be made to represent a small text. Once our *string* has been defined, we will give it a title format using the following command."
      ],
      "metadata": {
        "id": "NA32ohjZBoea"
      }
    },
    {
      "cell_type": "code",
      "source": [
        "string_1 = \"This is string wonderful \"\n",
        "print(string_1)\n",
        "\n",
        "\n"
      ],
      "metadata": {
        "id": "dGTE4ye0C1My"
      },
      "execution_count": null,
      "outputs": []
    },
    {
      "cell_type": "markdown",
      "source": [
        "Another possibility is that it prints our assigned variable only as a title or with uppercase or lowercase letters."
      ],
      "metadata": {
        "id": "kZc51SdxD7uF"
      }
    },
    {
      "cell_type": "code",
      "source": [
        "print(string_1.title())\n",
        "print(string_1.upper())\n",
        "print(string_1.lower())"
      ],
      "metadata": {
        "id": "meDE0W8CD8Z0"
      },
      "execution_count": null,
      "outputs": []
    },
    {
      "cell_type": "markdown",
      "source": [
        "Centering or aligning text to the left or right of the screen are other formatting options that can be done with python commands defined for a string."
      ],
      "metadata": {
        "id": "NO6nZT85ESNM"
      }
    },
    {
      "cell_type": "code",
      "source": [
        "print(string_1.center(50,\"=\"))"
      ],
      "metadata": {
        "id": "uMTCFZ2KETG6"
      },
      "execution_count": null,
      "outputs": []
    },
    {
      "cell_type": "markdown",
      "source": [
        "Podemos redefinir una variable con cierto formato y luego convinar con otra opción de formato como sigue."
      ],
      "metadata": {
        "id": "8pUxLrQ1EadV"
      }
    },
    {
      "cell_type": "code",
      "source": [
        "print(string_1.rjust(40,\" \"))"
      ],
      "metadata": {
        "id": "T_2G6zsQEf9m"
      },
      "execution_count": null,
      "outputs": []
    },
    {
      "cell_type": "markdown",
      "source": [
        "It can be seen that the previous command adjusts the text to the right, in addition to the fact that any symbol can be entered, including space, its counterpart to the left is the following."
      ],
      "metadata": {
        "id": "d571l5alErzl"
      }
    },
    {
      "cell_type": "code",
      "source": [
        "print(string_1.ljust(40,\"*\"))"
      ],
      "metadata": {
        "id": "08jA1a5uErfC"
      },
      "execution_count": null,
      "outputs": []
    },
    {
      "cell_type": "code",
      "source": [
        "'zZ' * 10"
      ],
      "metadata": {
        "id": "j8p10w5sHfba"
      },
      "execution_count": null,
      "outputs": []
    },
    {
      "cell_type": "code",
      "source": [
        "string_1.split()"
      ],
      "metadata": {
        "id": "qLMxfHu1HlDC"
      },
      "execution_count": null,
      "outputs": []
    },
    {
      "cell_type": "markdown",
      "source": [
        "### Indexing and Slicing with strings"
      ],
      "metadata": {
        "id": "E67_povlFSoN"
      }
    },
    {
      "cell_type": "code",
      "source": [
        "a = 'hello'\n",
        "print(len(a))\n",
        "print(a[0:5:2])"
      ],
      "metadata": {
        "id": "pSatEfTuE9fC"
      },
      "execution_count": null,
      "outputs": []
    },
    {
      "cell_type": "code",
      "source": [
        "mystring = 'Hello World'\n",
        "print('indexing [0] :', mystring[0])\n",
        "print('indexing [-1]:', mystring[-1])"
      ],
      "metadata": {
        "id": "sgKokkLJFYL_"
      },
      "execution_count": null,
      "outputs": []
    },
    {
      "cell_type": "code",
      "source": [
        "print('slicing [2:]   :', mystring[2:])\n",
        "print('slicing [:2]   :', mystring[:2])\n",
        "print('slicing [:]    :', mystring[:])\n",
        "print('slicing [2:5]  :', mystring[2:5])\n",
        "print('slicing [::]   :', mystring[::])\n",
        "print('slicing [::2]  :', mystring[::2])\n",
        "print('slicing [::-1] :', mystring[::-1])"
      ],
      "metadata": {
        "id": "32fbqFDNFbcQ"
      },
      "execution_count": null,
      "outputs": []
    },
    {
      "cell_type": "markdown",
      "source": [
        "### Search operations on a string\n",
        "\n",
        "Carrying out search operations for a character or substring within a string, being able to count how many times this character is repeated or determine the position in which the substring is located within the string is possible through the following commands."
      ],
      "metadata": {
        "id": "cOwr2-bxFUO4"
      }
    },
    {
      "cell_type": "code",
      "source": [
        "string_3 = \"buscando a wally\".title()\n",
        "\n",
        "string_3.find(\"Wally\")"
      ],
      "metadata": {
        "id": "b1Dk7ZPpF5Aw"
      },
      "execution_count": null,
      "outputs": []
    },
    {
      "cell_type": "markdown",
      "source": [
        "The *`find`* command gives us a number that indicates the position that precedes the first character of Wally, that is, we find Wally after the character that is located after position 11 within the string 3. Another option is to perform a search for a subtext in a defined section of the variable, also mentioning that when the character is not found in the defined section, by default it returns the value -1."
      ],
      "metadata": {
        "id": "6NVvkwi8GEMH"
      }
    },
    {
      "cell_type": "code",
      "source": [
        "string_3.find(\"Wally\",0,10)\n",
        "string_3.find(\"Wally\",2,20)"
      ],
      "metadata": {
        "id": "4nAfvko3GHNZ"
      },
      "execution_count": null,
      "outputs": []
    },
    {
      "cell_type": "markdown",
      "source": [
        "We can also count how many times a character or substring is found within a string with the *`count`* command. And in the same way as before, the posting can be done in a defined section of the text."
      ],
      "metadata": {
        "id": "E8KHJWUdGSkT"
      }
    },
    {
      "cell_type": "code",
      "source": [
        "string_4 = \"que fácil de encontrar\"\n",
        "string_4.count(\"e\")\n"
      ],
      "metadata": {
        "id": "FyysMk2mGSK-"
      },
      "execution_count": null,
      "outputs": []
    },
    {
      "cell_type": "code",
      "source": [
        "string_4.count(\"e\",0,13)"
      ],
      "metadata": {
        "id": "CXCUzGT-Giw-"
      },
      "execution_count": null,
      "outputs": []
    },
    {
      "cell_type": "markdown",
      "source": [
        "### Print Formatting with Strings\n",
        "\n",
        "Methods:\n",
        "- `.format()`\n",
        "- f-strings - formatted string"
      ],
      "metadata": {
        "id": "7xm8k6Yqzcok"
      }
    },
    {
      "cell_type": "code",
      "source": [
        "print('This is a string {}'.format('INSERTED'))"
      ],
      "metadata": {
        "id": "ziWr1MZczmdr"
      },
      "execution_count": null,
      "outputs": []
    },
    {
      "cell_type": "code",
      "source": [
        "print('The {} {} {}'.format('fox', 'red', 'quick'))\n",
        "print('The {2} {1} {0}'.format('fox', 'red', 'quick'))\n",
        "print('The {0} {0} {0}'.format('fox', 'red', 'quick'))"
      ],
      "metadata": {
        "id": "fBnLerHUzzsF"
      },
      "execution_count": null,
      "outputs": []
    },
    {
      "cell_type": "code",
      "source": [
        "print('The {q} {r} {f}'.format(f='fox', r='red', q='quick'))"
      ],
      "metadata": {
        "id": "F-YhMWdzz2Fb"
      },
      "execution_count": null,
      "outputs": []
    },
    {
      "cell_type": "markdown",
      "source": [
        "** Float formating follows ** `{value:width.precision}`"
      ],
      "metadata": {
        "id": "xjngK1U5z9Am"
      }
    },
    {
      "cell_type": "code",
      "source": [
        "result = 100/9\n",
        "print(result)"
      ],
      "metadata": {
        "id": "olOAuw6Sz4Tm"
      },
      "execution_count": null,
      "outputs": []
    },
    {
      "cell_type": "code",
      "source": [
        "print('The result was {r:10.3f}'.format(r=result))"
      ],
      "metadata": {
        "id": "FlpkWoBM0Ewe"
      },
      "execution_count": null,
      "outputs": []
    },
    {
      "cell_type": "code",
      "source": [
        "name = 'Gabriel'\n",
        "print('My name is {}'.format(name))\n",
        "print(f'My name is {name}') #formatted string literal - Python 3.6\n",
        "print(f'My name is {name!r}')"
      ],
      "metadata": {
        "id": "1LYMRYJi0HnQ"
      },
      "execution_count": null,
      "outputs": []
    },
    {
      "cell_type": "markdown",
      "source": [
        "** Placeholders **"
      ],
      "metadata": {
        "id": "VUq2_oFe0Mfb"
      }
    },
    {
      "cell_type": "code",
      "source": [
        "print('My name is %s' % (name))\n",
        "print('My name is %r' % (name))"
      ],
      "metadata": {
        "id": "IS1yY4wQ0QmA"
      },
      "execution_count": null,
      "outputs": []
    },
    {
      "cell_type": "code",
      "source": [
        "print('I wrote %s programs today.' % 4.75)\n",
        "print('I wrote %d programs today.' % 4.75)"
      ],
      "metadata": {
        "id": "oanS8Yfp0XF8"
      },
      "execution_count": null,
      "outputs": []
    },
    {
      "cell_type": "markdown",
      "source": [
        "** Alignment, padding and precision with ** `.format()`"
      ],
      "metadata": {
        "id": "oee4RkJ-0cBh"
      }
    },
    {
      "cell_type": "code",
      "source": [
        "print('{0:<8} | {1:^8} | {2:>8}'.format('Left','Center','Right'))\n",
        "print('{0:<8} | {1:^8} | {2:>8}'.format(11,22,33))"
      ],
      "metadata": {
        "id": "UGclkQRH0e9B"
      },
      "execution_count": null,
      "outputs": []
    },
    {
      "cell_type": "code",
      "source": [
        "print('{0:=<8} | {1:-^8} | {2:.>8}'.format('Left','Center','Right'))\n",
        "print('{0:=<8} | {1:-^8} | {2:.>8}'.format(11,22,33))"
      ],
      "metadata": {
        "id": "pmtOrReU0iqm"
      },
      "execution_count": null,
      "outputs": []
    },
    {
      "cell_type": "code",
      "source": [
        "'{:>10}'.format('test')"
      ],
      "metadata": {
        "id": "2KjgTxvU18Zq"
      },
      "execution_count": null,
      "outputs": []
    },
    {
      "cell_type": "code",
      "source": [
        "'{:_<10}'.format('test')"
      ],
      "metadata": {
        "id": "x6MJ34mO2EAB"
      },
      "execution_count": null,
      "outputs": []
    },
    {
      "cell_type": "code",
      "source": [
        "'{:^10}'.format('test')"
      ],
      "metadata": {
        "id": "ay_BaWFm2IRP"
      },
      "execution_count": null,
      "outputs": []
    },
    {
      "cell_type": "markdown",
      "source": [
        "** Truncating long strings **"
      ],
      "metadata": {
        "id": "0FG89heO2Lqj"
      }
    },
    {
      "cell_type": "code",
      "source": [
        "'{:.5}'.format('xylophone')"
      ],
      "metadata": {
        "id": "tb1K66902QSA"
      },
      "execution_count": null,
      "outputs": []
    },
    {
      "cell_type": "code",
      "source": [
        "'{:10.5}'.format('xylophone')"
      ],
      "metadata": {
        "id": "u8pfq5JP2Tqp"
      },
      "execution_count": null,
      "outputs": []
    },
    {
      "cell_type": "markdown",
      "source": [
        "** Numbers **"
      ],
      "metadata": {
        "id": "A1L7MJ7i2Xjk"
      }
    },
    {
      "cell_type": "code",
      "source": [
        "'{:d}'.format(42)"
      ],
      "metadata": {
        "id": "lRl2A-sD2dhg"
      },
      "execution_count": null,
      "outputs": []
    },
    {
      "cell_type": "code",
      "source": [
        "'{:f}'.format(3.141592653589793)"
      ],
      "metadata": {
        "id": "zcIEjoDP2ggV"
      },
      "execution_count": null,
      "outputs": []
    },
    {
      "cell_type": "code",
      "source": [
        "'{:4d}'.format(42)"
      ],
      "metadata": {
        "id": "ypDcHv7l2js2"
      },
      "execution_count": null,
      "outputs": []
    },
    {
      "cell_type": "code",
      "source": [
        "'{:06.2f}'.format(3.141592653589793)"
      ],
      "metadata": {
        "id": "wLLrGJYS2nM2"
      },
      "execution_count": null,
      "outputs": []
    },
    {
      "cell_type": "code",
      "source": [
        "'{:04d}'.format(42)"
      ],
      "metadata": {
        "id": "-wVQxDfT2qIq"
      },
      "execution_count": null,
      "outputs": []
    },
    {
      "cell_type": "markdown",
      "source": [
        "** Signed numbers **"
      ],
      "metadata": {
        "id": "izWqWCPX2tys"
      }
    },
    {
      "cell_type": "code",
      "source": [
        "'{:+d}'.format(42)"
      ],
      "metadata": {
        "id": "DhUdRUsl2vOQ"
      },
      "execution_count": null,
      "outputs": []
    },
    {
      "cell_type": "code",
      "source": [
        "'{: d}'.format((- 23))"
      ],
      "metadata": {
        "id": "32AD295i2xUz"
      },
      "execution_count": null,
      "outputs": []
    },
    {
      "cell_type": "code",
      "source": [
        "'{: d}'.format(42)"
      ],
      "metadata": {
        "id": "xWSTpSk22zrs"
      },
      "execution_count": null,
      "outputs": []
    },
    {
      "cell_type": "code",
      "source": [
        "'{:=+5d}'.format(23)"
      ],
      "metadata": {
        "id": "XauH2UGN22Kd"
      },
      "execution_count": null,
      "outputs": []
    },
    {
      "cell_type": "markdown",
      "source": [
        "** Named placeholders **"
      ],
      "metadata": {
        "id": "MunhkDNe2-Y7"
      }
    },
    {
      "cell_type": "code",
      "source": [
        "data = {'first': 'Gabriel', 'last': 'Smith!'}\n",
        "'{first} {last}'.format(**data)"
      ],
      "metadata": {
        "id": "1HtRJVCV2_4x"
      },
      "execution_count": null,
      "outputs": []
    },
    {
      "cell_type": "code",
      "source": [
        "'{first} {last}'.format(first='Hodor', last='Hodor!')"
      ],
      "metadata": {
        "id": "PoqKcvjN3QVD"
      },
      "execution_count": null,
      "outputs": []
    },
    {
      "cell_type": "markdown",
      "source": [
        "** Getitem and Getattr **"
      ],
      "metadata": {
        "id": "6fKRWoS43USJ"
      }
    },
    {
      "cell_type": "code",
      "source": [
        "person = {'first': 'Jean-Luc', 'last': 'Picard'}\n",
        "'{p[first]} {p[last]}'.format(p=person)"
      ],
      "metadata": {
        "id": "-Wz9Hoyg3VsW"
      },
      "execution_count": null,
      "outputs": []
    },
    {
      "cell_type": "code",
      "source": [
        "data = [4, 8, 15, 16, 23, 42]\n",
        "'{d[4]} {d[5]}'.format(d=data)"
      ],
      "metadata": {
        "id": "Q6Vv1GkN3c6S"
      },
      "execution_count": null,
      "outputs": []
    },
    {
      "cell_type": "markdown",
      "source": [
        "** Datetime **"
      ],
      "metadata": {
        "id": "f-eSEDF83leu"
      }
    },
    {
      "cell_type": "code",
      "source": [
        "from datetime import datetime\n",
        "'{:%Y-%m-%d %H:%M}'.format(datetime(2001, 2, 3, 4, 5))"
      ],
      "metadata": {
        "id": "QZaLHZgV3nBY"
      },
      "execution_count": null,
      "outputs": []
    },
    {
      "cell_type": "markdown",
      "source": [
        "** Parametrized formats **"
      ],
      "metadata": {
        "id": "_OgpFkJe3wKN"
      }
    },
    {
      "cell_type": "code",
      "source": [
        "'{:{align}{width}}'.format('test', align='^', width='10')"
      ],
      "metadata": {
        "id": "4KUiK1ZM3xiR"
      },
      "execution_count": null,
      "outputs": []
    },
    {
      "cell_type": "code",
      "source": [
        "'{:.{prec}} = {:.{prec}f}'.format('Gibberish', 2.7182, prec=3)"
      ],
      "metadata": {
        "id": "HE60ByIF30Tw"
      },
      "execution_count": null,
      "outputs": []
    },
    {
      "cell_type": "code",
      "source": [
        "'{:{width}.{prec}f}'.format(2.7182, width=5, prec=2)"
      ],
      "metadata": {
        "id": "wVTqbUlC32js"
      },
      "execution_count": null,
      "outputs": []
    },
    {
      "cell_type": "code",
      "source": [
        "'{:{prec}} = {:{prec}}'.format('Gibberish', 2.7182, prec='.3')"
      ],
      "metadata": {
        "id": "myprMf9S3485"
      },
      "execution_count": null,
      "outputs": []
    },
    {
      "cell_type": "code",
      "source": [
        "from datetime import datetime\n",
        "dt = datetime(2001, 2, 3, 4, 5)\n",
        "'{:{dfmt} {tfmt}}'.format(dt, dfmt='%Y-%m-%d', tfmt='%H:%M')"
      ],
      "metadata": {
        "id": "sEadU90138FO"
      },
      "execution_count": null,
      "outputs": []
    },
    {
      "cell_type": "code",
      "source": [
        "'{:{}{}{}.{}}'.format(2.7182818284, '>', '+', 10, 3)"
      ],
      "metadata": {
        "id": "L_zOzFed4Ew9"
      },
      "execution_count": null,
      "outputs": []
    },
    {
      "cell_type": "code",
      "source": [
        "'{:{}{sign}{}.{}}'.format(2.7182818284, '>', 10, 3, sign='+')"
      ],
      "metadata": {
        "id": "UE6dQ5U24G98"
      },
      "execution_count": null,
      "outputs": []
    },
    {
      "cell_type": "markdown",
      "source": [
        "### Logical format operations\n",
        "\n",
        "We will see that we can make logical sentences in relation to characteristics of a *string*, this can be very helpful when defining certain formats for variables that the programmer or user must manipulate.\n",
        "\n",
        "We start with statements that refer to the format of a *string*, for example knowing if it starts or ends with certain characters, using the commands *`startswith()`* and *`endswith()`* respectively, to which Python will respond with true or false."
      ],
      "metadata": {
        "id": "QMjXHzbj4cVN"
      }
    },
    {
      "cell_type": "code",
      "source": [
        "string_5 = \"building a game\"\n",
        "print(string_5.startswith(\"building\"))"
      ],
      "metadata": {
        "id": "gWFmNAo84iuU"
      },
      "execution_count": null,
      "outputs": []
    },
    {
      "cell_type": "code",
      "source": [
        "print(string_5.endswith(\"game\"))"
      ],
      "metadata": {
        "id": "3qC9MQQp42vi"
      },
      "execution_count": null,
      "outputs": []
    },
    {
      "cell_type": "markdown",
      "source": [
        "We can also check if the *string* contains only numeric, alphabetic or alphanumeric characters, using the *`isdigit()`*, *`isalpha()`* and *`isalnum()`* commands respectively."
      ],
      "metadata": {
        "id": "qxMpZTc64_JY"
      }
    },
    {
      "cell_type": "code",
      "source": [
        "print(string_5.isdigit())"
      ],
      "metadata": {
        "id": "iL3KlBeb5ArF"
      },
      "execution_count": null,
      "outputs": []
    },
    {
      "cell_type": "code",
      "source": [
        "string_6 = \"1987\"\n",
        "print(string_6.isalpha())"
      ],
      "metadata": {
        "id": "eoaQTZRI5PtL"
      },
      "execution_count": null,
      "outputs": []
    },
    {
      "cell_type": "code",
      "source": [
        "print(string_6.isdigit())"
      ],
      "metadata": {
        "id": "sPaIJwuP5YGL"
      },
      "execution_count": null,
      "outputs": []
    },
    {
      "cell_type": "code",
      "source": [
        "string_7 = string_6 + string_5\n",
        "print(string_7)\n",
        "print(string_7.isalnum())"
      ],
      "metadata": {
        "id": "PQMktpxj5eem"
      },
      "execution_count": null,
      "outputs": []
    },
    {
      "cell_type": "code",
      "source": [
        "string_8=\"1987game\"\n",
        "print(string_8.isalnum())"
      ],
      "metadata": {
        "id": "gh-hZeew54Sh"
      },
      "execution_count": null,
      "outputs": []
    },
    {
      "cell_type": "markdown",
      "source": [
        "Then we can try other formatting features, such as knowing if the string contains only uppercase characters, only lowercase characters, or even some specific format such as title, using the *`isupper()`*, *`islower()`* commands. and finally *`ititle()`*"
      ],
      "metadata": {
        "id": "HynxWPPa6M41"
      }
    },
    {
      "cell_type": "code",
      "source": [
        "name = \"isaac\"\n",
        "print(name.isupper())"
      ],
      "metadata": {
        "id": "mudSfo6g6UHT"
      },
      "execution_count": null,
      "outputs": []
    },
    {
      "cell_type": "code",
      "source": [
        "print(name.islower())"
      ],
      "metadata": {
        "id": "PKHekZMH6d5j"
      },
      "execution_count": null,
      "outputs": []
    },
    {
      "cell_type": "code",
      "source": [
        "lastname = \"asimov\".upper()\n",
        "print(lastname.islower())\n",
        "response = lastname.islower()\n",
        "print(response)"
      ],
      "metadata": {
        "id": "Ha5d1GL16kgx"
      },
      "execution_count": null,
      "outputs": []
    },
    {
      "cell_type": "code",
      "source": [
        "name_full = name.title() + lastname.title()\n",
        "\n",
        "print(name_full)"
      ],
      "metadata": {
        "id": "8eD0L9I661Vt"
      },
      "execution_count": null,
      "outputs": []
    },
    {
      "cell_type": "markdown",
      "source": [
        "another format characteristic applied from a logical operation will be whether the string contains only whitespace, for which we will use the *`isspace()`* command as follows.*`ititle()`*"
      ],
      "metadata": {
        "id": "nW5sQAJO7IV-"
      }
    },
    {
      "cell_type": "code",
      "source": [
        "name_full = \"isaac asimov\".title()\n",
        "print(name_full.isspace())\n",
        "name_empty = \"    \"\n",
        "print(name_empty.isspace())"
      ],
      "metadata": {
        "id": "qodTGWQj7JbK"
      },
      "execution_count": null,
      "outputs": []
    },
    {
      "cell_type": "markdown",
      "source": [
        "### Conditioning statements\n",
        "a conditioning statement will allow us to broaden the spectrum of application of logical operations from basic elements"
      ],
      "metadata": {
        "id": "kjMdhJAc7lBv"
      }
    },
    {
      "cell_type": "code",
      "source": [
        "password_1 = \"abcd1234\"\n",
        "\n",
        "if len(password_1)<10:\n",
        "     print(\"password contains less than 10 characters\")\n",
        "else:\n",
        "     print(\"valid password\")"
      ],
      "metadata": {
        "id": "1ELlLKr27svy"
      },
      "execution_count": null,
      "outputs": []
    },
    {
      "cell_type": "code",
      "source": [
        "password_2 = \"abcd1234ab\"\n",
        "response = password_2.islower()\n",
        "\n",
        "if len(password_2)<10:\n",
        "     print(\"password contains less than 10 characters\")\n",
        "elif response == True:\n",
        "     print(\"password must contain at least 1 uppercase character\")\n",
        "else:\n",
        "     print(\"valid password\")"
      ],
      "metadata": {
        "id": "q4QLdQeA72VP"
      },
      "execution_count": null,
      "outputs": []
    },
    {
      "cell_type": "markdown",
      "source": [
        "### Str data type\n",
        "In Python, A string is a sequence of characters enclosed within a single quote or double quote. These characters could be anything like letters, numbers, or special symbols enclosed within double quotation marks. For example, \"PYnative\" is a string.\n",
        "\n",
        "The string type in Python is represented using a str class.\n",
        "\n",
        "To work with text or character data in Python, we use Strings. Once a string is created, we can do many operations on it, such as searching inside it, creating a substring from it, and splitting it."
      ],
      "metadata": {
        "id": "wGnc1dTW8QpB"
      }
    },
    {
      "cell_type": "code",
      "source": [
        "platform = \"PYnative\"\n",
        "print(type(platform))  # <class 'str'>\n",
        "\n",
        "# display string\n",
        "print(platform)  # 'PYnative'\n",
        "\n",
        "# accessing 2nd character of a string\n",
        "print(platform[1])  # Y\n",
        "\n",
        "# accessing 4nd character of a string\n",
        "print(platform[4])  # t\n",
        "\n"
      ],
      "metadata": {
        "id": "imsEB9oH8U0a"
      },
      "execution_count": null,
      "outputs": []
    },
    {
      "cell_type": "markdown",
      "source": [
        "Strings are a sequence of bytes representing Unicode characters. The string type in Python is called str.\n",
        "\n",
        "Create a String\n",
        "\n",
        "Depending on the use case and characters needed, there are four different ways to create a string. They differ based on the delimiters and whether a string is single or multiline."
      ],
      "metadata": {
        "id": "VvgUfOFJ_QLm"
      }
    },
    {
      "cell_type": "code",
      "source": [
        "print(\"This is a string with 'single' quotes delimited by double quotes\")"
      ],
      "metadata": {
        "id": "nj9g6_p-_Ru3"
      },
      "execution_count": null,
      "outputs": []
    },
    {
      "cell_type": "code",
      "source": [
        "print(\"Thanks to the \\\"\\\\\\\" character, we can use double quotes inside double quote delimiters\")"
      ],
      "metadata": {
        "id": "3Tsx_Imt_VnM"
      },
      "execution_count": null,
      "outputs": []
    },
    {
      "cell_type": "markdown",
      "source": [
        "Create a string by using single quote delimiters"
      ],
      "metadata": {
        "id": "gbuFIPz__nOM"
      }
    },
    {
      "cell_type": "code",
      "source": [
        "print('This is a string with \"double\" quotes delimited by single quotes')"
      ],
      "metadata": {
        "id": "nVoWyYFc_exI"
      },
      "execution_count": null,
      "outputs": []
    },
    {
      "cell_type": "markdown",
      "source": [
        "There are two ways to delimit a multiline string.\n",
        "\n",
        "Create a multiline string by using triple single quote delimiters:"
      ],
      "metadata": {
        "id": "nbeOpzwe_vXF"
      }
    },
    {
      "cell_type": "code",
      "source": [
        "print('''This is a multiline string\n",
        "with 'single', \"double\" and \"\"\"triple-double\"\"\" quotes\n",
        "delimited with triple single quotes''')"
      ],
      "metadata": {
        "id": "us1isYMe_nwz"
      },
      "execution_count": null,
      "outputs": []
    },
    {
      "cell_type": "code",
      "source": [
        "print(\"\"\"'This is a multiline string\n",
        "with 'single', \"double\" and ```triple single``` quotes\n",
        "delimited with triple double quotes'\"\"\")"
      ],
      "metadata": {
        "id": "IhnCYcvW_88i"
      },
      "execution_count": null,
      "outputs": []
    },
    {
      "cell_type": "markdown",
      "source": [
        "Access Elements of a String\n",
        "\n",
        "Strings in Python are arrays of characters. To access individual elements, use indexing:"
      ],
      "metadata": {
        "id": "MXY1GuD0AG8I"
      }
    },
    {
      "cell_type": "code",
      "source": [
        "s = \"phoenixNap\"\n",
        "s[0], s[2], s[-1]"
      ],
      "metadata": {
        "id": "kZZMFj_9AJqx"
      },
      "execution_count": null,
      "outputs": []
    },
    {
      "cell_type": "code",
      "source": [
        "print(s[0:7])\n",
        "print(s[-3:])"
      ],
      "metadata": {
        "id": "QT7nqrLfAPae"
      },
      "execution_count": null,
      "outputs": []
    },
    {
      "cell_type": "code",
      "source": [
        "for letter in s:\n",
        "     print(letter)"
      ],
      "metadata": {
        "id": "mDTHiFZ2ATLG"
      },
      "execution_count": null,
      "outputs": []
    },
    {
      "cell_type": "markdown",
      "source": [
        "### 1.5.2 List in Python\n",
        "\n",
        "The Python List is an ordered collection (also known as a sequence ) of elements. List elements can be accessed, iterated, and removed according to the order they inserted at the creation time.\n",
        "\n",
        "A Python list is an ordered changeable array. Lists allow duplicate elements regardless of their type. Adding or removing members from a list allows changes after creation.\n",
        "\n",
        "We use the list data type to represent groups of the element as a single entity.  For example: If we want to store all student’s names, we can use list type.\n",
        "\n",
        "1. The list can contain data of all data types such as  int, float, string\n",
        "2. Duplicates elements are allowed in the list\n",
        "3. The list is mutable which means we can modify the value of list elements\n",
        "4. Lists are ordered.\n",
        "5. Lists can contain any arbitrary objects.\n",
        "6. List elements can be accessed by index.\n",
        "7. Lists can be nested to arbitrary depth.\n",
        "8. Lists are mutable.\n",
        "9. Lists are dynamic.\n",
        "We can create a list using the two ways\n",
        "\n",
        "* By enclosing elements in the square brackets [].\n",
        "* Using a list() class."
      ],
      "metadata": {
        "id": "XdBt8UDf87_k"
      }
    },
    {
      "cell_type": "markdown",
      "source": [
        "<a><img src=\"https://static.wixstatic.com/media/187085_71ac1aa2f8c4475ba21f4c096a035b1a~mv2.png\" width=\"80%\" height=\"80%\" /></a>\n",
        "\n"
      ],
      "metadata": {
        "id": "lsrmNQ18ByB5"
      }
    },
    {
      "cell_type": "code",
      "source": [
        "my_list = [\"Juan\", \"Gabriel\", 20, 35.75]\n",
        "# display list\n",
        "print(my_list)  # ['Juan', 'Gabriel', 20, 35.75]\n",
        "print(type(my_list))  # class 'list'\n",
        "\n",
        "# Accessing first element of list\n",
        "print(my_list[0])  # 'Juan'\n",
        "\n",
        "# slicing list elements\n",
        "print(my_list[1:5])  # ['Gabriel', 20, 35.75]\n",
        "\n",
        "# modify 2nd element of a list\n",
        "my_list[1] = \"Adriana\"\n",
        "print(my_list[1])  # 'Adriana'\n",
        "print(my_list, \"is\", type(my_list))\n",
        "\n",
        "# create list using a list class\n",
        "my_list2 = list([\"Juan\", \"Gabriel\", 20, 35.75])\n",
        "print(my_list2)  # ['Juan', 'Gabriel', 20, 35.75]"
      ],
      "metadata": {
        "id": "RBPdDRPMAz7Q"
      },
      "execution_count": null,
      "outputs": []
    },
    {
      "cell_type": "markdown",
      "source": [
        "Access Elements of a List\n",
        "\n",
        "Lists are a sequence of elements. Access members by using indexing notation, where the first element is at index 0:"
      ],
      "metadata": {
        "id": "L4JtUlhPDNbl"
      }
    },
    {
      "cell_type": "code",
      "source": [
        "my_list[0], my_list[3], my_list[1]"
      ],
      "metadata": {
        "id": "C9UtZ6pVDQs6"
      },
      "execution_count": null,
      "outputs": []
    },
    {
      "cell_type": "code",
      "source": [
        "my_list[0:2]\n"
      ],
      "metadata": {
        "id": "cFEOl3vKDZSe"
      },
      "execution_count": null,
      "outputs": []
    },
    {
      "cell_type": "code",
      "source": [
        "my_list[0:3]"
      ],
      "metadata": {
        "id": "U5BmvM8uDm3j"
      },
      "execution_count": null,
      "outputs": []
    },
    {
      "cell_type": "markdown",
      "source": [
        "Negative indexes are also possible"
      ],
      "metadata": {
        "id": "4bn5k6vWDq6l"
      }
    },
    {
      "cell_type": "code",
      "source": [
        "my_list[-1]"
      ],
      "metadata": {
        "id": "n8c9Y_kgDumu"
      },
      "execution_count": null,
      "outputs": []
    },
    {
      "cell_type": "code",
      "source": [
        "my_list[0:3:2]"
      ],
      "metadata": {
        "id": "0tOZAo1pEKuG"
      },
      "execution_count": null,
      "outputs": []
    },
    {
      "cell_type": "markdown",
      "source": [
        "Lists Can Be Nested\n",
        "You have seen that an element in a list can be any sort of object. That includes another list. A list can contain sublists, which in turn can contain sublists themselves, and so on to arbitrary depth"
      ],
      "metadata": {
        "id": "qT2yqsIGFLv6"
      }
    },
    {
      "cell_type": "code",
      "source": [
        "x = ['a', ['bb', ['ccc', 'ddd'], 'ee', 'ff'], 'g', ['hh', 'ii'], 'j']\n",
        "print(x)"
      ],
      "metadata": {
        "id": "-RNl-qy3FMt7"
      },
      "execution_count": null,
      "outputs": []
    },
    {
      "cell_type": "code",
      "source": [
        "print(x[0], x[2], x[4]) # a g j"
      ],
      "metadata": {
        "id": "8KXSnAipFUq9"
      },
      "execution_count": null,
      "outputs": []
    },
    {
      "cell_type": "code",
      "source": [
        "print(x[1][1])"
      ],
      "metadata": {
        "id": "StY7MeQcFgk9"
      },
      "execution_count": null,
      "outputs": []
    },
    {
      "cell_type": "code",
      "source": [
        "print(x[1][1][0], x[1][1][1])"
      ],
      "metadata": {
        "id": "rIVO1IqyF2-r"
      },
      "execution_count": null,
      "outputs": []
    },
    {
      "cell_type": "markdown",
      "source": [
        "Modifying a Single List Value\n",
        "A single value in a list can be replaced by indexing and simple assignment:"
      ],
      "metadata": {
        "id": "vXtdslxvF_KZ"
      }
    },
    {
      "cell_type": "markdown",
      "source": [],
      "metadata": {
        "id": "rY2ucWWM6kO9"
      }
    },
    {
      "cell_type": "code",
      "source": [
        " a = ['foo', 'bar', 'baz', 'qux', 'quux', 'corge']\n",
        " print(a)\n",
        " a[2] = 10\n",
        " a[-1] = 20\n",
        " print(a)\n"
      ],
      "metadata": {
        "id": "89c0tSa_GDNK"
      },
      "execution_count": null,
      "outputs": []
    },
    {
      "cell_type": "markdown",
      "source": [
        "A list item can be deleted with the del command or adding with append command:"
      ],
      "metadata": {
        "id": "Ax8RjU-zGbab"
      }
    },
    {
      "cell_type": "code",
      "source": [
        "a = ['foo', 'bar', 'baz', 'qux', 'quux', 'corge']\n",
        "del a[3]\n",
        "print(a)\n",
        "a.append(123)\n",
        "print(a)"
      ],
      "metadata": {
        "id": "SuhLYkj0Gdec"
      },
      "execution_count": null,
      "outputs": []
    },
    {
      "cell_type": "code",
      "source": [
        "# A list of mixed datatypes\n",
        "L = [ 1, 'abc', 1.23, (3+4j), True]\n",
        "print(L)\n",
        "# An empty list\n",
        "L = []\n",
        "print(L)"
      ],
      "metadata": {
        "id": "GtdYZsSVHKTj"
      },
      "execution_count": null,
      "outputs": []
    },
    {
      "cell_type": "code",
      "source": [
        "# Convert a string to a list\n",
        "L = list('abc')\n",
        "print(L)\n",
        "# Prints ['a', 'b', 'c']"
      ],
      "metadata": {
        "id": "JT7gUt90HWAE"
      },
      "execution_count": null,
      "outputs": []
    },
    {
      "cell_type": "markdown",
      "source": [
        "Combine Lists\n",
        "You can merge one list into another by using extend() method. It takes a list as an argument and appends all of the elements."
      ],
      "metadata": {
        "id": "HHgF5vlrHiyI"
      }
    },
    {
      "cell_type": "code",
      "source": [
        "L = ['red', 'green', 'yellow']\n",
        "L.extend([1,2,3])\n",
        "print(L)\n",
        "# Prints ['red', 'green', 'yellow', 1, 2, 3]"
      ],
      "metadata": {
        "id": "35YZksq6Hjqq"
      },
      "execution_count": null,
      "outputs": []
    },
    {
      "cell_type": "markdown",
      "source": [
        "Alternatively, you can use the concatenation operator + or the augmented assignment operator +="
      ],
      "metadata": {
        "id": "CocOhemtHqQ8"
      }
    },
    {
      "cell_type": "code",
      "source": [
        "# concatenation operator\n",
        "L = ['red', 'green', 'blue']\n",
        "L = L + [1,2,3]\n",
        "print(L)\n",
        "# Prints ['red', 'green', 'blue', 1, 2, 3]\n",
        "\n",
        "# augmented assignment operator\n",
        "L = ['red', 'green', 'blue']\n",
        "L += [1,2,3]\n",
        "print(L)\n",
        "# Prints ['red', 'green', 'blue', 1, 2, 3]"
      ],
      "metadata": {
        "id": "LMJ9N_qXHrS2"
      },
      "execution_count": null,
      "outputs": []
    },
    {
      "cell_type": "markdown",
      "source": [
        "Remove an Item by Index\n",
        "If you know the index of the item you want, you can use pop() method. It modifies the list and returns the removed item.\n",
        "\n",
        "If no index is specified, pop() removes and returns the last item in the list."
      ],
      "metadata": {
        "id": "7QYQM6YjH-F0"
      }
    },
    {
      "cell_type": "code",
      "source": [
        "L = ['red', 'green', 'blue']\n",
        "x = L.pop(1)\n",
        "print(L)\n",
        "# Prints ['red', 'blue']\n",
        "\n",
        "# removed item\n",
        "print(x)\n",
        "# Prints green"
      ],
      "metadata": {
        "id": "RA7cEHWGH_S5"
      },
      "execution_count": null,
      "outputs": []
    },
    {
      "cell_type": "markdown",
      "source": [
        "If you don’t need the removed value, use the del statement."
      ],
      "metadata": {
        "id": "zYrgh4XpIBg6"
      }
    },
    {
      "cell_type": "code",
      "source": [
        "L = ['red', 'green', 'blue']\n",
        "del L[1]\n",
        "print(L)\n",
        "# Prints ['red', 'blue']"
      ],
      "metadata": {
        "id": "ZsvqVl0mIFSD"
      },
      "execution_count": null,
      "outputs": []
    },
    {
      "cell_type": "markdown",
      "source": [
        "Remove an Item by Value\n",
        "If you’re not sure where the item is in the list, use remove() method to delete it by value."
      ],
      "metadata": {
        "id": "DRv3iK83IGAt"
      }
    },
    {
      "cell_type": "code",
      "source": [
        "L = ['red', 'green', 'blue']\n",
        "L.remove('red')\n",
        "print(L)\n",
        "# Prints ['green', 'blue']"
      ],
      "metadata": {
        "id": "WvKENf10IISy"
      },
      "execution_count": null,
      "outputs": []
    },
    {
      "cell_type": "code",
      "source": [
        "L = ['red', 'green', 'blue', 'red']\n",
        "L.remove('red')\n",
        "print(L)\n",
        "# Prints ['green', 'blue', 'red']"
      ],
      "metadata": {
        "id": "wWULJf1oIL4W"
      },
      "execution_count": null,
      "outputs": []
    },
    {
      "cell_type": "markdown",
      "source": [
        "Remove Multiple Items\n",
        "To remove more than one items, use the del keyword with a slice index."
      ],
      "metadata": {
        "id": "nI20Pab0IOXS"
      }
    },
    {
      "cell_type": "code",
      "source": [
        "L = ['red', 'green', 'blue', 'yellow', 'black']\n",
        "del L[1:4]\n",
        "print(L)\n",
        "# Prints ['red', 'black']"
      ],
      "metadata": {
        "id": "KLffKXuZIS_r"
      },
      "execution_count": null,
      "outputs": []
    },
    {
      "cell_type": "markdown",
      "source": [
        "Remove all Items\n",
        "Use clear() method to remove all items from the list."
      ],
      "metadata": {
        "id": "kw_Z2pr3IWfZ"
      }
    },
    {
      "cell_type": "code",
      "source": [
        "L = ['red', 'green', 'blue']\n",
        "L.clear()\n",
        "print(L)\n",
        "# Prints []"
      ],
      "metadata": {
        "id": "9wLrB7MHIYqj"
      },
      "execution_count": null,
      "outputs": []
    },
    {
      "cell_type": "markdown",
      "source": [
        "Check if item exists in a list\n",
        "To determine whether a value is or isn’t in a list, you can use in and not in operators with if statement."
      ],
      "metadata": {
        "id": "YJHIevhIIePw"
      }
    },
    {
      "cell_type": "code",
      "source": [
        "# Check for presence\n",
        "L = ['red', 'green', 'blue']\n",
        "if 'red' in L:\n",
        "    print('yes')\n",
        "\n",
        "# Check for absence\n",
        "L = ['red', 'green', 'blue']\n",
        "if 'yellow' not in L:\n",
        "    print('yes')"
      ],
      "metadata": {
        "id": "O4bf6MVGIgkL"
      },
      "execution_count": null,
      "outputs": []
    },
    {
      "cell_type": "markdown",
      "source": [
        "### Python List Methods\n",
        "Python has a set of built-in methods that you can call on list objects.\n",
        "\n",
        "Python List Methods\n",
        "\n",
        "| Method | \tDescription|\n",
        "| :--- | :---: |\n",
        "| append() |\tAdds an item to the end of the list |\n",
        "| insert() |\tInserts an item at a given position |\n",
        "| extend() |\tExtends the list by appending all the items from the iterable |\n",
        "| remove() |\tRemoves first instance of the specified item |\n",
        "| pop() |\tRemoves the item at the given position in the list |\n",
        "| clear() |\tRemoves all items from the list |\n",
        "| copy() |\tReturns a shallow copy of the list |\n",
        "| count() |\tReturns the count of specified item in the list |\n",
        "| index() |\tReturns the index of first instance of the specified item |\n",
        "| reverse() |\tReverses the items of the list in place |\n",
        "| sort() |\tSorts the items of the list in place |"
      ],
      "metadata": {
        "id": "Vpz3oaj2IliM"
      }
    },
    {
      "cell_type": "markdown",
      "source": [
        "### Functions with Python List\n",
        "\n",
        "Python has a set of built-in methods that you can call on list objects.\n",
        "\n",
        "Python List Methods\n",
        "\n",
        "| Method | \tDescription|\n",
        "| :--- | :---: |\n",
        "| all()| \tReturns True if all list items are true\n",
        "| any()| \tReturns True if any list item is true\n",
        "| enumerate()| \tTakes a list and returns an enumerate object\n",
        "| len()\t| Returns the number of items in the list\n",
        "| list()\t| Converts an iterable (tuple, string, set etc.) to a list\n",
        "| max()\t| Returns the largest item of the list\n",
        "| min()\t| Returns the smallest item of the list\n",
        "| sorted()\t| Returns a sorted list\n",
        "| sum()\t| Sums items of the list"
      ],
      "metadata": {
        "id": "Y_IK-q5uJ21w"
      }
    },
    {
      "cell_type": "markdown",
      "source": [
        "### 1.5.3 Tuples in Python\n",
        "\n",
        "Tuples in Python are the types in which the user cannot change the elements once they are inserted or assigned. They are just similar to lists but we can change the elements of the list once assigned. A tuple can be created in python by putting the elements inside ‘( )’ these brackets. There is no boundary for the elements in a tuple.  It can have a number of elements as a user wants. They can be of different data types as well such as int, float, char etc.\n",
        "\n",
        "In case we want to put a single element inside a tuple, the user can put a comma after the single element. Otherwise, the program doesn’t consider that element to be in a tuple\n",
        "\n",
        "\n"
      ],
      "metadata": {
        "id": "A8Fwb8r1LAJa"
      }
    },
    {
      "cell_type": "markdown",
      "source": [
        "<a><img src=\"https://static.wixstatic.com/media/187085_cce08af60864472ebe391f459c870738~mv2.png\" width=\"80%\" height=\"80%\" /></a>\n",
        "\n"
      ],
      "metadata": {
        "id": "ZsjpiNkgPPbZ"
      }
    },
    {
      "cell_type": "code",
      "source": [
        "dh_tuple = ()\n",
        "print(dh_tuple)\n",
        "dh_tuple = (10, 20, 30)\n",
        "print(dh_tuple)\n",
        "dh_tuple = (100, \"Welcome\", 10.6)\n",
        "print(dh_tuple)\n",
        "dh_tuple = (\"Developer Helps\", [2, 0, 9], (71, 20, 34))\n",
        "print(dh_tuple)\n",
        "print(dh_tuple[1])\n",
        "print(dh_tuple[1][2])"
      ],
      "metadata": {
        "id": "Dl5fiAdwL0Zw"
      },
      "execution_count": null,
      "outputs": []
    },
    {
      "cell_type": "markdown",
      "source": [
        "Tuples are ordered collections of elements that are unchangeable. The tuple is the same as the list, except the tuple is immutable means we can’t modify the tuple once created.\n",
        "\n",
        "In other words, we can say a tuple is a read-only version of the list.\n",
        "\n",
        "For example: If you want to store the roll numbers of students that you don’t change, you can use the tuple data type.\n",
        "\n",
        "Note: Tuple maintains the insertion order and also, allows us to store duplicate elements.\n",
        "\n",
        "We can create a tuple using the two ways\n",
        "\n",
        "* By enclosing elements in the parenthesis ()\n",
        "* Using a tuple() class."
      ],
      "metadata": {
        "id": "bwhyDa02MJTc"
      }
    },
    {
      "cell_type": "code",
      "source": [
        "# create a tuple\n",
        "my_tuple = (11, 24, 56, 88, 78)\n",
        "print(my_tuple)  # (11, 24, 56, 88, 78)\n",
        "print(type(my_tuple))  # class 'tuple'\n",
        "\n",
        "# Accessing 3rd element of a tuple\n",
        "print(my_tuple[2])  # 56\n",
        "\n",
        "# slice a tuple\n",
        "print(my_tuple[2:7])  # (56, 88, 78)\n",
        "\n",
        "# create a tuple using a tuple() class\n",
        "my_tuple2 = tuple((10, 20, 30, 40))\n",
        "print(my_tuple2)  # (10, 20, 30, 40)"
      ],
      "metadata": {
        "id": "tmLc3CwlMO7h"
      },
      "execution_count": null,
      "outputs": []
    },
    {
      "cell_type": "markdown",
      "source": [
        "To create a tuple with a single element, use a comma after the first element"
      ],
      "metadata": {
        "id": "sLzdNmhbP80Y"
      }
    },
    {
      "cell_type": "code",
      "source": [
        "p = (\"codedose\")\n",
        "n = (\"codedose\",)\n",
        "print(\"p is\", type(p), \"whereas n is\", type(n))"
      ],
      "metadata": {
        "id": "mDMIzjuTP-BK"
      },
      "execution_count": null,
      "outputs": []
    },
    {
      "cell_type": "markdown",
      "source": [
        "Defining and Using Tuples\n",
        "Tuples are identical to lists in all respects, except for the following properties:\n",
        "\n",
        "Tuples are defined by enclosing the elements in parentheses (()) instead of square brackets ([]).\n",
        "Tuples are immutable.\n",
        "Here is a short example showing a tuple definition, indexing, and slicing\n",
        "\n",
        "Similar to lists. However, they are _immutability_.\n",
        "Thus, the elements in a tuple can not be reassign.11"
      ],
      "metadata": {
        "id": "WRoRJgxlQTRX"
      }
    },
    {
      "cell_type": "code",
      "source": [
        "my_tup = (1,2,3) # also, mixing types\n",
        "type(my_tup), len(my_tup)"
      ],
      "metadata": {
        "id": "PR20QDW7RCU1"
      },
      "execution_count": null,
      "outputs": []
    },
    {
      "cell_type": "code",
      "source": [
        "my_tup[-1] # indexing"
      ],
      "metadata": {
        "id": "3EoVNBrfRIXc"
      },
      "execution_count": null,
      "outputs": []
    },
    {
      "cell_type": "code",
      "source": [
        "my_tup = ('a', 'b', 'a', 'a')"
      ],
      "metadata": {
        "id": "tC55-MMfRMxi"
      },
      "execution_count": null,
      "outputs": []
    },
    {
      "cell_type": "code",
      "source": [
        "my_tup.count('a') # how many 'a' are there?"
      ],
      "metadata": {
        "id": "BZ-uENvIROw7"
      },
      "execution_count": null,
      "outputs": []
    },
    {
      "cell_type": "code",
      "source": [
        "my_tup.index('a') # index of first 'a'"
      ],
      "metadata": {
        "id": "lCaug1FxRSNm"
      },
      "execution_count": null,
      "outputs": []
    },
    {
      "cell_type": "markdown",
      "source": [
        "#2. Variables and Operators\n",
        "\n",
        "In programming, a variable is a container (storage area) to hold data. For example,\n",
        "\n",
        "number = 10\n",
        "Here, number is the variable storing the value 10\n",
        "\n",
        "A variable is a reserved memory area (memory address) to store value. For example, we want to store an employee’s salary. In such a case, we can create a variable and store salary using it. Using that variable name, you can read or modify the salary amount.\n",
        "\n",
        "In other words, a variable is a value that varies according to the condition or input pass to the program. Everything in Python is treated as an object so every variable is nothing but an object in Python.\n",
        "\n",
        "A variable can be either mutable or immutable. If the variable’s value can change, the object is called mutable, while if the value cannot change, the object is called immutable\n",
        "\n",
        "Python programming language is dynamically typed, so there is no need to declare a variable before using it or declare the data type of variable like in other programming languages. The declaration happens automatically when we assign a value to the variable.\n",
        "\n",
        "Creating a variable and assigning a value\n",
        "\n",
        "We can assign a value to the variable at that time variable is created. We can use the assignment operator = to assign a value to a variable.\n",
        "\n",
        "The operand, which is on the left side of the assignment operator, is a variable name. And the operand, which is the right side of the assignment operator, is the variable’s value."
      ],
      "metadata": {
        "id": "Zk_HLgGrSp0e"
      }
    },
    {
      "cell_type": "code",
      "source": [
        "# assign value to site_name variable\n",
        "site_name = 'codedose.codes'\n",
        "\n",
        "print(site_name)\n",
        "\n",
        "# Output: codedose.codes"
      ],
      "metadata": {
        "id": "3zp2nKu0Tq36"
      },
      "execution_count": null,
      "outputs": []
    },
    {
      "cell_type": "code",
      "source": [
        "name = \"John\"  # string assignment\n",
        "age = 25  # integer assignment\n",
        "salary = 25800.60  # float assignment\n",
        "\n",
        "print(name)  # John\n",
        "print(age)  # 25\n",
        "print(salary)  # 25800.6"
      ],
      "metadata": {
        "id": "FT3j2sSKTzyQ"
      },
      "execution_count": null,
      "outputs": []
    },
    {
      "cell_type": "markdown",
      "source": [
        "Many programming languages are statically typed languages where the variable is initially declared with a specific type, and during its lifetime, it must always have that type.\n",
        "\n",
        "But in Python, variables are dynamically typed and not subject to the data type restriction. A variable may be assigned to a value of one type, and then later, we can also re-assigned a value of a different type"
      ],
      "metadata": {
        "id": "4oty0VqiT9YK"
      }
    },
    {
      "cell_type": "code",
      "source": [
        "var = 10\n",
        "print(var)  # 10\n",
        "# print its type\n",
        "print(type(var))  # <class 'int'>\n",
        "\n",
        "# assign different integer value to var\n",
        "var = 55\n",
        "print(var)  # 55\n",
        "\n",
        "# change var to string\n",
        "var = \"Now I'm a string\"\n",
        "print(var)  # Now I'm a string\n",
        "# print its type\n",
        "print(type(var))  # <class 'str'>\n",
        "\n",
        "# change var to float\n",
        "var = 35.69\n",
        "print(var)  # 35.69\n",
        "# print its type\n",
        "print(type(var))  # <class 'float'>"
      ],
      "metadata": {
        "id": "vjKAI_YZUBQ5"
      },
      "execution_count": null,
      "outputs": []
    },
    {
      "cell_type": "markdown",
      "source": [
        "Assigning multiple values to multiple variables"
      ],
      "metadata": {
        "id": "199EOHm4UI7L"
      }
    },
    {
      "cell_type": "code",
      "source": [
        "a, b, c = 5, 3.2, 'Hello'\n",
        "\n",
        "print(a)  # prints 5\n",
        "print(b)  # prints 3.2\n",
        "print(c)  # prints Hello"
      ],
      "metadata": {
        "id": "INddQ2rVUJwE"
      },
      "execution_count": null,
      "outputs": []
    },
    {
      "cell_type": "code",
      "source": [
        "site1 = site2  = 'codedose.codes'\n",
        "\n",
        "print(site1)  # prints codedose.codes\n",
        "print(site2)  # prints codedose.codes"
      ],
      "metadata": {
        "id": "uq33QeoWUNm_"
      },
      "execution_count": null,
      "outputs": []
    },
    {
      "cell_type": "markdown",
      "source": [
        "String variable\n",
        "In Python, a string is a set of characters represented in quotation marks. Python allows us to define a string in either pair of single or double quotation marks. For example, to store a person’s name we can use a string type.\n",
        "\n",
        "To retrieve a piece of string from a given string, we can use to slice operator [] or [:]. Slicing provides us the subset of a string with an index starting from index 0 to index end-1.\n",
        "\n",
        "To concatenate the string, we can use the addition(+) operator."
      ],
      "metadata": {
        "id": "POunbptmUh3e"
      }
    },
    {
      "cell_type": "code",
      "source": [
        "# create a variable of type string\n",
        "str = 'codedose'\n",
        "# prints complete string\n",
        "print(str)  # codedose\n",
        "\n",
        "# prints first character of the string\n",
        "print(str[0])  # c\n",
        "\n",
        "# prints characters starting from 2nd to 5th\n",
        "print(str[2:5])  # ded\n",
        "\n",
        "# length of string\n",
        "print(len(str))  # 8\n",
        "\n",
        "# concatenate string\n",
        "print(str + \"TEST\")  # codedoseTEST"
      ],
      "metadata": {
        "id": "x4UWCOSiUnaw"
      },
      "execution_count": null,
      "outputs": []
    },
    {
      "cell_type": "markdown",
      "source": [
        "Special Literal in Python\n",
        "Python contains one special literal None. We use it to specify a null variable. For example"
      ],
      "metadata": {
        "id": "SNpP6BI8aj2g"
      }
    },
    {
      "cell_type": "code",
      "source": [
        "value = None\n",
        "\n",
        "print(value)\n",
        "\n",
        "# Output: None"
      ],
      "metadata": {
        "id": "3fE_wTO7amEG"
      },
      "execution_count": null,
      "outputs": []
    },
    {
      "cell_type": "markdown",
      "source": [
        "Literal Collections\n",
        "There are four different literal collections List literals, Tuple literals, Dict literals, and Set literals."
      ],
      "metadata": {
        "id": "evtz2d2masAr"
      }
    },
    {
      "cell_type": "code",
      "source": [
        "# list literal\n",
        "fruits = [\"apple\", \"mango\", \"orange\"]\n",
        "print(fruits)\n",
        "\n",
        "# tuple literal\n",
        "numbers = (1, 2, 3)\n",
        "print(numbers)\n",
        "\n",
        "# dictionary literal\n",
        "alphabets = {'a':'apple', 'b':'ball', 'c':'cat'}\n",
        "print(alphabets)\n",
        "\n",
        "# set literal\n",
        "vowels = {'a', 'e', 'i' , 'o', 'u'}\n",
        "print(vowels)"
      ],
      "metadata": {
        "id": "2DBnKR7Zas2b"
      },
      "execution_count": null,
      "outputs": []
    },
    {
      "cell_type": "markdown",
      "source": [
        "### Python Constants\n",
        "A constant is a special type of variable whose value cannot be changed.\n",
        "\n",
        "In Python, constants are usually declared and assigned in a module (a new file containing variables, functions, etc which is imported to the main file).\n",
        "\n",
        "Let's see how we declare constants in separate file and use it in the main file,\n",
        "\n",
        "Constant is a variable or value that does not change, which means it remains the same and cannot be modified. But in the case of Python, the constant concept is not applicable. By convention, we can use only uppercase characters to define the constant variable if we don’t want to change it\n",
        "\n",
        "MAX_VALUE = 500\n",
        "\n",
        "\n",
        "Create a constant.py:\n",
        "# declare constants\n",
        "PI = 3.14\n",
        "GRAVITY = 9.8\n",
        "\n",
        "# import constant file we created above\n",
        "import constant\n",
        "\n",
        "print(constant.PI) # prints 3.14\n",
        "print(constant.GRAVITY) # prints 9.8"
      ],
      "metadata": {
        "id": "yZ3dDxSMU5hw"
      }
    },
    {
      "cell_type": "markdown",
      "source": [
        "Create a main.py"
      ],
      "metadata": {
        "id": "LNhEeQjSU9gJ"
      }
    },
    {
      "cell_type": "markdown",
      "source": [
        "Variable’s case-sensitive\n",
        "Python is a case-sensitive language. If we define a variable with names a = 100 and A =200 then, Python differentiates between a and A. These variables are treated as two different variables (or objects)."
      ],
      "metadata": {
        "id": "nPI83GMXVa5H"
      }
    },
    {
      "cell_type": "code",
      "source": [
        "a = 100\n",
        "A = 200\n",
        "\n",
        "# value of a\n",
        "print(a)  # 100\n",
        "# Value of A\n",
        "print(A)  # 200\n",
        "\n",
        "a = a + A\n",
        "print(a)  # 300"
      ],
      "metadata": {
        "id": "3KV6pDFOVcQQ"
      },
      "execution_count": null,
      "outputs": []
    },
    {
      "cell_type": "markdown",
      "source": [
        "## Scope Variables\n",
        "\n",
        "The scope defines the accessibility of the python object. To access the particular variable in the code, the scope must be defined as it cannot be accessed from anywhere in the program. The particular coding region where variables are visible is known as scope. Variables are not visible to the entire code; their visibility can be restricted. Scope verifies which variable can be ‘Seen’. The scope defines the set of rules which tell us how and where a variable can be searched. The variable is searched either to retrieve a value or for assigning value. The namespace is the unique identification of the variable or the method. Namespace tells the python interpreter about the name of the object and the location from where it is trying to access it.\n",
        "\n",
        "The Namespaces are searched for scope resolution according to the LEGB rule. The LEGB stands for :L: Local, E: Enclosed, G: Global, B: Built-in. The sequence of LEGB is important. The variable is first searched in Local, followed by Enclosed, then global and finally built-in\n",
        "\n"
      ],
      "metadata": {
        "id": "BBimlKaGYLhf"
      }
    },
    {
      "cell_type": "markdown",
      "source": [
        "<a><img src=\"https://static.wixstatic.com/media/187085_fd6cb87f60814e449fb92e075bef7ae4~mv2.png\" width=\"80%\" height=\"80%\" /></a>\n",
        "\n"
      ],
      "metadata": {
        "id": "GwLA0ShfYPRd"
      }
    },
    {
      "cell_type": "markdown",
      "source": [
        "#### Local Scope\n",
        "The Variables which are defined in the function are a local scope of the variable. These variables are defined in the function body. Let’s understand this concept with the help of an example. In this example 1, we have taken one variable num. Num = 0 is defined outside the function, so it is not a local variable. As per our definition, the variables which are declared inside the function body is a local variable.\n",
        "\n",
        "A local variable is a variable that is accessible inside a block of code only where it is declared. That means, If we declare a variable inside a method, the scope of the local variable is limited to the method only. So it is not accessible from outside of the method. If we try to access it, we will get an error.\n"
      ],
      "metadata": {
        "id": "xhRC6ueDYtDS"
      }
    },
    {
      "cell_type": "code",
      "source": [
        "num=0\n",
        "def demo():\n",
        "    #print(num)\n",
        "    num=1\n",
        "    print(\"The Number is:\",num)\n",
        "demo()"
      ],
      "metadata": {
        "id": "RAY83l6RZCiz"
      },
      "execution_count": null,
      "outputs": []
    },
    {
      "cell_type": "markdown",
      "source": [
        "#### Global Scope\n",
        "A Global variable is a variable that is defined outside of the method (block of code). That is accessible anywhere in the code file.\n",
        "\n",
        "The Variable which can be read from anywhere in the program is known as a global scope. These variables can be accessed inside and outside the function. When we want to use the same variable in the rest of the program, we declare it as global.\n",
        "\n",
        "In the following Example 1, we have declared a variable Str, which is outside the function. The function demo is called, and it prints the value of variable Str. To use a global variable inside a function, there is no need to use the global keyword."
      ],
      "metadata": {
        "id": "eZ07KMGxZLWE"
      }
    },
    {
      "cell_type": "code",
      "source": [
        "def demo():\n",
        "    print(Str)\n",
        "# Global\n",
        "Str = \"You are Gammer\"\n",
        "demo()"
      ],
      "metadata": {
        "id": "VcU7Z4X6ZUMm"
      },
      "execution_count": null,
      "outputs": []
    },
    {
      "cell_type": "markdown",
      "source": [
        "#### NonLocal or Enclosing Scope\n",
        "Nonlocal Variable is the variable that is defined in the nested function. It means the variable can be neither in the local scope nor in the global scope. To create a nonlocal variable nonlocal keyword is used.  In the following code, we created an outer function, and there is a nested function inner(). In the scope of outer() function inner() function is defined. If we change the nonlocal variable as defined in the inner() function, then changes are reflected in the outer function."
      ],
      "metadata": {
        "id": "WkN0ptCNZeEm"
      }
    },
    {
      "cell_type": "code",
      "source": [
        "def func_outer():\n",
        "    x = \"local\"\n",
        "    def func_inner():\n",
        "        nonlocal x\n",
        "        x = \"nonlocal\"\n",
        "        print(\"inner:\", x)\n",
        "    func_inner()\n",
        "    print(\"outer:\", x)\n",
        "func_outer()"
      ],
      "metadata": {
        "id": "-6QNTAibZhw9"
      },
      "execution_count": null,
      "outputs": []
    },
    {
      "cell_type": "code",
      "source": [
        "def func_outer():\n",
        "    a = \"local\"\n",
        "    def func_inner():\n",
        "        #nonlocal a\n",
        "        a = \"nonlocal\"\n",
        "        print(\"inner:\", a)\n",
        "    func_inner()\n",
        "    print(\"outer:\", a)\n",
        "func_outer()"
      ],
      "metadata": {
        "id": "TOB-WQ-TZk0H"
      },
      "execution_count": null,
      "outputs": []
    },
    {
      "cell_type": "markdown",
      "source": [
        "#### Built-in Scope\n",
        "If a Variable is not defined in local, Enclosed or global scope, then python looks for it in the built-in scope. In the Following Example, 1 from math module pi is imported, and the value of pi is not defined in global, local and enclosed. Python then looks for the pi value in the built-in scope and prints the value. Hence the name which is already present in the built-in scope should not be used as an identifier."
      ],
      "metadata": {
        "id": "fGti8G4qZoN7"
      }
    },
    {
      "cell_type": "code",
      "source": [
        "# Built-in Scope\n",
        "from math import pi\n",
        "# pi = 'Not defined in global pi'\n",
        "def func_outer():\n",
        "    # pi = 'Not defined in outer pi'\n",
        "    def inner():\n",
        "        # pi = 'not defined in inner pi'\n",
        "        print(pi)\n",
        "    inner()\n",
        "func_outer()"
      ],
      "metadata": {
        "id": "oYLV3XIXZr19"
      },
      "execution_count": null,
      "outputs": []
    },
    {
      "cell_type": "markdown",
      "source": [
        "#3. Operators\n",
        "\n",
        "Operators are used to perform operations on values and variables. The Python operators are classified into seven different categories:\n",
        "\n",
        "* Assignment operators\n",
        "* Arithmetic operators\n",
        "* Bitwise operators\n",
        "* Logical operators\n",
        "* Comparison and Relational operators\n",
        "* Identity operators\n",
        "* Membership operators\n"
      ],
      "metadata": {
        "id": "iydmsqXwbOOe"
      }
    },
    {
      "cell_type": "markdown",
      "source": [
        "<a><img src=\"https://static.wixstatic.com/media/187085_9908db0670d54a658e2efed74fb3ee83~mv2.png\" width=\"80%\" height=\"80%\" /></a>"
      ],
      "metadata": {
        "id": "KlAUZfyDl4SJ"
      }
    },
    {
      "cell_type": "markdown",
      "source": [
        "### Assignment Operators\n",
        "Assignment operators are used to assign new values to variables.\n",
        "\n",
        "Python Assignment operators\n",
        "\n",
        "| Oerator | Meaning | Example | Equivatent to |\n",
        "| :--- | :---: | :--- | :--- |\n",
        "|= |\tAssignment, Assigns right side operands to left variable|\tx = 3|\tx = 3|\n",
        "|+=|\tAddition assignment, Added and assign back the result to left operand|\tx += 3|\tx = x + 3|\n",
        "|-=|\tSubtraction assignment, Substracted and assign back the result to left operand|\tx -= 3|\tx = x – 3|\n",
        "|*=|\tMultiplication assignment, Multiplied and assign back the result to left operand | \tx *= 3|\tx = x * 3|\n",
        "|/=|\tDivision assignment, Divide and assign back the result to left operand|\tx /= 3|\tx = x / 3|\n",
        "|%=|\tModulus assignment, Taken modulos (rameinder) using two operans and assigna the result to left operand|\tx %= 3|\tx = x % 3|\n",
        "|//=|\tFloor division assignment|\tx //= 3\t|x = x // 3|\n",
        "|**=|\tExponentiation assignment|\tx **= 3\t|x = x ** 3|\n",
        "|&=|\tBitwise AND assignment|\tx &= 3|\tx = x & 3|\n",
        "|  !=|\tBitwise OR assignment|\tx |= 3|\tx = x | 3|\n",
        "|^=|\tBitwise XOR assignment|\tx ^= 3|\tx = x ^ 3|\n",
        "|>>=|\tBitwise right shift assignment|\tx >>= 3\t|x = x >> 3|\n",
        "|<<=\t|Bitwise left shift assignment|\tx <<= 3\t|x = x << 3|\n"
      ],
      "metadata": {
        "id": "HUplATeNo68X"
      }
    },
    {
      "cell_type": "code",
      "source": [
        "a = 5\n",
        "print(\"a = 5 is \", a)\n",
        "a += 20\n",
        "print(\"a += 20 is \", a)\n",
        "a -= 5\n",
        "print(\"a -= 5 is \", a)\n",
        "a *= 6\n",
        "print(\"a *= 6 is \", a)\n",
        "a /= 2\n",
        "print(\"a /= 2 is \", a)\n",
        "a %= 4\n",
        "print(\"a %= 4 is \", a)\n",
        "\n",
        "# The output for the above program will be as follows.\n",
        "#a = 5 is 5\n",
        "#a += 20 is 25\n",
        "#a -= 5 is 20\n",
        "#a *= 6 is 120\n",
        "#a /= 2 is 60.0\n",
        "#a %= 4 is 0.0"
      ],
      "metadata": {
        "id": "s9KS_BFCp3oT"
      },
      "execution_count": null,
      "outputs": []
    },
    {
      "cell_type": "markdown",
      "source": [
        "### Arithmetic Operators\n",
        "Arithmetic operators are used to perform simple mathematical operations on numeric values (except complex).\n",
        "\n",
        "Python Arithmetic operators\n",
        "\n",
        "| Operator | Meaning | Example  |\n",
        "| :--- | :---: | :--- |\n",
        "+\t|  Addition To add two operands\t| x + y\n",
        "–\t| Subtraction, To substract the right operand from the left operand\t| x – y\n",
        "*\t| Multiplication, To multiply one operand with thw other| \tx * y\n",
        "/| \tDivision, To divide the left operand by the right operand| x / y\n",
        "%\t| Modulus, Gives rameinder after dividing x from y\t| x % y\n",
        "**| \tExponentiation, To get the exponent of the left operand raised to the power of the right operand, ignere the decimal value if present | \tx ** y\n",
        "//| \tFloor division, To divide the left operand by the right operand and get the floor value of the quotient| \tx // y\n"
      ],
      "metadata": {
        "id": "2XtJRCd6l7FE"
      }
    },
    {
      "cell_type": "code",
      "source": [
        "x = 6\n",
        "y = 2\n",
        "\n",
        "# addition\n",
        "print(x + y)\t\t# 8\n",
        "\n",
        "# subtraction\n",
        "print(x - y)\t\t# 4\n",
        "\n",
        "# multiplication\n",
        "print(x * y)\t\t# 12\n",
        "\n",
        "# division\n",
        "print(x / y)\t\t# 3\n",
        "\n",
        "# modulus\n",
        "print(x % y)\t\t# 0\n",
        "\n",
        "# exponentiation\n",
        "print(x ** y)\t\t# 36\n",
        "\n",
        "# floor division\n",
        "print(x // y)\t\t# 3"
      ],
      "metadata": {
        "id": "zXp5EUk9oFke"
      },
      "execution_count": null,
      "outputs": []
    },
    {
      "cell_type": "code",
      "source": [
        "a = 10\n",
        "\n",
        "b = 4\n",
        "\n",
        "print('a+b = ', a+b)\n",
        "\n",
        "print('a-b = ', a-b)\n",
        "\n",
        "print('a*b = ', a*b)\n",
        "\n",
        "print('a/b = ', a/b)\n",
        "\n",
        "print('a%b = ', a%b)\n",
        "\n",
        "print('a//b = ', a//b)\n",
        "\n",
        "print('a**b = ', a**b)\n",
        "\n",
        "# Here is the output for the above program,\n",
        "# a+b = 14\n",
        "# a-b = 6\n",
        "# a*b = 40\n",
        "# a/b = 2.5\n",
        "# a%b = 0.4\n",
        "# a//b = 2\n",
        "# a**b = 10000"
      ],
      "metadata": {
        "id": "jQz-kBcvoHLB"
      },
      "execution_count": null,
      "outputs": []
    },
    {
      "cell_type": "markdown",
      "source": [
        "### Bitwise Operators\n",
        "Binary operators are used to perform bit-level operations on (binary) numbers.\n",
        "\n",
        "Python Bitwise operators\n",
        "\n",
        "| Oerator | Meaning | Example | Equivatent to |\n",
        "| :--- | :---: | :--- | :--- |\n",
        "|&|\tAND\t|x & y\n",
        "|!\t|OR\t|x ! y\n",
        "|^\t|XOR|\tx ^ y\n",
        "|~\t|NOT|\t~x\n",
        "|<<\t|Left shift|\tx << 2\n",
        "|>>\t|Right shift|\tx >> 2"
      ],
      "metadata": {
        "id": "DWELzcIsrXCX"
      }
    },
    {
      "cell_type": "code",
      "source": [
        "x = 0b1100\n",
        "y = 0b1010\n",
        "\n",
        "# and\n",
        "print(bin(x & y))\t    # 0b1000\n",
        "\n",
        "# or\n",
        "print(bin(x | y))\t    # 0b1110\n",
        "\n",
        "# xor\n",
        "print(bin(x ^ y))\t    # 0b0110\n",
        "\n",
        "# not\n",
        "print(bin(~x))\t\t    # -0b1101\n",
        "\n",
        "# shift 2 bits left\n",
        "print(bin(x << 2))\t    # 0b1100\n",
        "\n",
        "# shift 2 bits right\n",
        "print(bin(x >> 2))\t    # 0b0011"
      ],
      "metadata": {
        "id": "54FuiAyor2q8"
      },
      "execution_count": null,
      "outputs": []
    },
    {
      "cell_type": "code",
      "source": [
        "a = 10\n",
        "b = 5\n",
        "print('a&b =', a&b)\n",
        "print('a|b =', a|b)\n",
        "print('~a = ', ~a)\n",
        "print('a^b =', a^b)\n",
        "print('a>>1 = ', a>>1)\n",
        "print('a<<1 a=\"\" 1=\"\" p=\"\">')\n",
        "# The output for the above program will be as follows. Let me add the binary format for the output values for a better understanding.\n",
        "#a&b = 10 (0000 1010)\n",
        "#a|b = 13 (0000 1011)\n",
        "#~a = 5 (0000 0101)\n",
        "#a^b = 1 (0000 0001)\n",
        "#a >> 1 = 5 (0000 0101)\n",
        "#a << 1 = 22 (0001 0110)"
      ],
      "metadata": {
        "id": "q1tPaXnuuYx_"
      },
      "execution_count": null,
      "outputs": []
    },
    {
      "cell_type": "markdown",
      "source": [
        "### Logical Operators\n",
        "Logical operators are used to join two or more conditions.\n",
        "\n",
        "Python Logical operators\n",
        "\n",
        "| Oerator | Meaning | Example | Equivatent to |\n",
        "| :--- | :---: | :--- | :--- |\n",
        "|and\t|Returns True if both statements are true|\tx > 0 and y < 0\n",
        "|or\t|Returns True if one of the statements is true|\tx > 0 or y < 0\n",
        "|not|\tReverse the result, returns False if the result is true|\tnot(x > 0 and y < 0)\n"
      ],
      "metadata": {
        "id": "770Y3PTNsJ4s"
      }
    },
    {
      "cell_type": "code",
      "source": [
        "x = 2\n",
        "y = -2\n",
        "\n",
        "# and\n",
        "print(x > 0 and y < 0)          # True\n",
        "\n",
        "# or\n",
        "print(x > 0 or y < 0)           # True\n",
        "\n",
        "# not\n",
        "print(not(x > 0 and y < 0))     # False"
      ],
      "metadata": {
        "id": "Mt3KEAO1sZwa"
      },
      "execution_count": null,
      "outputs": []
    },
    {
      "cell_type": "markdown",
      "source": [
        "To check if the operands satisfy a specific condition, we can use logical operators.It is mainly used for decision making.The following table explains the logical operators."
      ],
      "metadata": {
        "id": "4BVeEXTBuQ6v"
      }
    },
    {
      "cell_type": "markdown",
      "source": [
        "<a><img src=\"https://static.wixstatic.com/media/187085_e6f463209c2849c28433a87cff20a495~mv2.png\" width=\"80%\" height=\"80%\" /></a>\n"
      ],
      "metadata": {
        "id": "cTbbv6rouDpI"
      }
    },
    {
      "cell_type": "markdown",
      "source": [
        "### Relational Operators\n",
        "\n",
        "Comparison operators are used to compare two values.\n",
        "\n",
        "| Oerator | Meaning | Example | Equivatent to |\n",
        "| :--- | :---: | :--- | :--- |\n",
        "|==\t|Equal to\t|x == y\n",
        "|!=\t|Not equal to\t|x != y\n",
        "|>\t|Greater than\t|x > y\n",
        "|<\t|Less than\t|x < y\n",
        "|>=\t|Greater than or equal to|\tx >= y\n",
        "|<=|\tLess than or equal to\t|x <= y\n",
        "\n"
      ],
      "metadata": {
        "id": "j2blTtfqvn1q"
      }
    },
    {
      "cell_type": "code",
      "source": [
        "x = 6\n",
        "y = 2\n",
        "\n",
        "# equal to\n",
        "print(x == y)\t\t# False\n",
        "\n",
        "# not equal to\n",
        "print(x != y)\t\t# True\n",
        "\n",
        "# greater than\n",
        "print(x > y)\t\t# True\n",
        "\n",
        "# less than\n",
        "print(x < y)\t\t# False\n",
        "\n",
        "# greater than or equal to\n",
        "print(x >= y)\t\t# True\n",
        "\n",
        "# less than or equal to\n",
        "print(x <= y)\t\t# False"
      ],
      "metadata": {
        "id": "FdTQVQnWwDK-"
      },
      "execution_count": null,
      "outputs": []
    },
    {
      "cell_type": "markdown",
      "source": [
        "### Identity Operators\n",
        "\n",
        "Identity operators are used to check if two objects point to the same object, with the same memory location.\n",
        "\n",
        "Python Identity operators\n",
        "\n",
        "| Oerator | Meaning | Example | Equivatent to |\n",
        "| :--- | :---: | :--- | :--- |\n",
        "|is\t| Returns true if both variables are the same object\t| x is y\n",
        "| is  not\t| Returns true if both variables are not the same object| \tx is not y\n",
        "\n"
      ],
      "metadata": {
        "id": "UycKf_4Zwd_9"
      }
    },
    {
      "cell_type": "code",
      "source": [
        "a = [\"hello\", \"hi\"]\n",
        "\n",
        "b = [\"hello\", \"hi\"]\n",
        "\n",
        "c = a\n",
        "\n",
        "print(\"a is c = \", a is c)\n",
        "\n",
        "print(\"a is b = \", a is b)\n",
        "\n",
        "a = [1, 2]\n",
        "\n",
        "b = [1, 2]\n",
        "\n",
        "c = b\n",
        "\n",
        "print(\"a is not c = \", a is not c)\n",
        "\n",
        "print(\"b is not c = \", b is not c)\n",
        "\n",
        "#The following is the output for the above program.\n",
        "#a is c = True\n",
        "#a is b = False\n",
        "#a is not c = True\n",
        "#b is not c = False"
      ],
      "metadata": {
        "id": "CwSayXCVw5XO"
      },
      "execution_count": null,
      "outputs": []
    },
    {
      "cell_type": "code",
      "source": [
        "x = [1, 2, 3]\n",
        "y = [1, 2, 3]\n",
        "\n",
        "# is\n",
        "print(x is y)\t\t# False\n",
        "\n",
        "# is not\n",
        "print(x is not y)\t# True"
      ],
      "metadata": {
        "id": "LFs4T6vGxAAv"
      },
      "execution_count": null,
      "outputs": []
    },
    {
      "cell_type": "markdown",
      "source": [
        "#4. Control Flow structures\n",
        "The flow control statements are divided into four categories\n",
        "\n",
        "Conditional statements\n",
        "Sequential\n",
        "Transfer statements\n",
        "Iterative statements.\n"
      ],
      "metadata": {
        "id": "skL3SlWoxb3w"
      }
    },
    {
      "cell_type": "markdown",
      "source": [
        "<a><img src=\"https://static.wixstatic.com/media/187085_79e99803a33641788250872d6fb30587~mv2.png\" width=\"80%\" height=\"80%\" /></a>\n"
      ],
      "metadata": {
        "id": "RiJipCC99MpD"
      }
    },
    {
      "cell_type": "markdown",
      "source": [
        "## Conditional statements\n",
        "In Python, condition statements act depending on whether a given condition is true or false. You can execute different blocks of codes depending on the outcome of a condition. Condition statements always evaluate to either True or False.\n",
        "\n",
        "There are three types of conditional statements.\n",
        "\n",
        "* if statement\n",
        "* if-else\n",
        "* if-elif-else\n",
        "* nested if-else"
      ],
      "metadata": {
        "id": "rhApYIxI99Ol"
      }
    },
    {
      "cell_type": "markdown",
      "source": [
        "## If\n",
        "\n",
        "In control statements, The if statement is the simplest form. It takes a condition and evaluates to either True or False.\n",
        "\n",
        "The if statement contains an expression/condition. As per the syntax colon (:) is mandatory otherwise it throws a syntax error. The condition gives the result as a bool type, either True or False. If the condition result is True, then if block statements will be executed. If the condition result is False, then if block statements won‟t execute\n",
        "\n",
        "\n",
        "If the condition is True, then the True block of code will be executed, and if the condition is False, then the block of code is skipped, and The controller moves to the next line\n",
        "\n"
      ],
      "metadata": {
        "id": "3Y8W5If1_usf"
      }
    },
    {
      "cell_type": "code",
      "source": [
        "#Sintax\n",
        "#if condition:\n",
        "#     statement 1\n",
        "#     statement 2\n",
        "#     statement n"
      ],
      "metadata": {
        "id": "Ypp5A-b8ApAn"
      },
      "execution_count": null,
      "outputs": []
    },
    {
      "cell_type": "markdown",
      "source": [
        "<a><img src=\"https://static.wixstatic.com/media/187085_fec05c86bae444eebfe8680abe5d8fc8~mv2.png\" width=\"80%\" height=\"80%\" /></a>\n"
      ],
      "metadata": {
        "id": "gqb6rith_0p_"
      }
    },
    {
      "cell_type": "code",
      "source": [
        "num = 1\n",
        "print(\"num==1 condition gives: \", (num==1))\n",
        "if num == 1:\n",
        "       print(\"if block statements executed\")"
      ],
      "metadata": {
        "id": "0pPavo---JnK"
      },
      "execution_count": null,
      "outputs": []
    },
    {
      "cell_type": "code",
      "source": [
        "num = 1\n",
        "print(\"num==2 condition gives: \", (num==1))\n",
        "if num == 2:\n",
        "       print(\"if block statements executed\")\n",
        "print(\"out of if block statements\")"
      ],
      "metadata": {
        "id": "kbhI2S_X-JcP"
      },
      "execution_count": null,
      "outputs": []
    },
    {
      "cell_type": "markdown",
      "source": [
        "## if -else statement\n",
        "\n",
        "The if statement contains an expression/condition. As per the syntax colon (:) is mandatory after the condition and after the else otherwise it throws a syntax error. The condition gives the result as bool type, which means either True or False. If the condition result is True, then if block statements will be executed. If the condition result is False, then else block statements will be executed.\n",
        "\n",
        "The if-else statement checks the condition and executes the if block of code when the condition is True, and if the condition is False, it will execute the else block of code."
      ],
      "metadata": {
        "id": "bt4VXPFeBZ9V"
      }
    },
    {
      "cell_type": "code",
      "source": [
        "# Sintax\n",
        "# if condition:\n",
        "#    statement 1\n",
        "# else:\n",
        "#    statement 2"
      ],
      "metadata": {
        "id": "OQhD5FdD-JHA"
      },
      "execution_count": null,
      "outputs": []
    },
    {
      "cell_type": "code",
      "source": [
        "num = 1\n",
        "print(\"num==1 condition gives: \", (num==1))\n",
        "if num == 1:\n",
        "       print(\"if block statements executed\")\n",
        "else:\n",
        "       print(\"else block statements executed\")"
      ],
      "metadata": {
        "id": "ZBqjy_IL-IK6"
      },
      "execution_count": null,
      "outputs": []
    },
    {
      "cell_type": "code",
      "source": [
        "x=10\n",
        "y=20\n",
        "if x > y :\n",
        "  print(\" X is bigger \")\n",
        "else :\n",
        "  print(\" Y is bigger \")"
      ],
      "metadata": {
        "id": "UbMthlaICUJ0"
      },
      "execution_count": null,
      "outputs": []
    },
    {
      "cell_type": "markdown",
      "source": [
        "## if..elif..else statement\n",
        "\n",
        "The if statement contains an expression/condition. As per the syntax colon (:) is mandatory after each condition and after the else otherwise it throws a syntax error. The condition gives the result as bool type, which means either True or False. The conditions are evaluated in the order written. If one condition becomes True then the set of statements associated with that particular condition are executed and the execution comes out without checking other conditions.\n",
        "\n",
        "In Python, the if-elif-else condition statement has an elif blocks to chain multiple conditions one after another. This is useful when you need to check multiple conditions.\n",
        "\n",
        "With the help of if-elif-else we can make a tricky decision. The elif statement checks multiple conditions one by one and if the condition fulfills, then executes that code"
      ],
      "metadata": {
        "id": "ucJ7vtYNCXrn"
      }
    },
    {
      "cell_type": "markdown",
      "source": [
        "<a><img src=\"https://static.wixstatic.com/media/187085_f8a3f56072534d34b558956fdf5311fb~mv2.png\" width=\"80%\" height=\"80%\" /></a>\n",
        "\n"
      ],
      "metadata": {
        "id": "VuJ90I4SDyFb"
      }
    },
    {
      "cell_type": "code",
      "source": [
        "#sintax\n",
        "#if condition-1:\n",
        "#     statement 1\n",
        "#elif condition-2:\n",
        "#     stetement 2\n",
        "#elif condition-3:\n",
        "#     stetement 3\n",
        "#     ...\n",
        "#else:\n",
        "#     statement"
      ],
      "metadata": {
        "id": "5mhym2hRCzTR"
      },
      "execution_count": null,
      "outputs": []
    },
    {
      "cell_type": "code",
      "source": [
        "print(\"Please enter the values from 0 to 4\")\n",
        "x=int(input(\"Enter a number: \"))\n",
        "if x==0:\n",
        "       print(\"You entered:\", x)\n",
        "elif x==1:\n",
        "       print(\"You entered:\", x)\n",
        "elif x==2:\n",
        "       print(\"You entered:\", x)\n",
        "elif x==3:\n",
        "       print(\"You entered:\", x)\n",
        "elif x==4:\n",
        "       print(\"You entered:\", x)\n",
        "else:\n",
        "       print(\"Beyond the range than specified\")"
      ],
      "metadata": {
        "id": "IcpLmWDoCvcA"
      },
      "execution_count": null,
      "outputs": []
    },
    {
      "cell_type": "code",
      "source": [
        "x=500\n",
        "if x > 500 :\n",
        "  print(\" X is greater than 500 \")\n",
        "elif x < 500 :\n",
        "  print(\" X is less than 500 \")\n",
        "elif x == 500 :\n",
        "  print(\" X is 500 \")\n",
        "else :\n",
        "  print(\" X is not a number \")"
      ],
      "metadata": {
        "id": "qIt4TXiHC95Z"
      },
      "execution_count": null,
      "outputs": []
    },
    {
      "cell_type": "markdown",
      "source": [
        "## Nested if-else statement\n",
        "In Python, the nested if-else statement is an if statement inside another if-else statement. It is allowed in Python to put any number of if statements in another if statement.\n",
        "\n",
        "In some situations you have to place an if statement inside another statement\n",
        "\n",
        "Indentation is the only way to differentiate the level of nesting. The nested if-else is useful when we want to make a series of decisions."
      ],
      "metadata": {
        "id": "uzo_s0vtExwf"
      }
    },
    {
      "cell_type": "code",
      "source": [
        "# Sintax\n",
        "#if conditon_outer:\n",
        "#    if condition_inner:\n",
        "#        statement of inner if\n",
        "#    else:\n",
        "#        statement of inner else:\n",
        "#    statement ot outer if\n",
        "#else:\n",
        "#    Outer else\n",
        "#statement outside if block"
      ],
      "metadata": {
        "id": "hv1iSyU1-TIq"
      },
      "execution_count": null,
      "outputs": []
    },
    {
      "cell_type": "code",
      "source": [
        "num1 = int(input('Enter first number '))\n",
        "num2 = int(input('Enter second number '))\n",
        "\n",
        "if num1 >= num2:\n",
        "    if num1 == num2:\n",
        "        print(num1, 'and', num2, 'are equal')\n",
        "    else:\n",
        "        print(num1, 'is greater than', num2)\n",
        "else:\n",
        "    print(num1, 'is smaller than', num2)"
      ],
      "metadata": {
        "id": "pcpgRyjs-Tm5"
      },
      "execution_count": null,
      "outputs": []
    },
    {
      "cell_type": "markdown",
      "source": [
        "## Iterative statements\n",
        "In Python, iterative statements allow us to execute a block of code repeatedly as long as the condition is True. We also call it a loop statements.\n",
        "\n",
        "Python provides us the following two loop statement to perform some actions repeatedly\n",
        "\n",
        "* for loop\n",
        "* while loop"
      ],
      "metadata": {
        "id": "q3c_3fn9-KUM"
      }
    },
    {
      "cell_type": "markdown",
      "source": [
        "<a><img src=\"https://static.wixstatic.com/media/187085_243b12c6512f43328178ede1eeef1625~mv2.png\" width=\"80%\" height=\"80%\" /></a>\n",
        "\n"
      ],
      "metadata": {
        "id": "uJfP0jb0IA-y"
      }
    },
    {
      "cell_type": "markdown",
      "source": [
        "### For\n",
        "\n",
        "The for statement in Python is a bit different from what you usually use in other programming languages.\n",
        "\n",
        "Rather than iterating over a numeric progression, Python’s for statement iterates over the items of any iterable (list, tuple, dictionary, set, or string). The items are iterated in the order that they appear in the iterable.\n"
      ],
      "metadata": {
        "id": "OBPQIsQwJ6FV"
      }
    },
    {
      "cell_type": "code",
      "source": [
        "# Iterate through a list\n",
        "colors = ['red', 'green', 'blue', 'yellow']\n",
        "for x in colors:\n",
        "    print(x)\n",
        "# Prints red green blue yellow"
      ],
      "metadata": {
        "id": "xshWEXLfKIry"
      },
      "execution_count": null,
      "outputs": []
    },
    {
      "cell_type": "code",
      "source": [
        "# Iterate through a string\n",
        "S = 'python'\n",
        "for x in S:\n",
        "    print(x)\n",
        "# Prints p y t h o n"
      ],
      "metadata": {
        "id": "3tRs6ABFKLdc"
      },
      "execution_count": null,
      "outputs": []
    },
    {
      "cell_type": "markdown",
      "source": [
        "Else in for Loop\n",
        "Python allows an optional else clause at the end of a for loop. The else clause will be executed if the loop terminates naturally (through exhaustion)."
      ],
      "metadata": {
        "id": "d9q8cePBKjjf"
      }
    },
    {
      "cell_type": "code",
      "source": [
        "colors = ['red', 'green', 'blue', 'yellow']\n",
        "for x in colors:\n",
        "    print(x)\n",
        "else:\n",
        "    print('Done!')\n",
        "# Prints red green blue yellow\n",
        "# Prints Done!"
      ],
      "metadata": {
        "id": "XAH4G_TqKiqn"
      },
      "execution_count": null,
      "outputs": []
    },
    {
      "cell_type": "code",
      "source": [
        "digits = [0, 1, 5]\n",
        "\n",
        "for i in digits:\n",
        "    print(i)\n",
        "else:\n",
        "    print(\"No items left.\")"
      ],
      "metadata": {
        "id": "dv2p_E5GMtWZ"
      },
      "execution_count": null,
      "outputs": []
    },
    {
      "cell_type": "markdown",
      "source": [
        "range() function in for loop\n",
        "If you need to execute a group of statements for a specified number of times, use built-in function range().\n",
        "\n",
        "The range(start,stop,step) function generates a sequence of numbers from 0 up to (but not including) specified number."
      ],
      "metadata": {
        "id": "-6_juYkHKu0X"
      }
    },
    {
      "cell_type": "code",
      "source": [
        "# Generate a sequence of numbers from 0 6\n",
        "for x in range(7):\n",
        "    print(x)\n",
        "# Prints 0 1 2 3 4 5 6"
      ],
      "metadata": {
        "id": "SDe4v76IKv3k"
      },
      "execution_count": null,
      "outputs": []
    },
    {
      "cell_type": "code",
      "source": [
        "# Print 'Hello!' three times\n",
        "for x in range(3):\n",
        "    print('Hello!')\n",
        "# Prints Hello!\n",
        "# Prints Hello!\n",
        "# Prints Hello!"
      ],
      "metadata": {
        "id": "3NEU05k4Kx2P"
      },
      "execution_count": null,
      "outputs": []
    },
    {
      "cell_type": "code",
      "source": [
        "# Generate a sequence of numbers from 2 to 6\n",
        "for x in range(2, 7):\n",
        "    print(x)\n",
        "# Prints 2 3 4 5 6"
      ],
      "metadata": {
        "id": "qnGDHCXFK2Jx"
      },
      "execution_count": null,
      "outputs": []
    },
    {
      "cell_type": "code",
      "source": [
        "for x in range(-5,0):\n",
        "    print(x)\n",
        "# Prints -5 -4 -3 -2 -1"
      ],
      "metadata": {
        "id": "KC_RT2INK6Ol"
      },
      "execution_count": null,
      "outputs": []
    },
    {
      "cell_type": "code",
      "source": [
        "# Increment the range with 2\n",
        "for x in range(2, 7, 2):\n",
        "    print(x)\n",
        "# Prints 2 4 6"
      ],
      "metadata": {
        "id": "sVQC7q2sK8wW"
      },
      "execution_count": null,
      "outputs": []
    },
    {
      "cell_type": "code",
      "source": [
        "# Flatten a nested list\n",
        "list = [[1, 2, 3],[4, 5, 6],[7, 8, 9]]\n",
        "for sublist in list:\n",
        "    for number in sublist:\n",
        "        print(number)\n",
        "# Prints 1 2 3 4 5 6 7 8 9"
      ],
      "metadata": {
        "id": "SBN7pxdULCB_"
      },
      "execution_count": null,
      "outputs": []
    },
    {
      "cell_type": "code",
      "source": [],
      "metadata": {
        "id": "fdu6T3DlLBz0"
      },
      "execution_count": null,
      "outputs": []
    },
    {
      "cell_type": "markdown",
      "source": [
        "Access Index in for Loop\n",
        "To iterate over the indices of a sequence, you can combine range() and len() as follows:"
      ],
      "metadata": {
        "id": "INJ4MVw1LLoJ"
      }
    },
    {
      "cell_type": "code",
      "source": [
        "colors = ['red', 'green', 'blue']\n",
        "for index in range(len(colors)):\n",
        "    print(index, colors[index])\n",
        "# Prints 0 red\n",
        "# Prints 1 green\n",
        "# Prints 2 blue"
      ],
      "metadata": {
        "id": "YG53WG3gLKce"
      },
      "execution_count": null,
      "outputs": []
    },
    {
      "cell_type": "markdown",
      "source": [
        "### While\n",
        "\n",
        "A while loop is used when you want to perform a task indefinitely, until a particular condition is met. It’s a condition-controlled loop.\n",
        "\n",
        "Any non-zero value or nonempty container is considered TRUE; whereas Zero, None, and empty container is considered FALSE.\n",
        "\n"
      ],
      "metadata": {
        "id": "pPY9zofELUyi"
      }
    },
    {
      "cell_type": "markdown",
      "source": [
        "Nested for Loop\n",
        "A loop inside another loop is called a nested loop."
      ],
      "metadata": {
        "id": "LKRs22YtK_iN"
      }
    },
    {
      "cell_type": "code",
      "source": [
        "# Iterate until x becomes 0\n",
        "x = 6\n",
        "while x:\n",
        "    print(x)\n",
        "    x -= 1\n",
        "# Prints 6 5 4 3 2 1"
      ],
      "metadata": {
        "id": "nFIp-Wp0Lfty"
      },
      "execution_count": null,
      "outputs": []
    },
    {
      "cell_type": "code",
      "source": [
        "# Iterate until list is empty\n",
        "L = ['red', 'green', 'blue']\n",
        "while L:\n",
        "    print(L.pop())\n",
        "# Prints blue green red"
      ],
      "metadata": {
        "id": "akFIHpDbLhhh"
      },
      "execution_count": null,
      "outputs": []
    },
    {
      "cell_type": "code",
      "source": [
        "# Iterate until string is empty\n",
        "x = 'blue'\n",
        "while x:\n",
        "    print(x)\n",
        "    x = x[1:]\n",
        "# Prints blue\n",
        "# Prints lue\n",
        "# Prints ue\n",
        "# Prints e"
      ],
      "metadata": {
        "id": "Vu6uWulRLrhl"
      },
      "execution_count": null,
      "outputs": []
    },
    {
      "cell_type": "code",
      "source": [
        "# program to display numbers from 1 to 5\n",
        "\n",
        "# initialize the variable\n",
        "i = 1\n",
        "n = 5\n",
        "\n",
        "# while loop from i = 1 to 5\n",
        "while i <= n:\n",
        "    print(i)\n",
        "    i = i + 1"
      ],
      "metadata": {
        "id": "EzqgRnNyM0-1"
      },
      "execution_count": null,
      "outputs": []
    },
    {
      "cell_type": "code",
      "source": [
        "# program to calculate the sum of numbers\n",
        "# until the user enters zero\n",
        "\n",
        "total = 0\n",
        "\n",
        "number = int(input('Enter a number: '))\n",
        "\n",
        "# add numbers until number is zero\n",
        "while number != 0:\n",
        "    total += number    # total = total + number\n",
        "\n",
        "    # take integer input again\n",
        "    number = int(input('Enter a number: '))\n",
        "\n",
        "\n",
        "print('total =', total)"
      ],
      "metadata": {
        "id": "nAH6uI3LM4zB"
      },
      "execution_count": null,
      "outputs": []
    },
    {
      "cell_type": "markdown",
      "source": [
        "## Transfer statetements\n",
        "\n",
        "In Python, transfer statements are used to alter the program’s way of execution in a certain manner. For this purpose, we use three types of transfer statements.\n",
        "\n",
        "* break statement\n",
        "* continue statement\n",
        "* pass statements"
      ],
      "metadata": {
        "id": "yo40zMi--UUD"
      }
    },
    {
      "cell_type": "markdown",
      "source": [
        "<a><img src=\"https://static.wixstatic.com/media/187085_feb0b26e62af46d8be557d2106bac496~mv2.png\" width=\"80%\" height=\"80%\" /></a>\n"
      ],
      "metadata": {
        "id": "KGN93o-4JsAS"
      }
    },
    {
      "cell_type": "markdown",
      "source": [
        "#### Break in for Loop\n",
        "Python break statement is used to exit the loop immediately. It simply jumps out of the loop altogether, and the program continues after the loop."
      ],
      "metadata": {
        "id": "vfYh70npKSqc"
      }
    },
    {
      "cell_type": "code",
      "source": [
        "# Break the loop at 'blue'\n",
        "colors = ['red', 'green', 'blue', 'yellow']\n",
        "for x in colors:\n",
        "    if x == 'blue':\n",
        "        break\n",
        "    print(x)\n",
        "# Prints red green"
      ],
      "metadata": {
        "id": "S0wYrCodKPp9"
      },
      "execution_count": null,
      "outputs": []
    },
    {
      "cell_type": "markdown",
      "source": [
        "#### Continue in for Loop\n",
        "The continue statement skips the current iteration of a loop and continues with the next iteration."
      ],
      "metadata": {
        "id": "bkSXjMstKXLc"
      }
    },
    {
      "cell_type": "code",
      "source": [
        "# Skip 'blue'\n",
        "colors = ['red', 'green', 'blue', 'yellow']\n",
        "for x in colors:\n",
        "    if x == 'blue':\n",
        "        continue\n",
        "    print(x)\n",
        "# Prints red green yellow"
      ],
      "metadata": {
        "id": "57I4dNadKaiv"
      },
      "execution_count": null,
      "outputs": []
    },
    {
      "cell_type": "code",
      "source": [
        "colors = ['red', 'green', 'blue', 'yellow']\n",
        "for x in colors:\n",
        "    if x == 'blue':\n",
        "        break\n",
        "    print(x)\n",
        "else:\n",
        "    print('Done!')\n",
        "# Prints red green"
      ],
      "metadata": {
        "id": "0i_DSUeTKqMM"
      },
      "execution_count": null,
      "outputs": []
    },
    {
      "cell_type": "markdown",
      "source": [
        "Break in while Loop\n",
        "Python break statement is used to exit the loop immediately. It simply jumps out of the loop altogether, and the program continues after the loop."
      ],
      "metadata": {
        "id": "4s6gKmGkLyfZ"
      }
    },
    {
      "cell_type": "code",
      "source": [
        "# Exit when x becomes 3\n",
        "x = 6\n",
        "while x:\n",
        "    print(x)\n",
        "    x -= 1\n",
        "    if x == 3:\n",
        "        break\n",
        "# Prints 6 5 4"
      ],
      "metadata": {
        "id": "WIgxcvM2Lwep"
      },
      "execution_count": null,
      "outputs": []
    },
    {
      "cell_type": "markdown",
      "source": [
        "Continue in while Loop\n",
        "The continue statement skips the current iteration of a loop and continues with the next iteration."
      ],
      "metadata": {
        "id": "H3DoFVkJL2Ny"
      }
    },
    {
      "cell_type": "code",
      "source": [
        "# Skip odd numbers\n",
        "x = 6\n",
        "while x:\n",
        "\tx -= 1\n",
        "\tif x % 2 != 0:\n",
        "\t\tcontinue\n",
        "\tprint(x)\n",
        "# Prints 4 2 0"
      ],
      "metadata": {
        "id": "6289kNo6L31T"
      },
      "execution_count": null,
      "outputs": []
    },
    {
      "cell_type": "markdown",
      "source": [
        "Note: References\n",
        "\n",
        "* https://pyformat.info/\n",
        "* https://pynative.com/\n",
        "* https://docs.python.org/3/\n",
        "* https://www.educba.com/\n",
        "* https://www.learnbyexample.org/\n",
        "* https://www.programiz.com/\n"
      ],
      "metadata": {
        "id": "_I-Zg8ixNOlf"
      }
    }
  ]
}