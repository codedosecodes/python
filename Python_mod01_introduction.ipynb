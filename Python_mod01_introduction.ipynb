{
  "nbformat": 4,
  "nbformat_minor": 0,
  "metadata": {
    "colab": {
      "provenance": [],
      "authorship_tag": "ABX9TyOjDHrR9O5lS+sQmYkKzS98",
      "include_colab_link": true
    },
    "kernelspec": {
      "name": "python3",
      "display_name": "Python 3"
    },
    "language_info": {
      "name": "python"
    }
  },
  "cells": [
    {
      "cell_type": "markdown",
      "metadata": {
        "id": "view-in-github",
        "colab_type": "text"
      },
      "source": [
        "<a href=\"https://colab.research.google.com/github/codedosecodes/python/blob/main/Python_mod01_introduction.ipynb\" target=\"_parent\"><img src=\"https://colab.research.google.com/assets/colab-badge.svg\" alt=\"Open In Colab\"/></a>"
      ]
    },
    {
      "cell_type": "markdown",
      "source": [
        "\n",
        "<img src=\"https://static.wixstatic.com/media/187085_663a141abb41479db38c836ad13ba2b8~mv2.png\" alt=\"\" width=\"200px\" align=\"right\"/>\n",
        "\n",
        "# **Introduction to Programming with Python**\n",
        "\n",
        "# Learn the Basics\n",
        "\n",
        "Authors:\n",
        "[Gabriel Mauricio Cortés](https://github.com/codedosecodes/),"
      ],
      "metadata": {
        "id": "_RYGNKndk6Oq"
      }
    },
    {
      "cell_type": "markdown",
      "source": [
        "<style>\n",
        ".alert2 {\n",
        "  padding: 20px;\n",
        "  background-color: #f44336;\n",
        "  color: white;\n",
        "  margin-bottom: 15px;\n",
        "}\n",
        ".alert {\n",
        "  border-radius: 10px;\n",
        "  background-color: #bbb;\n",
        "  border: 2px solid #999;\n",
        "  margin-top: 20px;\n",
        "  margin-bottom: 20px;\n",
        "  padding-left: 5px;\n",
        "  padding-top: 10px;\n",
        "  padding-bottom: 10px;\n",
        "  font-family: 'Arial', sans-serif;\n",
        "}\n",
        "\n",
        ".alert > h3 {\n",
        "  display: block;\n",
        "  font-size: 30px;\n",
        "  margin-top: 5px;\n",
        "  margin-bottom: 15px;\n",
        "}\n",
        "\n",
        ".alert-info {\n",
        "  background-color: #1af !important;\n",
        "  border: 2px solid #04a !important;\n",
        "}\n",
        "div.warn {\n",
        "    background-color: #fcf2f2;\n",
        "    border-color: #dFb5b4;\n",
        "    border-left: 5px solid #dfb5b4;\n",
        "    padding: 0.5em;\n",
        "    }\n",
        "</style>\n",
        "\n",
        "\n",
        "<table class=\"table table-bordered\" style=\"border-color:green;\" align=\"left\">\n",
        "  <td>\n",
        "    <a target=\"_blank\" href=\"https://www.codedose.codes/\"><img src=\"https://static.wixstatic.com/media/187085_663a141abb41479db38c836ad13ba2b8~mv2.png\" width=\"32\" height=\"32\" />View Codedose</a>\n",
        "  </td>\n",
        "  <td>\n",
        "    <a target=\"_blank\" href=\"https://colab.research.google.com/drive/1k18o-HKOViymLpRfktmObU_0_DgTnFZ8\"><img src=\"https://static.wixstatic.com/media/187085_adc0ad8b754748b5b46b2ce17d6c48fb~mv2.png\" width=\"32\" height=\"32\" />Run in Google Colab</a>\n",
        "  </td>\n",
        "  <td>\n",
        "    <a target=\"_blank\" href=\"https://github.com/codedosecodes/python\"><img src=\"https://static.wixstatic.com/media/187085_a8a39d79788e40ec8c2a70d4f42ec0ec~mv2.png\" width=\"32\" height=\"32\" />View code in GitHub</a>\n",
        "  </td>\n",
        "  <td>\n",
        "    <a href=\"https://drive.google.com/file/d/12ke42y1OYhi-FIhoJ-x-u46XHG6-B24F/view?usp=sharing\"><img src=\"https://static.wixstatic.com/media/187085_dbe5b3fa6ced40fb83d52e0f38da647e~mv2.png\" width=\"32\" height=\"32\" />Download notebook</a>\n",
        "  </td>\n",
        "          <td>\n",
        "    <a target=\"_blank\" href=\"https://nbviewer.org/github/codedosecodes/python/blob/main/Python_mod01_introduction.ipynb\"><img src=\"https://static.wixstatic.com/media/187085_f270d64e2bdf462c9e26477d53a86602~mv2.png\" width=\"32\" height=\"32\" />Jupyter Notebook</a>\n",
        "  </td>\n",
        "    <td>\n",
        "    <a target=\"_blank\" href=\"https://colab.research.google.com/drive/1k18o-HKOViymLpRfktmObU_0_DgTnFZ8\"><img src=\"https://static.wixstatic.com/media/187085_27f04669f65449f39f6b40b6a5945496~mv2.png\" width=\"32\" height=\"32\" />View Video</a>\n",
        "  </td>\n",
        "</table>\n",
        "\n"
      ],
      "metadata": {
        "id": "5VTeKPVtkuhs"
      }
    },
    {
      "cell_type": "markdown",
      "source": [
        "\n",
        "\n",
        "\n",
        "<a ><img src=\"https://static.wixstatic.com/media/187085_4630f194ddfd4aabad63d44874c69da7~mv2.jpg/v1/fill/w_600,h_400,al_c,q_80,usm_0.66_1.00_0.01,enc_auto/187085_4630f194ddfd4aabad63d44874c69da7~mv2.jpgg\" width=\"100%\" height=\"100%\" /></a>\n"
      ],
      "metadata": {
        "id": "til3m4gdoAEY"
      }
    },
    {
      "cell_type": "markdown",
      "source": [
        "\n",
        "## Objetives\n",
        "### know and drive\n",
        "1. Data types, expressions and statements, strings Lists, dictionaries and tuples\n",
        "2. Variables\n",
        "3. Opeartors\n",
        "4. Control Structures\n",
        "\n"
      ],
      "metadata": {
        "id": "XbU_yOY-hgQN"
      }
    },
    {
      "cell_type": "markdown",
      "source": [
        "\n",
        "\n",
        "<a ><img src=\"https://static.wixstatic.com/media/187085_0d837ba2a4434cc095385943cf879124~mv2.png\" width=\"80%\" height=\"80%\" /></a>\n",
        "\n",
        "\n"
      ],
      "metadata": {
        "id": "G8bTEsdvtCrJ"
      }
    },
    {
      "cell_type": "markdown",
      "source": [
        "\n",
        "#1. Data types in Python\n",
        "A data type is the property of a value that determines: its domain (values it can take), the operations that can be applied to it, and the internal representation used by the computer itself.\n",
        "In python there are essentially:\n",
        "\n",
        "\n",
        "Data Types_: int, float, str\n",
        "_Data Structures_: list, dict, tup, set, bool\n",
        "\n",
        "| Name | Type | Description | Example |\n",
        "| :--- | :---: | :--- | :--- |\n",
        "| Integers | `int` | Numbers: 7, 200, 600 | n = 21|\n",
        "| Real or Floating point | `float` | Number with decimal point: 3.14, 5.8, 120.0 | n = 22.75 |\n",
        "| Text or Strings | `str` | Ordered sequence of characters: 'hello', \"Gabriel\" |name = 'Gabriel' |\n",
        "| Lists | `list` | Ordered sequence of objects: \\[10, 'hello', 200.3] | l = [3, 'a', 2.5] |\n",
        "| Dictionaries | `dict` | Unordered Key:Value pairs: {\"key\":\"value\", ...} | d = {1:'J', 2:'E'} |\n",
        "| Tuples | `tup` | Ordered immutable sequence of objects: (10, 'hello', 200.3) |t =(2, 'b', 6.4)|\n",
        "| Sets | `set` | Unordered collection of unique objects: {\"a\", \"b\"} |s = {1, 3, 5} |\n",
        "| Logical values Booleans | `bool` | Logical value indicating _True_ or _False_ | flag = True|\n",
        "| Complex | `complex` | To store complex numbers (real and imaginary part) | n = 10+20j|\n",
        "| Range | `range` | To generate a sequence of number | numbers = range(10)|\n",
        "\n",
        "\n",
        "\n",
        "\n",
        "#### Next we will see the characteristics of each one separately.\n"
      ],
      "metadata": {
        "id": "8yVdUDBbkTF-"
      }
    },
    {
      "cell_type": "markdown",
      "source": [
        "## 1.1 Numbers\n",
        "\n",
        "As their name says, they are integers to which the known basic operations can be applied: addition (`+`), subtraction (`-`), multiplication (`*`), floating division (`/`), division integer (`//`), modulo (`%`), potentiation (`**`).\n",
        "\n",
        "#### Basics:\n",
        "- Addition: `2 + 2`\n",
        "- Subtraction: `1 - 10`\n",
        "- Multiplication: `3 * 2`\n",
        "- Division: `4 / 5`\n",
        "- Integer Division `6 // 5`\n",
        "\n",
        "#### Other operators:\n",
        "- Modulo or \"Mod\": `4 % 3`\n",
        "- Power: `3 ** 2`\n",
        "- Parentheses: `(2 + 1) * 10`\n",
        "\n"
      ],
      "metadata": {
        "id": "oUlunMJNlQqV"
      }
    },
    {
      "cell_type": "code",
      "execution_count": null,
      "metadata": {
        "id": "yygLUf078wqx",
        "colab": {
          "base_uri": "https://localhost:8080/"
        },
        "outputId": "989feed0-a7d5-4f24-e940-18b60b14c405"
      },
      "outputs": [
        {
          "output_type": "execute_result",
          "data": {
            "text/plain": [
              "6"
            ]
          },
          "metadata": {},
          "execution_count": 1
        }
      ],
      "source": [
        "2+2+2"
      ]
    },
    {
      "cell_type": "code",
      "source": [
        "1-10"
      ],
      "metadata": {
        "colab": {
          "base_uri": "https://localhost:8080/"
        },
        "id": "8m3ZlcH7mFVf",
        "outputId": "6d3ca6c7-6e78-4f13-b494-f514974cee5b"
      },
      "execution_count": null,
      "outputs": [
        {
          "output_type": "execute_result",
          "data": {
            "text/plain": [
              "-9"
            ]
          },
          "metadata": {},
          "execution_count": 3
        }
      ]
    },
    {
      "cell_type": "code",
      "source": [
        "3*2"
      ],
      "metadata": {
        "colab": {
          "base_uri": "https://localhost:8080/"
        },
        "id": "irmbJRXrmIcE",
        "outputId": "3e74b5c0-9258-47cf-81a1-89e461cb3c3c"
      },
      "execution_count": null,
      "outputs": [
        {
          "output_type": "execute_result",
          "data": {
            "text/plain": [
              "6"
            ]
          },
          "metadata": {},
          "execution_count": 4
        }
      ]
    },
    {
      "cell_type": "code",
      "source": [
        "4/5"
      ],
      "metadata": {
        "colab": {
          "base_uri": "https://localhost:8080/"
        },
        "id": "yKJjlNQXmJ62",
        "outputId": "6b9d367a-6e05-4c46-ad1e-e3c927117c2e"
      },
      "execution_count": null,
      "outputs": [
        {
          "output_type": "execute_result",
          "data": {
            "text/plain": [
              "0.8"
            ]
          },
          "metadata": {},
          "execution_count": 5
        }
      ]
    },
    {
      "cell_type": "code",
      "source": [
        "6//5"
      ],
      "metadata": {
        "colab": {
          "base_uri": "https://localhost:8080/"
        },
        "id": "xGfoM_KUmOSy",
        "outputId": "09da9a4f-05c1-426f-b1ab-33452abbcb48"
      },
      "execution_count": null,
      "outputs": [
        {
          "output_type": "execute_result",
          "data": {
            "text/plain": [
              "1"
            ]
          },
          "metadata": {},
          "execution_count": 11
        }
      ]
    },
    {
      "cell_type": "code",
      "source": [
        "4%3"
      ],
      "metadata": {
        "colab": {
          "base_uri": "https://localhost:8080/"
        },
        "id": "lQy2osd6mYpC",
        "outputId": "82d0bca5-b0ab-49ff-96cc-0c12bef311ed"
      },
      "execution_count": null,
      "outputs": [
        {
          "output_type": "execute_result",
          "data": {
            "text/plain": [
              "1"
            ]
          },
          "metadata": {},
          "execution_count": 7
        }
      ]
    },
    {
      "cell_type": "code",
      "source": [
        "3**2"
      ],
      "metadata": {
        "colab": {
          "base_uri": "https://localhost:8080/"
        },
        "id": "mQEM5PKWmZfw",
        "outputId": "08ac0b7a-ea15-4f44-e0b2-2e20b58872ee"
      },
      "execution_count": null,
      "outputs": [
        {
          "output_type": "execute_result",
          "data": {
            "text/plain": [
              "9"
            ]
          },
          "metadata": {},
          "execution_count": 8
        }
      ]
    },
    {
      "cell_type": "code",
      "source": [
        "(2 + 1) * 10"
      ],
      "metadata": {
        "colab": {
          "base_uri": "https://localhost:8080/"
        },
        "id": "Fm-xm04Kmb3c",
        "outputId": "5c739795-e090-4bc6-86aa-56fce3dc73c5"
      },
      "execution_count": null,
      "outputs": [
        {
          "output_type": "execute_result",
          "data": {
            "text/plain": [
              "30"
            ]
          },
          "metadata": {},
          "execution_count": 9
        }
      ]
    },
    {
      "cell_type": "markdown",
      "source": [
        "\n",
        "**Note**: In python 3 \"traditional\" division of integers gives a float. Although this is not conceptually coherent (the operation of 2 types should originate the same type of data), it is in practice what is sought and is \"pragmatically\" more coherent. If you are looking for the entire division, you need to use `//`."
      ],
      "metadata": {
        "id": "O37LuI76l-4n"
      }
    },
    {
      "cell_type": "markdown",
      "source": [
        "### 1.1.1 Integers\n",
        "\n",
        "Python uses the int data type to represent whole integer values. For example, we can use the int data type to store the roll number of a student. The Integer type in Python is represented using a int class.\n",
        "\n",
        "You can store positive and negative integer numbers of any length such as 221, -759, 18689741.\n",
        "\n",
        "We can create an integer variable using the two ways\n",
        "\n",
        "Directly assigning an integer value to a variable\n",
        "Using a int() class."
      ],
      "metadata": {
        "id": "C663h860wxY-"
      }
    },
    {
      "cell_type": "code",
      "source": [
        "# store int value\n",
        "room_no = 33\n",
        "# display room no\n",
        "print(\"room number is:\", room_no)\n",
        "# output 33\n",
        "print(type(room_no))\n",
        "# output class 'int'\n",
        "\n",
        "# store integer using int() class\n",
        "id_room = int(21)\n",
        "print(id_room)  # 21\n",
        "print(type(id_room))  # class 'int'"
      ],
      "metadata": {
        "colab": {
          "base_uri": "https://localhost:8080/"
        },
        "id": "R7z8BOKVvhoU",
        "outputId": "c335e151-79eb-450b-8ecb-ec6a08d9abda"
      },
      "execution_count": null,
      "outputs": [
        {
          "output_type": "stream",
          "name": "stdout",
          "text": [
            "room number is: 33\n",
            "<class 'int'>\n",
            "21\n",
            "<class 'int'>\n"
          ]
        }
      ]
    },
    {
      "cell_type": "markdown",
      "source": [
        "### 1.1.2 Real or floating point numbers.\n",
        "The operation with floating numbers allows us to use the mathematical operations that we know well without problem. To enter a floating point number, you must enter its integer part followed by its decimal part. However, if we want to operate as a floating point number on an integer, a 0 must be added after the point.\n",
        "Let's see what the computer gives us in the case of the previous division with floating point numbers:."
      ],
      "metadata": {
        "id": "PHPEZ8UCnLTN"
      }
    },
    {
      "cell_type": "code",
      "source": [
        "7.0/4.0"
      ],
      "metadata": {
        "colab": {
          "base_uri": "https://localhost:8080/"
        },
        "id": "tDtaczESnfsl",
        "outputId": "350e4599-9049-48d0-fffa-6c072cf2eeb9"
      },
      "execution_count": null,
      "outputs": [
        {
          "output_type": "execute_result",
          "data": {
            "text/plain": [
              "1.75"
            ]
          },
          "metadata": {},
          "execution_count": 12
        }
      ]
    },
    {
      "cell_type": "code",
      "source": [
        "5./6."
      ],
      "metadata": {
        "colab": {
          "base_uri": "https://localhost:8080/"
        },
        "id": "60IsKX7UnkLP",
        "outputId": "e8888143-1fdc-47cd-e348-290554e4c521"
      },
      "execution_count": null,
      "outputs": [
        {
          "output_type": "execute_result",
          "data": {
            "text/plain": [
              "0.8333333333333334"
            ]
          },
          "metadata": {},
          "execution_count": 13
        }
      ]
    },
    {
      "cell_type": "markdown",
      "source": [
        "Real numbers (or floats) have the same operations as integers.\n",
        "\n",
        "Real numbers cannot be represented with infinite precision in the computer, so it is necessary to consider that there is always a rounding error."
      ],
      "metadata": {
        "id": "b_CIIcM7nuwc"
      }
    },
    {
      "cell_type": "markdown",
      "source": [
        "To represent floating-point values or decimal values, we can use the float data type. For example, if we want to store the salary, we can use the float type.\n",
        "\n",
        "The float type in Python is represented using a float class.\n",
        "\n",
        "We can create a float variable using the two ways\n",
        "\n",
        "Directly assigning a float value to a variable\n",
        "Using a float() class."
      ],
      "metadata": {
        "id": "IXBNSM-Qw9LZ"
      }
    },
    {
      "cell_type": "code",
      "source": [
        "# store a floating-point value\n",
        "taxes = 2700.456\n",
        "print(\"taxes is :\", taxes)  # 2700.456\n",
        "print(type(taxes))  # class 'float'\n",
        "\n",
        "# store a floating-point value using float() class\n",
        "num = float(24.75)\n",
        "print(num)  # 24.75\n",
        "print(type(num))  # class 'float'"
      ],
      "metadata": {
        "colab": {
          "base_uri": "https://localhost:8080/"
        },
        "id": "p12RPu_bxA4w",
        "outputId": "c4e1fd68-7c8a-48b0-e09e-2ac6d614664b"
      },
      "execution_count": null,
      "outputs": [
        {
          "output_type": "stream",
          "name": "stdout",
          "text": [
            "taxes is : 2700.456\n",
            "<class 'float'>\n",
            "24.75\n",
            "<class 'float'>\n"
          ]
        }
      ]
    },
    {
      "cell_type": "markdown",
      "source": [
        "### 1.1.3 Complex numbers\n",
        "Python allows us to operate on complex numbers through the `a+bj` syntax, where `j` denotes the imaginary number in the system. The possible operations on complex numbers are the same as for real numbers. Let's see some examples:"
      ],
      "metadata": {
        "id": "Njdw-xWnyVdj"
      }
    },
    {
      "cell_type": "code",
      "source": [
        "(3 + 2j) + (- 2j) # It remains a complex number even if the imaginary part is canceled"
      ],
      "metadata": {
        "colab": {
          "base_uri": "https://localhost:8080/"
        },
        "id": "l65H1ovGzJqz",
        "outputId": "f486dbde-f67a-4cd9-9dd6-4dd67b7e607a"
      },
      "execution_count": null,
      "outputs": [
        {
          "output_type": "execute_result",
          "data": {
            "text/plain": [
              "(3+0j)"
            ]
          },
          "metadata": {},
          "execution_count": 19
        }
      ]
    },
    {
      "cell_type": "code",
      "source": [
        "(3 + 2j) - (12 + 5j)"
      ],
      "metadata": {
        "colab": {
          "base_uri": "https://localhost:8080/"
        },
        "id": "i2_BQvT8zOWO",
        "outputId": "9c53b1db-38f4-45c4-da0d-7420a4c8292a"
      },
      "execution_count": null,
      "outputs": [
        {
          "output_type": "execute_result",
          "data": {
            "text/plain": [
              "(-9-3j)"
            ]
          },
          "metadata": {},
          "execution_count": 20
        }
      ]
    },
    {
      "cell_type": "code",
      "source": [
        "(3-2j)*(-2j)"
      ],
      "metadata": {
        "colab": {
          "base_uri": "https://localhost:8080/"
        },
        "id": "9iXTijMGzQm6",
        "outputId": "3f4c6809-0dd6-4909-d16e-5481dae96aa1"
      },
      "execution_count": null,
      "outputs": [
        {
          "output_type": "execute_result",
          "data": {
            "text/plain": [
              "(-4-6j)"
            ]
          },
          "metadata": {},
          "execution_count": 21
        }
      ]
    },
    {
      "cell_type": "code",
      "source": [
        "(12+5j)/(4-3j)"
      ],
      "metadata": {
        "colab": {
          "base_uri": "https://localhost:8080/"
        },
        "id": "pkvgZuQYzSzk",
        "outputId": "8937f20f-fd8c-4b9d-c130-569e91dde49b"
      },
      "execution_count": null,
      "outputs": [
        {
          "output_type": "execute_result",
          "data": {
            "text/plain": [
              "(1.32+2.24j)"
            ]
          },
          "metadata": {},
          "execution_count": 22
        }
      ]
    },
    {
      "cell_type": "markdown",
      "source": [
        "A complex number is a number with a real and an imaginary component represented as a+bj where a and b contain integers or floating-point values.\n",
        "\n",
        "The complex type is generally used in scientific applications and electrical engineering applications. If we want to declare a complex value, then we can use the a+bj form. See the following example."
      ],
      "metadata": {
        "id": "naC9hH37zqpw"
      }
    },
    {
      "cell_type": "code",
      "source": [
        "x = 7 + 5  + 8j  # both value are int type\n",
        "y = 10 + 3.5j  # one int and one float\n",
        "z = 12.2 + 1.2j  # both value are float type\n",
        "print(type(x))  # class 'complex'>\n",
        "\n",
        "print(x)  # (12 +8j)\n",
        "print(y)  # (10+3.5j)\n",
        "print(z)  # (12.2+1.2j)"
      ],
      "metadata": {
        "colab": {
          "base_uri": "https://localhost:8080/"
        },
        "id": "DfupliDxzk_v",
        "outputId": "e39af56d-b113-415a-f821-146d0d8ca7ac"
      },
      "execution_count": null,
      "outputs": [
        {
          "output_type": "stream",
          "name": "stdout",
          "text": [
            "<class 'complex'>\n",
            "(12+8j)\n",
            "(10+3.5j)\n",
            "(11.2+1.2j)\n"
          ]
        }
      ]
    },
    {
      "cell_type": "markdown",
      "source": [
        "## 1.2. Dictionary\n",
        "In Python, dictionaries are unordered collections of unique values stored in (Key-Value) pairs. Use a dictionary data type to store data as a key-value pair.\n",
        "\n",
        "The dictionary type is represented using a dict class. For example, If you want to store the name and roll number of all students, then you can use the dict type.\n",
        "\n",
        "In a dictionary, duplicate keys are not allowed, but the value can be duplicated. If we try to insert a value with a duplicate key, the old value will be replaced with the new value.\n",
        "\n",
        "Dictionary has some characteristics which are listed below:\n",
        "\n",
        "* A heterogeneous (i.e., str, list, tuple) elements are allowed for both key and value in a dictionary. But An object can be a key in a dictionary if it is hashable.\n",
        "* The dictionary is mutable which means we can modify its items\n",
        "* Dictionary is unordered so we can’t perform indexing and slicing"
      ],
      "metadata": {
        "id": "71LUDOHc0kte"
      }
    },
    {
      "cell_type": "markdown",
      "source": [
        "<a><img src=\"https://static.wixstatic.com/media/187085_6a43c54e73eb4af88d2af8ae328eb796~mv2.png\" width=\"80%\" height=\"80%\" /></a>"
      ],
      "metadata": {
        "id": "lf1wIv2n312o"
      }
    },
    {
      "cell_type": "code",
      "source": [
        "my_dict = {'key1':'value1','key2':'values2'} # also can mixing values\n",
        "my_dict"
      ],
      "metadata": {
        "colab": {
          "base_uri": "https://localhost:8080/"
        },
        "id": "bLDdrGxp4F2v",
        "outputId": "2d61b09f-edee-49c1-ef2c-fd62b07d8c67"
      },
      "execution_count": null,
      "outputs": [
        {
          "output_type": "execute_result",
          "data": {
            "text/plain": [
              "{'key1': 'value1', 'key2': 'values2'}"
            ]
          },
          "metadata": {},
          "execution_count": 27
        }
      ]
    },
    {
      "cell_type": "code",
      "source": [
        "my_dict['key2']"
      ],
      "metadata": {
        "colab": {
          "base_uri": "https://localhost:8080/",
          "height": 35
        },
        "id": "WPbnXTRS4QZ2",
        "outputId": "51bdb90a-53c9-4c51-fc19-4ee829d62a8d"
      },
      "execution_count": null,
      "outputs": [
        {
          "output_type": "execute_result",
          "data": {
            "text/plain": [
              "'values2'"
            ],
            "application/vnd.google.colaboratory.intrinsic+json": {
              "type": "string"
            }
          },
          "metadata": {},
          "execution_count": 28
        }
      ]
    },
    {
      "cell_type": "code",
      "source": [
        "my_dict = {'g1':200, 'g2':400}\n",
        "my_dict"
      ],
      "metadata": {
        "colab": {
          "base_uri": "https://localhost:8080/"
        },
        "id": "rCkChjwY4TXU",
        "outputId": "63c02de9-1d13-4dd2-df1e-81f46ac172cd"
      },
      "execution_count": null,
      "outputs": [
        {
          "output_type": "execute_result",
          "data": {
            "text/plain": [
              "{'g1': 200, 'g2': 400}"
            ]
          },
          "metadata": {},
          "execution_count": 31
        }
      ]
    },
    {
      "cell_type": "code",
      "source": [
        "my_dict['g3'] =600 # append and change values by 'key'\n",
        "my_dict"
      ],
      "metadata": {
        "colab": {
          "base_uri": "https://localhost:8080/"
        },
        "id": "KSW7VxVB4ZAQ",
        "outputId": "0db2e945-40de-4c8d-acc0-3c1ed46975e2"
      },
      "execution_count": null,
      "outputs": [
        {
          "output_type": "execute_result",
          "data": {
            "text/plain": [
              "{'g1': 200, 'g2': 400, 'g3': 600}"
            ]
          },
          "metadata": {},
          "execution_count": 32
        }
      ]
    },
    {
      "cell_type": "markdown",
      "source": [
        "#### Keys"
      ],
      "metadata": {
        "id": "4s7jX3Ie4jSz"
      }
    },
    {
      "cell_type": "code",
      "source": [
        "my_dict.keys() # keys"
      ],
      "metadata": {
        "colab": {
          "base_uri": "https://localhost:8080/"
        },
        "id": "7vyXxcxv4m9h",
        "outputId": "08f0b12a-6b91-4ed0-d2be-dbacab9728df"
      },
      "execution_count": null,
      "outputs": [
        {
          "output_type": "execute_result",
          "data": {
            "text/plain": [
              "dict_keys(['g1', 'g2', 'g3'])"
            ]
          },
          "metadata": {},
          "execution_count": 33
        }
      ]
    },
    {
      "cell_type": "markdown",
      "source": [
        "#### Values"
      ],
      "metadata": {
        "id": "OJIXdONu4ooA"
      }
    },
    {
      "cell_type": "code",
      "source": [
        "my_dict.values() # values"
      ],
      "metadata": {
        "colab": {
          "base_uri": "https://localhost:8080/"
        },
        "id": "5s4oTgBQ4uYg",
        "outputId": "7e558aee-e043-4aa0-e2d4-2bc7fafb407d"
      },
      "execution_count": null,
      "outputs": [
        {
          "output_type": "execute_result",
          "data": {
            "text/plain": [
              "dict_values([200, 400, 600])"
            ]
          },
          "metadata": {},
          "execution_count": 34
        }
      ]
    },
    {
      "cell_type": "markdown",
      "source": [
        "#### Tupla pf [air 'key','value'"
      ],
      "metadata": {
        "id": "THHV62A040bc"
      }
    },
    {
      "cell_type": "code",
      "source": [
        "my_dict.items() # tuple of pair 'key', 'value'"
      ],
      "metadata": {
        "colab": {
          "base_uri": "https://localhost:8080/"
        },
        "id": "SmHJ-8wF47gI",
        "outputId": "cdb1c700-5a10-4cc3-8d04-ff779eb718dd"
      },
      "execution_count": null,
      "outputs": [
        {
          "output_type": "execute_result",
          "data": {
            "text/plain": [
              "dict_items([('g1', 200), ('g2', 400), ('g3', 600)])"
            ]
          },
          "metadata": {},
          "execution_count": 35
        }
      ]
    },
    {
      "cell_type": "markdown",
      "source": [
        "#### Example dictionary creation and use"
      ],
      "metadata": {
        "id": "mhniPH205qJi"
      }
    },
    {
      "cell_type": "code",
      "source": [
        "# create a dictionary\n",
        "my_dict = {1: \"Juan\", 2: \"Gabriel\", 3: \"Oscar\"}\n",
        "\n",
        "# display dictionary\n",
        "print(my_dict)  # {1: 'Juan', 2: 'Gabriel', 3: 'Oscar'}\n",
        "print(type(my_dict))  # class 'dict'\n",
        "\n",
        "# create a dictionary using a dit class\n",
        "my_dict = dict({1: \"Juan\", 2: \"Gabriel\", 3: \"OScar\"})\n",
        "\n",
        "# display dictionary\n",
        "print(my_dict)  # {1: 'Juan', 2: 'Gabriel', 3: 'Oscar'}\n",
        "print(type(my_dict))  # class 'dict'\n",
        "\n",
        "# access value using a key name\n",
        "print(my_dict[1])  # Juan\n",
        "\n",
        "# change the value of a key\n",
        "my_dict[1] = \"Adriana\"\n",
        "print(my_dict[1])  # Adriana"
      ],
      "metadata": {
        "colab": {
          "base_uri": "https://localhost:8080/"
        },
        "id": "t1E0mP4Y5Tom",
        "outputId": "818bb384-9760-4830-b303-5adf43a1bc01"
      },
      "execution_count": null,
      "outputs": [
        {
          "output_type": "stream",
          "name": "stdout",
          "text": [
            "{1: 'Juan', 2: 'Gabriel', 3: 'Oscar'}\n",
            "<class 'dict'>\n",
            "{1: 'Juan', 2: 'Gabriel', 3: 'OScar'}\n",
            "<class 'dict'>\n",
            "Juan\n",
            "Adriana\n"
          ]
        }
      ]
    },
    {
      "cell_type": "markdown",
      "source": [
        "## 1.3. Boolean\n",
        "\n",
        "Boolean values are those that can only have truth values: true (`True`) or false (`False`). They are mainly used to check the truth state of expressions and to evaluate conditionals or control structures.\n",
        "\n",
        "In Python, to represent boolean values (True and False) we use the bool data type. Boolean values are used to evaluate the value of the expression. For example, when we compare two values, the expression is evaluated, and Python returns the boolean True or False\n",
        "\n",
        "A simple example of how to get booleans comes from applying the order operations on numbers. For example, the equality comparison \"== \", or the inequalities \"<=\", \"<=\", \"<\", \">\".\n",
        "Booleans also have the traditional operations: and (`and`), or (`or`), negation (`not`).\n",
        "\n"
      ],
      "metadata": {
        "id": "3_SqrFcv5-kB"
      }
    },
    {
      "cell_type": "code",
      "source": [
        "3==4"
      ],
      "metadata": {
        "id": "DI80zIsH6gbr"
      },
      "execution_count": null,
      "outputs": []
    },
    {
      "cell_type": "code",
      "source": [
        "200==200"
      ],
      "metadata": {
        "id": "RUcu295U6iYy"
      },
      "execution_count": null,
      "outputs": []
    },
    {
      "cell_type": "code",
      "source": [
        "3.4 <= 5"
      ],
      "metadata": {
        "id": "Oxt-6wX96mmO"
      },
      "execution_count": null,
      "outputs": []
    },
    {
      "cell_type": "code",
      "source": [
        "(not True or True ) and (not False)"
      ],
      "metadata": {
        "colab": {
          "base_uri": "https://localhost:8080/"
        },
        "id": "J_Ib5MEW6olK",
        "outputId": "5976f2c3-67e3-4971-b448-1bc7cf30a307"
      },
      "execution_count": null,
      "outputs": [
        {
          "output_type": "execute_result",
          "data": {
            "text/plain": [
              "True"
            ]
          },
          "metadata": {},
          "execution_count": 37
        }
      ]
    },
    {
      "cell_type": "code",
      "source": [
        "True"
      ],
      "metadata": {
        "colab": {
          "base_uri": "https://localhost:8080/"
        },
        "id": "AATmpFyd6pTO",
        "outputId": "05d2bc4b-7a82-4329-e5cc-f76b7ca78119"
      },
      "execution_count": null,
      "outputs": [
        {
          "output_type": "execute_result",
          "data": {
            "text/plain": [
              "True"
            ]
          },
          "metadata": {},
          "execution_count": 38
        }
      ]
    },
    {
      "cell_type": "code",
      "source": [
        "x = 25\n",
        "y = 20\n",
        "\n",
        "z = x > y\n",
        "print(z)  # True\n",
        "print(type(z))  # class 'bool'"
      ],
      "metadata": {
        "colab": {
          "base_uri": "https://localhost:8080/"
        },
        "id": "CUe_FmII6rwE",
        "outputId": "ff495b36-df35-4689-e620-97ac1d0193ac"
      },
      "execution_count": null,
      "outputs": [
        {
          "output_type": "stream",
          "name": "stdout",
          "text": [
            "True\n",
            "<class 'bool'>\n"
          ]
        }
      ]
    },
    {
      "cell_type": "markdown",
      "source": [
        "## 1.4. Set\n",
        "\n",
        "In Python, a set is an unordered collection of data items that are unique. In other words, Python Set is a collection of elements (Or objects) that contains no duplicate elements.\n",
        "\n",
        "In Python, the Set data type used to represent a group of unique elements as a single entity. For example, If we want to store student ID numbers, we can use the set data type.\n",
        "\n",
        "The Set data type in Python is represented using a set class.\n",
        "\n",
        "We can create a Set using the two ways\n",
        "\n",
        "* By enclosing values in the curly brackets {}\n",
        "* Using a set() class.\n",
        "The set data type has the following characteristics.\n",
        "\n",
        "* It is mutable which means we can change set items\n",
        "* Duplicate elements are not allowed\n",
        "* Heterogeneous (values of all data types) elements are allowed\n",
        "* Insertion order of elements is not preserved, so we can’t perform indexing on a Set\n",
        "\n",
        "Unorder collections with _unique_ items."
      ],
      "metadata": {
        "id": "sg-ZnDtU7hDP"
      }
    },
    {
      "cell_type": "code",
      "source": [
        "my_set = set()\n",
        "my_set"
      ],
      "metadata": {
        "colab": {
          "base_uri": "https://localhost:8080/"
        },
        "id": "XvuIA-Fa77JN",
        "outputId": "eaa8da64-846d-4dbf-e064-7d26d5d489d7"
      },
      "execution_count": null,
      "outputs": [
        {
          "output_type": "execute_result",
          "data": {
            "text/plain": [
              "set()"
            ]
          },
          "metadata": {},
          "execution_count": 40
        }
      ]
    },
    {
      "cell_type": "code",
      "source": [
        "my_set.add(1)"
      ],
      "metadata": {
        "id": "PAR37-0W79xj"
      },
      "execution_count": null,
      "outputs": []
    },
    {
      "cell_type": "code",
      "source": [
        "my_set"
      ],
      "metadata": {
        "colab": {
          "base_uri": "https://localhost:8080/"
        },
        "id": "DGxGwant7_xe",
        "outputId": "d2a2a212-1534-4680-bcb9-dc53f1a81110"
      },
      "execution_count": null,
      "outputs": [
        {
          "output_type": "execute_result",
          "data": {
            "text/plain": [
              "{1}"
            ]
          },
          "metadata": {},
          "execution_count": 42
        }
      ]
    },
    {
      "cell_type": "code",
      "source": [
        "my_set.add(3) # add in not order items\n",
        "my_set.add(2)"
      ],
      "metadata": {
        "id": "pJ_4o-a-8A9f"
      },
      "execution_count": null,
      "outputs": []
    },
    {
      "cell_type": "code",
      "source": [
        "my_set"
      ],
      "metadata": {
        "colab": {
          "base_uri": "https://localhost:8080/"
        },
        "id": "1EuFsTMd8EA3",
        "outputId": "23e7cda4-6947-4d5b-bd6c-7c60540708ea"
      },
      "execution_count": null,
      "outputs": [
        {
          "output_type": "execute_result",
          "data": {
            "text/plain": [
              "{1, 2, 3}"
            ]
          },
          "metadata": {},
          "execution_count": 44
        }
      ]
    },
    {
      "cell_type": "code",
      "source": [
        "my_set.add(1) # add repeated value doesnt work"
      ],
      "metadata": {
        "id": "dbJ1MaZ38GlT"
      },
      "execution_count": null,
      "outputs": []
    },
    {
      "cell_type": "code",
      "source": [
        "my_set"
      ],
      "metadata": {
        "colab": {
          "base_uri": "https://localhost:8080/"
        },
        "id": "ycJqi_Ep8J5o",
        "outputId": "26fe0990-bd59-4a5e-862d-5afb50799ea7"
      },
      "execution_count": null,
      "outputs": [
        {
          "output_type": "execute_result",
          "data": {
            "text/plain": [
              "{1, 2, 3}"
            ]
          },
          "metadata": {},
          "execution_count": 46
        }
      ]
    },
    {
      "cell_type": "code",
      "source": [
        "\n",
        "\n",
        "\n",
        "# create a set using curly brackets{,}\n",
        "my_set = {250, 25.75, \"Gabriel\"}\n",
        "print(my_set)  # {25.75, 250, 'Gabriel'}\n",
        "print(type(my_set))  # class 'set'\n",
        "\n",
        "\n",
        "# create a set using set class\n",
        "my_set = set({200, 25.75, \"Oscar\"})\n",
        "print(my_set)  # {25.75, 200, 'Oscar'}\n",
        "print(type(my_set))  # class 'set'\n",
        "\n",
        "\n",
        "# add element to set\n",
        "my_set.add(300)\n",
        "print(my_set)  # {25.75, 200, 'Gabriel', 300}\n",
        "\n",
        "# remove element from set\n",
        "my_set.remove(200)\n",
        "print(my_set)  # {25.75, 'Gabriel', 300}"
      ],
      "metadata": {
        "colab": {
          "base_uri": "https://localhost:8080/"
        },
        "id": "WR-S9jGY8f8G",
        "outputId": "d169fe6e-013d-45f1-ca10-0fea42b421b6"
      },
      "execution_count": null,
      "outputs": [
        {
          "output_type": "stream",
          "name": "stdout",
          "text": [
            "{25.75, 250, 'Gabriel'}\n",
            "<class 'set'>\n",
            "{200, 25.75, 'Oscar'}\n",
            "<class 'set'>\n",
            "{200, 25.75, 'Oscar', 300}\n",
            "{25.75, 'Oscar', 300}\n"
          ]
        }
      ]
    },
    {
      "cell_type": "markdown",
      "source": [
        "## 1.5. Sequence Type\n",
        "\n",
        "Sequence types help represent sequential data stored into a single variable. There are three types of sequences used in Python:\n",
        "\n",
        "* String\n",
        "* List\n",
        "* Tuple\n",
        "Individual sequence types differ from one another when it comes to changeability and order."
      ],
      "metadata": {
        "id": "mCQrgylA-XeB"
      }
    },
    {
      "cell_type": "markdown",
      "source": [
        "\n",
        "<a><img src=\"https://static.wixstatic.com/media/187085_601a43ad8c40488db6f158dad19c3091~mv2.png\" width=\"80%\" height=\"80%\" /></a>\n",
        "\n"
      ],
      "metadata": {
        "id": "HKH6s7TF-c4t"
      }
    },
    {
      "cell_type": "markdown",
      "source": [
        "### 1.5.1 Strings or Text\n",
        "\n",
        "The strings are the text strings that allow us, for example, to print information on the screen. They have their own characteristics and operations that greatly facilitate their use. String definitions can be done with single quotes (`'`), double quotes (`\"`), triple single quotes (`'''`), or triple double quotes (`\"\"\"`). The use of strings in python is very important.\n",
        "\n",
        "Strings are _ordered sequences_ which can be indexing and slicing.\n",
        "Also, there is reverse indexing to get the last letter of the string.\n",
        "\n",
        "Slicing, we use `[start:stop:step]`:\n",
        "- `start`: index of slice star\n",
        "- `stop` : is the last index (but not include)\n",
        "- `stop` : \"jump\" size between `start` and `stop`\n",
        "\n",
        "Example: `a[0:3:2]`\n",
        "\n",
        "Also, it is possible use _escape sequence_ (e.g., \\n, \\t, etc.)\n",
        "\n",
        "Sometimes it becomes useful to be able to control the format of a *string* from certain commands, being able to change upper and lower case letters, center or move the variable to one end of the screen and/or give our sequence a specific format.\n",
        "\n",
        "For example, a *string* that we will define as a variable can be made to represent a small text. Once our *string* has been defined, we will give it a title format using the following command."
      ],
      "metadata": {
        "id": "NA32ohjZBoea"
      }
    },
    {
      "cell_type": "code",
      "source": [
        "string_1 = \"This is string wonderful \"\n",
        "print(string_1)\n",
        "\n",
        "\n"
      ],
      "metadata": {
        "colab": {
          "base_uri": "https://localhost:8080/"
        },
        "id": "dGTE4ye0C1My",
        "outputId": "d551602f-ea1e-4e0f-ff6d-c54498c5e6e9"
      },
      "execution_count": null,
      "outputs": [
        {
          "output_type": "stream",
          "name": "stdout",
          "text": [
            "This is string wonderful \n",
            "THIS IS STRING WONDERFUL \n",
            "This Is String Wonderful \n",
            "this is string wonderful \n",
            "============This is string wonderful =============\n"
          ]
        }
      ]
    },
    {
      "cell_type": "markdown",
      "source": [
        "Another possibility is that it prints our assigned variable only as a title or with uppercase or lowercase letters."
      ],
      "metadata": {
        "id": "kZc51SdxD7uF"
      }
    },
    {
      "cell_type": "code",
      "source": [
        "print(string_1.title())\n",
        "print(string_1.upper())\n",
        "print(string_1.lower())"
      ],
      "metadata": {
        "id": "meDE0W8CD8Z0"
      },
      "execution_count": null,
      "outputs": []
    },
    {
      "cell_type": "markdown",
      "source": [
        "Centering or aligning text to the left or right of the screen are other formatting options that can be done with python commands defined for a string."
      ],
      "metadata": {
        "id": "NO6nZT85ESNM"
      }
    },
    {
      "cell_type": "code",
      "source": [
        "print(string_1.center(50,\"=\"))"
      ],
      "metadata": {
        "id": "uMTCFZ2KETG6"
      },
      "execution_count": null,
      "outputs": []
    },
    {
      "cell_type": "markdown",
      "source": [
        "Podemos redefinir una variable con cierto formato y luego convinar con otra opción de formato como sigue."
      ],
      "metadata": {
        "id": "8pUxLrQ1EadV"
      }
    },
    {
      "cell_type": "code",
      "source": [
        "print(string_1.rjust(40,\" \"))"
      ],
      "metadata": {
        "colab": {
          "base_uri": "https://localhost:8080/"
        },
        "id": "T_2G6zsQEf9m",
        "outputId": "91c0e84b-a44f-4b3a-dd44-f9079ebd9937"
      },
      "execution_count": null,
      "outputs": [
        {
          "output_type": "stream",
          "name": "stdout",
          "text": [
            "               This is string wonderful \n"
          ]
        }
      ]
    },
    {
      "cell_type": "markdown",
      "source": [
        "It can be seen that the previous command adjusts the text to the right, in addition to the fact that any symbol can be entered, including space, its counterpart to the left is the following."
      ],
      "metadata": {
        "id": "d571l5alErzl"
      }
    },
    {
      "cell_type": "code",
      "source": [
        "print(string_1.ljust(40,\"*\"))"
      ],
      "metadata": {
        "colab": {
          "base_uri": "https://localhost:8080/"
        },
        "id": "08jA1a5uErfC",
        "outputId": "124b02a8-8c50-482f-8072-4f078f15c60d"
      },
      "execution_count": null,
      "outputs": [
        {
          "output_type": "stream",
          "name": "stdout",
          "text": [
            "This is string wonderful ***************\n"
          ]
        }
      ]
    },
    {
      "cell_type": "code",
      "source": [
        "'zZ' * 10"
      ],
      "metadata": {
        "colab": {
          "base_uri": "https://localhost:8080/",
          "height": 35
        },
        "id": "j8p10w5sHfba",
        "outputId": "53e1d138-6393-49de-8cd5-6c96f30f5097"
      },
      "execution_count": null,
      "outputs": [
        {
          "output_type": "execute_result",
          "data": {
            "text/plain": [
              "'zZzZzZzZzZzZzZzZzZzZ'"
            ],
            "application/vnd.google.colaboratory.intrinsic+json": {
              "type": "string"
            }
          },
          "metadata": {},
          "execution_count": 68
        }
      ]
    },
    {
      "cell_type": "code",
      "source": [
        "string_1.split()"
      ],
      "metadata": {
        "id": "qLMxfHu1HlDC",
        "outputId": "9d02db53-7826-4177-f85c-ae2560613294",
        "colab": {
          "base_uri": "https://localhost:8080/"
        }
      },
      "execution_count": null,
      "outputs": [
        {
          "output_type": "execute_result",
          "data": {
            "text/plain": [
              "['This', 'is', 'string', 'wonderful']"
            ]
          },
          "metadata": {},
          "execution_count": 69
        }
      ]
    },
    {
      "cell_type": "markdown",
      "source": [
        "### Indexing and Slicing with strings"
      ],
      "metadata": {
        "id": "E67_povlFSoN"
      }
    },
    {
      "cell_type": "code",
      "source": [
        "a = 'hello'\n",
        "print(len(a))\n",
        "print(a[0:5:2])"
      ],
      "metadata": {
        "colab": {
          "base_uri": "https://localhost:8080/"
        },
        "id": "pSatEfTuE9fC",
        "outputId": "f663f692-b5f6-443d-bce1-c0d8419da7af"
      },
      "execution_count": null,
      "outputs": [
        {
          "output_type": "stream",
          "name": "stdout",
          "text": [
            "5\n",
            "hlo\n"
          ]
        }
      ]
    },
    {
      "cell_type": "code",
      "source": [
        "mystring = 'Hello World'\n",
        "print('indexing [0] :', mystring[0])\n",
        "print('indexing [-1]:', mystring[-1])"
      ],
      "metadata": {
        "colab": {
          "base_uri": "https://localhost:8080/"
        },
        "id": "sgKokkLJFYL_",
        "outputId": "8e855c41-f269-450c-e25e-48f6be5c6c20"
      },
      "execution_count": null,
      "outputs": [
        {
          "output_type": "stream",
          "name": "stdout",
          "text": [
            "indexing [0] : H\n",
            "indexing [-1]: d\n"
          ]
        }
      ]
    },
    {
      "cell_type": "code",
      "source": [
        "print('slicing [2:]   :', mystring[2:])\n",
        "print('slicing [:2]   :', mystring[:2])\n",
        "print('slicing [:]    :', mystring[:])\n",
        "print('slicing [2:5]  :', mystring[2:5])\n",
        "print('slicing [::]   :', mystring[::])\n",
        "print('slicing [::2]  :', mystring[::2])\n",
        "print('slicing [::-1] :', mystring[::-1])"
      ],
      "metadata": {
        "colab": {
          "base_uri": "https://localhost:8080/"
        },
        "id": "32fbqFDNFbcQ",
        "outputId": "16228f28-3a29-41bb-f201-dba2a003f965"
      },
      "execution_count": null,
      "outputs": [
        {
          "output_type": "stream",
          "name": "stdout",
          "text": [
            "slicing [2:]   : llo World\n",
            "slicing [:2]   : He\n",
            "slicing [:]    : Hello World\n",
            "slicing [2:5]  : llo\n",
            "slicing [::]   : Hello World\n",
            "slicing [::2]  : HloWrd\n",
            "slicing [::-1] : dlroW olleH\n"
          ]
        }
      ]
    },
    {
      "cell_type": "markdown",
      "source": [
        "### Search operations on a string\n",
        "\n",
        "Carrying out search operations for a character or substring within a string, being able to count how many times this character is repeated or determine the position in which the substring is located within the string is possible through the following commands."
      ],
      "metadata": {
        "id": "cOwr2-bxFUO4"
      }
    },
    {
      "cell_type": "code",
      "source": [
        "string_3 = \"buscando a wally\".title()\n",
        "\n",
        "string_3.find(\"Wally\")"
      ],
      "metadata": {
        "colab": {
          "base_uri": "https://localhost:8080/"
        },
        "id": "b1Dk7ZPpF5Aw",
        "outputId": "3cacce5c-4ec6-4858-817b-f07c7219af01"
      },
      "execution_count": null,
      "outputs": [
        {
          "output_type": "execute_result",
          "data": {
            "text/plain": [
              "11"
            ]
          },
          "metadata": {},
          "execution_count": 63
        }
      ]
    },
    {
      "cell_type": "markdown",
      "source": [
        "The *`find`* command gives us a number that indicates the position that precedes the first character of Wally, that is, we find Wally after the character that is located after position 11 within the string 3. Another option is to perform a search for a subtext in a defined section of the variable, also mentioning that when the character is not found in the defined section, by default it returns the value -1."
      ],
      "metadata": {
        "id": "6NVvkwi8GEMH"
      }
    },
    {
      "cell_type": "code",
      "source": [
        "string_3.find(\"Wally\",0,10)\n",
        "string_3.find(\"Wally\",2,20)"
      ],
      "metadata": {
        "id": "4nAfvko3GHNZ"
      },
      "execution_count": null,
      "outputs": []
    },
    {
      "cell_type": "markdown",
      "source": [
        "We can also count how many times a character or substring is found within a string with the *`count`* command. And in the same way as before, the posting can be done in a defined section of the text."
      ],
      "metadata": {
        "id": "E8KHJWUdGSkT"
      }
    },
    {
      "cell_type": "code",
      "source": [
        "string_4 = \"que fácil de encontrar\"\n",
        "string_4.count(\"e\")\n"
      ],
      "metadata": {
        "colab": {
          "base_uri": "https://localhost:8080/"
        },
        "id": "FyysMk2mGSK-",
        "outputId": "20b3cfbc-77c7-4441-cc8e-9c79c0ea1e54"
      },
      "execution_count": null,
      "outputs": [
        {
          "output_type": "execute_result",
          "data": {
            "text/plain": [
              "3"
            ]
          },
          "metadata": {},
          "execution_count": 66
        }
      ]
    },
    {
      "cell_type": "code",
      "source": [
        "string_4.count(\"e\",0,13)"
      ],
      "metadata": {
        "colab": {
          "base_uri": "https://localhost:8080/"
        },
        "id": "CXCUzGT-Giw-",
        "outputId": "46dd5126-5d1a-4e1a-b369-de90547a620a"
      },
      "execution_count": null,
      "outputs": [
        {
          "output_type": "execute_result",
          "data": {
            "text/plain": [
              "2"
            ]
          },
          "metadata": {},
          "execution_count": 67
        }
      ]
    },
    {
      "cell_type": "markdown",
      "source": [
        "### Print Formatting with Strings\n",
        "\n",
        "Methods:\n",
        "- `.format()`\n",
        "- f-strings - formatted string"
      ],
      "metadata": {
        "id": "7xm8k6Yqzcok"
      }
    },
    {
      "cell_type": "code",
      "source": [
        "print('This is a string {}'.format('INSERTED'))"
      ],
      "metadata": {
        "id": "ziWr1MZczmdr"
      },
      "execution_count": null,
      "outputs": []
    },
    {
      "cell_type": "code",
      "source": [
        "print('The {} {} {}'.format('fox', 'red', 'quick'))\n",
        "print('The {2} {1} {0}'.format('fox', 'red', 'quick'))\n",
        "print('The {0} {0} {0}'.format('fox', 'red', 'quick'))"
      ],
      "metadata": {
        "id": "fBnLerHUzzsF"
      },
      "execution_count": null,
      "outputs": []
    },
    {
      "cell_type": "code",
      "source": [
        "print('The {q} {r} {f}'.format(f='fox', r='red', q='quick'))"
      ],
      "metadata": {
        "id": "F-YhMWdzz2Fb"
      },
      "execution_count": null,
      "outputs": []
    },
    {
      "cell_type": "markdown",
      "source": [
        "** Float formating follows ** `{value:width.precision}`"
      ],
      "metadata": {
        "id": "xjngK1U5z9Am"
      }
    },
    {
      "cell_type": "code",
      "source": [
        "result = 100/9\n",
        "print(result)"
      ],
      "metadata": {
        "colab": {
          "base_uri": "https://localhost:8080/"
        },
        "id": "olOAuw6Sz4Tm",
        "outputId": "a708d85c-c9f2-4faa-ac20-783bd4b58533"
      },
      "execution_count": null,
      "outputs": [
        {
          "output_type": "stream",
          "name": "stdout",
          "text": [
            "11.11111111111111\n"
          ]
        }
      ]
    },
    {
      "cell_type": "code",
      "source": [
        "print('The result was {r:10.3f}'.format(r=result))"
      ],
      "metadata": {
        "colab": {
          "base_uri": "https://localhost:8080/"
        },
        "id": "FlpkWoBM0Ewe",
        "outputId": "bf8fa96e-1811-4dc9-83a1-945422cad0d2"
      },
      "execution_count": null,
      "outputs": [
        {
          "output_type": "stream",
          "name": "stdout",
          "text": [
            "The result was     11.111\n"
          ]
        }
      ]
    },
    {
      "cell_type": "code",
      "source": [
        "name = 'Gabriel'\n",
        "print('My name is {}'.format(name))\n",
        "print(f'My name is {name}') #formatted string literal - Python 3.6\n",
        "print(f'My name is {name!r}')"
      ],
      "metadata": {
        "colab": {
          "base_uri": "https://localhost:8080/"
        },
        "id": "1LYMRYJi0HnQ",
        "outputId": "405de589-dd9d-46ee-c806-d6003b4c4b22"
      },
      "execution_count": null,
      "outputs": [
        {
          "output_type": "stream",
          "name": "stdout",
          "text": [
            "My name is Gabriel\n",
            "My name is Gabriel\n",
            "My name is 'Gabriel'\n"
          ]
        }
      ]
    },
    {
      "cell_type": "markdown",
      "source": [
        "** Placeholders **"
      ],
      "metadata": {
        "id": "VUq2_oFe0Mfb"
      }
    },
    {
      "cell_type": "code",
      "source": [
        "print('My name is %s' % (name))\n",
        "print('My name is %r' % (name))"
      ],
      "metadata": {
        "colab": {
          "base_uri": "https://localhost:8080/"
        },
        "id": "IS1yY4wQ0QmA",
        "outputId": "2c25f783-4e1d-490c-8140-654021936e58"
      },
      "execution_count": null,
      "outputs": [
        {
          "output_type": "stream",
          "name": "stdout",
          "text": [
            "My name is Gabriel\n",
            "My name is 'Gabriel'\n"
          ]
        }
      ]
    },
    {
      "cell_type": "code",
      "source": [
        "print('I wrote %s programs today.' % 4.75)\n",
        "print('I wrote %d programs today.' % 4.75)"
      ],
      "metadata": {
        "colab": {
          "base_uri": "https://localhost:8080/"
        },
        "id": "oanS8Yfp0XF8",
        "outputId": "8336f871-d691-424c-d92c-b88d1cc7dc43"
      },
      "execution_count": null,
      "outputs": [
        {
          "output_type": "stream",
          "name": "stdout",
          "text": [
            "I wrote 4.75 programs today.\n",
            "I wrote 4 programs today.\n"
          ]
        }
      ]
    },
    {
      "cell_type": "markdown",
      "source": [
        "** Alignment, padding and precision with ** `.format()`"
      ],
      "metadata": {
        "id": "oee4RkJ-0cBh"
      }
    },
    {
      "cell_type": "code",
      "source": [
        "print('{0:<8} | {1:^8} | {2:>8}'.format('Left','Center','Right'))\n",
        "print('{0:<8} | {1:^8} | {2:>8}'.format(11,22,33))"
      ],
      "metadata": {
        "colab": {
          "base_uri": "https://localhost:8080/"
        },
        "id": "UGclkQRH0e9B",
        "outputId": "c1bae443-bb32-4e98-fa0f-f7304102f211"
      },
      "execution_count": null,
      "outputs": [
        {
          "output_type": "stream",
          "name": "stdout",
          "text": [
            "Left     |  Center  |    Right\n",
            "11       |    22    |       33\n"
          ]
        }
      ]
    },
    {
      "cell_type": "code",
      "source": [
        "print('{0:=<8} | {1:-^8} | {2:.>8}'.format('Left','Center','Right'))\n",
        "print('{0:=<8} | {1:-^8} | {2:.>8}'.format(11,22,33))"
      ],
      "metadata": {
        "colab": {
          "base_uri": "https://localhost:8080/"
        },
        "id": "pmtOrReU0iqm",
        "outputId": "f5125621-bc21-48c9-8bc3-be55a1909512"
      },
      "execution_count": null,
      "outputs": [
        {
          "output_type": "stream",
          "name": "stdout",
          "text": [
            "Left==== | -Center- | ...Right\n",
            "11====== | ---22--- | ......33\n"
          ]
        }
      ]
    },
    {
      "cell_type": "code",
      "source": [
        "'{:>10}'.format('test')"
      ],
      "metadata": {
        "colab": {
          "base_uri": "https://localhost:8080/",
          "height": 35
        },
        "id": "2KjgTxvU18Zq",
        "outputId": "7da5bfda-cf11-4604-ec03-98f3cff908cb"
      },
      "execution_count": null,
      "outputs": [
        {
          "output_type": "execute_result",
          "data": {
            "text/plain": [
              "'      test'"
            ],
            "application/vnd.google.colaboratory.intrinsic+json": {
              "type": "string"
            }
          },
          "metadata": {},
          "execution_count": 8
        }
      ]
    },
    {
      "cell_type": "code",
      "source": [
        "'{:_<10}'.format('test')"
      ],
      "metadata": {
        "colab": {
          "base_uri": "https://localhost:8080/",
          "height": 35
        },
        "id": "x6MJ34mO2EAB",
        "outputId": "a03c7593-b2e4-439c-a696-09f95d3520f3"
      },
      "execution_count": null,
      "outputs": [
        {
          "output_type": "execute_result",
          "data": {
            "text/plain": [
              "'test______'"
            ],
            "application/vnd.google.colaboratory.intrinsic+json": {
              "type": "string"
            }
          },
          "metadata": {},
          "execution_count": 9
        }
      ]
    },
    {
      "cell_type": "code",
      "source": [
        "'{:^10}'.format('test')"
      ],
      "metadata": {
        "colab": {
          "base_uri": "https://localhost:8080/",
          "height": 35
        },
        "id": "ay_BaWFm2IRP",
        "outputId": "8656668f-f9b0-4cbf-9bd1-222a6939ed80"
      },
      "execution_count": null,
      "outputs": [
        {
          "output_type": "execute_result",
          "data": {
            "text/plain": [
              "'   test   '"
            ],
            "application/vnd.google.colaboratory.intrinsic+json": {
              "type": "string"
            }
          },
          "metadata": {},
          "execution_count": 10
        }
      ]
    },
    {
      "cell_type": "markdown",
      "source": [
        "** Truncating long strings **"
      ],
      "metadata": {
        "id": "0FG89heO2Lqj"
      }
    },
    {
      "cell_type": "code",
      "source": [
        "'{:.5}'.format('xylophone')"
      ],
      "metadata": {
        "colab": {
          "base_uri": "https://localhost:8080/",
          "height": 35
        },
        "id": "tb1K66902QSA",
        "outputId": "f406ddd9-bcf1-40aa-dac2-edc2d55e9b87"
      },
      "execution_count": null,
      "outputs": [
        {
          "output_type": "execute_result",
          "data": {
            "text/plain": [
              "'xylop'"
            ],
            "application/vnd.google.colaboratory.intrinsic+json": {
              "type": "string"
            }
          },
          "metadata": {},
          "execution_count": 11
        }
      ]
    },
    {
      "cell_type": "code",
      "source": [
        "'{:10.5}'.format('xylophone')"
      ],
      "metadata": {
        "colab": {
          "base_uri": "https://localhost:8080/",
          "height": 35
        },
        "id": "u8pfq5JP2Tqp",
        "outputId": "98c907e0-3fe7-4c43-af53-55545805d66b"
      },
      "execution_count": null,
      "outputs": [
        {
          "output_type": "execute_result",
          "data": {
            "text/plain": [
              "'xylop     '"
            ],
            "application/vnd.google.colaboratory.intrinsic+json": {
              "type": "string"
            }
          },
          "metadata": {},
          "execution_count": 12
        }
      ]
    },
    {
      "cell_type": "markdown",
      "source": [
        "** Numbers **"
      ],
      "metadata": {
        "id": "A1L7MJ7i2Xjk"
      }
    },
    {
      "cell_type": "code",
      "source": [
        "'{:d}'.format(42)"
      ],
      "metadata": {
        "colab": {
          "base_uri": "https://localhost:8080/",
          "height": 35
        },
        "id": "lRl2A-sD2dhg",
        "outputId": "dbbab996-23cf-4cef-dcf0-b876efd5bb52"
      },
      "execution_count": null,
      "outputs": [
        {
          "output_type": "execute_result",
          "data": {
            "text/plain": [
              "'42'"
            ],
            "application/vnd.google.colaboratory.intrinsic+json": {
              "type": "string"
            }
          },
          "metadata": {},
          "execution_count": 13
        }
      ]
    },
    {
      "cell_type": "code",
      "source": [
        "'{:f}'.format(3.141592653589793)"
      ],
      "metadata": {
        "colab": {
          "base_uri": "https://localhost:8080/",
          "height": 35
        },
        "id": "zcIEjoDP2ggV",
        "outputId": "c9d407cf-58f0-4b36-eb13-5ff8ef743322"
      },
      "execution_count": null,
      "outputs": [
        {
          "output_type": "execute_result",
          "data": {
            "text/plain": [
              "'3.141593'"
            ],
            "application/vnd.google.colaboratory.intrinsic+json": {
              "type": "string"
            }
          },
          "metadata": {},
          "execution_count": 14
        }
      ]
    },
    {
      "cell_type": "code",
      "source": [
        "'{:4d}'.format(42)"
      ],
      "metadata": {
        "colab": {
          "base_uri": "https://localhost:8080/",
          "height": 35
        },
        "id": "ypDcHv7l2js2",
        "outputId": "77c18647-03cb-4e39-c202-f5ea3d611e8c"
      },
      "execution_count": null,
      "outputs": [
        {
          "output_type": "execute_result",
          "data": {
            "text/plain": [
              "'  42'"
            ],
            "application/vnd.google.colaboratory.intrinsic+json": {
              "type": "string"
            }
          },
          "metadata": {},
          "execution_count": 15
        }
      ]
    },
    {
      "cell_type": "code",
      "source": [
        "'{:06.2f}'.format(3.141592653589793)"
      ],
      "metadata": {
        "colab": {
          "base_uri": "https://localhost:8080/",
          "height": 35
        },
        "id": "wLLrGJYS2nM2",
        "outputId": "98b6c33f-3f54-42ab-d3bf-42afa302ab6c"
      },
      "execution_count": null,
      "outputs": [
        {
          "output_type": "execute_result",
          "data": {
            "text/plain": [
              "'003.14'"
            ],
            "application/vnd.google.colaboratory.intrinsic+json": {
              "type": "string"
            }
          },
          "metadata": {},
          "execution_count": 16
        }
      ]
    },
    {
      "cell_type": "code",
      "source": [
        "'{:04d}'.format(42)"
      ],
      "metadata": {
        "colab": {
          "base_uri": "https://localhost:8080/",
          "height": 35
        },
        "id": "-wVQxDfT2qIq",
        "outputId": "b890a43e-62d7-4129-b10c-ac99b6a50a84"
      },
      "execution_count": null,
      "outputs": [
        {
          "output_type": "execute_result",
          "data": {
            "text/plain": [
              "'0042'"
            ],
            "application/vnd.google.colaboratory.intrinsic+json": {
              "type": "string"
            }
          },
          "metadata": {},
          "execution_count": 17
        }
      ]
    },
    {
      "cell_type": "markdown",
      "source": [
        "** Signed numbers **"
      ],
      "metadata": {
        "id": "izWqWCPX2tys"
      }
    },
    {
      "cell_type": "code",
      "source": [
        "'{:+d}'.format(42)"
      ],
      "metadata": {
        "colab": {
          "base_uri": "https://localhost:8080/",
          "height": 35
        },
        "id": "DhUdRUsl2vOQ",
        "outputId": "c906bd87-b14a-4ad0-a977-17cb21dbfdea"
      },
      "execution_count": null,
      "outputs": [
        {
          "output_type": "execute_result",
          "data": {
            "text/plain": [
              "'+42'"
            ],
            "application/vnd.google.colaboratory.intrinsic+json": {
              "type": "string"
            }
          },
          "metadata": {},
          "execution_count": 18
        }
      ]
    },
    {
      "cell_type": "code",
      "source": [
        "'{: d}'.format((- 23))"
      ],
      "metadata": {
        "colab": {
          "base_uri": "https://localhost:8080/",
          "height": 35
        },
        "id": "32AD295i2xUz",
        "outputId": "6f15fc97-dc75-4a8f-fb17-01eb0692c3a9"
      },
      "execution_count": null,
      "outputs": [
        {
          "output_type": "execute_result",
          "data": {
            "text/plain": [
              "'-23'"
            ],
            "application/vnd.google.colaboratory.intrinsic+json": {
              "type": "string"
            }
          },
          "metadata": {},
          "execution_count": 19
        }
      ]
    },
    {
      "cell_type": "code",
      "source": [
        "'{: d}'.format(42)"
      ],
      "metadata": {
        "colab": {
          "base_uri": "https://localhost:8080/",
          "height": 35
        },
        "id": "xWSTpSk22zrs",
        "outputId": "3b4cc413-f8f0-4124-9f29-97727a719fb5"
      },
      "execution_count": null,
      "outputs": [
        {
          "output_type": "execute_result",
          "data": {
            "text/plain": [
              "' 42'"
            ],
            "application/vnd.google.colaboratory.intrinsic+json": {
              "type": "string"
            }
          },
          "metadata": {},
          "execution_count": 20
        }
      ]
    },
    {
      "cell_type": "code",
      "source": [
        "'{:=+5d}'.format(23)"
      ],
      "metadata": {
        "colab": {
          "base_uri": "https://localhost:8080/",
          "height": 35
        },
        "id": "XauH2UGN22Kd",
        "outputId": "c32cd95d-62e7-490e-d1dc-e12567999e3f"
      },
      "execution_count": null,
      "outputs": [
        {
          "output_type": "execute_result",
          "data": {
            "text/plain": [
              "'+  23'"
            ],
            "application/vnd.google.colaboratory.intrinsic+json": {
              "type": "string"
            }
          },
          "metadata": {},
          "execution_count": 21
        }
      ]
    },
    {
      "cell_type": "markdown",
      "source": [
        "** Named placeholders **"
      ],
      "metadata": {
        "id": "MunhkDNe2-Y7"
      }
    },
    {
      "cell_type": "code",
      "source": [
        "data = {'first': 'Gabriel', 'last': 'Smith!'}\n",
        "'{first} {last}'.format(**data)"
      ],
      "metadata": {
        "colab": {
          "base_uri": "https://localhost:8080/",
          "height": 35
        },
        "id": "1HtRJVCV2_4x",
        "outputId": "54fb9943-66ba-4048-b722-fad9008a8490"
      },
      "execution_count": null,
      "outputs": [
        {
          "output_type": "execute_result",
          "data": {
            "text/plain": [
              "'Gabriel Smith!'"
            ],
            "application/vnd.google.colaboratory.intrinsic+json": {
              "type": "string"
            }
          },
          "metadata": {},
          "execution_count": 23
        }
      ]
    },
    {
      "cell_type": "code",
      "source": [
        "'{first} {last}'.format(first='Hodor', last='Hodor!')"
      ],
      "metadata": {
        "colab": {
          "base_uri": "https://localhost:8080/",
          "height": 35
        },
        "id": "PoqKcvjN3QVD",
        "outputId": "78f450ac-4979-4729-e471-67a0ea1f6a1a"
      },
      "execution_count": null,
      "outputs": [
        {
          "output_type": "execute_result",
          "data": {
            "text/plain": [
              "'Hodor Hodor!'"
            ],
            "application/vnd.google.colaboratory.intrinsic+json": {
              "type": "string"
            }
          },
          "metadata": {},
          "execution_count": 24
        }
      ]
    },
    {
      "cell_type": "markdown",
      "source": [
        "** Getitem and Getattr **"
      ],
      "metadata": {
        "id": "6fKRWoS43USJ"
      }
    },
    {
      "cell_type": "code",
      "source": [
        "person = {'first': 'Jean-Luc', 'last': 'Picard'}\n",
        "'{p[first]} {p[last]}'.format(p=person)"
      ],
      "metadata": {
        "colab": {
          "base_uri": "https://localhost:8080/",
          "height": 35
        },
        "id": "-Wz9Hoyg3VsW",
        "outputId": "cecdffba-6994-4f60-a770-637e5173f1ba"
      },
      "execution_count": null,
      "outputs": [
        {
          "output_type": "execute_result",
          "data": {
            "text/plain": [
              "'Jean-Luc Picard'"
            ],
            "application/vnd.google.colaboratory.intrinsic+json": {
              "type": "string"
            }
          },
          "metadata": {},
          "execution_count": 25
        }
      ]
    },
    {
      "cell_type": "code",
      "source": [
        "data = [4, 8, 15, 16, 23, 42]\n",
        "'{d[4]} {d[5]}'.format(d=data)"
      ],
      "metadata": {
        "colab": {
          "base_uri": "https://localhost:8080/",
          "height": 35
        },
        "id": "Q6Vv1GkN3c6S",
        "outputId": "6a44afba-1e35-49c4-8bf8-8c6a85eacc02"
      },
      "execution_count": null,
      "outputs": [
        {
          "output_type": "execute_result",
          "data": {
            "text/plain": [
              "'23 42'"
            ],
            "application/vnd.google.colaboratory.intrinsic+json": {
              "type": "string"
            }
          },
          "metadata": {},
          "execution_count": 26
        }
      ]
    },
    {
      "cell_type": "markdown",
      "source": [
        "** Datetime **"
      ],
      "metadata": {
        "id": "f-eSEDF83leu"
      }
    },
    {
      "cell_type": "code",
      "source": [
        "from datetime import datetime\n",
        "'{:%Y-%m-%d %H:%M}'.format(datetime(2001, 2, 3, 4, 5))"
      ],
      "metadata": {
        "colab": {
          "base_uri": "https://localhost:8080/",
          "height": 35
        },
        "id": "QZaLHZgV3nBY",
        "outputId": "99d87b75-99f7-4fad-eba4-8bae33809a9c"
      },
      "execution_count": null,
      "outputs": [
        {
          "output_type": "execute_result",
          "data": {
            "text/plain": [
              "'2001-02-03 04:05'"
            ],
            "application/vnd.google.colaboratory.intrinsic+json": {
              "type": "string"
            }
          },
          "metadata": {},
          "execution_count": 27
        }
      ]
    },
    {
      "cell_type": "markdown",
      "source": [
        "** Parametrized formats **"
      ],
      "metadata": {
        "id": "_OgpFkJe3wKN"
      }
    },
    {
      "cell_type": "code",
      "source": [
        "'{:{align}{width}}'.format('test', align='^', width='10')"
      ],
      "metadata": {
        "colab": {
          "base_uri": "https://localhost:8080/",
          "height": 35
        },
        "id": "4KUiK1ZM3xiR",
        "outputId": "d4ee53ed-2f57-4001-a495-d50fff68bade"
      },
      "execution_count": null,
      "outputs": [
        {
          "output_type": "execute_result",
          "data": {
            "text/plain": [
              "'   test   '"
            ],
            "application/vnd.google.colaboratory.intrinsic+json": {
              "type": "string"
            }
          },
          "metadata": {},
          "execution_count": 28
        }
      ]
    },
    {
      "cell_type": "code",
      "source": [
        "'{:.{prec}} = {:.{prec}f}'.format('Gibberish', 2.7182, prec=3)"
      ],
      "metadata": {
        "id": "HE60ByIF30Tw"
      },
      "execution_count": null,
      "outputs": []
    },
    {
      "cell_type": "code",
      "source": [
        "'{:{width}.{prec}f}'.format(2.7182, width=5, prec=2)"
      ],
      "metadata": {
        "id": "wVTqbUlC32js"
      },
      "execution_count": null,
      "outputs": []
    },
    {
      "cell_type": "code",
      "source": [
        "'{:{prec}} = {:{prec}}'.format('Gibberish', 2.7182, prec='.3')"
      ],
      "metadata": {
        "id": "myprMf9S3485"
      },
      "execution_count": null,
      "outputs": []
    },
    {
      "cell_type": "code",
      "source": [
        "from datetime import datetime\n",
        "dt = datetime(2001, 2, 3, 4, 5)\n",
        "'{:{dfmt} {tfmt}}'.format(dt, dfmt='%Y-%m-%d', tfmt='%H:%M')"
      ],
      "metadata": {
        "colab": {
          "base_uri": "https://localhost:8080/",
          "height": 35
        },
        "id": "sEadU90138FO",
        "outputId": "6c9d28c1-e98e-4d2e-eae7-70325bbc2d5d"
      },
      "execution_count": null,
      "outputs": [
        {
          "output_type": "execute_result",
          "data": {
            "text/plain": [
              "'2001-02-03 04:05'"
            ],
            "application/vnd.google.colaboratory.intrinsic+json": {
              "type": "string"
            }
          },
          "metadata": {},
          "execution_count": 29
        }
      ]
    },
    {
      "cell_type": "code",
      "source": [
        "'{:{}{}{}.{}}'.format(2.7182818284, '>', '+', 10, 3)"
      ],
      "metadata": {
        "colab": {
          "base_uri": "https://localhost:8080/",
          "height": 35
        },
        "id": "L_zOzFed4Ew9",
        "outputId": "28582989-c3f3-460f-ff62-e1ddf34d92d1"
      },
      "execution_count": null,
      "outputs": [
        {
          "output_type": "execute_result",
          "data": {
            "text/plain": [
              "'     +2.72'"
            ],
            "application/vnd.google.colaboratory.intrinsic+json": {
              "type": "string"
            }
          },
          "metadata": {},
          "execution_count": 30
        }
      ]
    },
    {
      "cell_type": "code",
      "source": [
        "'{:{}{sign}{}.{}}'.format(2.7182818284, '>', 10, 3, sign='+')"
      ],
      "metadata": {
        "colab": {
          "base_uri": "https://localhost:8080/",
          "height": 35
        },
        "id": "UE6dQ5U24G98",
        "outputId": "d5b88e33-a24f-4474-bab0-c7570163d4c1"
      },
      "execution_count": null,
      "outputs": [
        {
          "output_type": "execute_result",
          "data": {
            "text/plain": [
              "'     +2.72'"
            ],
            "application/vnd.google.colaboratory.intrinsic+json": {
              "type": "string"
            }
          },
          "metadata": {},
          "execution_count": 31
        }
      ]
    },
    {
      "cell_type": "markdown",
      "source": [
        "### Logical format operations\n",
        "\n",
        "We will see that we can make logical sentences in relation to characteristics of a *string*, this can be very helpful when defining certain formats for variables that the programmer or user must manipulate.\n",
        "\n",
        "We start with statements that refer to the format of a *string*, for example knowing if it starts or ends with certain characters, using the commands *`startswith()`* and *`endswith()`* respectively, to which Python will respond with true or false."
      ],
      "metadata": {
        "id": "QMjXHzbj4cVN"
      }
    },
    {
      "cell_type": "code",
      "source": [
        "string_5 = \"building a game\"\n",
        "print(string_5.startswith(\"building\"))"
      ],
      "metadata": {
        "colab": {
          "base_uri": "https://localhost:8080/"
        },
        "id": "gWFmNAo84iuU",
        "outputId": "b4c9effb-f9d6-449a-8ccf-6bffe10f9ce1"
      },
      "execution_count": null,
      "outputs": [
        {
          "output_type": "stream",
          "name": "stdout",
          "text": [
            "True\n"
          ]
        }
      ]
    },
    {
      "cell_type": "code",
      "source": [
        "print(string_5.endswith(\"game\"))"
      ],
      "metadata": {
        "colab": {
          "base_uri": "https://localhost:8080/"
        },
        "id": "3qC9MQQp42vi",
        "outputId": "06ec692c-d153-4db4-dabe-412a5e4ab271"
      },
      "execution_count": null,
      "outputs": [
        {
          "output_type": "stream",
          "name": "stdout",
          "text": [
            "True\n"
          ]
        }
      ]
    },
    {
      "cell_type": "markdown",
      "source": [
        "We can also check if the *string* contains only numeric, alphabetic or alphanumeric characters, using the *`isdigit()`*, *`isalpha()`* and *`isalnum()`* commands respectively."
      ],
      "metadata": {
        "id": "qxMpZTc64_JY"
      }
    },
    {
      "cell_type": "code",
      "source": [
        "print(string_5.isdigit())"
      ],
      "metadata": {
        "colab": {
          "base_uri": "https://localhost:8080/"
        },
        "id": "iL3KlBeb5ArF",
        "outputId": "d3273eb6-cbb5-4fc6-f51d-41df6d377ea1"
      },
      "execution_count": null,
      "outputs": [
        {
          "output_type": "stream",
          "name": "stdout",
          "text": [
            "False\n"
          ]
        }
      ]
    },
    {
      "cell_type": "code",
      "source": [
        "string_6 = \"1987\"\n",
        "print(string_6.isalpha())"
      ],
      "metadata": {
        "colab": {
          "base_uri": "https://localhost:8080/"
        },
        "id": "eoaQTZRI5PtL",
        "outputId": "e2064f58-d2e6-4d14-900f-4918cfc861db"
      },
      "execution_count": null,
      "outputs": [
        {
          "output_type": "stream",
          "name": "stdout",
          "text": [
            "False\n"
          ]
        }
      ]
    },
    {
      "cell_type": "code",
      "source": [
        "print(string_6.isdigit())"
      ],
      "metadata": {
        "colab": {
          "base_uri": "https://localhost:8080/"
        },
        "id": "sPaIJwuP5YGL",
        "outputId": "bdb21059-b7f6-4ac4-eb46-52104a3af42a"
      },
      "execution_count": null,
      "outputs": [
        {
          "output_type": "stream",
          "name": "stdout",
          "text": [
            "True\n"
          ]
        }
      ]
    },
    {
      "cell_type": "code",
      "source": [
        "string_7 = string_6 + string_5\n",
        "print(string_7)\n",
        "print(string_7.isalnum())"
      ],
      "metadata": {
        "colab": {
          "base_uri": "https://localhost:8080/"
        },
        "id": "PQMktpxj5eem",
        "outputId": "7c03e6db-8710-4d63-b5ff-918079b76ebf"
      },
      "execution_count": null,
      "outputs": [
        {
          "output_type": "stream",
          "name": "stdout",
          "text": [
            "1987building a game\n"
          ]
        }
      ]
    },
    {
      "cell_type": "code",
      "source": [
        "string_8=\"1987game\"\n",
        "print(string_8.isalnum())"
      ],
      "metadata": {
        "colab": {
          "base_uri": "https://localhost:8080/"
        },
        "id": "gh-hZeew54Sh",
        "outputId": "7fbeec37-f3f6-41a5-b429-3e99cbbb8d40"
      },
      "execution_count": null,
      "outputs": [
        {
          "output_type": "stream",
          "name": "stdout",
          "text": [
            "True\n"
          ]
        }
      ]
    },
    {
      "cell_type": "markdown",
      "source": [
        "Then we can try other formatting features, such as knowing if the string contains only uppercase characters, only lowercase characters, or even some specific format such as title, using the *`isupper()`*, *`islower()`* commands. and finally *`ititle()`*"
      ],
      "metadata": {
        "id": "HynxWPPa6M41"
      }
    },
    {
      "cell_type": "code",
      "source": [
        "name = \"isaac\"\n",
        "print(name.isupper())"
      ],
      "metadata": {
        "colab": {
          "base_uri": "https://localhost:8080/"
        },
        "id": "mudSfo6g6UHT",
        "outputId": "1be765d9-70cc-4837-8e8d-d5e21a7bb83f"
      },
      "execution_count": null,
      "outputs": [
        {
          "output_type": "stream",
          "name": "stdout",
          "text": [
            "False\n"
          ]
        }
      ]
    },
    {
      "cell_type": "code",
      "source": [
        "print(name.islower())"
      ],
      "metadata": {
        "colab": {
          "base_uri": "https://localhost:8080/"
        },
        "id": "PKHekZMH6d5j",
        "outputId": "533609ca-c6fc-4832-be41-00841d597f28"
      },
      "execution_count": null,
      "outputs": [
        {
          "output_type": "stream",
          "name": "stdout",
          "text": [
            "True\n"
          ]
        }
      ]
    },
    {
      "cell_type": "code",
      "source": [
        "lastname = \"asimov\".upper()\n",
        "print(lastname.islower())\n",
        "response = lastname.islower()\n",
        "print(response)"
      ],
      "metadata": {
        "colab": {
          "base_uri": "https://localhost:8080/"
        },
        "id": "Ha5d1GL16kgx",
        "outputId": "b0f1bfd1-ffc6-40ef-f2b1-38354e32c9f1"
      },
      "execution_count": null,
      "outputs": [
        {
          "output_type": "stream",
          "name": "stdout",
          "text": [
            "False\n",
            "False\n"
          ]
        }
      ]
    },
    {
      "cell_type": "code",
      "source": [
        "name_full = name.title() + lastname.title()\n",
        "\n",
        "print(name_full)"
      ],
      "metadata": {
        "colab": {
          "base_uri": "https://localhost:8080/"
        },
        "id": "8eD0L9I661Vt",
        "outputId": "5d4d61e4-2a32-47d6-8faf-60b1453254f4"
      },
      "execution_count": null,
      "outputs": [
        {
          "output_type": "stream",
          "name": "stdout",
          "text": [
            "IsaacAsimov\n"
          ]
        }
      ]
    },
    {
      "cell_type": "markdown",
      "source": [
        "another format characteristic applied from a logical operation will be whether the string contains only whitespace, for which we will use the *`isspace()`* command as follows.*`ititle()`*"
      ],
      "metadata": {
        "id": "nW5sQAJO7IV-"
      }
    },
    {
      "cell_type": "code",
      "source": [
        "name_full = \"isaac asimov\".title()\n",
        "print(name_full.isspace())\n",
        "name_empty = \"    \"\n",
        "print(name_empty.isspace())"
      ],
      "metadata": {
        "colab": {
          "base_uri": "https://localhost:8080/"
        },
        "id": "qodTGWQj7JbK",
        "outputId": "92915bd9-5b46-49d4-8490-fd0d774c7306"
      },
      "execution_count": null,
      "outputs": [
        {
          "output_type": "stream",
          "name": "stdout",
          "text": [
            "False\n",
            "True\n"
          ]
        }
      ]
    },
    {
      "cell_type": "markdown",
      "source": [
        "### Conditioning statements\n",
        "a conditioning statement will allow us to broaden the spectrum of application of logical operations from basic elements"
      ],
      "metadata": {
        "id": "kjMdhJAc7lBv"
      }
    },
    {
      "cell_type": "code",
      "source": [
        "password_1 = \"abcd1234\"\n",
        "\n",
        "if len(password_1)<10:\n",
        "     print(\"password contains less than 10 characters\")\n",
        "else:\n",
        "     print(\"valid password\")"
      ],
      "metadata": {
        "colab": {
          "base_uri": "https://localhost:8080/"
        },
        "id": "1ELlLKr27svy",
        "outputId": "38b1523c-5d67-4113-80cc-c135534230d4"
      },
      "execution_count": null,
      "outputs": [
        {
          "output_type": "stream",
          "name": "stdout",
          "text": [
            "password contains less than 10 characters\n"
          ]
        }
      ]
    },
    {
      "cell_type": "code",
      "source": [
        "password_2 = \"abcd1234ab\"\n",
        "response = password_2.islower()\n",
        "\n",
        "if len(password_2)<10:\n",
        "     print(\"password contains less than 10 characters\")\n",
        "elif response == True:\n",
        "     print(\"password must contain at least 1 uppercase character\")\n",
        "else:\n",
        "     print(\"valid password\")"
      ],
      "metadata": {
        "colab": {
          "base_uri": "https://localhost:8080/"
        },
        "id": "q4QLdQeA72VP",
        "outputId": "da33a9bc-0bae-4a14-94bb-81644308d33b"
      },
      "execution_count": null,
      "outputs": [
        {
          "output_type": "stream",
          "name": "stdout",
          "text": [
            "password must contain at least 1 uppercase character\n"
          ]
        }
      ]
    },
    {
      "cell_type": "markdown",
      "source": [
        "### Str data type\n",
        "In Python, A string is a sequence of characters enclosed within a single quote or double quote. These characters could be anything like letters, numbers, or special symbols enclosed within double quotation marks. For example, \"PYnative\" is a string.\n",
        "\n",
        "The string type in Python is represented using a str class.\n",
        "\n",
        "To work with text or character data in Python, we use Strings. Once a string is created, we can do many operations on it, such as searching inside it, creating a substring from it, and splitting it."
      ],
      "metadata": {
        "id": "wGnc1dTW8QpB"
      }
    },
    {
      "cell_type": "code",
      "source": [
        "platform = \"PYnative\"\n",
        "print(type(platform))  # <class 'str'>\n",
        "\n",
        "# display string\n",
        "print(platform)  # 'PYnative'\n",
        "\n",
        "# accessing 2nd character of a string\n",
        "print(platform[1])  # Y\n",
        "\n",
        "# accessing 4nd character of a string\n",
        "print(platform[4])  # t\n",
        "\n"
      ],
      "metadata": {
        "colab": {
          "base_uri": "https://localhost:8080/"
        },
        "id": "imsEB9oH8U0a",
        "outputId": "8ae799c1-3c86-4ec1-ee0a-c4866f31669e"
      },
      "execution_count": null,
      "outputs": [
        {
          "output_type": "stream",
          "name": "stdout",
          "text": [
            "<class 'str'>\n",
            "PYnative\n",
            "Y\n",
            "t\n"
          ]
        }
      ]
    },
    {
      "cell_type": "markdown",
      "source": [
        "Strings are a sequence of bytes representing Unicode characters. The string type in Python is called str.\n",
        "\n",
        "Create a String\n",
        "\n",
        "Depending on the use case and characters needed, there are four different ways to create a string. They differ based on the delimiters and whether a string is single or multiline."
      ],
      "metadata": {
        "id": "VvgUfOFJ_QLm"
      }
    },
    {
      "cell_type": "code",
      "source": [
        "print(\"This is a string with 'single' quotes delimited by double quotes\")"
      ],
      "metadata": {
        "colab": {
          "base_uri": "https://localhost:8080/"
        },
        "id": "nj9g6_p-_Ru3",
        "outputId": "a8d20992-4662-406b-959c-22fe2fea7b59"
      },
      "execution_count": null,
      "outputs": [
        {
          "output_type": "stream",
          "name": "stdout",
          "text": [
            "This is a string with 'single' quotes delimited by double quotes\n"
          ]
        }
      ]
    },
    {
      "cell_type": "code",
      "source": [
        "print(\"Thanks to the \\\"\\\\\\\" character, we can use double quotes inside double quote delimiters\")"
      ],
      "metadata": {
        "colab": {
          "base_uri": "https://localhost:8080/"
        },
        "id": "3Tsx_Imt_VnM",
        "outputId": "c33cd89e-2ea6-43a8-9c62-fb39e59b43f9"
      },
      "execution_count": null,
      "outputs": [
        {
          "output_type": "stream",
          "name": "stdout",
          "text": [
            "Thanks to the \"\\\" character, we can use double quotes inside double quote delimiters\n"
          ]
        }
      ]
    },
    {
      "cell_type": "markdown",
      "source": [
        "Create a string by using single quote delimiters"
      ],
      "metadata": {
        "id": "gbuFIPz__nOM"
      }
    },
    {
      "cell_type": "code",
      "source": [
        "print('This is a string with \"double\" quotes delimited by single quotes')"
      ],
      "metadata": {
        "colab": {
          "base_uri": "https://localhost:8080/"
        },
        "id": "nVoWyYFc_exI",
        "outputId": "045a96f0-da51-4418-d1d7-120ff5e32eca"
      },
      "execution_count": null,
      "outputs": [
        {
          "output_type": "stream",
          "name": "stdout",
          "text": [
            "This is a string with \"double\" quotes delimited by single quotes\n"
          ]
        }
      ]
    },
    {
      "cell_type": "markdown",
      "source": [
        "There are two ways to delimit a multiline string.\n",
        "\n",
        "Create a multiline string by using triple single quote delimiters:"
      ],
      "metadata": {
        "id": "nbeOpzwe_vXF"
      }
    },
    {
      "cell_type": "code",
      "source": [
        "print('''This is a multiline string\n",
        "with 'single', \"double\" and \"\"\"triple-double\"\"\" quotes\n",
        "delimited with triple single quotes''')"
      ],
      "metadata": {
        "colab": {
          "base_uri": "https://localhost:8080/"
        },
        "id": "us1isYMe_nwz",
        "outputId": "ca982be7-2d45-41b1-c063-b95e1ae6965b"
      },
      "execution_count": null,
      "outputs": [
        {
          "output_type": "stream",
          "name": "stdout",
          "text": [
            "This is a multiline string\n",
            "with 'single', \"double\" and \"\"\"triple-double\"\"\" quotes\n",
            "delimited with triple single quotes\n"
          ]
        }
      ]
    },
    {
      "cell_type": "code",
      "source": [
        "print(\"\"\"'This is a multiline string\n",
        "with 'single', \"double\" and ```triple single``` quotes\n",
        "delimited with triple double quotes'\"\"\")"
      ],
      "metadata": {
        "colab": {
          "base_uri": "https://localhost:8080/"
        },
        "id": "IhnCYcvW_88i",
        "outputId": "47cd4bdc-5847-4673-98a2-01060d42cf5b"
      },
      "execution_count": null,
      "outputs": [
        {
          "output_type": "stream",
          "name": "stdout",
          "text": [
            "'This is a multiline string\n",
            "with 'single', \"double\" and ```triple single``` quotes\n",
            "delimited with triple double quotes'\n"
          ]
        }
      ]
    },
    {
      "cell_type": "markdown",
      "source": [
        "Access Elements of a String\n",
        "\n",
        "Strings in Python are arrays of characters. To access individual elements, use indexing:"
      ],
      "metadata": {
        "id": "MXY1GuD0AG8I"
      }
    },
    {
      "cell_type": "code",
      "source": [
        "s = \"phoenixNap\"\n",
        "s[0], s[2], s[-1]"
      ],
      "metadata": {
        "colab": {
          "base_uri": "https://localhost:8080/"
        },
        "id": "kZZMFj_9AJqx",
        "outputId": "f9db0f33-8043-45af-82a4-405bc061fa2a"
      },
      "execution_count": null,
      "outputs": [
        {
          "output_type": "execute_result",
          "data": {
            "text/plain": [
              "('p', 'o', 'p')"
            ]
          },
          "metadata": {},
          "execution_count": 61
        }
      ]
    },
    {
      "cell_type": "code",
      "source": [
        "print(s[0:7])\n",
        "print(s[-3:])"
      ],
      "metadata": {
        "colab": {
          "base_uri": "https://localhost:8080/"
        },
        "id": "QT7nqrLfAPae",
        "outputId": "cd6babff-5fbf-4b57-dbad-4df94c03ce23"
      },
      "execution_count": null,
      "outputs": [
        {
          "output_type": "stream",
          "name": "stdout",
          "text": [
            "phoenix\n",
            "Nap\n"
          ]
        }
      ]
    },
    {
      "cell_type": "code",
      "source": [
        "for letter in s:\n",
        "     print(letter)"
      ],
      "metadata": {
        "colab": {
          "base_uri": "https://localhost:8080/"
        },
        "id": "mDTHiFZ2ATLG",
        "outputId": "0f1fda45-b513-487c-f52b-7e886c74943c"
      },
      "execution_count": null,
      "outputs": [
        {
          "output_type": "stream",
          "name": "stdout",
          "text": [
            "p\n",
            "h\n",
            "o\n",
            "e\n",
            "n\n",
            "i\n",
            "x\n",
            "N\n",
            "a\n",
            "p\n"
          ]
        }
      ]
    },
    {
      "cell_type": "markdown",
      "source": [
        "### 1.5.2 List in Python\n",
        "\n",
        "The Python List is an ordered collection (also known as a sequence ) of elements. List elements can be accessed, iterated, and removed according to the order they inserted at the creation time.\n",
        "\n",
        "A Python list is an ordered changeable array. Lists allow duplicate elements regardless of their type. Adding or removing members from a list allows changes after creation.\n",
        "\n",
        "We use the list data type to represent groups of the element as a single entity.  For example: If we want to store all student’s names, we can use list type.\n",
        "\n",
        "1. The list can contain data of all data types such as  int, float, string\n",
        "2. Duplicates elements are allowed in the list\n",
        "3. The list is mutable which means we can modify the value of list elements\n",
        "4. Lists are ordered.\n",
        "5. Lists can contain any arbitrary objects.\n",
        "6. List elements can be accessed by index.\n",
        "7. Lists can be nested to arbitrary depth.\n",
        "8. Lists are mutable.\n",
        "9. Lists are dynamic.\n",
        "We can create a list using the two ways\n",
        "\n",
        "* By enclosing elements in the square brackets [].\n",
        "* Using a list() class."
      ],
      "metadata": {
        "id": "XdBt8UDf87_k"
      }
    },
    {
      "cell_type": "markdown",
      "source": [
        "<a><img src=\"https://static.wixstatic.com/media/187085_71ac1aa2f8c4475ba21f4c096a035b1a~mv2.png\" width=\"80%\" height=\"80%\" /></a>\n",
        "\n"
      ],
      "metadata": {
        "id": "lsrmNQ18ByB5"
      }
    },
    {
      "cell_type": "code",
      "source": [
        "my_list = [\"Juan\", \"Gabriel\", 20, 35.75]\n",
        "# display list\n",
        "print(my_list)  # ['Juan', 'Gabriel', 20, 35.75]\n",
        "print(type(my_list))  # class 'list'\n",
        "\n",
        "# Accessing first element of list\n",
        "print(my_list[0])  # 'Juan'\n",
        "\n",
        "# slicing list elements\n",
        "print(my_list[1:5])  # ['Gabriel', 20, 35.75]\n",
        "\n",
        "# modify 2nd element of a list\n",
        "my_list[1] = \"Adriana\"\n",
        "print(my_list[1])  # 'Adriana'\n",
        "print(my_list, \"is\", type(my_list))\n",
        "\n",
        "# create list using a list class\n",
        "my_list2 = list([\"Juan\", \"Gabriel\", 20, 35.75])\n",
        "print(my_list2)  # ['Juan', 'Gabriel', 20, 35.75]"
      ],
      "metadata": {
        "colab": {
          "base_uri": "https://localhost:8080/"
        },
        "id": "RBPdDRPMAz7Q",
        "outputId": "4ba8164c-8794-4448-9cc0-48a47d207a92"
      },
      "execution_count": null,
      "outputs": [
        {
          "output_type": "stream",
          "name": "stdout",
          "text": [
            "['Juan', 'Gabriel', 20, 35.75]\n",
            "<class 'list'>\n",
            "Juan\n",
            "['Gabriel', 20, 35.75]\n",
            "Adriana\n",
            "['Juan', 'Adriana', 20, 35.75] is <class 'list'>\n",
            "['Juan', 'Gabriel', 20, 35.75]\n"
          ]
        }
      ]
    },
    {
      "cell_type": "markdown",
      "source": [
        "Access Elements of a List\n",
        "\n",
        "Lists are a sequence of elements. Access members by using indexing notation, where the first element is at index 0:"
      ],
      "metadata": {
        "id": "L4JtUlhPDNbl"
      }
    },
    {
      "cell_type": "code",
      "source": [
        "my_list[0], my_list[3], my_list[1]"
      ],
      "metadata": {
        "colab": {
          "base_uri": "https://localhost:8080/"
        },
        "id": "C9UtZ6pVDQs6",
        "outputId": "5326b6f9-aefb-4ca5-f5a5-7dafa080cbef"
      },
      "execution_count": null,
      "outputs": [
        {
          "output_type": "execute_result",
          "data": {
            "text/plain": [
              "('Juan', 35.75, 'Adriana')"
            ]
          },
          "metadata": {},
          "execution_count": 68
        }
      ]
    },
    {
      "cell_type": "code",
      "source": [
        "my_list[0:2]\n"
      ],
      "metadata": {
        "colab": {
          "base_uri": "https://localhost:8080/"
        },
        "id": "cFEOl3vKDZSe",
        "outputId": "8f6578ca-1c3e-4dbe-9992-909b28a2d653"
      },
      "execution_count": null,
      "outputs": [
        {
          "output_type": "execute_result",
          "data": {
            "text/plain": [
              "['Juan', 'Adriana', 20]"
            ]
          },
          "metadata": {},
          "execution_count": 70
        }
      ]
    },
    {
      "cell_type": "code",
      "source": [
        "my_list[0:3]"
      ],
      "metadata": {
        "colab": {
          "base_uri": "https://localhost:8080/"
        },
        "id": "U5BmvM8uDm3j",
        "outputId": "75a7840d-8d27-4d76-caad-59e1793382d2"
      },
      "execution_count": null,
      "outputs": [
        {
          "output_type": "execute_result",
          "data": {
            "text/plain": [
              "['Juan', 'Adriana', 20]"
            ]
          },
          "metadata": {},
          "execution_count": 71
        }
      ]
    },
    {
      "cell_type": "markdown",
      "source": [
        "Negative indexes are also possible"
      ],
      "metadata": {
        "id": "4bn5k6vWDq6l"
      }
    },
    {
      "cell_type": "code",
      "source": [
        "my_list[-1]"
      ],
      "metadata": {
        "colab": {
          "base_uri": "https://localhost:8080/"
        },
        "id": "n8c9Y_kgDumu",
        "outputId": "a5de19a8-bf37-4110-aad6-9fa64f60b345"
      },
      "execution_count": null,
      "outputs": [
        {
          "output_type": "execute_result",
          "data": {
            "text/plain": [
              "35.75"
            ]
          },
          "metadata": {},
          "execution_count": 73
        }
      ]
    },
    {
      "cell_type": "code",
      "source": [
        "my_list[0:3:2]"
      ],
      "metadata": {
        "colab": {
          "base_uri": "https://localhost:8080/"
        },
        "id": "0tOZAo1pEKuG",
        "outputId": "8f5398b8-5cd4-4428-a773-2471fa19de48"
      },
      "execution_count": null,
      "outputs": [
        {
          "output_type": "execute_result",
          "data": {
            "text/plain": [
              "['Juan', 20]"
            ]
          },
          "metadata": {},
          "execution_count": 82
        }
      ]
    },
    {
      "cell_type": "markdown",
      "source": [
        "Lists Can Be Nested\n",
        "You have seen that an element in a list can be any sort of object. That includes another list. A list can contain sublists, which in turn can contain sublists themselves, and so on to arbitrary depth"
      ],
      "metadata": {
        "id": "qT2yqsIGFLv6"
      }
    },
    {
      "cell_type": "code",
      "source": [
        "x = ['a', ['bb', ['ccc', 'ddd'], 'ee', 'ff'], 'g', ['hh', 'ii'], 'j']\n",
        "print(x)"
      ],
      "metadata": {
        "colab": {
          "base_uri": "https://localhost:8080/"
        },
        "id": "-RNl-qy3FMt7",
        "outputId": "c2920b34-78ad-4c56-c06a-e1200b8a9023"
      },
      "execution_count": null,
      "outputs": [
        {
          "output_type": "stream",
          "name": "stdout",
          "text": [
            "['a', ['bb', ['ccc', 'ddd'], 'ee', 'ff'], 'g', ['hh', 'ii'], 'j']\n"
          ]
        }
      ]
    },
    {
      "cell_type": "code",
      "source": [
        "print(x[0], x[2], x[4]) # a g j"
      ],
      "metadata": {
        "colab": {
          "base_uri": "https://localhost:8080/"
        },
        "id": "8KXSnAipFUq9",
        "outputId": "0f063137-aaaf-4d87-dc4b-32d49b745492"
      },
      "execution_count": null,
      "outputs": [
        {
          "output_type": "stream",
          "name": "stdout",
          "text": [
            "a g j\n"
          ]
        }
      ]
    },
    {
      "cell_type": "code",
      "source": [
        "print(x[1][1])"
      ],
      "metadata": {
        "colab": {
          "base_uri": "https://localhost:8080/"
        },
        "id": "StY7MeQcFgk9",
        "outputId": "14a60db4-b07e-463d-b7e1-3bd88d661af4"
      },
      "execution_count": null,
      "outputs": [
        {
          "output_type": "stream",
          "name": "stdout",
          "text": [
            "['ccc', 'ddd']\n"
          ]
        }
      ]
    },
    {
      "cell_type": "code",
      "source": [
        "print(x[1][1][0], x[1][1][1])"
      ],
      "metadata": {
        "colab": {
          "base_uri": "https://localhost:8080/"
        },
        "id": "rIVO1IqyF2-r",
        "outputId": "17425c10-03ce-4527-bde5-6a4167226d57"
      },
      "execution_count": null,
      "outputs": [
        {
          "output_type": "stream",
          "name": "stdout",
          "text": [
            "ccc ddd\n"
          ]
        }
      ]
    },
    {
      "cell_type": "markdown",
      "source": [
        "Modifying a Single List Value\n",
        "A single value in a list can be replaced by indexing and simple assignment:"
      ],
      "metadata": {
        "id": "vXtdslxvF_KZ"
      }
    },
    {
      "cell_type": "markdown",
      "source": [],
      "metadata": {
        "id": "rY2ucWWM6kO9"
      }
    },
    {
      "cell_type": "code",
      "source": [
        " a = ['foo', 'bar', 'baz', 'qux', 'quux', 'corge']\n",
        " print(a)\n",
        " a[2] = 10\n",
        " a[-1] = 20\n",
        " print(a)\n"
      ],
      "metadata": {
        "colab": {
          "base_uri": "https://localhost:8080/"
        },
        "id": "89c0tSa_GDNK",
        "outputId": "67611ed0-a29e-42ae-aaec-61a7eb85a705"
      },
      "execution_count": null,
      "outputs": [
        {
          "output_type": "stream",
          "name": "stdout",
          "text": [
            "['foo', 'bar', 'baz', 'qux', 'quux', 'corge']\n",
            "['foo', 'bar', 10, 'qux', 'quux', 20]\n"
          ]
        }
      ]
    },
    {
      "cell_type": "markdown",
      "source": [
        "A list item can be deleted with the del command or adding with append command:"
      ],
      "metadata": {
        "id": "Ax8RjU-zGbab"
      }
    },
    {
      "cell_type": "code",
      "source": [
        "a = ['foo', 'bar', 'baz', 'qux', 'quux', 'corge']\n",
        "del a[3]\n",
        "print(a)\n",
        "a.append(123)\n",
        "print(a)"
      ],
      "metadata": {
        "colab": {
          "base_uri": "https://localhost:8080/"
        },
        "id": "SuhLYkj0Gdec",
        "outputId": "7528beca-71a6-4bc8-945a-85e8c838c5e0"
      },
      "execution_count": null,
      "outputs": [
        {
          "output_type": "stream",
          "name": "stdout",
          "text": [
            "['foo', 'bar', 'baz', 'quux', 'corge']\n",
            "['foo', 'bar', 'baz', 'quux', 'corge', 123]\n"
          ]
        }
      ]
    },
    {
      "cell_type": "code",
      "source": [
        "# A list of mixed datatypes\n",
        "L = [ 1, 'abc', 1.23, (3+4j), True]\n",
        "print(L)\n",
        "# An empty list\n",
        "L = []\n",
        "print(L)"
      ],
      "metadata": {
        "colab": {
          "base_uri": "https://localhost:8080/"
        },
        "id": "GtdYZsSVHKTj",
        "outputId": "b6e6d567-3556-47ea-caea-9fc02acdd9f9"
      },
      "execution_count": null,
      "outputs": [
        {
          "output_type": "stream",
          "name": "stdout",
          "text": [
            "[1, 'abc', 1.23, (3+4j), True]\n",
            "[]\n"
          ]
        }
      ]
    },
    {
      "cell_type": "code",
      "source": [
        "# Convert a string to a list\n",
        "L = list('abc')\n",
        "print(L)\n",
        "# Prints ['a', 'b', 'c']"
      ],
      "metadata": {
        "colab": {
          "base_uri": "https://localhost:8080/"
        },
        "id": "JT7gUt90HWAE",
        "outputId": "dedd0cfd-580e-447b-fbdb-a2b8cd589535"
      },
      "execution_count": null,
      "outputs": [
        {
          "output_type": "stream",
          "name": "stdout",
          "text": [
            "['a', 'b', 'c']\n"
          ]
        }
      ]
    },
    {
      "cell_type": "markdown",
      "source": [
        "Combine Lists\n",
        "You can merge one list into another by using extend() method. It takes a list as an argument and appends all of the elements."
      ],
      "metadata": {
        "id": "HHgF5vlrHiyI"
      }
    },
    {
      "cell_type": "code",
      "source": [
        "L = ['red', 'green', 'yellow']\n",
        "L.extend([1,2,3])\n",
        "print(L)\n",
        "# Prints ['red', 'green', 'yellow', 1, 2, 3]"
      ],
      "metadata": {
        "colab": {
          "base_uri": "https://localhost:8080/"
        },
        "id": "35YZksq6Hjqq",
        "outputId": "e31a9291-0435-4ab8-eff8-79cfa98c6c37"
      },
      "execution_count": null,
      "outputs": [
        {
          "output_type": "stream",
          "name": "stdout",
          "text": [
            "['red', 'green', 'yellow', 1, 2, 3]\n"
          ]
        }
      ]
    },
    {
      "cell_type": "markdown",
      "source": [
        "Alternatively, you can use the concatenation operator + or the augmented assignment operator +="
      ],
      "metadata": {
        "id": "CocOhemtHqQ8"
      }
    },
    {
      "cell_type": "code",
      "source": [
        "# concatenation operator\n",
        "L = ['red', 'green', 'blue']\n",
        "L = L + [1,2,3]\n",
        "print(L)\n",
        "# Prints ['red', 'green', 'blue', 1, 2, 3]\n",
        "\n",
        "# augmented assignment operator\n",
        "L = ['red', 'green', 'blue']\n",
        "L += [1,2,3]\n",
        "print(L)\n",
        "# Prints ['red', 'green', 'blue', 1, 2, 3]"
      ],
      "metadata": {
        "colab": {
          "base_uri": "https://localhost:8080/"
        },
        "id": "LMJ9N_qXHrS2",
        "outputId": "a61b3d0e-29b1-4a73-91d9-43ab91b5d988"
      },
      "execution_count": null,
      "outputs": [
        {
          "output_type": "stream",
          "name": "stdout",
          "text": [
            "['red', 'green', 'blue', 1, 2, 3]\n",
            "['red', 'green', 'blue', 1, 2, 3]\n"
          ]
        }
      ]
    },
    {
      "cell_type": "markdown",
      "source": [
        "Remove an Item by Index\n",
        "If you know the index of the item you want, you can use pop() method. It modifies the list and returns the removed item.\n",
        "\n",
        "If no index is specified, pop() removes and returns the last item in the list."
      ],
      "metadata": {
        "id": "7QYQM6YjH-F0"
      }
    },
    {
      "cell_type": "code",
      "source": [
        "L = ['red', 'green', 'blue']\n",
        "x = L.pop(1)\n",
        "print(L)\n",
        "# Prints ['red', 'blue']\n",
        "\n",
        "# removed item\n",
        "print(x)\n",
        "# Prints green"
      ],
      "metadata": {
        "id": "RA7cEHWGH_S5"
      },
      "execution_count": null,
      "outputs": []
    },
    {
      "cell_type": "markdown",
      "source": [
        "If you don’t need the removed value, use the del statement."
      ],
      "metadata": {
        "id": "zYrgh4XpIBg6"
      }
    },
    {
      "cell_type": "code",
      "source": [
        "L = ['red', 'green', 'blue']\n",
        "del L[1]\n",
        "print(L)\n",
        "# Prints ['red', 'blue']"
      ],
      "metadata": {
        "id": "ZsvqVl0mIFSD"
      },
      "execution_count": null,
      "outputs": []
    },
    {
      "cell_type": "markdown",
      "source": [
        "Remove an Item by Value\n",
        "If you’re not sure where the item is in the list, use remove() method to delete it by value."
      ],
      "metadata": {
        "id": "DRv3iK83IGAt"
      }
    },
    {
      "cell_type": "code",
      "source": [
        "L = ['red', 'green', 'blue']\n",
        "L.remove('red')\n",
        "print(L)\n",
        "# Prints ['green', 'blue']"
      ],
      "metadata": {
        "id": "WvKENf10IISy"
      },
      "execution_count": null,
      "outputs": []
    },
    {
      "cell_type": "code",
      "source": [
        "L = ['red', 'green', 'blue', 'red']\n",
        "L.remove('red')\n",
        "print(L)\n",
        "# Prints ['green', 'blue', 'red']"
      ],
      "metadata": {
        "id": "wWULJf1oIL4W"
      },
      "execution_count": null,
      "outputs": []
    },
    {
      "cell_type": "markdown",
      "source": [
        "Remove Multiple Items\n",
        "To remove more than one items, use the del keyword with a slice index."
      ],
      "metadata": {
        "id": "nI20Pab0IOXS"
      }
    },
    {
      "cell_type": "code",
      "source": [
        "L = ['red', 'green', 'blue', 'yellow', 'black']\n",
        "del L[1:4]\n",
        "print(L)\n",
        "# Prints ['red', 'black']"
      ],
      "metadata": {
        "id": "KLffKXuZIS_r"
      },
      "execution_count": null,
      "outputs": []
    },
    {
      "cell_type": "markdown",
      "source": [
        "Remove all Items\n",
        "Use clear() method to remove all items from the list."
      ],
      "metadata": {
        "id": "kw_Z2pr3IWfZ"
      }
    },
    {
      "cell_type": "code",
      "source": [
        "L = ['red', 'green', 'blue']\n",
        "L.clear()\n",
        "print(L)\n",
        "# Prints []"
      ],
      "metadata": {
        "id": "9wLrB7MHIYqj"
      },
      "execution_count": null,
      "outputs": []
    },
    {
      "cell_type": "markdown",
      "source": [
        "Check if item exists in a list\n",
        "To determine whether a value is or isn’t in a list, you can use in and not in operators with if statement."
      ],
      "metadata": {
        "id": "YJHIevhIIePw"
      }
    },
    {
      "cell_type": "code",
      "source": [
        "# Check for presence\n",
        "L = ['red', 'green', 'blue']\n",
        "if 'red' in L:\n",
        "    print('yes')\n",
        "\n",
        "# Check for absence\n",
        "L = ['red', 'green', 'blue']\n",
        "if 'yellow' not in L:\n",
        "    print('yes')"
      ],
      "metadata": {
        "colab": {
          "base_uri": "https://localhost:8080/"
        },
        "id": "O4bf6MVGIgkL",
        "outputId": "fb804dad-ce69-4de4-fecf-6c1fee667cff"
      },
      "execution_count": null,
      "outputs": [
        {
          "output_type": "stream",
          "name": "stdout",
          "text": [
            "yes\n",
            "yes\n"
          ]
        }
      ]
    },
    {
      "cell_type": "markdown",
      "source": [
        "### Python List Methods\n",
        "Python has a set of built-in methods that you can call on list objects.\n",
        "\n",
        "Python List Methods\n",
        "\n",
        "| Method | \tDescription|\n",
        "| :--- | :---: |\n",
        "| append() |\tAdds an item to the end of the list |\n",
        "| insert() |\tInserts an item at a given position |\n",
        "| extend() |\tExtends the list by appending all the items from the iterable |\n",
        "| remove() |\tRemoves first instance of the specified item |\n",
        "| pop() |\tRemoves the item at the given position in the list |\n",
        "| clear() |\tRemoves all items from the list |\n",
        "| copy() |\tReturns a shallow copy of the list |\n",
        "| count() |\tReturns the count of specified item in the list |\n",
        "| index() |\tReturns the index of first instance of the specified item |\n",
        "| reverse() |\tReverses the items of the list in place |\n",
        "| sort() |\tSorts the items of the list in place |"
      ],
      "metadata": {
        "id": "Vpz3oaj2IliM"
      }
    },
    {
      "cell_type": "markdown",
      "source": [
        "### Functions with Python List\n",
        "\n",
        "Python has a set of built-in methods that you can call on list objects.\n",
        "\n",
        "Python List Methods\n",
        "\n",
        "| Method | \tDescription|\n",
        "| :--- | :---: |\n",
        "| all()| \tReturns True if all list items are true\n",
        "| any()| \tReturns True if any list item is true\n",
        "| enumerate()| \tTakes a list and returns an enumerate object\n",
        "| len()\t| Returns the number of items in the list\n",
        "| list()\t| Converts an iterable (tuple, string, set etc.) to a list\n",
        "| max()\t| Returns the largest item of the list\n",
        "| min()\t| Returns the smallest item of the list\n",
        "| sorted()\t| Returns a sorted list\n",
        "| sum()\t| Sums items of the list"
      ],
      "metadata": {
        "id": "Y_IK-q5uJ21w"
      }
    },
    {
      "cell_type": "markdown",
      "source": [
        "### 1.5.3 Tuples in Python\n",
        "\n",
        "Tuples in Python are the types in which the user cannot change the elements once they are inserted or assigned. They are just similar to lists but we can change the elements of the list once assigned. A tuple can be created in python by putting the elements inside ‘( )’ these brackets. There is no boundary for the elements in a tuple.  It can have a number of elements as a user wants. They can be of different data types as well such as int, float, char etc.\n",
        "\n",
        "In case we want to put a single element inside a tuple, the user can put a comma after the single element. Otherwise, the program doesn’t consider that element to be in a tuple\n",
        "\n",
        "\n"
      ],
      "metadata": {
        "id": "A8Fwb8r1LAJa"
      }
    },
    {
      "cell_type": "markdown",
      "source": [
        "<a><img src=\"https://static.wixstatic.com/media/187085_cce08af60864472ebe391f459c870738~mv2.png\" width=\"80%\" height=\"80%\" /></a>\n",
        "\n"
      ],
      "metadata": {
        "id": "ZsjpiNkgPPbZ"
      }
    },
    {
      "cell_type": "code",
      "source": [
        "dh_tuple = ()\n",
        "print(dh_tuple)\n",
        "dh_tuple = (10, 20, 30)\n",
        "print(dh_tuple)\n",
        "dh_tuple = (100, \"Welcome\", 10.6)\n",
        "print(dh_tuple)\n",
        "dh_tuple = (\"Developer Helps\", [2, 0, 9], (71, 20, 34))\n",
        "print(dh_tuple)\n",
        "print(dh_tuple[1])\n",
        "print(dh_tuple[1][2])"
      ],
      "metadata": {
        "colab": {
          "base_uri": "https://localhost:8080/"
        },
        "id": "Dl5fiAdwL0Zw",
        "outputId": "662cff70-adfd-440c-f365-5e65524771fc"
      },
      "execution_count": null,
      "outputs": [
        {
          "output_type": "stream",
          "name": "stdout",
          "text": [
            "()\n",
            "(10, 20, 30)\n",
            "(100, 'Welcome', 10.6)\n",
            "('Developer Helps', [2, 0, 9], (71, 20, 34))\n",
            "[2, 0, 9]\n",
            "9\n"
          ]
        }
      ]
    },
    {
      "cell_type": "markdown",
      "source": [
        "Tuples are ordered collections of elements that are unchangeable. The tuple is the same as the list, except the tuple is immutable means we can’t modify the tuple once created.\n",
        "\n",
        "In other words, we can say a tuple is a read-only version of the list.\n",
        "\n",
        "For example: If you want to store the roll numbers of students that you don’t change, you can use the tuple data type.\n",
        "\n",
        "Note: Tuple maintains the insertion order and also, allows us to store duplicate elements.\n",
        "\n",
        "We can create a tuple using the two ways\n",
        "\n",
        "* By enclosing elements in the parenthesis ()\n",
        "* Using a tuple() class."
      ],
      "metadata": {
        "id": "bwhyDa02MJTc"
      }
    },
    {
      "cell_type": "code",
      "source": [
        "# create a tuple\n",
        "my_tuple = (11, 24, 56, 88, 78)\n",
        "print(my_tuple)  # (11, 24, 56, 88, 78)\n",
        "print(type(my_tuple))  # class 'tuple'\n",
        "\n",
        "# Accessing 3rd element of a tuple\n",
        "print(my_tuple[2])  # 56\n",
        "\n",
        "# slice a tuple\n",
        "print(my_tuple[2:7])  # (56, 88, 78)\n",
        "\n",
        "# create a tuple using a tuple() class\n",
        "my_tuple2 = tuple((10, 20, 30, 40))\n",
        "print(my_tuple2)  # (10, 20, 30, 40)"
      ],
      "metadata": {
        "colab": {
          "base_uri": "https://localhost:8080/"
        },
        "id": "tmLc3CwlMO7h",
        "outputId": "38d0765b-e651-4ebd-bdc9-ae20702b96db"
      },
      "execution_count": null,
      "outputs": [
        {
          "output_type": "stream",
          "name": "stdout",
          "text": [
            "(11, 24, 56, 88, 78)\n",
            "<class 'tuple'>\n",
            "56\n",
            "(56, 88, 78)\n",
            "(10, 20, 30, 40)\n"
          ]
        }
      ]
    },
    {
      "cell_type": "markdown",
      "source": [
        "To create a tuple with a single element, use a comma after the first element"
      ],
      "metadata": {
        "id": "sLzdNmhbP80Y"
      }
    },
    {
      "cell_type": "code",
      "source": [
        "p = (\"codedose\")\n",
        "n = (\"codedose\",)\n",
        "print(\"p is\", type(p), \"whereas n is\", type(n))"
      ],
      "metadata": {
        "colab": {
          "base_uri": "https://localhost:8080/"
        },
        "id": "mDMIzjuTP-BK",
        "outputId": "0db71b9b-4de1-48fe-814c-1aac30cfb6fd"
      },
      "execution_count": null,
      "outputs": [
        {
          "output_type": "stream",
          "name": "stdout",
          "text": [
            "p is <class 'str'> whereas n is <class 'tuple'>\n"
          ]
        }
      ]
    },
    {
      "cell_type": "markdown",
      "source": [
        "Defining and Using Tuples\n",
        "Tuples are identical to lists in all respects, except for the following properties:\n",
        "\n",
        "Tuples are defined by enclosing the elements in parentheses (()) instead of square brackets ([]).\n",
        "Tuples are immutable.\n",
        "Here is a short example showing a tuple definition, indexing, and slicing\n",
        "\n",
        "Similar to lists. However, they are _immutability_.\n",
        "Thus, the elements in a tuple can not be reassign.11"
      ],
      "metadata": {
        "id": "WRoRJgxlQTRX"
      }
    },
    {
      "cell_type": "code",
      "source": [
        "my_tup = (1,2,3) # also, mixing types\n",
        "type(my_tup), len(my_tup)"
      ],
      "metadata": {
        "colab": {
          "base_uri": "https://localhost:8080/"
        },
        "id": "PR20QDW7RCU1",
        "outputId": "e39edcc4-795e-43c7-91d8-9a9419b768e3"
      },
      "execution_count": null,
      "outputs": [
        {
          "output_type": "execute_result",
          "data": {
            "text/plain": [
              "(tuple, 3)"
            ]
          },
          "metadata": {},
          "execution_count": 106
        }
      ]
    },
    {
      "cell_type": "code",
      "source": [
        "my_tup[-1] # indexing"
      ],
      "metadata": {
        "colab": {
          "base_uri": "https://localhost:8080/"
        },
        "id": "3EoVNBrfRIXc",
        "outputId": "9ee6e170-1d77-459b-ddd1-b50d2de3ed97"
      },
      "execution_count": null,
      "outputs": [
        {
          "output_type": "execute_result",
          "data": {
            "text/plain": [
              "3"
            ]
          },
          "metadata": {},
          "execution_count": 107
        }
      ]
    },
    {
      "cell_type": "code",
      "source": [
        "my_tup = ('a', 'b', 'a', 'a')"
      ],
      "metadata": {
        "id": "tC55-MMfRMxi"
      },
      "execution_count": null,
      "outputs": []
    },
    {
      "cell_type": "code",
      "source": [
        "my_tup.count('a') # how many 'a' are there?"
      ],
      "metadata": {
        "colab": {
          "base_uri": "https://localhost:8080/"
        },
        "id": "BZ-uENvIROw7",
        "outputId": "8f9f63d2-3bab-40dd-95af-a2b92f8ce5b0"
      },
      "execution_count": null,
      "outputs": [
        {
          "output_type": "execute_result",
          "data": {
            "text/plain": [
              "3"
            ]
          },
          "metadata": {},
          "execution_count": 109
        }
      ]
    },
    {
      "cell_type": "code",
      "source": [
        "my_tup.index('a') # index of first 'a'"
      ],
      "metadata": {
        "colab": {
          "base_uri": "https://localhost:8080/"
        },
        "id": "lCaug1FxRSNm",
        "outputId": "1e55652a-c885-44cd-be91-76b41b0e9438"
      },
      "execution_count": null,
      "outputs": [
        {
          "output_type": "execute_result",
          "data": {
            "text/plain": [
              "0"
            ]
          },
          "metadata": {},
          "execution_count": 110
        }
      ]
    },
    {
      "cell_type": "markdown",
      "source": [
        "# 2. Variables and Operators\n",
        "\n",
        "In programming, a variable is a container (storage area) to hold data. For example,\n",
        "\n",
        "number = 10\n",
        "Here, number is the variable storing the value 10\n",
        "\n",
        "A variable is a reserved memory area (memory address) to store value. For example, we want to store an employee’s salary. In such a case, we can create a variable and store salary using it. Using that variable name, you can read or modify the salary amount.\n",
        "\n",
        "In other words, a variable is a value that varies according to the condition or input pass to the program. Everything in Python is treated as an object so every variable is nothing but an object in Python.\n",
        "\n",
        "A variable can be either mutable or immutable. If the variable’s value can change, the object is called mutable, while if the value cannot change, the object is called immutable\n",
        "\n",
        "Python programming language is dynamically typed, so there is no need to declare a variable before using it or declare the data type of variable like in other programming languages. The declaration happens automatically when we assign a value to the variable.\n",
        "\n",
        "Creating a variable and assigning a value\n",
        "\n",
        "We can assign a value to the variable at that time variable is created. We can use the assignment operator = to assign a value to a variable.\n",
        "\n",
        "The operand, which is on the left side of the assignment operator, is a variable name. And the operand, which is the right side of the assignment operator, is the variable’s value."
      ],
      "metadata": {
        "id": "Zk_HLgGrSp0e"
      }
    },
    {
      "cell_type": "code",
      "source": [
        "# assign value to site_name variable\n",
        "site_name = 'codedose.codes'\n",
        "\n",
        "print(site_name)\n",
        "\n",
        "# Output: codedose.codes"
      ],
      "metadata": {
        "colab": {
          "base_uri": "https://localhost:8080/"
        },
        "id": "3zp2nKu0Tq36",
        "outputId": "59617307-674c-4f92-baf2-ece8696ded67"
      },
      "execution_count": null,
      "outputs": [
        {
          "output_type": "stream",
          "name": "stdout",
          "text": [
            "codedose.codes\n"
          ]
        }
      ]
    },
    {
      "cell_type": "code",
      "source": [
        "name = \"John\"  # string assignment\n",
        "age = 25  # integer assignment\n",
        "salary = 25800.60  # float assignment\n",
        "\n",
        "print(name)  # John\n",
        "print(age)  # 25\n",
        "print(salary)  # 25800.6"
      ],
      "metadata": {
        "colab": {
          "base_uri": "https://localhost:8080/"
        },
        "id": "FT3j2sSKTzyQ",
        "outputId": "d50ff8a9-2563-4f85-8f6c-a185edbbb302"
      },
      "execution_count": null,
      "outputs": [
        {
          "output_type": "stream",
          "name": "stdout",
          "text": [
            "John\n",
            "25\n",
            "25800.6\n"
          ]
        }
      ]
    },
    {
      "cell_type": "markdown",
      "source": [
        "Many programming languages are statically typed languages where the variable is initially declared with a specific type, and during its lifetime, it must always have that type.\n",
        "\n",
        "But in Python, variables are dynamically typed and not subject to the data type restriction. A variable may be assigned to a value of one type, and then later, we can also re-assigned a value of a different type"
      ],
      "metadata": {
        "id": "4oty0VqiT9YK"
      }
    },
    {
      "cell_type": "code",
      "source": [
        "var = 10\n",
        "print(var)  # 10\n",
        "# print its type\n",
        "print(type(var))  # <class 'int'>\n",
        "\n",
        "# assign different integer value to var\n",
        "var = 55\n",
        "print(var)  # 55\n",
        "\n",
        "# change var to string\n",
        "var = \"Now I'm a string\"\n",
        "print(var)  # Now I'm a string\n",
        "# print its type\n",
        "print(type(var))  # <class 'str'>\n",
        "\n",
        "# change var to float\n",
        "var = 35.69\n",
        "print(var)  # 35.69\n",
        "# print its type\n",
        "print(type(var))  # <class 'float'>"
      ],
      "metadata": {
        "colab": {
          "base_uri": "https://localhost:8080/"
        },
        "id": "vjKAI_YZUBQ5",
        "outputId": "98873256-810d-44d9-bbe4-069df3fa6964"
      },
      "execution_count": null,
      "outputs": [
        {
          "output_type": "stream",
          "name": "stdout",
          "text": [
            "10\n",
            "<class 'int'>\n",
            "55\n",
            "Now I'm a string\n",
            "<class 'str'>\n",
            "35.69\n",
            "<class 'float'>\n"
          ]
        }
      ]
    },
    {
      "cell_type": "markdown",
      "source": [
        "Assigning multiple values to multiple variables"
      ],
      "metadata": {
        "id": "199EOHm4UI7L"
      }
    },
    {
      "cell_type": "code",
      "source": [
        "a, b, c = 5, 3.2, 'Hello'\n",
        "\n",
        "print(a)  # prints 5\n",
        "print(b)  # prints 3.2\n",
        "print(c)  # prints Hello"
      ],
      "metadata": {
        "id": "INddQ2rVUJwE"
      },
      "execution_count": null,
      "outputs": []
    },
    {
      "cell_type": "code",
      "source": [
        "site1 = site2  = 'codedose.codes'\n",
        "\n",
        "print(site1)  # prints codedose.codes\n",
        "print(site2)  # prints codedose.codes"
      ],
      "metadata": {
        "id": "uq33QeoWUNm_"
      },
      "execution_count": null,
      "outputs": []
    },
    {
      "cell_type": "markdown",
      "source": [
        "String variable\n",
        "In Python, a string is a set of characters represented in quotation marks. Python allows us to define a string in either pair of single or double quotation marks. For example, to store a person’s name we can use a string type.\n",
        "\n",
        "To retrieve a piece of string from a given string, we can use to slice operator [] or [:]. Slicing provides us the subset of a string with an index starting from index 0 to index end-1.\n",
        "\n",
        "To concatenate the string, we can use the addition(+) operator."
      ],
      "metadata": {
        "id": "POunbptmUh3e"
      }
    },
    {
      "cell_type": "code",
      "source": [
        "# create a variable of type string\n",
        "str = 'codedose'\n",
        "# prints complete string\n",
        "print(str)  # codedose\n",
        "\n",
        "# prints first character of the string\n",
        "print(str[0])  # c\n",
        "\n",
        "# prints characters starting from 2nd to 5th\n",
        "print(str[2:5])  # ded\n",
        "\n",
        "# length of string\n",
        "print(len(str))  # 8\n",
        "\n",
        "# concatenate string\n",
        "print(str + \"TEST\")  # codedoseTEST"
      ],
      "metadata": {
        "colab": {
          "base_uri": "https://localhost:8080/"
        },
        "id": "x4UWCOSiUnaw",
        "outputId": "3f60538c-2974-4b61-da3e-a700ad682d66"
      },
      "execution_count": null,
      "outputs": [
        {
          "output_type": "stream",
          "name": "stdout",
          "text": [
            "codedose\n",
            "c\n",
            "ded\n",
            "8\n",
            "codedoseTEST\n"
          ]
        }
      ]
    },
    {
      "cell_type": "markdown",
      "source": [
        "Special Literal in Python\n",
        "Python contains one special literal None. We use it to specify a null variable. For example"
      ],
      "metadata": {
        "id": "SNpP6BI8aj2g"
      }
    },
    {
      "cell_type": "code",
      "source": [
        "value = None\n",
        "\n",
        "print(value)\n",
        "\n",
        "# Output: None"
      ],
      "metadata": {
        "colab": {
          "base_uri": "https://localhost:8080/"
        },
        "id": "3fE_wTO7amEG",
        "outputId": "a1c80271-1059-4edf-aa94-9079c7dab398"
      },
      "execution_count": null,
      "outputs": [
        {
          "output_type": "stream",
          "name": "stdout",
          "text": [
            "None\n"
          ]
        }
      ]
    },
    {
      "cell_type": "markdown",
      "source": [
        "Literal Collections\n",
        "There are four different literal collections List literals, Tuple literals, Dict literals, and Set literals."
      ],
      "metadata": {
        "id": "evtz2d2masAr"
      }
    },
    {
      "cell_type": "code",
      "source": [
        "# list literal\n",
        "fruits = [\"apple\", \"mango\", \"orange\"]\n",
        "print(fruits)\n",
        "\n",
        "# tuple literal\n",
        "numbers = (1, 2, 3)\n",
        "print(numbers)\n",
        "\n",
        "# dictionary literal\n",
        "alphabets = {'a':'apple', 'b':'ball', 'c':'cat'}\n",
        "print(alphabets)\n",
        "\n",
        "# set literal\n",
        "vowels = {'a', 'e', 'i' , 'o', 'u'}\n",
        "print(vowels)"
      ],
      "metadata": {
        "colab": {
          "base_uri": "https://localhost:8080/"
        },
        "id": "2DBnKR7Zas2b",
        "outputId": "0dcad23f-74d9-45c0-de06-c40883b050dd"
      },
      "execution_count": null,
      "outputs": [
        {
          "output_type": "stream",
          "name": "stdout",
          "text": [
            "['apple', 'mango', 'orange']\n",
            "(1, 2, 3)\n",
            "{'a': 'apple', 'b': 'ball', 'c': 'cat'}\n",
            "{'a', 'e', 'i', 'u', 'o'}\n"
          ]
        }
      ]
    },
    {
      "cell_type": "markdown",
      "source": [
        "### Python Constants\n",
        "A constant is a special type of variable whose value cannot be changed.\n",
        "\n",
        "In Python, constants are usually declared and assigned in a module (a new file containing variables, functions, etc which is imported to the main file).\n",
        "\n",
        "Let's see how we declare constants in separate file and use it in the main file,\n",
        "\n",
        "Constant is a variable or value that does not change, which means it remains the same and cannot be modified. But in the case of Python, the constant concept is not applicable. By convention, we can use only uppercase characters to define the constant variable if we don’t want to change it\n",
        "\n",
        "MAX_VALUE = 500\n",
        "\n",
        "\n",
        "Create a constant.py:\n",
        "# declare constants\n",
        "PI = 3.14\n",
        "GRAVITY = 9.8\n",
        "\n",
        "# import constant file we created above\n",
        "import constant\n",
        "\n",
        "print(constant.PI) # prints 3.14\n",
        "print(constant.GRAVITY) # prints 9.8"
      ],
      "metadata": {
        "id": "yZ3dDxSMU5hw"
      }
    },
    {
      "cell_type": "markdown",
      "source": [
        "Create a main.py"
      ],
      "metadata": {
        "id": "LNhEeQjSU9gJ"
      }
    },
    {
      "cell_type": "markdown",
      "source": [
        "Variable’s case-sensitive\n",
        "Python is a case-sensitive language. If we define a variable with names a = 100 and A =200 then, Python differentiates between a and A. These variables are treated as two different variables (or objects)."
      ],
      "metadata": {
        "id": "nPI83GMXVa5H"
      }
    },
    {
      "cell_type": "code",
      "source": [
        "a = 100\n",
        "A = 200\n",
        "\n",
        "# value of a\n",
        "print(a)  # 100\n",
        "# Value of A\n",
        "print(A)  # 200\n",
        "\n",
        "a = a + A\n",
        "print(a)  # 300"
      ],
      "metadata": {
        "colab": {
          "base_uri": "https://localhost:8080/"
        },
        "id": "3KV6pDFOVcQQ",
        "outputId": "1ab7ab4e-0549-4932-efc0-9583846f8357"
      },
      "execution_count": null,
      "outputs": [
        {
          "output_type": "stream",
          "name": "stdout",
          "text": [
            "100\n",
            "200\n",
            "300\n"
          ]
        }
      ]
    },
    {
      "cell_type": "markdown",
      "source": [
        "## Scope Variables\n",
        "\n",
        "The scope defines the accessibility of the python object. To access the particular variable in the code, the scope must be defined as it cannot be accessed from anywhere in the program. The particular coding region where variables are visible is known as scope. Variables are not visible to the entire code; their visibility can be restricted. Scope verifies which variable can be ‘Seen’. The scope defines the set of rules which tell us how and where a variable can be searched. The variable is searched either to retrieve a value or for assigning value. The namespace is the unique identification of the variable or the method. Namespace tells the python interpreter about the name of the object and the location from where it is trying to access it.\n",
        "\n",
        "The Namespaces are searched for scope resolution according to the LEGB rule. The LEGB stands for :L: Local, E: Enclosed, G: Global, B: Built-in. The sequence of LEGB is important. The variable is first searched in Local, followed by Enclosed, then global and finally built-in\n",
        "\n"
      ],
      "metadata": {
        "id": "BBimlKaGYLhf"
      }
    },
    {
      "cell_type": "markdown",
      "source": [
        "<a><img src=\"https://static.wixstatic.com/media/187085_fd6cb87f60814e449fb92e075bef7ae4~mv2.png\" width=\"80%\" height=\"80%\" /></a>\n",
        "\n"
      ],
      "metadata": {
        "id": "GwLA0ShfYPRd"
      }
    },
    {
      "cell_type": "markdown",
      "source": [
        "#### Local Scope\n",
        "The Variables which are defined in the function are a local scope of the variable. These variables are defined in the function body. Let’s understand this concept with the help of an example. In this example 1, we have taken one variable num. Num = 0 is defined outside the function, so it is not a local variable. As per our definition, the variables which are declared inside the function body is a local variable.\n",
        "\n",
        "A local variable is a variable that is accessible inside a block of code only where it is declared. That means, If we declare a variable inside a method, the scope of the local variable is limited to the method only. So it is not accessible from outside of the method. If we try to access it, we will get an error.\n"
      ],
      "metadata": {
        "id": "xhRC6ueDYtDS"
      }
    },
    {
      "cell_type": "code",
      "source": [
        "num=0\n",
        "def demo():\n",
        "    #print(num)\n",
        "    num=1\n",
        "    print(\"The Number is:\",num)\n",
        "demo()"
      ],
      "metadata": {
        "colab": {
          "base_uri": "https://localhost:8080/"
        },
        "id": "RAY83l6RZCiz",
        "outputId": "13bdf529-8d54-42ad-dffa-fd530573df34"
      },
      "execution_count": null,
      "outputs": [
        {
          "output_type": "stream",
          "name": "stdout",
          "text": [
            "The Number is: 1\n"
          ]
        }
      ]
    },
    {
      "cell_type": "markdown",
      "source": [
        "#### Global Scope\n",
        "A Global variable is a variable that is defined outside of the method (block of code). That is accessible anywhere in the code file.\n",
        "\n",
        "The Variable which can be read from anywhere in the program is known as a global scope. These variables can be accessed inside and outside the function. When we want to use the same variable in the rest of the program, we declare it as global.\n",
        "\n",
        "In the following Example 1, we have declared a variable Str, which is outside the function. The function demo is called, and it prints the value of variable Str. To use a global variable inside a function, there is no need to use the global keyword."
      ],
      "metadata": {
        "id": "eZ07KMGxZLWE"
      }
    },
    {
      "cell_type": "code",
      "source": [
        "def demo():\n",
        "    print(Str)\n",
        "# Global\n",
        "Str = \"You are Gammer\"\n",
        "demo()"
      ],
      "metadata": {
        "colab": {
          "base_uri": "https://localhost:8080/"
        },
        "id": "VcU7Z4X6ZUMm",
        "outputId": "bb42bb0f-6729-4477-b895-9cb8e61c1eb4"
      },
      "execution_count": null,
      "outputs": [
        {
          "output_type": "stream",
          "name": "stdout",
          "text": [
            "You are Gammer\n"
          ]
        }
      ]
    },
    {
      "cell_type": "markdown",
      "source": [
        "#### NonLocal or Enclosing Scope\n",
        "Nonlocal Variable is the variable that is defined in the nested function. It means the variable can be neither in the local scope nor in the global scope. To create a nonlocal variable nonlocal keyword is used.  In the following code, we created an outer function, and there is a nested function inner(). In the scope of outer() function inner() function is defined. If we change the nonlocal variable as defined in the inner() function, then changes are reflected in the outer function."
      ],
      "metadata": {
        "id": "WkN0ptCNZeEm"
      }
    },
    {
      "cell_type": "code",
      "source": [
        "def func_outer():\n",
        "    x = \"local\"\n",
        "    def func_inner():\n",
        "        nonlocal x\n",
        "        x = \"nonlocal\"\n",
        "        print(\"inner:\", x)\n",
        "    func_inner()\n",
        "    print(\"outer:\", x)\n",
        "func_outer()"
      ],
      "metadata": {
        "colab": {
          "base_uri": "https://localhost:8080/"
        },
        "id": "-6QNTAibZhw9",
        "outputId": "fb3eb198-4fd6-444d-9988-a003c4ce9cb1"
      },
      "execution_count": null,
      "outputs": [
        {
          "output_type": "stream",
          "name": "stdout",
          "text": [
            "inner: nonlocal\n",
            "outer: nonlocal\n"
          ]
        }
      ]
    },
    {
      "cell_type": "code",
      "source": [
        "def func_outer():\n",
        "    a = \"local\"\n",
        "    def func_inner():\n",
        "        #nonlocal a\n",
        "        a = \"nonlocal\"\n",
        "        print(\"inner:\", a)\n",
        "    func_inner()\n",
        "    print(\"outer:\", a)\n",
        "func_outer()"
      ],
      "metadata": {
        "colab": {
          "base_uri": "https://localhost:8080/"
        },
        "id": "TOB-WQ-TZk0H",
        "outputId": "694e7e39-c925-40b3-ae11-6755e969c5c3"
      },
      "execution_count": null,
      "outputs": [
        {
          "output_type": "stream",
          "name": "stdout",
          "text": [
            "inner: nonlocal\n",
            "outer: local\n"
          ]
        }
      ]
    },
    {
      "cell_type": "markdown",
      "source": [
        "#### Built-in Scope\n",
        "If a Variable is not defined in local, Enclosed or global scope, then python looks for it in the built-in scope. In the Following Example, 1 from math module pi is imported, and the value of pi is not defined in global, local and enclosed. Python then looks for the pi value in the built-in scope and prints the value. Hence the name which is already present in the built-in scope should not be used as an identifier."
      ],
      "metadata": {
        "id": "fGti8G4qZoN7"
      }
    },
    {
      "cell_type": "code",
      "source": [
        "# Built-in Scope\n",
        "from math import pi\n",
        "# pi = 'Not defined in global pi'\n",
        "def func_outer():\n",
        "    # pi = 'Not defined in outer pi'\n",
        "    def inner():\n",
        "        # pi = 'not defined in inner pi'\n",
        "        print(pi)\n",
        "    inner()\n",
        "func_outer()"
      ],
      "metadata": {
        "colab": {
          "base_uri": "https://localhost:8080/"
        },
        "id": "oYLV3XIXZr19",
        "outputId": "65976a34-5fb6-4cef-97fb-6c7a0739408f"
      },
      "execution_count": null,
      "outputs": [
        {
          "output_type": "stream",
          "name": "stdout",
          "text": [
            "3.141592653589793\n"
          ]
        }
      ]
    },
    {
      "cell_type": "markdown",
      "source": [
        "#3. Operators\n",
        "\n",
        "Operators are used to perform operations on values and variables. The Python operators are classified into seven different categories:\n",
        "\n",
        "* Assignment operators\n",
        "* Arithmetic operators\n",
        "* Bitwise operators\n",
        "* Logical operators\n",
        "* Comparison and Relational operators\n",
        "* Identity operators\n",
        "* Membership operators\n"
      ],
      "metadata": {
        "id": "iydmsqXwbOOe"
      }
    },
    {
      "cell_type": "markdown",
      "source": [
        "<a><img src=\"https://static.wixstatic.com/media/187085_9908db0670d54a658e2efed74fb3ee83~mv2.png\" width=\"80%\" height=\"80%\" /></a>"
      ],
      "metadata": {
        "id": "KlAUZfyDl4SJ"
      }
    },
    {
      "cell_type": "markdown",
      "source": [
        "### Assignment Operators\n",
        "Assignment operators are used to assign new values to variables.\n",
        "\n",
        "Python Assignment operators\n",
        "\n",
        "| Oerator | Meaning | Example | Equivatent to |\n",
        "| :--- | :---: | :--- | :--- |\n",
        "|= |\tAssignment, Assigns right side operands to left variable|\tx = 3|\tx = 3|\n",
        "|+=|\tAddition assignment, Added and assign back the result to left operand|\tx += 3|\tx = x + 3|\n",
        "|-=|\tSubtraction assignment, Substracted and assign back the result to left operand|\tx -= 3|\tx = x – 3|\n",
        "|*=|\tMultiplication assignment, Multiplied and assign back the result to left operand | \tx *= 3|\tx = x * 3|\n",
        "|/=|\tDivision assignment, Divide and assign back the result to left operand|\tx /= 3|\tx = x / 3|\n",
        "|%=|\tModulus assignment, Taken modulos (rameinder) using two operans and assigna the result to left operand|\tx %= 3|\tx = x % 3|\n",
        "|//=|\tFloor division assignment|\tx //= 3\t|x = x // 3|\n",
        "|**=|\tExponentiation assignment|\tx **= 3\t|x = x ** 3|\n",
        "|&=|\tBitwise AND assignment|\tx &= 3|\tx = x & 3|\n",
        "|  !=|\tBitwise OR assignment|\tx |= 3|\tx = x | 3|\n",
        "|^=|\tBitwise XOR assignment|\tx ^= 3|\tx = x ^ 3|\n",
        "|>>=|\tBitwise right shift assignment|\tx >>= 3\t|x = x >> 3|\n",
        "|<<=\t|Bitwise left shift assignment|\tx <<= 3\t|x = x << 3|\n"
      ],
      "metadata": {
        "id": "HUplATeNo68X"
      }
    },
    {
      "cell_type": "code",
      "source": [
        "a = 5\n",
        "print(\"a = 5 is \", a)\n",
        "a += 20\n",
        "print(\"a += 20 is \", a)\n",
        "a -= 5\n",
        "print(\"a -= 5 is \", a)\n",
        "a *= 6\n",
        "print(\"a *= 6 is \", a)\n",
        "a /= 2\n",
        "print(\"a /= 2 is \", a)\n",
        "a %= 4\n",
        "print(\"a %= 4 is \", a)\n",
        "\n",
        "# The output for the above program will be as follows.\n",
        "#a = 5 is 5\n",
        "#a += 20 is 25\n",
        "#a -= 5 is 20\n",
        "#a *= 6 is 120\n",
        "#a /= 2 is 60.0\n",
        "#a %= 4 is 0.0"
      ],
      "metadata": {
        "colab": {
          "base_uri": "https://localhost:8080/"
        },
        "id": "s9KS_BFCp3oT",
        "outputId": "13633a13-3d2c-45da-bb66-e02c74daec7f"
      },
      "execution_count": null,
      "outputs": [
        {
          "output_type": "stream",
          "name": "stdout",
          "text": [
            "a = 5 is  5\n",
            "a += 20 is  25\n",
            "a -= 5 is  20\n",
            "a *= 6 is  120\n",
            "a /= 2 is  60.0\n",
            "a %= 4 is  0.0\n"
          ]
        }
      ]
    },
    {
      "cell_type": "markdown",
      "source": [
        "### Arithmetic Operators\n",
        "Arithmetic operators are used to perform simple mathematical operations on numeric values (except complex).\n",
        "\n",
        "Python Arithmetic operators\n",
        "\n",
        "| Operator | Meaning | Example  |\n",
        "| :--- | :---: | :--- |\n",
        "+\t|  Addition To add two operands\t| x + y\n",
        "–\t| Subtraction, To substract the right operand from the left operand\t| x – y\n",
        "*\t| Multiplication, To multiply one operand with thw other| \tx * y\n",
        "/| \tDivision, To divide the left operand by the right operand| x / y\n",
        "%\t| Modulus, Gives rameinder after dividing x from y\t| x % y\n",
        "**| \tExponentiation, To get the exponent of the left operand raised to the power of the right operand, ignere the decimal value if present | \tx ** y\n",
        "//| \tFloor division, To divide the left operand by the right operand and get the floor value of the quotient| \tx // y\n"
      ],
      "metadata": {
        "id": "2XtJRCd6l7FE"
      }
    },
    {
      "cell_type": "code",
      "source": [
        "x = 6\n",
        "y = 2\n",
        "\n",
        "# addition\n",
        "print(x + y)\t\t# 8\n",
        "\n",
        "# subtraction\n",
        "print(x - y)\t\t# 4\n",
        "\n",
        "# multiplication\n",
        "print(x * y)\t\t# 12\n",
        "\n",
        "# division\n",
        "print(x / y)\t\t# 3\n",
        "\n",
        "# modulus\n",
        "print(x % y)\t\t# 0\n",
        "\n",
        "# exponentiation\n",
        "print(x ** y)\t\t# 36\n",
        "\n",
        "# floor division\n",
        "print(x // y)\t\t# 3"
      ],
      "metadata": {
        "colab": {
          "base_uri": "https://localhost:8080/"
        },
        "id": "zXp5EUk9oFke",
        "outputId": "51bd2573-3d4f-4b68-bfee-2bb6b4fece51"
      },
      "execution_count": null,
      "outputs": [
        {
          "output_type": "stream",
          "name": "stdout",
          "text": [
            "8\n",
            "4\n",
            "12\n",
            "3.0\n",
            "0\n",
            "36\n",
            "3\n"
          ]
        }
      ]
    },
    {
      "cell_type": "code",
      "source": [
        "a = 10\n",
        "\n",
        "b = 4\n",
        "\n",
        "print('a+b = ', a+b)\n",
        "\n",
        "print('a-b = ', a-b)\n",
        "\n",
        "print('a*b = ', a*b)\n",
        "\n",
        "print('a/b = ', a/b)\n",
        "\n",
        "print('a%b = ', a%b)\n",
        "\n",
        "print('a//b = ', a//b)\n",
        "\n",
        "print('a**b = ', a**b)\n",
        "\n",
        "# Here is the output for the above program,\n",
        "# a+b = 14\n",
        "# a-b = 6\n",
        "# a*b = 40\n",
        "# a/b = 2.5\n",
        "# a%b = 0.4\n",
        "# a//b = 2\n",
        "# a**b = 10000"
      ],
      "metadata": {
        "colab": {
          "base_uri": "https://localhost:8080/"
        },
        "id": "jQz-kBcvoHLB",
        "outputId": "cb0b3657-ee8d-4465-e665-cd12cfed54cb"
      },
      "execution_count": null,
      "outputs": [
        {
          "output_type": "stream",
          "name": "stdout",
          "text": [
            "a+b =  14\n",
            "a-b =  6\n",
            "a*b =  40\n",
            "a/b =  2.5\n",
            "a%b =  2\n",
            "a//b =  2\n",
            "a**b =  10000\n"
          ]
        }
      ]
    },
    {
      "cell_type": "markdown",
      "source": [
        "### Bitwise Operators\n",
        "Binary operators are used to perform bit-level operations on (binary) numbers.\n",
        "\n",
        "Python Bitwise operators\n",
        "\n",
        "| Oerator | Meaning | Example | Equivatent to |\n",
        "| :--- | :---: | :--- | :--- |\n",
        "|&|\tAND\t|x & y\n",
        "|!\t|OR\t|x ! y\n",
        "|^\t|XOR|\tx ^ y\n",
        "|~\t|NOT|\t~x\n",
        "|<<\t|Left shift|\tx << 2\n",
        "|>>\t|Right shift|\tx >> 2"
      ],
      "metadata": {
        "id": "DWELzcIsrXCX"
      }
    },
    {
      "cell_type": "code",
      "source": [
        "x = 0b1100\n",
        "y = 0b1010\n",
        "\n",
        "# and\n",
        "print(bin(x & y))\t    # 0b1000\n",
        "\n",
        "# or\n",
        "print(bin(x | y))\t    # 0b1110\n",
        "\n",
        "# xor\n",
        "print(bin(x ^ y))\t    # 0b0110\n",
        "\n",
        "# not\n",
        "print(bin(~x))\t\t    # -0b1101\n",
        "\n",
        "# shift 2 bits left\n",
        "print(bin(x << 2))\t    # 0b1100\n",
        "\n",
        "# shift 2 bits right\n",
        "print(bin(x >> 2))\t    # 0b0011"
      ],
      "metadata": {
        "colab": {
          "base_uri": "https://localhost:8080/"
        },
        "id": "54FuiAyor2q8",
        "outputId": "074b5b99-6578-4081-ce5c-da4f52da7821"
      },
      "execution_count": null,
      "outputs": [
        {
          "output_type": "stream",
          "name": "stdout",
          "text": [
            "0b1000\n",
            "0b1110\n",
            "0b110\n",
            "-0b1101\n",
            "0b110000\n",
            "0b11\n"
          ]
        }
      ]
    },
    {
      "cell_type": "code",
      "source": [
        "a = 10\n",
        "b = 5\n",
        "print('a&b =', a&b)\n",
        "print('a|b =', a|b)\n",
        "print('~a = ', ~a)\n",
        "print('a^b =', a^b)\n",
        "print('a>>1 = ', a>>1)\n",
        "print('a<<1 a=\"\" 1=\"\" p=\"\">')\n",
        "# The output for the above program will be as follows. Let me add the binary format for the output values for a better understanding.\n",
        "#a&b = 10 (0000 1010)\n",
        "#a|b = 13 (0000 1011)\n",
        "#~a = 5 (0000 0101)\n",
        "#a^b = 1 (0000 0001)\n",
        "#a >> 1 = 5 (0000 0101)\n",
        "#a << 1 = 22 (0001 0110)"
      ],
      "metadata": {
        "colab": {
          "base_uri": "https://localhost:8080/"
        },
        "id": "q1tPaXnuuYx_",
        "outputId": "b68ff6de-d2f0-4077-936a-9f6d72426e63"
      },
      "execution_count": null,
      "outputs": [
        {
          "output_type": "stream",
          "name": "stdout",
          "text": [
            "a&b = 0\n",
            "a|b = 15\n",
            "~a =  -11\n",
            "a^b = 15\n",
            "a>>1 =  5\n",
            "a<<1 a=\"\" 1=\"\" p=\"\">\n"
          ]
        }
      ]
    },
    {
      "cell_type": "markdown",
      "source": [
        "### Logical Operators\n",
        "Logical operators are used to join two or more conditions.\n",
        "\n",
        "Python Logical operators\n",
        "\n",
        "| Oerator | Meaning | Example | Equivatent to |\n",
        "| :--- | :---: | :--- | :--- |\n",
        "|and\t|Returns True if both statements are true|\tx > 0 and y < 0\n",
        "|or\t|Returns True if one of the statements is true|\tx > 0 or y < 0\n",
        "|not|\tReverse the result, returns False if the result is true|\tnot(x > 0 and y < 0)\n"
      ],
      "metadata": {
        "id": "770Y3PTNsJ4s"
      }
    },
    {
      "cell_type": "code",
      "source": [
        "x = 2\n",
        "y = -2\n",
        "\n",
        "# and\n",
        "print(x > 0 and y < 0)          # True\n",
        "\n",
        "# or\n",
        "print(x > 0 or y < 0)           # True\n",
        "\n",
        "# not\n",
        "print(not(x > 0 and y < 0))     # False"
      ],
      "metadata": {
        "colab": {
          "base_uri": "https://localhost:8080/"
        },
        "id": "Mt3KEAO1sZwa",
        "outputId": "14089bb8-7358-4559-cb7a-e7ab65df28f0"
      },
      "execution_count": null,
      "outputs": [
        {
          "output_type": "stream",
          "name": "stdout",
          "text": [
            "True\n",
            "True\n",
            "False\n"
          ]
        }
      ]
    },
    {
      "cell_type": "markdown",
      "source": [
        "To check if the operands satisfy a specific condition, we can use logical operators.It is mainly used for decision making.The following table explains the logical operators."
      ],
      "metadata": {
        "id": "4BVeEXTBuQ6v"
      }
    },
    {
      "cell_type": "markdown",
      "source": [
        "<a><img src=\"https://static.wixstatic.com/media/187085_e6f463209c2849c28433a87cff20a495~mv2.png\" width=\"80%\" height=\"80%\" /></a>\n"
      ],
      "metadata": {
        "id": "cTbbv6rouDpI"
      }
    },
    {
      "cell_type": "markdown",
      "source": [
        "### Relational Operators\n",
        "\n",
        "Comparison operators are used to compare two values.\n",
        "\n",
        "| Oerator | Meaning | Example | Equivatent to |\n",
        "| :--- | :---: | :--- | :--- |\n",
        "|==\t|Equal to\t|x == y\n",
        "|!=\t|Not equal to\t|x != y\n",
        "|>\t|Greater than\t|x > y\n",
        "|<\t|Less than\t|x < y\n",
        "|>=\t|Greater than or equal to|\tx >= y\n",
        "|<=|\tLess than or equal to\t|x <= y\n",
        "\n"
      ],
      "metadata": {
        "id": "j2blTtfqvn1q"
      }
    },
    {
      "cell_type": "code",
      "source": [
        "x = 6\n",
        "y = 2\n",
        "\n",
        "# equal to\n",
        "print(x == y)\t\t# False\n",
        "\n",
        "# not equal to\n",
        "print(x != y)\t\t# True\n",
        "\n",
        "# greater than\n",
        "print(x > y)\t\t# True\n",
        "\n",
        "# less than\n",
        "print(x < y)\t\t# False\n",
        "\n",
        "# greater than or equal to\n",
        "print(x >= y)\t\t# True\n",
        "\n",
        "# less than or equal to\n",
        "print(x <= y)\t\t# False"
      ],
      "metadata": {
        "id": "FdTQVQnWwDK-"
      },
      "execution_count": null,
      "outputs": []
    },
    {
      "cell_type": "markdown",
      "source": [
        "### Identity Operators\n",
        "\n",
        "Identity operators are used to check if two objects point to the same object, with the same memory location.\n",
        "\n",
        "Python Identity operators\n",
        "\n",
        "| Oerator | Meaning | Example | Equivatent to |\n",
        "| :--- | :---: | :--- | :--- |\n",
        "|is\t| Returns true if both variables are the same object\t| x is y\n",
        "| is  not\t| Returns true if both variables are not the same object| \tx is not y\n",
        "\n"
      ],
      "metadata": {
        "id": "UycKf_4Zwd_9"
      }
    },
    {
      "cell_type": "code",
      "source": [
        "a = [\"hello\", \"hi\"]\n",
        "\n",
        "b = [\"hello\", \"hi\"]\n",
        "\n",
        "c = a\n",
        "\n",
        "print(\"a is c = \", a is c)\n",
        "\n",
        "print(\"a is b = \", a is b)\n",
        "\n",
        "a = [1, 2]\n",
        "\n",
        "b = [1, 2]\n",
        "\n",
        "c = b\n",
        "\n",
        "print(\"a is not c = \", a is not c)\n",
        "\n",
        "print(\"b is not c = \", b is not c)\n",
        "\n",
        "#The following is the output for the above program.\n",
        "#a is c = True\n",
        "#a is b = False\n",
        "#a is not c = True\n",
        "#b is not c = False"
      ],
      "metadata": {
        "colab": {
          "base_uri": "https://localhost:8080/"
        },
        "id": "CwSayXCVw5XO",
        "outputId": "62a53d12-fa5b-4c17-bc06-2b06b3682fbd"
      },
      "execution_count": null,
      "outputs": [
        {
          "output_type": "stream",
          "name": "stdout",
          "text": [
            "a is c =  True\n",
            "a is b =  False\n",
            "a is not c =  True\n",
            "b is not c =  False\n"
          ]
        }
      ]
    },
    {
      "cell_type": "code",
      "source": [
        "x = [1, 2, 3]\n",
        "y = [1, 2, 3]\n",
        "\n",
        "# is\n",
        "print(x is y)\t\t# False\n",
        "\n",
        "# is not\n",
        "print(x is not y)\t# True"
      ],
      "metadata": {
        "colab": {
          "base_uri": "https://localhost:8080/"
        },
        "id": "LFs4T6vGxAAv",
        "outputId": "091a31ed-5642-4c09-c5de-e2316229f3f1"
      },
      "execution_count": null,
      "outputs": [
        {
          "output_type": "stream",
          "name": "stdout",
          "text": [
            "False\n",
            "True\n"
          ]
        }
      ]
    },
    {
      "cell_type": "markdown",
      "source": [
        "#4. Control Flow structures\n",
        "The flow control statements are divided into four categories\n",
        "\n",
        "Conditional statements\n",
        "Sequential\n",
        "Transfer statements\n",
        "Iterative statements.\n"
      ],
      "metadata": {
        "id": "skL3SlWoxb3w"
      }
    },
    {
      "cell_type": "markdown",
      "source": [
        "<a><img src=\"https://static.wixstatic.com/media/187085_79e99803a33641788250872d6fb30587~mv2.png\" width=\"80%\" height=\"80%\" /></a>\n"
      ],
      "metadata": {
        "id": "RiJipCC99MpD"
      }
    },
    {
      "cell_type": "markdown",
      "source": [
        "## Conditional statements\n",
        "In Python, condition statements act depending on whether a given condition is true or false. You can execute different blocks of codes depending on the outcome of a condition. Condition statements always evaluate to either True or False.\n",
        "\n",
        "There are three types of conditional statements.\n",
        "\n",
        "* if statement\n",
        "* if-else\n",
        "* if-elif-else\n",
        "* nested if-else"
      ],
      "metadata": {
        "id": "rhApYIxI99Ol"
      }
    },
    {
      "cell_type": "markdown",
      "source": [
        "## If\n",
        "\n",
        "In control statements, The if statement is the simplest form. It takes a condition and evaluates to either True or False.\n",
        "\n",
        "The if statement contains an expression/condition. As per the syntax colon (:) is mandatory otherwise it throws a syntax error. The condition gives the result as a bool type, either True or False. If the condition result is True, then if block statements will be executed. If the condition result is False, then if block statements won‟t execute\n",
        "\n",
        "\n",
        "If the condition is True, then the True block of code will be executed, and if the condition is False, then the block of code is skipped, and The controller moves to the next line\n",
        "\n"
      ],
      "metadata": {
        "id": "3Y8W5If1_usf"
      }
    },
    {
      "cell_type": "code",
      "source": [
        "#Sintax\n",
        "#if condition:\n",
        "#     statement 1\n",
        "#     statement 2\n",
        "#     statement n"
      ],
      "metadata": {
        "id": "Ypp5A-b8ApAn"
      },
      "execution_count": null,
      "outputs": []
    },
    {
      "cell_type": "markdown",
      "source": [
        "<a><img src=\"https://static.wixstatic.com/media/187085_fec05c86bae444eebfe8680abe5d8fc8~mv2.png\" width=\"80%\" height=\"80%\" /></a>\n"
      ],
      "metadata": {
        "id": "gqb6rith_0p_"
      }
    },
    {
      "cell_type": "code",
      "source": [
        "num = 1\n",
        "print(\"num==1 condition gives: \", (num==1))\n",
        "if num == 1:\n",
        "       print(\"if block statements executed\")"
      ],
      "metadata": {
        "colab": {
          "base_uri": "https://localhost:8080/"
        },
        "id": "0pPavo---JnK",
        "outputId": "36604b16-48e3-4d14-b42b-e85a7d2529bf"
      },
      "execution_count": null,
      "outputs": [
        {
          "output_type": "stream",
          "name": "stdout",
          "text": [
            "num==1 condition gives:  True\n",
            "if block statements executed\n"
          ]
        }
      ]
    },
    {
      "cell_type": "code",
      "source": [
        "num = 1\n",
        "print(\"num==2 condition gives: \", (num==1))\n",
        "if num == 2:\n",
        "       print(\"if block statements executed\")\n",
        "print(\"out of if block statements\")"
      ],
      "metadata": {
        "colab": {
          "base_uri": "https://localhost:8080/"
        },
        "id": "kbhI2S_X-JcP",
        "outputId": "7e1588f9-b2df-49a5-d196-e651f701642b"
      },
      "execution_count": null,
      "outputs": [
        {
          "output_type": "stream",
          "name": "stdout",
          "text": [
            "num==2 condition gives:  True\n",
            "out of if block statements\n"
          ]
        }
      ]
    },
    {
      "cell_type": "markdown",
      "source": [
        "## if -else statement\n",
        "\n",
        "The if statement contains an expression/condition. As per the syntax colon (:) is mandatory after the condition and after the else otherwise it throws a syntax error. The condition gives the result as bool type, which means either True or False. If the condition result is True, then if block statements will be executed. If the condition result is False, then else block statements will be executed.\n",
        "\n",
        "The if-else statement checks the condition and executes the if block of code when the condition is True, and if the condition is False, it will execute the else block of code."
      ],
      "metadata": {
        "id": "bt4VXPFeBZ9V"
      }
    },
    {
      "cell_type": "code",
      "source": [
        "# Sintax\n",
        "# if condition:\n",
        "#    statement 1\n",
        "# else:\n",
        "#    statement 2"
      ],
      "metadata": {
        "id": "OQhD5FdD-JHA"
      },
      "execution_count": null,
      "outputs": []
    },
    {
      "cell_type": "code",
      "source": [
        "num = 1\n",
        "print(\"num==1 condition gives: \", (num==1))\n",
        "if num == 1:\n",
        "       print(\"if block statements executed\")\n",
        "else:\n",
        "       print(\"else block statements executed\")"
      ],
      "metadata": {
        "colab": {
          "base_uri": "https://localhost:8080/"
        },
        "id": "ZBqjy_IL-IK6",
        "outputId": "08cb582c-a396-4e46-b12c-61b6fe2c1d1c"
      },
      "execution_count": null,
      "outputs": [
        {
          "output_type": "stream",
          "name": "stdout",
          "text": [
            "num==1 condition gives:  True\n",
            "if block statements executed\n"
          ]
        }
      ]
    },
    {
      "cell_type": "code",
      "source": [
        "x=10\n",
        "y=20\n",
        "if x > y :\n",
        "  print(\" X is bigger \")\n",
        "else :\n",
        "  print(\" Y is bigger \")"
      ],
      "metadata": {
        "colab": {
          "base_uri": "https://localhost:8080/"
        },
        "id": "UbMthlaICUJ0",
        "outputId": "39574479-13f7-4cc1-dde7-0353488c7851"
      },
      "execution_count": null,
      "outputs": [
        {
          "output_type": "stream",
          "name": "stdout",
          "text": [
            " Y is bigger \n"
          ]
        }
      ]
    },
    {
      "cell_type": "markdown",
      "source": [
        "## if..elif..else statement\n",
        "\n",
        "The if statement contains an expression/condition. As per the syntax colon (:) is mandatory after each condition and after the else otherwise it throws a syntax error. The condition gives the result as bool type, which means either True or False. The conditions are evaluated in the order written. If one condition becomes True then the set of statements associated with that particular condition are executed and the execution comes out without checking other conditions.\n",
        "\n",
        "In Python, the if-elif-else condition statement has an elif blocks to chain multiple conditions one after another. This is useful when you need to check multiple conditions.\n",
        "\n",
        "With the help of if-elif-else we can make a tricky decision. The elif statement checks multiple conditions one by one and if the condition fulfills, then executes that code"
      ],
      "metadata": {
        "id": "ucJ7vtYNCXrn"
      }
    },
    {
      "cell_type": "markdown",
      "source": [
        "<a><img src=\"https://static.wixstatic.com/media/187085_f8a3f56072534d34b558956fdf5311fb~mv2.png\" width=\"80%\" height=\"80%\" /></a>\n",
        "\n"
      ],
      "metadata": {
        "id": "VuJ90I4SDyFb"
      }
    },
    {
      "cell_type": "code",
      "source": [
        "#sintax\n",
        "#if condition-1:\n",
        "#     statement 1\n",
        "#elif condition-2:\n",
        "#     stetement 2\n",
        "#elif condition-3:\n",
        "#     stetement 3\n",
        "#     ...\n",
        "#else:\n",
        "#     statement"
      ],
      "metadata": {
        "id": "5mhym2hRCzTR"
      },
      "execution_count": null,
      "outputs": []
    },
    {
      "cell_type": "code",
      "source": [
        "print(\"Please enter the values from 0 to 4\")\n",
        "x=int(input(\"Enter a number: \"))\n",
        "if x==0:\n",
        "       print(\"You entered:\", x)\n",
        "elif x==1:\n",
        "       print(\"You entered:\", x)\n",
        "elif x==2:\n",
        "       print(\"You entered:\", x)\n",
        "elif x==3:\n",
        "       print(\"You entered:\", x)\n",
        "elif x==4:\n",
        "       print(\"You entered:\", x)\n",
        "else:\n",
        "       print(\"Beyond the range than specified\")"
      ],
      "metadata": {
        "colab": {
          "base_uri": "https://localhost:8080/"
        },
        "id": "IcpLmWDoCvcA",
        "outputId": "754450ec-85f2-4c6c-acfc-82fa1f12ee39"
      },
      "execution_count": null,
      "outputs": [
        {
          "output_type": "stream",
          "name": "stdout",
          "text": [
            "Please enter the values from 0 to 4\n",
            "Enter a number: 4\n",
            "You entered: 4\n"
          ]
        }
      ]
    },
    {
      "cell_type": "code",
      "source": [
        "x=500\n",
        "if x > 500 :\n",
        "  print(\" X is greater than 500 \")\n",
        "elif x < 500 :\n",
        "  print(\" X is less than 500 \")\n",
        "elif x == 500 :\n",
        "  print(\" X is 500 \")\n",
        "else :\n",
        "  print(\" X is not a number \")"
      ],
      "metadata": {
        "colab": {
          "base_uri": "https://localhost:8080/"
        },
        "id": "qIt4TXiHC95Z",
        "outputId": "f2a7e16e-5a0a-4e90-aa98-02504f96330d"
      },
      "execution_count": null,
      "outputs": [
        {
          "output_type": "stream",
          "name": "stdout",
          "text": [
            " X is 500 \n"
          ]
        }
      ]
    },
    {
      "cell_type": "markdown",
      "source": [
        "## Nested if-else statement\n",
        "In Python, the nested if-else statement is an if statement inside another if-else statement. It is allowed in Python to put any number of if statements in another if statement.\n",
        "\n",
        "In some situations you have to place an if statement inside another statement\n",
        "\n",
        "Indentation is the only way to differentiate the level of nesting. The nested if-else is useful when we want to make a series of decisions."
      ],
      "metadata": {
        "id": "uzo_s0vtExwf"
      }
    },
    {
      "cell_type": "code",
      "source": [
        "# Sintax\n",
        "#if conditon_outer:\n",
        "#    if condition_inner:\n",
        "#        statement of inner if\n",
        "#    else:\n",
        "#        statement of inner else:\n",
        "#    statement ot outer if\n",
        "#else:\n",
        "#    Outer else\n",
        "#statement outside if block"
      ],
      "metadata": {
        "id": "hv1iSyU1-TIq"
      },
      "execution_count": null,
      "outputs": []
    },
    {
      "cell_type": "code",
      "source": [
        "num1 = int(input('Enter first number '))\n",
        "num2 = int(input('Enter second number '))\n",
        "\n",
        "if num1 >= num2:\n",
        "    if num1 == num2:\n",
        "        print(num1, 'and', num2, 'are equal')\n",
        "    else:\n",
        "        print(num1, 'is greater than', num2)\n",
        "else:\n",
        "    print(num1, 'is smaller than', num2)"
      ],
      "metadata": {
        "colab": {
          "base_uri": "https://localhost:8080/"
        },
        "id": "pcpgRyjs-Tm5",
        "outputId": "eee6965f-f504-4cd2-cbba-0634cd7c1d39"
      },
      "execution_count": null,
      "outputs": [
        {
          "output_type": "stream",
          "name": "stdout",
          "text": [
            "Enter first number 72\n",
            "Enter second number 80\n",
            "72 is smaller than 80\n"
          ]
        }
      ]
    },
    {
      "cell_type": "markdown",
      "source": [
        "## Iterative statements\n",
        "In Python, iterative statements allow us to execute a block of code repeatedly as long as the condition is True. We also call it a loop statements.\n",
        "\n",
        "Python provides us the following two loop statement to perform some actions repeatedly\n",
        "\n",
        "* for loop\n",
        "* while loop"
      ],
      "metadata": {
        "id": "q3c_3fn9-KUM"
      }
    },
    {
      "cell_type": "markdown",
      "source": [
        "<a><img src=\"https://static.wixstatic.com/media/187085_243b12c6512f43328178ede1eeef1625~mv2.png\" width=\"80%\" height=\"80%\" /></a>\n",
        "\n"
      ],
      "metadata": {
        "id": "uJfP0jb0IA-y"
      }
    },
    {
      "cell_type": "markdown",
      "source": [
        "### For\n",
        "\n",
        "The for statement in Python is a bit different from what you usually use in other programming languages.\n",
        "\n",
        "Rather than iterating over a numeric progression, Python’s for statement iterates over the items of any iterable (list, tuple, dictionary, set, or string). The items are iterated in the order that they appear in the iterable.\n"
      ],
      "metadata": {
        "id": "OBPQIsQwJ6FV"
      }
    },
    {
      "cell_type": "code",
      "source": [
        "# Iterate through a list\n",
        "colors = ['red', 'green', 'blue', 'yellow']\n",
        "for x in colors:\n",
        "    print(x)\n",
        "# Prints red green blue yellow"
      ],
      "metadata": {
        "colab": {
          "base_uri": "https://localhost:8080/"
        },
        "id": "xshWEXLfKIry",
        "outputId": "30e64cae-6c5f-41ba-b8f6-27e39881d8c7"
      },
      "execution_count": null,
      "outputs": [
        {
          "output_type": "stream",
          "name": "stdout",
          "text": [
            "red\n",
            "green\n",
            "blue\n",
            "yellow\n"
          ]
        }
      ]
    },
    {
      "cell_type": "code",
      "source": [
        "# Iterate through a string\n",
        "S = 'python'\n",
        "for x in S:\n",
        "    print(x)\n",
        "# Prints p y t h o n"
      ],
      "metadata": {
        "colab": {
          "base_uri": "https://localhost:8080/"
        },
        "id": "3tRs6ABFKLdc",
        "outputId": "5b7ae5fd-77d2-4b66-8960-18430794ab57"
      },
      "execution_count": null,
      "outputs": [
        {
          "output_type": "stream",
          "name": "stdout",
          "text": [
            "p\n",
            "y\n",
            "t\n",
            "h\n",
            "o\n",
            "n\n"
          ]
        }
      ]
    },
    {
      "cell_type": "markdown",
      "source": [
        "Else in for Loop\n",
        "Python allows an optional else clause at the end of a for loop. The else clause will be executed if the loop terminates naturally (through exhaustion)."
      ],
      "metadata": {
        "id": "d9q8cePBKjjf"
      }
    },
    {
      "cell_type": "code",
      "source": [
        "colors = ['red', 'green', 'blue', 'yellow']\n",
        "for x in colors:\n",
        "    print(x)\n",
        "else:\n",
        "    print('Done!')\n",
        "# Prints red green blue yellow\n",
        "# Prints Done!"
      ],
      "metadata": {
        "id": "XAH4G_TqKiqn"
      },
      "execution_count": null,
      "outputs": []
    },
    {
      "cell_type": "code",
      "source": [
        "digits = [0, 1, 5]\n",
        "\n",
        "for i in digits:\n",
        "    print(i)\n",
        "else:\n",
        "    print(\"No items left.\")"
      ],
      "metadata": {
        "id": "dv2p_E5GMtWZ"
      },
      "execution_count": null,
      "outputs": []
    },
    {
      "cell_type": "markdown",
      "source": [
        "range() function in for loop\n",
        "If you need to execute a group of statements for a specified number of times, use built-in function range().\n",
        "\n",
        "The range(start,stop,step) function generates a sequence of numbers from 0 up to (but not including) specified number."
      ],
      "metadata": {
        "id": "-6_juYkHKu0X"
      }
    },
    {
      "cell_type": "code",
      "source": [
        "# Generate a sequence of numbers from 0 6\n",
        "for x in range(7):\n",
        "    print(x)\n",
        "# Prints 0 1 2 3 4 5 6"
      ],
      "metadata": {
        "id": "SDe4v76IKv3k"
      },
      "execution_count": null,
      "outputs": []
    },
    {
      "cell_type": "code",
      "source": [
        "# Print 'Hello!' three times\n",
        "for x in range(3):\n",
        "    print('Hello!')\n",
        "# Prints Hello!\n",
        "# Prints Hello!\n",
        "# Prints Hello!"
      ],
      "metadata": {
        "id": "3NEU05k4Kx2P"
      },
      "execution_count": null,
      "outputs": []
    },
    {
      "cell_type": "code",
      "source": [
        "# Generate a sequence of numbers from 2 to 6\n",
        "for x in range(2, 7):\n",
        "    print(x)\n",
        "# Prints 2 3 4 5 6"
      ],
      "metadata": {
        "id": "qnGDHCXFK2Jx"
      },
      "execution_count": null,
      "outputs": []
    },
    {
      "cell_type": "code",
      "source": [
        "for x in range(-5,0):\n",
        "    print(x)\n",
        "# Prints -5 -4 -3 -2 -1"
      ],
      "metadata": {
        "colab": {
          "base_uri": "https://localhost:8080/"
        },
        "id": "KC_RT2INK6Ol",
        "outputId": "06a03bbb-46ad-420e-f656-9c47a51b5023"
      },
      "execution_count": null,
      "outputs": [
        {
          "output_type": "stream",
          "name": "stdout",
          "text": [
            "-5\n",
            "-4\n",
            "-3\n",
            "-2\n",
            "-1\n"
          ]
        }
      ]
    },
    {
      "cell_type": "code",
      "source": [
        "# Increment the range with 2\n",
        "for x in range(2, 7, 2):\n",
        "    print(x)\n",
        "# Prints 2 4 6"
      ],
      "metadata": {
        "id": "sVQC7q2sK8wW"
      },
      "execution_count": null,
      "outputs": []
    },
    {
      "cell_type": "code",
      "source": [
        "# Flatten a nested list\n",
        "list = [[1, 2, 3],[4, 5, 6],[7, 8, 9]]\n",
        "for sublist in list:\n",
        "    for number in sublist:\n",
        "        print(number)\n",
        "# Prints 1 2 3 4 5 6 7 8 9"
      ],
      "metadata": {
        "id": "SBN7pxdULCB_"
      },
      "execution_count": null,
      "outputs": []
    },
    {
      "cell_type": "code",
      "source": [],
      "metadata": {
        "id": "fdu6T3DlLBz0"
      },
      "execution_count": null,
      "outputs": []
    },
    {
      "cell_type": "markdown",
      "source": [
        "Access Index in for Loop\n",
        "To iterate over the indices of a sequence, you can combine range() and len() as follows:"
      ],
      "metadata": {
        "id": "INJ4MVw1LLoJ"
      }
    },
    {
      "cell_type": "code",
      "source": [
        "colors = ['red', 'green', 'blue']\n",
        "for index in range(len(colors)):\n",
        "    print(index, colors[index])\n",
        "# Prints 0 red\n",
        "# Prints 1 green\n",
        "# Prints 2 blue"
      ],
      "metadata": {
        "id": "YG53WG3gLKce"
      },
      "execution_count": null,
      "outputs": []
    },
    {
      "cell_type": "markdown",
      "source": [
        "### While\n",
        "\n",
        "A while loop is used when you want to perform a task indefinitely, until a particular condition is met. It’s a condition-controlled loop.\n",
        "\n",
        "Any non-zero value or nonempty container is considered TRUE; whereas Zero, None, and empty container is considered FALSE.\n",
        "\n"
      ],
      "metadata": {
        "id": "pPY9zofELUyi"
      }
    },
    {
      "cell_type": "markdown",
      "source": [
        "Nested for Loop\n",
        "A loop inside another loop is called a nested loop."
      ],
      "metadata": {
        "id": "LKRs22YtK_iN"
      }
    },
    {
      "cell_type": "code",
      "source": [
        "# Iterate until x becomes 0\n",
        "x = 6\n",
        "while x:\n",
        "    print(x)\n",
        "    x -= 1\n",
        "# Prints 6 5 4 3 2 1"
      ],
      "metadata": {
        "id": "nFIp-Wp0Lfty"
      },
      "execution_count": null,
      "outputs": []
    },
    {
      "cell_type": "code",
      "source": [
        "# Iterate until list is empty\n",
        "L = ['red', 'green', 'blue']\n",
        "while L:\n",
        "    print(L.pop())\n",
        "# Prints blue green red"
      ],
      "metadata": {
        "id": "akFIHpDbLhhh"
      },
      "execution_count": null,
      "outputs": []
    },
    {
      "cell_type": "code",
      "source": [
        "# Iterate until string is empty\n",
        "x = 'blue'\n",
        "while x:\n",
        "    print(x)\n",
        "    x = x[1:]\n",
        "# Prints blue\n",
        "# Prints lue\n",
        "# Prints ue\n",
        "# Prints e"
      ],
      "metadata": {
        "colab": {
          "base_uri": "https://localhost:8080/"
        },
        "id": "Vu6uWulRLrhl",
        "outputId": "f3e3c667-fd29-4c1c-b809-49955a7472db"
      },
      "execution_count": null,
      "outputs": [
        {
          "output_type": "stream",
          "name": "stdout",
          "text": [
            "blue\n",
            "lue\n",
            "ue\n",
            "e\n"
          ]
        }
      ]
    },
    {
      "cell_type": "code",
      "source": [
        "# program to display numbers from 1 to 5\n",
        "\n",
        "# initialize the variable\n",
        "i = 1\n",
        "n = 5\n",
        "\n",
        "# while loop from i = 1 to 5\n",
        "while i <= n:\n",
        "    print(i)\n",
        "    i = i + 1"
      ],
      "metadata": {
        "colab": {
          "base_uri": "https://localhost:8080/"
        },
        "id": "EzqgRnNyM0-1",
        "outputId": "453152aa-d1a2-4040-bb16-046af6561c66"
      },
      "execution_count": null,
      "outputs": [
        {
          "output_type": "stream",
          "name": "stdout",
          "text": [
            "1\n",
            "2\n",
            "3\n",
            "4\n",
            "5\n"
          ]
        }
      ]
    },
    {
      "cell_type": "code",
      "source": [
        "# program to calculate the sum of numbers\n",
        "# until the user enters zero\n",
        "\n",
        "total = 0\n",
        "\n",
        "number = int(input('Enter a number: '))\n",
        "\n",
        "# add numbers until number is zero\n",
        "while number != 0:\n",
        "    total += number    # total = total + number\n",
        "\n",
        "    # take integer input again\n",
        "    number = int(input('Enter a number: '))\n",
        "\n",
        "\n",
        "print('total =', total)"
      ],
      "metadata": {
        "colab": {
          "base_uri": "https://localhost:8080/"
        },
        "id": "nAH6uI3LM4zB",
        "outputId": "4282406f-d715-4590-ba1b-76c03f6353ba"
      },
      "execution_count": null,
      "outputs": [
        {
          "output_type": "stream",
          "name": "stdout",
          "text": [
            "Enter a number: 5\n",
            "Enter a number: 9\n",
            "Enter a number: 15\n",
            "Enter a number: 45\n",
            "Enter a number: 5\n",
            "Enter a number: 15\n",
            "Enter a number: 156\n",
            "Enter a number: 0\n",
            "total = 250\n"
          ]
        }
      ]
    },
    {
      "cell_type": "markdown",
      "source": [
        "## Transfer statetements\n",
        "\n",
        "In Python, transfer statements are used to alter the program’s way of execution in a certain manner. For this purpose, we use three types of transfer statements.\n",
        "\n",
        "* break statement\n",
        "* continue statement\n",
        "* pass statements"
      ],
      "metadata": {
        "id": "yo40zMi--UUD"
      }
    },
    {
      "cell_type": "markdown",
      "source": [
        "<a><img src=\"https://static.wixstatic.com/media/187085_feb0b26e62af46d8be557d2106bac496~mv2.png\" width=\"80%\" height=\"80%\" /></a>\n"
      ],
      "metadata": {
        "id": "KGN93o-4JsAS"
      }
    },
    {
      "cell_type": "markdown",
      "source": [
        "#### Break in for Loop\n",
        "Python break statement is used to exit the loop immediately. It simply jumps out of the loop altogether, and the program continues after the loop."
      ],
      "metadata": {
        "id": "vfYh70npKSqc"
      }
    },
    {
      "cell_type": "code",
      "source": [
        "# Break the loop at 'blue'\n",
        "colors = ['red', 'green', 'blue', 'yellow']\n",
        "for x in colors:\n",
        "    if x == 'blue':\n",
        "        break\n",
        "    print(x)\n",
        "# Prints red green"
      ],
      "metadata": {
        "colab": {
          "base_uri": "https://localhost:8080/"
        },
        "id": "S0wYrCodKPp9",
        "outputId": "a41324f3-6006-4d14-c056-288d79836a89"
      },
      "execution_count": null,
      "outputs": [
        {
          "output_type": "stream",
          "name": "stdout",
          "text": [
            "red\n",
            "green\n"
          ]
        }
      ]
    },
    {
      "cell_type": "markdown",
      "source": [
        "#### Continue in for Loop\n",
        "The continue statement skips the current iteration of a loop and continues with the next iteration."
      ],
      "metadata": {
        "id": "bkSXjMstKXLc"
      }
    },
    {
      "cell_type": "code",
      "source": [
        "# Skip 'blue'\n",
        "colors = ['red', 'green', 'blue', 'yellow']\n",
        "for x in colors:\n",
        "    if x == 'blue':\n",
        "        continue\n",
        "    print(x)\n",
        "# Prints red green yellow"
      ],
      "metadata": {
        "colab": {
          "base_uri": "https://localhost:8080/"
        },
        "id": "57I4dNadKaiv",
        "outputId": "73ad4d36-1b05-434f-fe03-059682e724bf"
      },
      "execution_count": null,
      "outputs": [
        {
          "output_type": "stream",
          "name": "stdout",
          "text": [
            "red\n",
            "green\n",
            "yellow\n"
          ]
        }
      ]
    },
    {
      "cell_type": "code",
      "source": [
        "colors = ['red', 'green', 'blue', 'yellow']\n",
        "for x in colors:\n",
        "    if x == 'blue':\n",
        "        break\n",
        "    print(x)\n",
        "else:\n",
        "    print('Done!')\n",
        "# Prints red green"
      ],
      "metadata": {
        "colab": {
          "base_uri": "https://localhost:8080/"
        },
        "id": "0i_DSUeTKqMM",
        "outputId": "7dab75f7-68b3-45a7-fb4b-8bea6ee7848e"
      },
      "execution_count": null,
      "outputs": [
        {
          "output_type": "stream",
          "name": "stdout",
          "text": [
            "red\n",
            "green\n"
          ]
        }
      ]
    },
    {
      "cell_type": "markdown",
      "source": [
        "Break in while Loop\n",
        "Python break statement is used to exit the loop immediately. It simply jumps out of the loop altogether, and the program continues after the loop."
      ],
      "metadata": {
        "id": "4s6gKmGkLyfZ"
      }
    },
    {
      "cell_type": "code",
      "source": [
        "# Exit when x becomes 3\n",
        "x = 6\n",
        "while x:\n",
        "    print(x)\n",
        "    x -= 1\n",
        "    if x == 3:\n",
        "        break\n",
        "# Prints 6 5 4"
      ],
      "metadata": {
        "id": "WIgxcvM2Lwep"
      },
      "execution_count": null,
      "outputs": []
    },
    {
      "cell_type": "markdown",
      "source": [
        "Continue in while Loop\n",
        "The continue statement skips the current iteration of a loop and continues with the next iteration."
      ],
      "metadata": {
        "id": "H3DoFVkJL2Ny"
      }
    },
    {
      "cell_type": "code",
      "source": [
        "# Skip odd numbers\n",
        "x = 6\n",
        "while x:\n",
        "\tx -= 1\n",
        "\tif x % 2 != 0:\n",
        "\t\tcontinue\n",
        "\tprint(x)\n",
        "# Prints 4 2 0"
      ],
      "metadata": {
        "id": "6289kNo6L31T"
      },
      "execution_count": null,
      "outputs": []
    },
    {
      "cell_type": "markdown",
      "source": [
        "Note: References\n",
        "\n",
        "* https://pyformat.info/\n",
        "* https://pynative.com/\n",
        "* https://docs.python.org/3/\n",
        "* https://www.educba.com/\n",
        "* https://www.learnbyexample.org/\n",
        "* https://www.programiz.com/\n"
      ],
      "metadata": {
        "id": "_I-Zg8ixNOlf"
      }
    }
  ]
}