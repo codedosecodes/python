{
  "nbformat": 4,
  "nbformat_minor": 0,
  "metadata": {
    "colab": {
      "provenance": [],
      "toc_visible": true,
      "authorship_tag": "ABX9TyPiH6+HiRTAeag5SS8PSj0h",
      "include_colab_link": true
    },
    "kernelspec": {
      "name": "python3",
      "display_name": "Python 3"
    },
    "language_info": {
      "name": "python"
    }
  },
  "cells": [
    {
      "cell_type": "markdown",
      "metadata": {
        "id": "view-in-github",
        "colab_type": "text"
      },
      "source": [
        "<a href=\"https://colab.research.google.com/github/codedosecodes/python/blob/main/Python_mod03_modulesandpackages.ipynb\" target=\"_parent\"><img src=\"https://colab.research.google.com/assets/colab-badge.svg\" alt=\"Open In Colab\"/></a>"
      ]
    },
    {
      "cell_type": "markdown",
      "source": [
        "\n",
        "<img src=\"https://static.wixstatic.com/media/187085_663a141abb41479db38c836ad13ba2b8~mv2.png\" alt=\"\" width=\"200px\" align=\"right\"/>\n",
        "\n",
        "# **Modules and Packages**\n",
        "\n",
        "# Learn the Basics\n",
        "\n",
        "Authors:\n",
        "[Gabriel Mauricio Cortés](https://github.com/codedosecodes/),"
      ],
      "metadata": {
        "id": "_RYGNKndk6Oq"
      }
    },
    {
      "cell_type": "markdown",
      "source": [
        "<style>\n",
        ".alert2 {\n",
        "  padding: 20px;\n",
        "  background-color: #f44336;\n",
        "  color: white;\n",
        "  margin-bottom: 15px;\n",
        "}\n",
        ".alert {\n",
        "  border-radius: 10px;\n",
        "  background-color: #bbb;\n",
        "  border: 2px solid #999;\n",
        "  margin-top: 20px;\n",
        "  margin-bottom: 20px;\n",
        "  padding-left: 5px;\n",
        "  padding-top: 10px;\n",
        "  padding-bottom: 10px;\n",
        "  font-family: 'Arial', sans-serif;\n",
        "}\n",
        "\n",
        ".alert > h3 {\n",
        "  display: block;\n",
        "  font-size: 30px;\n",
        "  margin-top: 5px;\n",
        "  margin-bottom: 15px;\n",
        "}\n",
        "\n",
        ".alert-info {\n",
        "  background-color: #1af !important;\n",
        "  border: 2px solid #04a !important;\n",
        "}\n",
        "div.warn {    \n",
        "    background-color: #fcf2f2;\n",
        "    border-color: #dFb5b4;\n",
        "    border-left: 5px solid #dfb5b4;\n",
        "    padding: 0.5em;\n",
        "    }\n",
        "</style>\n",
        "\n",
        "\n",
        "<table class=\"table table-bordered\" style=\"border-color:green;\" align=\"left\">\n",
        "  <td>\n",
        "    <a target=\"_blank\" href=\"https://www.codedose.codes/\"><img src=\"https://static.wixstatic.com/media/187085_663a141abb41479db38c836ad13ba2b8~mv2.png\" width=\"32\" height=\"32\" />View Codedose</a>\n",
        "  </td>\n",
        "  <td>\n",
        "    <a target=\"_blank\" href=\"https://colab.research.google.com/drive/1DTnZF7z3OawgFpkrWX9lALPmBqIXZHRo#scrollTo=L9Wx68gsEcNQ\"><img src=\"https://static.wixstatic.com/media/187085_adc0ad8b754748b5b46b2ce17d6c48fb~mv2.png\" width=\"32\" height=\"32\" />Run in Google Colab</a>\n",
        "  </td>\n",
        "  <td>\n",
        "    <a target=\"_blank\" href=\"https://github.com/codedosecodes/python\"><img src=\"https://static.wixstatic.com/media/187085_a8a39d79788e40ec8c2a70d4f42ec0ec~mv2.png\" width=\"32\" height=\"32\" />View code in GitHub</a>\n",
        "  </td>\n",
        "  <td>\n",
        "    <a href=\"https://1870859c-e43a-48f9-b690-7af5dd055580.usrfiles.com/ugd/187085_8e8b1301d24f497c9ed6097c2992e128.ipynb\"><img src=\"https://static.wixstatic.com/media/187085_dbe5b3fa6ced40fb83d52e0f38da647e~mv2.png\" width=\"32\" height=\"32\" />Download notebook</a>\n",
        "  </td>\n",
        "        <td>\n",
        "    <a target=\"_blank\" href=\"https://nbviewer.org/github/codedosecodes/python/blob/main/Python_mod03_modulesandpackages.ipynb\"><img src=\"https://static.wixstatic.com/media/187085_f270d64e2bdf462c9e26477d53a86602~mv2.png\" width=\"32\" height=\"32\" />Jupyter Notebook</a>\n",
        "  </td>\n",
        "    <td>\n",
        "    <a target=\"_blank\" href=\"https://colab.research.google.com/drive/1k18o-HKOViymLpRfktmObU_0_DgTnFZ8\"><img src=\"https://static.wixstatic.com/media/187085_27f04669f65449f39f6b40b6a5945496~mv2.png\" width=\"32\" height=\"32\" />View Video</a>\n",
        "  </td>\n",
        "</table>\n",
        "\n"
      ],
      "metadata": {
        "id": "5VTeKPVtkuhs"
      }
    },
    {
      "cell_type": "markdown",
      "source": [
        "\n",
        "\n",
        "<a ><img src=\"https://static.wixstatic.com/media/187085_b647c73e24ed407eac4b482e1ece72c1~mv2.png\" width=\"100%\" height=\"100%\" /></a>\n",
        "\n",
        "\n"
      ],
      "metadata": {
        "id": "L9Wx68gsEcNQ"
      }
    },
    {
      "cell_type": "markdown",
      "source": [
        "\n",
        "## Objetives\n",
        "### know and drive\n",
        "1. Modules\n",
        "2. Packages\n"
      ],
      "metadata": {
        "id": "XbU_yOY-hgQN"
      }
    },
    {
      "cell_type": "markdown",
      "source": [
        "\n",
        "\n",
        "<a ><img src=\"https://static.wixstatic.com/media/187085_3a41ec1067d0493fb6dec94563972a5e~mv2.png\" width=\"80%\" height=\"80%\" /></a>\n",
        "\n",
        "\n"
      ],
      "metadata": {
        "id": "G8bTEsdvtCrJ"
      }
    },
    {
      "cell_type": "markdown",
      "source": [
        "\n",
        "#1. Modules in Python\n",
        "\n",
        "One of the best features of Python is that it enables one to pack of all similar functions or variable definitions in a **single file**. These can then be used in other Python scripts or interpreters as well. These files in Python are Python modules. The functions or variables can be imported from a module directly using the import statement into others\n",
        "\n",
        "In Python, a module is a **single file** containing Python definitions and statements. These definitions and statements can include variables, functions, and classes and can be used to organize related functionality into a single, reusable package. Module organizes and reuses code in Python by grouping related code into a **single file**.\n",
        "\n",
        "Modules in Python are just Python files with a** .py** extension. *The name of the module is the same as the file name*. A Python module can have a set of functions, classes, or variables defined and implemented.\n",
        "\n",
        "The modules are entities that allow a logical organization and division of the code with the ultimate goal of its reuse, thus the definitions of a module can be used by other modules.\n",
        "\n",
        "The use of modules allows breaking down large programs into smaller and more manageable files, which offers, among other advantages:\n",
        "\n",
        "> * Simplicity: Dividing a problem into simpler parts facilitates its development and reduces the number of errors.\n",
        "> * Maintainability: Modules that focus on a particular domain tend to minimize interdependencies, reducing the likelihood that changes to a single module will impact other parts of the program.\n",
        "> * Reuse: The functionality defined in a module can be easily reused eliminating the creation of duplicate code.\n",
        "> * Scope: Modules define a separate namespace, which helps prevent collisions between identifiers in different areas of a program.\n",
        "\n",
        "Modules allow us to organize the code in a single .py file with Python code.\n",
        "\n",
        "The module name is the name of the file without the extension.\n",
        "\n",
        "Python has a multitude of standard modules available that are located in the Lib directory within the location where Python was installed.\n",
        "\n",
        "\n",
        "## Types of modules\n",
        "In Python, there are two types of modules.\n",
        "\n",
        "> * Built-in Modules\n",
        "> * User-defined Modules\n",
        "\n",
        "## Built-in modules\n",
        "> Built-in modules come with default Python installation. One of Python’s most significant advantages is its rich library support that contains lots of built-in modules. Hence, it provides a lot of reusable code.\n",
        "\n",
        "> Some commonly used Python built-in modules are datetime, os, math, sys, random, etc.\n",
        "\n",
        "## User-defined modules\n",
        "> The modules which the user defines or create are called a user-defined module. We can create our own module, which contains classes, functions, variables, etc., as per our requirements.\n",
        "\n",
        "\n",
        "Modules can be imported and used in other Python files using the ***import*** statement.\n",
        "\n",
        "Some popular modules in Python are math, random, csv, and datetime.\n",
        "\n",
        "Example: Consider a Python module math.py that contains a function to calculate the square of a number\n",
        "\n",
        "If we only want to check all the locally installed Python modules, then it is very simple. We have to open our Python shell (Where the output displays), or we can even perform this task in the Jupyter notebook and Jupyter lab.\n",
        "\n",
        "\n",
        "\">>> help('modules')  \"\n",
        "<font color='66d9ef'>Modules in Python</font>\n",
        "<p><background color='66d9ef'>def2</background></p>\n",
        "\n",
        "$${\\color{red}Welcome \\space \\color{lightblue}To \\space \\color{orange}Modules in Python}$$\n",
        "\n",
        "</p>\n",
        "\n",
        "List modules\n",
        "\n",
        "| Module | Module | Module | Module |\n",
        "| :--- | :--- | :--- | :--- |\n",
        "|Cython              |codecs              |keras               |requirements\n",
        "|IPython             |codeop              |keyring             |resource\n",
        "|OpenGL              |collections         |keyword             |rich\n",
        "|OpenSSL             |colorcet            |kiwisolver          |rlcompleter\n",
        "|PIL                 |colorlover          |langcodes           |rmagic\n",
        "|__future__          |colorsys            |launchpadlib        |rpds\n",
        "|_abc                |community           |lazy_loader         |rpy2\n",
        "|_aix_support        |compileall          |lib2to3             |rsa\n",
        "|_argon2_cffi_bindings |concurrent        |  libfuturize       |  runpy\n",
        "|_ast                |confection          |libpasteurize       |sched\n",
        "|_asyncio            |configparser        |librosa             |scipy\n",
        "|_bisect             |cons                |lightgbm            |scs\n",
        "|_blake2             |contextlib          |linecache           |seaborn\n",
        "|_bootsubprocess     |contextlib2         |linkify_it          |secrets\n",
        "|_bz2                |contextvars         |lit                 |secretstorage\n",
        "|_cffi_backend       |contourpy           |llvmlite            |select\n",
        "|_codecs             |convertdate         |locale              |selectors\n",
        "|_codecs_cn          |copy                |locket              |send2trash\n",
        "|_codecs_hk          |copyreg             |logging             |setuptools\n",
        "|_codecs_iso2022     |cpuinfo             |lsb_release         |shapely\n",
        "|_codecs_jp          |crypt               |lunarcalendar       |shelve\n",
        "|_codecs_kr          |cryptography        |lxml                |shlex\n",
        "|_codecs_tw          |csv                 |lzma                |shutil\n",
        "|_collections        |ctypes              |mailbox             |signal\n",
        "|_collections_abc    |cufflinks           |mailcap             |site\n",
        "|_compat_pickle      |curses              |markdown            |sitecustomize\n",
        "|_compression        |cv2                 |markdown_it         |six\n",
        "|_contextvars        |cvxopt              |markupsafe          |skimage\n",
        "|_crypt              |cvxpy               |marshal             |sklearn\n",
        "|_csv                |cycler              |math                |sklearn_pandas\n",
        "|_ctypes             |cymem               |matplotlib          |slugify\n",
        "|_ctypes_test        |cython              |matplotlib_inline   |smart_open\n",
        "|_curses             |cythonmagic         |matplotlib_venn     |smtpd\n",
        "|_curses_panel       |dask                |mdit_py_plugins     |smtplib\n",
        "|_cvxcore            |dataclasses         |mdurl               |sndhdr\n",
        "|_datetime           |datascience         |mimetypes           |sniffio\n",
        "|_dbm                |datetime            |missingno           |snowballstemmer\n",
        "|_dbus_bindings      |dateutil            |mistune             |socket\n",
        "|_dbus_glib_bindings |db_dtypes           |mizani              |socketserver\n",
        "|_decimal            |dbm                 |ml_dtypes           |socks\n",
        "|_distutils_hack     |dbus                |mlxtend             |sockshandler\n",
        "|_distutils_system_mod |debugpy           |  mmap              |  softwareproperties\n",
        "|_dlib_pybind11      |decimal             |modulefinder        |sortedcontainers\n",
        "|_ecos               |decorator           |more_itertools      |soundfile\n",
        "|_elementtree        |defusedxml          |moviepy             |soupsieve\n",
        "|_functools          |difflib             |mpmath              |soxr\n",
        "|_hashlib            |dis                 |msgpack             |spacy\n",
        "|_heapq              |distributed         |multidict           |spacy_legacy\n",
        "|_imp                |distro              |multipledispatch    |spacy_loggers\n",
        "|_io                 |distutils           |multiprocessing     |sphinx\n",
        "|_json               |dlib                |multitasking        |spwd\n",
        "|_locale             |doctest             |murmurhash          |sql\n",
        "|_lsprof             |docutils            |music21             |sqlalchemy\n",
        "|_lzma               |dopamine            |natsort             |sqlite3\n",
        "|_markupbase         |dot_parser          |nbclient            |sqlparse\n",
        "|_md5                |duckdb              |nbconvert           |sre_compile\n",
        "|_multibytecodec     |easydict            |nbformat            |sre_constants\n",
        "|_multiprocessing    |ecos                |nest_asyncio        |sre_parse\n",
        "|_opcode             |editdistance        |netrc               |srsly\n",
        "|_operator           |ee                  |networkx            |ssl\n",
        "|_osx_support        |email               |nibabel             |stat\n",
        "|_pickle             |en_core_web_sm      |nis                 |statistics\n",
        "|_plotly_future_     |encodings           |nisext              |statsmodels\n",
        "|_plotly_utils       |entrypoints         |nltk                |storemagic\n",
        "|_posixshmem         |enum                |nntplib             |string\n",
        "|_posixsubprocess    |ephem               |notebook            |stringprep\n",
        "|_py_abc             |erfa                |ntpath              |struct\n",
        "|_pydecimal          |errno               |nturl2path          |subprocess\n",
        "|_pyio               |et_xmlfile          |numba               |sunau\n",
        "|_pytest             |etils               |numbergen           |sympy\n",
        "|_queue              |etuples             |numbers             |sympyprinting\n",
        "|_random             |exceptiongroup      |numexpr             |symtable\n",
        "|_rinterface_cffi_abi|fastai             | numpy              | sys\n",
        "|_rinterface_cffi_api|fastcore           | nvfuser            | sysconfig\n",
        "|_scs_direct         |fastdownload        |oauth2client        |syslog\n",
        "|_scs_indirect       |fastjsonschema      |oauthlib            |tables\n",
        "|_sha1               |fastprogress        |opcode              |tabnanny\n",
        "|_sha256             |fastrlock           |openpyxl            |tabulate\n",
        "|_sha3               |faulthandler        |operator            |tarfile\n",
        "|_sha512             |fcntl               |opt_einsum          |tblib\n",
        "|_signal             |filecmp             |optax               |telnetlib\n",
        "|_sitebuiltins       |fileinput           |optparse            |tempfile\n",
        "|_socket             |filelock            |os                  |tenacity\n",
        "|_soundfile          |fiona               |osgeo               |tensorboard\n",
        "|_soundfile_data     |firebase_admin      |osgeo_utils         |tensorboard_data_server\n",
        "|_sqlite3            |flask               |osqp                |tensorflow\n",
        "|_sre                |flatbuffers         |osqppurepy          |tensorflow_datasets\n",
        "|_ssl                |flax                |ossaudiodev         |tensorflow_estimator\n",
        "|_stat               |fnmatch             |packaging           |tensorflow_gcs_config\n",
        "|_statistics         |folium              |pandas              |tensorflow_hub\n",
        "|_string             |fontTools           |pandas_datareader   |tensorflow_io_gcs_filesystem\n",
        "|_strptime           |fractions           |pandas_gbq          |tensorflow_metadata\n",
        "|_struct             |frozendict          |pandocfilters       |tensorflow_probability\n",
        "|_symtable           |frozenlist          |panel               |tensorstore\n",
        "|_sysconfigdata__linux_x86_64-linux-gnu |fsspec              |param               |termcolor\n",
        "|_sysconfigdata__x86_64-linux-gnu |ftplib |             parso  |             terminado\n",
        "|_testbuffer         |functools           |partd               |termios\n",
        "|_testcapi           |functorch           |past                |test\n",
        "|_testclinic         |future              |pasta               |tests\n",
        "|_testimportmultiple |gast                |pathlib             |text_unidecode\n",
        "|_testinternalcapi   |gc                  |pathy               |textblob\n",
        "|_testmultiphase     |gcsfs               |patsy               |textwrap\n",
        "|_thread             |gdown               |pdb                 |tf_slim\n",
        "|_threading_local    |genericpath         |pexpect             |thinc\n",
        "|_tkinter            |gensim              |pickle              |this\n",
        "|_tracemalloc        |geographiclib       |pickleshare         |threading\n",
        "|_uuid               |geopandas           |pickletools         |threadpoolctl\n",
        "|_warnings           |geopy               |pip                 |tifffile\n",
        "|_weakref            |getopt              |pipes               |time\n",
        "|_weakrefset         |getpass             |piptools            |timeit\n",
        "|_xxsubinterpreters  |gettext             |pkg_resources       |tinycss2\n",
        "|_xxtestfuzz         |gi                  |pkgutil             |tkinter\n",
        "|_yaml               |gin                 |platform            |tlz\n",
        "|_zoneinfo           |glob                |platformdirs        |token\n",
        "|abc                 |glob2               |plistlib            |tokenize\n",
        "|absl                |google_auth_httplib2| plotly             | toml\n",
        "|aifc                |google_auth_oauthlib| plotnine           | tomli\n",
        "|aiohttp             |google_crc32c       |pluggy              |toolz\n",
        "|aiosignal           |google_drive_downloader |polars          |    torch\n",
        "|alabaster           |googleapiclient     |pooch               |torchaudio\n",
        "|albumentations      |googlesearch        |poplib              |torchdata\n",
        "|altair              |graphlib            |portpicker          |torchgen\n",
        "|annotated_types     |graphviz            |posix               |torchsummary\n",
        "|antigravity         |greenlet            |posixpath           |torchtext\n",
        "|anyio               |grp                 |pprint              |torchvision\n",
        "|apiclient           |grpc                |prefetch_generator  |tornado\n",
        "|appdirs             |grpc_status         |preshed             |tqdm\n",
        "|apt                 |gspread             |prettytable         |trace\n",
        "|apt_inst            |gspread_dataframe   |profile             |traceback\n",
        "|apt_pkg             |gym                 |proglog             |tracemalloc\n",
        "|aptsources          |gym_notices         |progressbar         |traitlets\n",
        "|argon2              |gzip                |prometheus_client   |tree\n",
        "|argparse            |h5netcdf            |promise             |triton\n",
        "|array               |h5py                |prompt_toolkit      |tty\n",
        "|array_record        |hashlib             |prophet             |turtle\n",
        "|arviz               |heapq               |proto               |tweepy\n",
        "|ast                 |hmac                |pstats              |typer\n",
        "|astropy             |holidays            |psutil              |types\n",
        "|astunparse          |holoviews           |psycopg2            |typing\n",
        "|async_timeout       |html                |pty                 |typing_extensions\n",
        "|asynchat            |html5lib            |ptyprocess          |tzlocal\n",
        "|asyncio             |http                |pwd                 |uc_micro\n",
        "|asyncore            |httpimport          |py                  |unicodedata\n",
        "|atexit              |httplib2            |py4j                |unification\n",
        "|attr                |humanize            |py_compile          |unittest\n",
        "|attrs               |hyperopt            |pyarrow             |uritemplate\n",
        "|audioop             |idna                |pyasn1              |urllib\n",
        "|audioread           |imageio             |pyasn1_modules      |urllib3\n",
        "|autograd            |imageio_ffmpeg      |pyclbr              |uu\n",
        "|autoreload          |imagesize           |pycocotools         |uuid\n",
        "|babel               |imaplib             |pycparser           |vega_datasets\n",
        "|backcall            |imblearn            |pyct                |venv\n",
        "|base64              |imgaug              |pydantic            |wadllib\n",
        "|bdb                 |imghdr              |pydantic_core       |warnings\n",
        "|bin                 |imp                 |pydata_google_auth  |wasabi\n",
        "|binascii            |importlib           |pydoc               |wave\n",
        "|binhex              |importlib_metadata  |pydoc_data          |wcwidth\n",
        "|bisect              |importlib_resources |pydot               |weakref\n",
        "|bleach              |imutils             |pydot_ng            |webbrowser\n",
        "|blinker             |inflect             |pydotplus           |webcolors\n",
        "|blis                |iniconfig           |pydrive             |webencodings\n",
        "|blosc2              |inspect             |pydrive2            |websocket\n",
        "|bokeh               |io                  |pyexpat             |werkzeug\n",
        "|boost               |ipaddress           |pygame              |wheel\n",
        "|branca              |ipykernel           |pygments            |widgetsnbextension\n",
        "|bs4                 |ipykernel_launcher  |pygtkcompat         |wordcloud\n",
        "|build               |ipython_genutils    |pylab               |wrapt\n",
        "|builtins            |ipywidgets          |pymc                |wsgiref\n",
        "|bz2                 |isympy              |pymeeus             |xarray\n",
        "|cProfile            |itertools           |pymystem3           |xarray_einstats\n",
        "|cachecontrol        |itsdangerous        |pyparsing           |xdrlib\n",
        "|cachetools          |jax                 |pyproj              |xgboost\n",
        "|calendar            |jaxlib              |pyproject_hooks     |xlrd\n",
        "|catalogue           |jeepney             |pytensor            |xml\n",
        "|certifi             |jieba               |pytest              |xmlrpc\n",
        "|cffi                |jinja2              |python_utils        |xxlimited\n",
        "|cgi                 |joblib              |pytz                |xxlimited_35\n",
        "|cgitb               |json                |pyviz_comms         |xxsubtype\n",
        "|chardet             |jsonpickle          |pywt                |xyzservices\n",
        "|charset_normalizer  |jsonschema          |pyximport           |yaml\n",
        "|chex                |jsonschema_specifications |qdldl         |      yarl\n",
        "|chunk               |jupyter             |qudida              |yellowbrick\n",
        "|clang               |jupyter_client      |queue               |yfinance\n",
        "|click               |jupyter_console     |quopri              |zict\n",
        "|click_plugins       |jupyter_core        |random              |zipapp\n",
        "|cligj               |jupyter_server      |re                  |zipfile\n",
        "|cloudpickle         |jupyterlab_plotly   |readline            |zipimport\n",
        "|cmake               |jupyterlab_pygments |referencing         |zipp\n",
        "|cmath               |jupyterlab_widgets  |regex               |zlib\n",
        "|cmd                 |jwt                 |reprlib             |zmq\n",
        "|cmdstanpy           |kaggle              |requests            |zoneinfo\n",
        "|code                |kanren              |requests_oauthlib   |\n",
        "\n",
        "\n",
        "#### Next we will see the characteristics of each one separately.\n"
      ],
      "metadata": {
        "id": "8yVdUDBbkTF-"
      }
    },
    {
      "cell_type": "markdown",
      "source": [
        "### Listing Module Functions\n",
        "\n",
        "\n",
        "We can use Python dir() function to list the functions in a Python module. Let’s use this with math module and list all the functions listed in this module.\n",
        "\n",
        ""
      ],
      "metadata": {
        "id": "DqCjZlr7zVus"
      }
    },
    {
      "cell_type": "code",
      "source": [
        "import math\n",
        "\n",
        "print(dir(math))"
      ],
      "metadata": {
        "colab": {
          "base_uri": "https://localhost:8080/"
        },
        "id": "r6_CVZ0NzaSd",
        "outputId": "97263a2d-f611-4d99-c7dc-0f82f9f95d03"
      },
      "execution_count": 15,
      "outputs": [
        {
          "output_type": "stream",
          "name": "stdout",
          "text": [
            "['__doc__', '__loader__', '__name__', '__package__', '__spec__', 'acos', 'acosh', 'asin', 'asinh', 'atan', 'atan2', 'atanh', 'ceil', 'comb', 'copysign', 'cos', 'cosh', 'degrees', 'dist', 'e', 'erf', 'erfc', 'exp', 'expm1', 'fabs', 'factorial', 'floor', 'fmod', 'frexp', 'fsum', 'gamma', 'gcd', 'hypot', 'inf', 'isclose', 'isfinite', 'isinf', 'isnan', 'isqrt', 'lcm', 'ldexp', 'lgamma', 'log', 'log10', 'log1p', 'log2', 'modf', 'nan', 'nextafter', 'perm', 'pi', 'pow', 'prod', 'radians', 'remainder', 'sin', 'sinh', 'sqrt', 'tan', 'tanh', 'tau', 'trunc', 'ulp']\n"
          ]
        }
      ]
    },
    {
      "cell_type": "code",
      "source": [
        "def saludo(nombre):\n",
        "    print(f'Hola {nombre}')"
      ],
      "metadata": {
        "id": "G7iUxvpZIrYY"
      },
      "execution_count": 1,
      "outputs": []
    },
    {
      "cell_type": "code",
      "source": [
        "#math.py module\n",
        "def square(i):\n",
        "\treturn x**2\n"
      ],
      "metadata": {
        "id": "q1e_4OICZgXj"
      },
      "execution_count": 3,
      "outputs": []
    },
    {
      "cell_type": "markdown",
      "source": [
        "### The Module Search Path\n",
        "Continuing with the above example, let’s take a look at what happens when Python executes the statement:\n",
        "\n",
        "> import mod\n",
        "\n",
        "When the interpreter executes the above import statement, it searches for mod.py in a list of directories assembled from the following sources:\n",
        "\n",
        "* The directory from which the input script was run or the current directory if the interpreter is being run interactively\n",
        "* The list of directories contained in the PYTHONPATH environment variable, if it is set. (The format for PYTHONPATH is OS-dependent but should mimic the PATH environment variable.)\n",
        "* An installation-dependent list of directories configured at the time Python is installed\n",
        "\n",
        "The resulting search path is accessible in the Python variable sys.path, which is obtained from a module named sys:"
      ],
      "metadata": {
        "id": "xSFVxdNs0NDU"
      }
    },
    {
      "cell_type": "code",
      "source": [
        "import sys\n",
        "sys.path"
      ],
      "metadata": {
        "colab": {
          "base_uri": "https://localhost:8080/"
        },
        "id": "hZrw7g_SOhQ7",
        "outputId": "b5ab868e-1cff-41bc-ef94-677d6d642665"
      },
      "execution_count": 7,
      "outputs": [
        {
          "output_type": "execute_result",
          "data": {
            "text/plain": [
              "['/content',\n",
              " '/env/python',\n",
              " '/usr/lib/python310.zip',\n",
              " '/usr/lib/python3.10',\n",
              " '/usr/lib/python3.10/lib-dynload',\n",
              " '',\n",
              " '/usr/local/lib/python3.10/dist-packages',\n",
              " '/usr/lib/python3/dist-packages',\n",
              " '/usr/local/lib/python3.10/dist-packages/IPython/extensions',\n",
              " '/root/.ipython']"
            ]
          },
          "metadata": {},
          "execution_count": 7
        }
      ]
    },
    {
      "cell_type": "markdown",
      "source": [
        ">  <font color=\"green\">Note: The exact contents of sys.path are installation-dependent. The above will almost certainly look slightly different on your computer.</font>\n",
        "\n",
        "\n",
        "\n"
      ],
      "metadata": {
        "id": "QEH_NX6Y0cay"
      }
    },
    {
      "cell_type": "code",
      "source": [
        "import math\n",
        "\n",
        "print(f'cos(Pi) = {math.cos(math.pi)}')\n",
        "\n",
        "#main.py file\n",
        "## import math\n",
        "## print(math.square(5)) #output 25"
      ],
      "metadata": {
        "colab": {
          "base_uri": "https://localhost:8080/"
        },
        "id": "eSztOngyXn1g",
        "outputId": "132ac559-f5a7-4869-9248-16e6c5d37f27"
      },
      "execution_count": 10,
      "outputs": [
        {
          "output_type": "stream",
          "name": "stdout",
          "text": [
            "cos(Pi) = -1.0\n"
          ]
        }
      ]
    },
    {
      "cell_type": "markdown",
      "source": [
        "In Python, a module is a single file containing Python definitions and statements. A package is a collection of modules that are organized in a directory hierarchy.\n",
        "\n",
        "Modules and packages allow for a way to organize and reuse code, making it easier to build and maintain large projects. They also provide a way to share code with others and to use code written by others. In Python, modules and packages can be imported and used in other scripts, allowing for efficient code reuse and modular design.\n",
        "\n",
        "<span><font color='a6e22e'>Importing modules</font></span>\n",
        "\n",
        "1. ✅ Importing a module in Python is done using the import statement. To import a\n",
        "module, simply write import followed by the name of the module you want to import. For example, to import the math module, you would write ***import math***.\n",
        "2. ✅ Once a module is imported, you can access its functions and variables using the dot notation. For example, to use the*** sqrt()*** function from the math module, you would write ***math.sqrt(4)*** which would return 2.0.\n",
        "3. ✅ You can also import specific functions or variables from a module using the from keyword. For example, to import only the **sqrt()** function from the math module, you would write from math** import sqrt**. Then you can use the sqrt function directly like **sqrt(4)** which would return 2.0\n",
        "4. ✅ If you want to import multiple functions or variables from a module, you can list them separated by commas. For example, from math **import sqrt, pi**\n",
        "5. ✅ You can also use the as keyword to give a module or function a different name when importing it. This is useful if the name of the module or function you are importing conflicts with the name of an existing variable or function in your code. For example, import math as m and then you can use the functions with **m.sqrt(4)**\n",
        "6. ✅ You can also use * **bold text**to import all the functions or variables from a module. For example from math import *. But it is not recommended as it may cause naming conflicts and make it harder to understand where a particular function is coming from.\n",
        "7. ✅ Once you have imported a module, you can check which functions and variables it contains using the dir() function. For example…\n",
        "\n",
        "\n",
        "\n",
        "❗️ NOTE: Within a module, you can access the name of the module through the global variable __name__.\n",
        "\n",
        "Modules have a dual purpose:\n",
        "\n",
        "* Split a program with many lines of code into smaller parts.\n",
        "* Extract a set of definitions that you frequently use in your programs to be reused. This avoids, for example, having to copy functions from one program to another.\n",
        "\n",
        "🎯 It is good practice for a module to only contain instructions and definitions that are related to each other."
      ],
      "metadata": {
        "id": "iBkEpcwbZ3bi"
      }
    },
    {
      "cell_type": "markdown",
      "source": [
        "<a><img src=\"https://static.wixstatic.com/media/187085_947531e97afe463ca0224f2cfe6dceee~mv2.png\" width=\"80%\" height=\"80%\" /></a>\n"
      ],
      "metadata": {
        "id": "lf1wIv2n312o"
      }
    },
    {
      "cell_type": "markdown",
      "source": [
        "# 2. Packages\n",
        "\n",
        "\n",
        "\n",
        "### Package\n",
        "\n",
        "A python package creates a hierarchical directory structure with numerous modules and sub-packages to give an application development environment. They are simply a collection of modules and sub-packages\n",
        "\n",
        "When working on a large or complex project, we frequently wind up with multiple modules. Using, maintaining, and organising so many modules is challenging.\n",
        "\n",
        "Fortunately, Python delivers us a simple solution in the form of packages. Using packages, we can easily group, organise, and use multiple modules.\n",
        "\n",
        "Packages also allow us to access all functions from all modules in a package with just one import statement\n",
        "\n",
        "\n",
        "Python modules may contain several classes, functions, variables, etc. whereas Python packages contain several modules. In simpler terms, Package in Python is a folder that contains various modules as files.\n",
        "\n",
        "In the same way that we group functions and other definitions into modules, Python packages allow us to organize and structure the different modules that make up a program in a hierarchical way. In addition, packages make it possible for multiple modules with the same name to exist and not cause errors.\n",
        "\n",
        "A package is simply a directory that contains other packages and modules. Also, in Python, for a directory to be considered a package, it must include a module called __init__.py. In most cases, the __init__.py file will be empty, however it can be used to initialize code related to the package.\n",
        "\n",
        "As with modules, when a package is imported, Python looks through the directories defined in sys.path for the directory belonging to that package.\n",
        "\n",
        "\n",
        "\n"
      ],
      "metadata": {
        "id": "3_SqrFcv5-kB"
      }
    },
    {
      "cell_type": "markdown",
      "source": [
        "**Consider an example**, there may be different sound file formats like .ailf, .wav, .avf, .mp3. In order to alter between various file formats, we may need to design and preserve such a growing package.\n",
        "\n",
        "We may perform varieties of operations on sound data which includes mixing, create a stereo effect, add echo, and many more. For these operations, we will have to write a lot of streams of modules. But instead, we can use packages and their possible structure can be as follows."
      ],
      "metadata": {
        "id": "eTyooPmxaaUq"
      }
    },
    {
      "cell_type": "markdown",
      "source": [
        "<pre class=\"wp-block-preformatted hit-code-sample\"><strong>sound/</strong>         =&gt; <em>Top-main package</em>\n",
        "   <strong>init</strong>.py     =&gt; Initialize the sound package\n",
        "   <strong>formats/</strong>    =&gt; Sub-package for conversion of different file formats\n",
        "     <strong>init</strong>.py\n",
        "     wavread.py\n",
        "     wavwrite.py\n",
        "     aiffread.py\n",
        "     aiffwrite.py\n",
        "     …\n",
        "   <strong>effects/</strong>     =&gt; Sub-package for different sound effects\n",
        "     <strong>init</strong>.py\n",
        "     echo.py\n",
        "     reverse.py\n",
        "     …\n",
        "   <strong>filters/</strong>     =&gt; Sub-package for different filters\n",
        "     <strong>init</strong>.py\n",
        "     equalizer.py\n",
        "     karaoke.py\n",
        "     …</pre>\n",
        "\n"
      ],
      "metadata": {
        "id": "l1cmSH5MZ3Hy"
      }
    },
    {
      "cell_type": "markdown",
      "source": [
        "When we import a package, Python searches through the sys.path directory to find the package subdirectory. Every directory must have a __init__.py named file or else python will not consider it as a package."
      ],
      "metadata": {
        "id": "oImibGcfbCOq"
      }
    },
    {
      "cell_type": "code",
      "source": [
        "class Vehicle:\n",
        "    pass\n",
        "print(Vehicle)"
      ],
      "metadata": {
        "id": "DI80zIsH6gbr",
        "colab": {
          "base_uri": "https://localhost:8080/"
        },
        "outputId": "71aba8fc-626d-4f6d-a544-05bd991fdcd0"
      },
      "execution_count": 14,
      "outputs": [
        {
          "output_type": "stream",
          "name": "stdout",
          "text": [
            "<class '__main__.Vehicle'>\n"
          ]
        }
      ]
    },
    {
      "cell_type": "markdown",
      "source": [
        "### **How to create our own package in python?**\n",
        "\n",
        "Python modules may contain several classes, functions, variables, etc. whereas Python packages contain several modules. In simpler terms, Package in Python is a folder that contains various modules as files.\n",
        "\n",
        "Creating Package\n",
        "Let’s create a package in Python named mypckg that will contain two modules name.py and mathematics.py. To create this module follow the below steps:\n",
        "\n",
        "1. Create a folder named mypckg.\n",
        "2. Inside this folder create an empty Python file i.e. __init__.py\n",
        "3. Now using any text editor or the IDE of your choice, create modules name.py and mathematics.py in this folder.\n"
      ],
      "metadata": {
        "id": "iCFGQU9ocQ8v"
      }
    },
    {
      "cell_type": "code",
      "source": [
        "#mod1.py file\n",
        "def callname(name):\n",
        "  print(\"You are \", name)"
      ],
      "metadata": {
        "id": "bBE9sZeSc1md"
      },
      "execution_count": null,
      "outputs": []
    },
    {
      "cell_type": "code",
      "source": [
        "#mathematics.py file\n",
        "def addition(a,b):\n",
        "  return a+b\n",
        "def power(a,b):\n",
        "  return a**b\n",
        "def multiply(a,b):\n",
        "  return a*b"
      ],
      "metadata": {
        "id": "bevs8bt3bDOm"
      },
      "execution_count": null,
      "outputs": []
    },
    {
      "cell_type": "code",
      "source": [],
      "metadata": {
        "id": "-Y1jCCwndY2I"
      },
      "execution_count": null,
      "outputs": []
    },
    {
      "cell_type": "markdown",
      "source": [
        "\n",
        "\n",
        "So, now we have designed our own package called mypckg. We can test our package. Simply import the function module from the package.\n",
        "\n",
        "`from readytogo import mathematics`\n",
        "\n",
        "`mathematics.multiply(4,5)`"
      ],
      "metadata": {
        "id": "XN5Iq1mfdQkr"
      }
    },
    {
      "cell_type": "code",
      "source": [
        "## from mypckg import mathematics\n",
        "## mathematics.multiply(4,5)"
      ],
      "metadata": {
        "id": "He0Y4GsodZuI"
      },
      "execution_count": 13,
      "outputs": []
    },
    {
      "cell_type": "markdown",
      "source": [
        "### **What is __init__.py?**\n",
        "__init__.py is a special file. This file is stored in every package folder. __init__.py has two characteristics:\n",
        "\n",
        "If a file named __init__.py is present in a package directory, it is invoked when the package or a module in the package is imported. This can be used for execution of package initialization code, such as initialization of package-level data.\n",
        "\n",
        "\n",
        "> * The python interpreter will only recognize that folder as packages that contain the __init__.py file.\n",
        "> * It also uncovers the specified resources from the imported module.\n",
        "If we keep __init__.py file empty, then all the functions of the module will be available when the package is imported.\n",
        "\n",
        "__init__.py helps the Python interpreter recognize the folder as a package. It also specifies the resources to be imported from the modules. If the __init__.py is empty this means that all the functions of the modules will be imported. We can also specify the functions from each module to be made available.\n",
        "\n",
        "For example, we can also create the __init__.py file for the above module as:\n",
        "\n",
        "> # *__init__.py*\n",
        "\n",
        "> The __init__.py file is generally kept empty. But, we can declare specific functions from modules of the package in the file to make them ready for import."
      ],
      "metadata": {
        "id": "gF1Sv4xQdzFF"
      }
    },
    {
      "cell_type": "markdown",
      "source": [
        "###  **Import * from a package**\n",
        "The question may arise in our mind that what will happen if we write from car.machine import *? Is the statement correct? Normally, anyone will think that the program will go out of the filesystem and import all the submodules present in the package.\n",
        "\n",
        "Well, to import all sub-modules it could take a lot of time and cause various unwanted effects. But, we have a solution, the solution is to arrange an explicit index of the package for every package author.\n",
        "\n",
        "If we have a list __all__ for an __init__.py package, then the list of modules will be imported when from package import * is encountered. This list can be updated according to the new version of the packages.\n",
        "\n",
        "For example, the file car/machine/__init__.py can contain:\n",
        "\n",
        "__all__=[\"jettube\",\"watertube\",\"wastetube\"]\n",
        "So, from car.machine import * would import all the sub-modules of car.machine package.\n",
        "\n",
        "Consider an example from sound package.\n",
        "\n",
        "> `import sound.effects.echo`\n",
        "\n",
        "> `import sound.effects.surround`\n",
        "\n",
        "> `from sound.effects import *`\n",
        "\n",
        "\n",
        "Here, the echo and surround modules are imported individually in the current namespace in the first two lines respectively. But we can import all modules by the use of a single line  from sound.effects import * as they are defined in the sound.effects package, so all modules and files will be imported when the from sound.effects import * statement is executed. (It will also work when __all__ is defined.)"
      ],
      "metadata": {
        "id": "4LqhQP9reliz"
      }
    },
    {
      "cell_type": "markdown",
      "source": [
        "### **import in Packages**\n",
        "Suppose the cars and the brand directories are packages. For them to be a package they all must contain __init__.py file in them, either blank or with some initialization code. Let’s assume that all the models of the cars to be modules. Use of packages helps importing any modules, individually or whole.\n",
        "Suppose we want to get Bmw i8. The syntax for that would be:\n",
        "\n",
        "> 'import' Cars.Bmw.x5\n",
        "\n",
        "While importing a package or sub packages or modules, Python searches the whole tree of directories looking for the particular package and proceeds systematically as programmed by the dot operator.\n",
        "If any module contains a function and we want to import that. For e.g., a8 has a function get_buy(1) and we want to import that, the syntax would be:\n",
        "\n",
        "> import Cars.Audi.a8\n",
        "\n",
        "> Cars.Audi.a8.get_buy(1)\n",
        "\n",
        "While using just the import syntax, one must keep in mind that the last attribute must be a subpackage or a module, it should not be any function or class name."
      ],
      "metadata": {
        "id": "fvD2jvDHDIiZ"
      }
    },
    {
      "cell_type": "markdown",
      "source": [
        "### **‘from…import’ in Packages**\n",
        "Now, whenever we require using such function we would need to write the whole long line after importing the parent package. To get through this in a simpler way we use ‘from’ keyword. For this we first need to bring in the module using\n",
        "‘from’ and ‘import’:\n",
        "> from Cars.Audi import a8\n",
        "\n",
        "Now we can call the function anywhere using\n",
        "\n",
        "> a8.get_buy(1)\n",
        "\n",
        "There’s also another way which is less lengthy. We can directly import the function and use it wherever necessary. First import it using:\n",
        "\n",
        "> from Cars.Audi.a8 import get_buy\n",
        "\n",
        "Now call the function from anywhere:\n",
        "\n",
        "> get_buy(1)\n"
      ],
      "metadata": {
        "id": "P8YxTQj_gBFN"
      }
    },
    {
      "cell_type": "markdown",
      "source": [
        "### **‘from…import *’ in Packages**\n",
        "While using the from…import syntax, we can import anything from submodules to class or function or variable, defined in the same module. If the mentioned attribute in the import part is not defined in the package then the compiler throws an ImportError exception.\n",
        "\n",
        "Importing sub-modules might cause unwanted side-effects that happens while importing sub-modules explicitly. Thus we can import various modules at a single time using * syntax. The syntax is:\n",
        "\n",
        "> from Cars.Chevrolet import *\n",
        "\n",
        "This will import everything i.e., modules, sub-modules, function, classes, from the sub-package."
      ],
      "metadata": {
        "id": "uBwHH5vOgX_J"
      }
    },
    {
      "cell_type": "code",
      "source": [
        "class Vehicle:\n",
        "\n",
        "    def __init__(self, make, model, makeYear,color):\n",
        "        self.make   = make\n",
        "        self.model  = model\n",
        "        self.makeYear   = makeYear\n",
        "        self.color = color\n",
        "        self.speed  =0\n",
        "print(Vehicle)"
      ],
      "metadata": {
        "id": "RUcu295U6iYy"
      },
      "execution_count": null,
      "outputs": []
    },
    {
      "cell_type": "markdown",
      "source": [
        "Notice that the .__init__() method’s signature is indented four spaces. The body of the method is indented by eight spaces. This indentation is vitally important. It tells Python that the .__init__() method belongs to the Vehicle  class.\n",
        "\n",
        "In the body of .__init__(), there are two statements using the self variable:\n",
        "\n",
        "self.model = model creates an attribute called name and assigns to it the value of the model parameter.\n",
        "self.make = make creates an attribute called age and assigns to it the value of the make parameter.\n",
        "self.year = year creates an attribute called age and assigns to it the value of the year parameter.\n",
        "self.color = color creates an attribute called age and assigns to it the value of the colour parameter.\n",
        "\n",
        "Attributes created in .__init__() are called instance attributes. An instance attribute’s value is specific to a particular instance of the class. All Vehicle objects have a make, model, year, color, speed, but the values for the make, model, year, color, speed attributes will vary depending on the Vehicle instance.\n",
        "\n",
        "On the other hand, class attributes are attributes that have the same value for all class instances. You can define a class attribute by assigning a value to a variable name outside of .__init__().\n",
        "\n",
        "For example, the following Vehicle class has a class attribute called wheels with the value 4:"
      ],
      "metadata": {
        "id": "tt7I2AUXFYCI"
      }
    },
    {
      "cell_type": "code",
      "source": [
        "class Vehicle:\n",
        "  # Class attributes\n",
        "    wheels = 4\n",
        "    def __init__(self, make, model, makeYear,color):\n",
        "        self.make   = make\n",
        "        self.model  = model\n",
        "        self.makeYear   = makeYear\n",
        "        self.color = color\n",
        "        self.speed  =0\n",
        "\n",
        "car = Vehicle(\"Car 2023\", 2, 2,5)\n",
        "print(car.make)\n",
        "\n"
      ],
      "metadata": {
        "id": "Oxt-6wX96mmO"
      },
      "execution_count": null,
      "outputs": []
    },
    {
      "cell_type": "markdown",
      "source": [
        "<a><img src=\"https://static.wixstatic.com/media/187085_5bcdfc1b7d51488489411b2561f2efe7~mv2.png\" width=\"80%\" height=\"80%\" /></a>\n"
      ],
      "metadata": {
        "id": "2cgTMafrIoz2"
      }
    },
    {
      "cell_type": "markdown",
      "source": [
        "##Creating a Sub-Package in Python\n",
        "Python packages often contain multiple sub-packages. Creating a sub-package is similar to creating a normal package. We need to create a __init__.py file and one or more python modules. Let’s create a sub-package named kindergarten to our previously created package called school.  \n",
        "\n",
        "We use the sub-package the same way we use any normal package. We just import it using the import keywords.\n",
        "\n"
      ],
      "metadata": {
        "id": "b1VpAq_OM1lR"
      }
    },
    {
      "cell_type": "markdown",
      "source": [
        "<a><img src=\"https://static.wixstatic.com/media/187085_69f2412124e541cd8e6306a08d4d04d6~mv2.png\" width=\"80%\" height=\"80%\" /></a>\n",
        "\n"
      ],
      "metadata": {
        "id": "d_23_rEHTcCj"
      }
    },
    {
      "cell_type": "markdown",
      "source": [
        "### Python Packages vs Directories\n",
        "\n",
        "Packages allow for a hierarchical structuring of the module namespace using dot notation. In the same way that modules help avoid collisions between global variable names, packages help avoid collisions between module names.\n",
        "\n",
        "A simple Python package contains multiple modules and an __init__.py file. In addition to these, a package can also contain various other sub-packages. To understand this better, the following image illustrates the structure of Python packages\n",
        "\n",
        "Although  a package is also a directory, the main distinction between these two is that the package contains __init__.py file and the directory doesn’t. The __init__.py file makes an ordinary directory into a Python package. The following image clearly illustrates the difference between the structure of a directory and the structure of a package.\n",
        "\n",
        "One of the most important steps in creating a package is to create a __init__.py file. This file is what distinguishes a package and a normal directory. It initializes the package when we import it. This file is also called a Package Constructor.\n",
        "\n",
        "Let’s create a __init__.py file in the directory school along with the previously created two modules. We don’t need to write any python code in this __init__.py file.\n"
      ],
      "metadata": {
        "id": "-JAFst5_xiTT"
      }
    },
    {
      "cell_type": "markdown",
      "source": [
        "<a><img src=\"https://static.wixstatic.com/media/187085_1a1d4fdb45ab42f9a219a26068b28692~mv2.png\" width=\"80%\" height=\"80%\" /></a>"
      ],
      "metadata": {
        "id": "Sg8LGYGheACn"
      }
    },
    {
      "cell_type": "markdown",
      "source": [
        "## Data Cleaning and Data Manipulation\n",
        "### Pandas\n",
        "Pandas is one of the most popular data analysis and data manipulation libraries. It is an open-source library.\n",
        "\n",
        "DataFrame is the chief data structure of the Pandas library. It stores and manages the data in the table. It can be done by manipulating rows and columns. It allows dataset joining, merging and reshaping.\n",
        "\n",
        "Hence, when millions of petabytes of data are to be analyzed, Pandas is much helpful in this case. Using Pandas, Data can be easily and effectively analyzed.\n",
        "\n",
        "### NumPy\n",
        "Numerical Python, in short, NumPy, is an open-source library. It is an incredible Python library for scientific calculations. It also allows for accomplishing matrix operations.\n",
        "\n",
        "NumPy is used to perform operations on the array. As it works on an array, it permits us to reorganize a large set of data.\n",
        "\n",
        "### Spacy\n",
        "Till now, Pandas and NumPy taught us to clean and manipulate data.\n",
        "\n",
        "Spacy manipulates free data into structured data. It is used as an NLP (Natural Language Processing) library. Many human languages are also supported by this library.\n",
        "\n",
        "###  SciPy\n",
        "It is an open-source library which is based on the concept of NumPy which provides many effective numerical routines. It can perform integration and linear algebra and has high-level features for data manipulating and visualizing.\n",
        "\n",
        "SciPy is a key library for data processing.\n",
        "\n",
        "## Data Gathering\n",
        "\n",
        "### Beautiful Soap\n",
        "It is one of the most popular libraries used for data scraping. Further, this data is given the required format.\n",
        "\n",
        "With the support of Beautiful Soap, specific content from the webpage can be extracted. Using the same, HTML markup can be detached and the information can be protected.\n",
        "\n",
        "###  Scrapy\n",
        "Scrapy is an alternative library of Python used for large scale web scraping. It is an open-source Python library which is very dissolute and modest to operate. It is beneficial for mining the data from the website.\n",
        "\n",
        "Scrapy is a collection of all the efficient tools required to abstract from websites, process them and structure them the way you want.\n",
        "\n",
        "### Selenium\n",
        "Selenium is a library which automatically tests the web browser. It is also used for testing purposes in industries. It offers essential features to draw-out data and captures it in a future usable format.\n",
        "\n",
        "Selenium is slower from other Python libraries.\n",
        "\n",
        "## Data Visualisation\n",
        "\n",
        "###  Matplotlib\n",
        "Matplotlib is one of the most famous 2D graphical Python libraries used for data visualization. Not only 2D graphs, but it can also be useful to generate 3D graphs. It is helpful to generate graphs, bar charts, histograms, scatterplots, etc.\n",
        "\n",
        "### Seaborn\n",
        "Seaborn is based on Matplotlib. It enhances the visualizing features of Matplotlib. This popular Python library provides a gallery full of visualizations including time series, joint plots, etc.\n",
        "\n",
        "Seaborn offers efficient tools for revealing the pattern of data in a more colorful manner.\n",
        "\n",
        "###  Bokeh\n",
        "Boke is a Python library used to provide interactive visualization. It is dependent on Matplotlib. It targets interactivity and offers interactive designs in a web browser.\n",
        "\n",
        "###  Plotly\n",
        "Plotly supports interactive web apps. It provides the advantage to create an upmarket graph in very fewer lines of code.\n",
        "\n",
        "Plotly can fulfill any kind of visual requirement in a short period.\n",
        "\n",
        "## Data Modelling\n",
        "\n",
        "### Scikit-Learn\n",
        "Scikit-learn is used for modeling data. It is a savior for Machine Learning projects. It has numerous supervised and unsupervised ML algorithms. Its main target is on quality of code, performance and decent documentation.\n",
        "\n",
        "###  PyTorch\n",
        "PyTorch is an open-source library. It is a useful tool for deep learning programs that provide high speed. It fulfills many data-centric demands.\n",
        "\n",
        "The cloud-based environment is provided by PyTorch which enables easy scaling of resources.\n",
        "\n",
        "### TensorFlow\n",
        "TensorFlow is one of the most popular frameworks for Data Science, Deep Learning and Machine Learning. It is an open-source framework that enables you to build models, test them and train them accordingly. It is the best tool for voice recognition and object identification.\n",
        "\n",
        "###  Theano\n",
        "Theano is the Python library used to perform large multi-dimensional array operations. It allows performing array-based mathematical operations.\n",
        "\n",
        "Theano has GPU based infrastructure. Hence, it can perform operations in a faster manner as compared to CPU.\n",
        "\n",
        "\n",
        "## Image Processing\n",
        "\n",
        "###  Scikit-Image\n",
        "Scikit-Image is a Python library which performs image processing. It is a combination of various functions that are helpful for multiple image processing.\n",
        "\n",
        "Scikit-Learn is a tool that has ample functionality including Image segmentation, color modification, etc.\n",
        "\n",
        "###  Pillow\n",
        "Pillow is an advanced version of the Python Imaging Library. This library offers several image processing standards.\n",
        "\n",
        "Pillow is helpful in image-enhancing like blurring, smoothing, etc. Using Pillow, you can add text to an image.\n",
        "\n",
        "###  OpenCV\n",
        "OpenCV resolves computer vision issues. It makes use of NumPy to convert OpenCV array to and from NumPy array. It performs many tasks including motion tracking, gesture recognition, etc.\n",
        "\n",
        "## Audio Processing\n",
        "\n",
        "###  pyAudioAnalysis\n",
        "pyAudioAnalysis is the Python library used for audio processing. It performs various audio features like classification, extraction, segmentation, etc.\n",
        "\n",
        "pyAudioAnalysis is also efficient in classifying unknown sounds and extracting audio. This special tool of Python also helps to detect audio chunks and remove unnecessary slots from heavy recordings.\n",
        "###  Librosa\n",
        "This Python library is rich in features that can analyze audio and music features. It can extract remarkable features of the audio segment such as beats, tempo, rhythm, etc.\n",
        "\n",
        "Librosa can deliver building blocks that are useful parts to create a music retrieval system.\n",
        "\n",
        "###  Madmom\n",
        "Madmom is an audio processing library capable of performing Music Information Retrieval (MIR) tasks. It is proficient in performing music data analysis tasks.\n",
        "\n",
        "Some libraries like NumPy, SciPy, etc. are pre-requisite for the execution of Madmom."
      ],
      "metadata": {
        "id": "C7-bzQVreOdQ"
      }
    },
    {
      "cell_type": "markdown",
      "source": [
        "# ***Note: References***\n",
        "\n",
        "* https://pyformat.info/\n",
        "* https://pynative.com/\n",
        "* https://docs.python.org/3/\n",
        "* https://www.educba.com/\n",
        "* https://www.learnbyexample.org/\n",
        "* https://www.programiz.com/\n",
        "* http://www.btechsmartclass.com/python/Python_Tutorial_Python_Inheritance.html\n",
        "* http://www.btechsmartclass.com/python/Python_Tutorial_Python_Inheritance.html\n",
        "* https://pynative.com/python-inheritance/\n",
        "* https://www.programiz.com/python-programming/object-oriented-programming\n",
        "* https://realpython.com/python3-object-oriented-programming/#class-and-instance-attributes\n",
        "* https://www.codingeek.com/tutorials/python/package/\n",
        "* https://www.geeksforgeeks.org/python-packages/\n",
        "* https://realpython.com/python-modules-packages/\n",
        "* https://www2.eii.uva.es/fund_inf/python/notebooks/09_Modulos/Modulos.html\n",
        "* http://www.tugurium.com/python/index.php?C=PYTHON.10"
      ],
      "metadata": {
        "id": "_I-Zg8ixNOlf"
      }
    }
  ]
}